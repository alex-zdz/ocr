{
 "cells": [
  {
   "cell_type": "markdown",
   "metadata": {},
   "source": [
    "## Split into train and test set"
   ]
  },
  {
   "cell_type": "code",
   "execution_count": 3,
   "metadata": {},
   "outputs": [
    {
     "name": "stdout",
     "output_type": "stream",
     "text": [
      "c:\\Users\\alexm\\NUS Dropbox\\Alexander Mozdzen\\ocr\\ocr_new\\scripts\n"
     ]
    }
   ],
   "source": [
    "import os\n",
    "\n",
    "from datasets import load_from_disk\n",
    "print(os.getcwd())"
   ]
  },
  {
   "cell_type": "code",
   "execution_count": 4,
   "metadata": {},
   "outputs": [
    {
     "name": "stdout",
     "output_type": "stream",
     "text": [
      "Loaded dataset with 661 examples.\n"
     ]
    }
   ],
   "source": [
    "# Load the combined dataset from the processed directory\n",
    "path = \"../data/processed/combined_dataset_p40\"\n",
    "data = load_from_disk(path)\n",
    "\n",
    "print(f\"Loaded dataset with {len(data)} cropped images.\")\n"
   ]
  },
  {
   "cell_type": "code",
   "execution_count": 5,
   "metadata": {},
   "outputs": [],
   "source": [
    "# Split the dataset (80% train, 20% validation)\n",
    "train_test_split = data.train_test_split(test_size=0.2)\n"
   ]
  },
  {
   "cell_type": "code",
   "execution_count": 6,
   "metadata": {},
   "outputs": [
    {
     "name": "stdout",
     "output_type": "stream",
     "text": [
      "Train Dataset Properties:\n",
      "Number of examples: 528\n",
      "Features: {'text': Value(dtype='string', id=None), 'identifier': Value(dtype='string', id=None), 'image': Image(mode=None, decode=True, id=None)}\n",
      "\n",
      "Test Dataset Properties:\n",
      "Number of examples: 133\n",
      "Features: {'text': Value(dtype='string', id=None), 'identifier': Value(dtype='string', id=None), 'image': Image(mode=None, decode=True, id=None)}\n"
     ]
    }
   ],
   "source": [
    "# Print the properties of the train and test datasets\n",
    "train_dataset = train_test_split['train']\n",
    "test_dataset = train_test_split['test']\n",
    "\n",
    "print(\"Train Dataset Properties:\")\n",
    "print(f\"Number of examples: {len(train_dataset)}\")\n",
    "print(f\"Features: {train_dataset.features}\")\n",
    "\n",
    "print(\"\\nTest Dataset Properties:\")\n",
    "print(f\"Number of examples: {len(test_dataset)}\")\n",
    "print(f\"Features: {test_dataset.features}\")\n"
   ]
  },
  {
   "cell_type": "markdown",
   "metadata": {},
   "source": [
    "If desired, save the splitted dataset and push it to HuggingFace"
   ]
  },
  {
   "cell_type": "code",
   "execution_count": null,
   "metadata": {},
   "outputs": [],
   "source": [
    "\n",
    "## Save the split datasets\n",
    "#train_test_split.save_to_disk(\"data/processed/train_test_split\")\n"
   ]
  },
  {
   "cell_type": "markdown",
   "metadata": {},
   "source": []
  },
  {
   "cell_type": "markdown",
   "metadata": {},
   "source": [
    "### Training Qwen"
   ]
  },
  {
   "cell_type": "code",
   "execution_count": null,
   "metadata": {},
   "outputs": [],
   "source": [
    "#pip install -r requirements.txt\n",
    "from qwen_finetune import train_and_validate\n",
    "import torch"
   ]
  },
  {
   "cell_type": "code",
   "execution_count": null,
   "metadata": {},
   "outputs": [],
   "source": [
    "torch.cuda.empty_cache()\n",
    "torch.cuda.reset_max_memory_allocated()"
   ]
  },
  {
   "cell_type": "markdown",
   "metadata": {},
   "source": [
    "Define model name"
   ]
  },
  {
   "cell_type": "code",
   "execution_count": null,
   "metadata": {},
   "outputs": [],
   "source": [
    "model_name = \"Qwen/Qwen2-VL-2B-Instruct\"\n",
    "#qwen_model = \"Qwen/Qwen2.5-VL-72B-Instruct\""
   ]
  },
  {
   "cell_type": "code",
   "execution_count": null,
   "metadata": {},
   "outputs": [],
   "source": [
    "train_and_validate(\n",
    "    model_name=model_name,\n",
    "    output_dir=\"output\",\n",
    "    dataset_name=\"mevsg/Gongguan-OCR-v1\",\n",
    "    image_column=\"image\",\n",
    "    text_column=\"text\",\n",
    "    user_text=\"Convert this image to text\",\n",
    "    train_field=\"train\",\n",
    "    val_field=\"validation\",\n",
    "    num_accumulation_steps=2, #previously 2\n",
    "    eval_steps=1000,\n",
    "    max_steps=10000,\n",
    "    train_batch_size=1,\n",
    "    val_batch_size=1,\n",
    "    device=\"cuda\"\n",
    ")"
   ]
  },
  {
   "cell_type": "code",
   "execution_count": null,
   "metadata": {},
   "outputs": [],
   "source": []
  },
  {
   "cell_type": "markdown",
   "metadata": {},
   "source": [
    "If desired, push the dataset and the trained parameters to HuggingFace"
   ]
  },
  {
   "cell_type": "code",
   "execution_count": null,
   "metadata": {},
   "outputs": [],
   "source": [
    "## Push Data  to HuggingFace\n",
    "# with open(\"tokens/token\") as f:\n",
    "#     token = f.read()\n",
    "# train_test_split.push_to_hub(\"alexmozdzen/gongguan-ocr-1\", token=token)\n",
    "# #Push Model to HuggingFace\n",
    "# from transformers import Qwen2VLForConditionalGeneration, AutoProcessor\n",
    "\n",
    "# # Specify the directory where your model and processor are saved\n",
    "# model_dir = 'output/final'  # Adjust this path if necessary\n",
    "\n",
    "# # Load the model and processor\n",
    "# model = Qwen2VLForConditionalGeneration.from_pretrained(model_dir)\n",
    "# processor = AutoProcessor.from_pretrained(model_dir)\n",
    "# repo_name = \"mevsg/Qwen-Gongguan-OCR-v1\"\n",
    "#model.push_to_hub(repo_name,token=token,private=True)"
   ]
  }
 ],
 "metadata": {
  "kernelspec": {
   "display_name": "venv",
   "language": "python",
   "name": "python3"
  },
  "language_info": {
   "codemirror_mode": {
    "name": "ipython",
    "version": 3
   },
   "file_extension": ".py",
   "mimetype": "text/x-python",
   "name": "python",
   "nbconvert_exporter": "python",
   "pygments_lexer": "ipython3",
   "version": "3.13.3"
  }
 },
 "nbformat": 4,
 "nbformat_minor": 2
}
