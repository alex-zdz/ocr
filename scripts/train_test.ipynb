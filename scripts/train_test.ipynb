{
 "cells": [
  {
   "cell_type": "markdown",
   "metadata": {},
   "source": [
    "## Split into train and test set"
   ]
  },
  {
   "cell_type": "code",
   "execution_count": 1,
   "metadata": {},
   "outputs": [
    {
     "name": "stderr",
     "output_type": "stream",
     "text": [
      "/usr/local/lib/python3.10/dist-packages/tqdm/auto.py:21: TqdmWarning: IProgress not found. Please update jupyter and ipywidgets. See https://ipywidgets.readthedocs.io/en/stable/user_install.html\n",
      "  from .autonotebook import tqdm as notebook_tqdm\n"
     ]
    },
    {
     "name": "stdout",
     "output_type": "stream",
     "text": [
      "/home/alex/projects/ocr/scripts\n"
     ]
    }
   ],
   "source": [
    "import os\n",
    "\n",
    "from datasets import load_from_disk\n",
    "from transformers import Qwen2VLForConditionalGeneration, Qwen2_5_VLForConditionalGeneration, AutoProcessor\n",
    "import torch\n",
    "from qwen_vl_utils import process_vision_info\n",
    "from PIL import Image\n",
    "from datasets import load_dataset\n",
    "import pandas as pd\n",
    "print(os.getcwd())"
   ]
  },
  {
   "cell_type": "code",
   "execution_count": 3,
   "metadata": {},
   "outputs": [
    {
     "data": {
      "text/plain": [
       "'/home/alex/projects/ocr/scripts'"
      ]
     },
     "execution_count": 3,
     "metadata": {},
     "output_type": "execute_result"
    }
   ],
   "source": [
    "os.getcwd()"
   ]
  },
  {
   "cell_type": "code",
   "execution_count": 2,
   "metadata": {},
   "outputs": [
    {
     "name": "stdout",
     "output_type": "stream",
     "text": [
      "Loaded dataset with 133 cropped images.\n"
     ]
    }
   ],
   "source": [
    "# Load the combined dataset from the processed directory\n",
    "path = \"../data/processed/dataset_p40\"\n",
    "data = load_from_disk(path)\n",
    "\n",
    "print(f\"Loaded dataset with {len(data)} cropped images.\")\n"
   ]
  },
  {
   "cell_type": "code",
   "execution_count": 5,
   "metadata": {},
   "outputs": [],
   "source": [
    "# Split the dataset (80% train, 20% validation)\n",
    "train_test_split = data.train_test_split(test_size=0.2)\n"
   ]
  },
  {
   "cell_type": "code",
   "execution_count": 6,
   "metadata": {},
   "outputs": [
    {
     "name": "stdout",
     "output_type": "stream",
     "text": [
      "Train Dataset Properties:\n",
      "Number of examples: 528\n",
      "Features: {'text': Value(dtype='string', id=None), 'identifier': Value(dtype='string', id=None), 'image': Image(mode=None, decode=True, id=None)}\n",
      "\n",
      "Test Dataset Properties:\n",
      "Number of examples: 133\n",
      "Features: {'text': Value(dtype='string', id=None), 'identifier': Value(dtype='string', id=None), 'image': Image(mode=None, decode=True, id=None)}\n"
     ]
    }
   ],
   "source": [
    "# Print the properties of the train and test datasets\n",
    "train_dataset = train_test_split['train']\n",
    "test_dataset = train_test_split['test']\n",
    "\n",
    "print(\"Train Dataset Properties:\")\n",
    "print(f\"Number of examples: {len(train_dataset)}\")\n",
    "print(f\"Features: {train_dataset.features}\")\n",
    "\n",
    "print(\"\\nTest Dataset Properties:\")\n",
    "print(f\"Number of examples: {len(test_dataset)}\")\n",
    "print(f\"Features: {test_dataset.features}\")\n"
   ]
  },
  {
   "cell_type": "markdown",
   "metadata": {},
   "source": [
    "If desired, save the splitted dataset and push it to HuggingFace"
   ]
  },
  {
   "cell_type": "code",
   "execution_count": null,
   "metadata": {},
   "outputs": [],
   "source": [
    "\n",
    "## Save the split datasets\n",
    "#train_test_split.save_to_disk(\"data/processed/train_test_split\")\n"
   ]
  },
  {
   "cell_type": "markdown",
   "metadata": {},
   "source": [
    "### Training Qwen"
   ]
  },
  {
   "cell_type": "code",
   "execution_count": null,
   "metadata": {},
   "outputs": [],
   "source": [
    "#pip install -r requirements.txt\n",
    "from qwen_finetune import train_and_validate\n",
    "import torch"
   ]
  },
  {
   "cell_type": "code",
   "execution_count": null,
   "metadata": {},
   "outputs": [],
   "source": [
    "torch.cuda.empty_cache()\n",
    "torch.cuda.reset_max_memory_allocated()"
   ]
  },
  {
   "cell_type": "markdown",
   "metadata": {},
   "source": [
    "Define model name"
   ]
  },
  {
   "cell_type": "code",
   "execution_count": null,
   "metadata": {},
   "outputs": [],
   "source": [
    "model_name = \"Qwen/Qwen2-VL-2B-Instruct\"\n",
    "#qwen_model = \"Qwen/Qwen2.5-VL-72B-Instruct\""
   ]
  },
  {
   "cell_type": "markdown",
   "metadata": {},
   "source": [
    "Note: currently the train_and_validate functions work with HuggingFace datasets, not with local data. "
   ]
  },
  {
   "cell_type": "code",
   "execution_count": null,
   "metadata": {},
   "outputs": [],
   "source": [
    "train_and_validate(\n",
    "    model_name=model_name,\n",
    "    output_dir=\"results/p40_newindex\",\n",
    "    dataset_name=\"culturalheritagenus/Gongguan-OCR-p40\",\n",
    "    image_column=\"image\",\n",
    "    text_column=\"text\",\n",
    "    user_text=\"Convert this image to text\",\n",
    "    train_field=\"train\",\n",
    "    val_field=\"validation\",\n",
    "    num_accumulation_steps=2, #previously 2\n",
    "    eval_steps=1000,\n",
    "    max_steps=10000,\n",
    "    train_batch_size=1,\n",
    "    val_batch_size=1,\n",
    "    device=\"cuda\"\n",
    ")"
   ]
  },
  {
   "cell_type": "markdown",
   "metadata": {},
   "source": [
    "If desired, push the dataset and the trained parameters to HuggingFace"
   ]
  },
  {
   "cell_type": "code",
   "execution_count": null,
   "metadata": {},
   "outputs": [],
   "source": [
    "## Push Data  to HuggingFace\n",
    "# with open(\"tokens/token\") as f:\n",
    "#     token = f.read()\n",
    "# train_test_split.push_to_hub(\"alexmozdzen/gongguan-ocr-1\", token=token)\n",
    "# #Push Model to HuggingFace\n",
    "# from transformers import Qwen2VLForConditionalGeneration, AutoProcessor\n",
    "\n",
    "# # Specify the directory where your model and processor are saved\n",
    "# model_dir = 'output/final'  # Adjust this path if necessary\n",
    "\n",
    "# # Load the model and processor\n",
    "# model = Qwen2VLForConditionalGeneration.from_pretrained(model_dir)\n",
    "# processor = AutoProcessor.from_pretrained(model_dir)\n",
    "# repo_name = \"mevsg/Qwen-Gongguan-OCR-v1\"\n",
    "#model.push_to_hub(repo_name,token=token,private=True)"
   ]
  },
  {
   "cell_type": "markdown",
   "metadata": {},
   "source": [
    "# Testing the model"
   ]
  },
  {
   "cell_type": "code",
   "execution_count": 3,
   "metadata": {},
   "outputs": [
    {
     "name": "stdout",
     "output_type": "stream",
     "text": [
      "/home/alex/projects/ocr/scripts\n",
      "/home/alex/projects/ocr\n"
     ]
    }
   ],
   "source": [
    "import torch\n",
    "import os\n",
    "os.environ['PYTORCH_CUDA_ALLOC_CONF'] = 'expandable_segments:True'\n",
    "from transformers import Qwen2VLForConditionalGeneration, Qwen2_5_VLForConditionalGeneration, AutoProcessor\n",
    "import torch\n",
    "from qwen_vl_utils import process_vision_info\n",
    "from PIL import Image\n",
    "from datasets import load_dataset, load_from_disk\n",
    "import pandas as pd\n",
    "print(os.getcwd())\n",
    "os.chdir(\"..\") # change in the future\n",
    "print(os.getcwd())\n",
    "from src.train_test import *\n",
    "from copy import deepcopy"
   ]
  },
  {
   "cell_type": "markdown",
   "metadata": {},
   "source": [
    "# Load the fine-tuned model from Hugging Face Hub or from a local path"
   ]
  },
  {
   "cell_type": "code",
   "execution_count": 4,
   "metadata": {},
   "outputs": [
    {
     "name": "stderr",
     "output_type": "stream",
     "text": [
      "/usr/local/lib/python3.10/dist-packages/torch/cuda/memory.py:391: FutureWarning: torch.cuda.reset_max_memory_allocated now calls torch.cuda.reset_peak_memory_stats, which resets /all/ peak memory stats.\n",
      "  warnings.warn(\n"
     ]
    }
   ],
   "source": [
    "torch.cuda.empty_cache()\n",
    "torch.cuda.reset_max_memory_allocated()"
   ]
  },
  {
   "cell_type": "code",
   "execution_count": null,
   "metadata": {},
   "outputs": [],
   "source": [
    "# From HugggingFace\n",
    "#with open(\"data/tokens/token.txt\") as f:\n",
    "#    write_token = f.read()\n",
    "#read_token = write_token\n",
    "#model_name_p40 = 'culturalheritagenus/Gongguan-OCR-p40'\n",
    "# Load the model and processor\n",
    "#model_01_11 = Qwen2VLForConditionalGeneration.from_pretrained(\n",
    "#    model_name_01_11,\n",
    "#    token=read_token,\n",
    "#    torch_dtype=torch.bfloat16,  # Use the appropriate torch dtype if needed\n",
    "#    device_map='auto'            # Optional: automatically allocate model layers across devices\n",
    "#)"
   ]
  },
  {
   "cell_type": "code",
   "execution_count": 7,
   "metadata": {},
   "outputs": [
    {
     "data": {
      "text/plain": [
       "'/home/alex/projects/ocr'"
      ]
     },
     "execution_count": 7,
     "metadata": {},
     "output_type": "execute_result"
    }
   ],
   "source": [
    "os.getcwd()"
   ]
  },
  {
   "cell_type": "code",
   "execution_count": 8,
   "metadata": {},
   "outputs": [],
   "source": [
    "\n",
    "# Locally\n",
    "model_p40 = Qwen2VLForConditionalGeneration.from_pretrained(\n",
    "    \"results/p40_newindex/final\",\n",
    "    device_map='auto'\n",
    ")\n",
    "# convert the model to half-precision floating point (FP16)\n",
    "model_p40.half()\n",
    "# Load the processor\n",
    "processor = AutoProcessor.from_pretrained(\"results/p40_newindex/final\")"
   ]
  },
  {
   "cell_type": "markdown",
   "metadata": {},
   "source": [
    "Load the validation dataset (load_dataset is a huggingface function) and predict using the process image function"
   ]
  },
  {
   "cell_type": "code",
   "execution_count": 10,
   "metadata": {},
   "outputs": [],
   "source": [
    "# from HF\n",
    "#model_name_p40 = 'culturalheritagenus/Gongguan-OCR-p40'\n",
    "#dataset_p40 = load_dataset(f\"{model_name_p40}\", split='validation')\n",
    "# Locally\n",
    "# Save the dataset from HF to disk\n",
    "#dataset_p40.save_to_disk(\"../data/processed/dataset_p40\")\n",
    "dataset_p40 = load_from_disk(\"data/processed/dataset_p40\")"
   ]
  },
  {
   "cell_type": "code",
   "execution_count": 52,
   "metadata": {},
   "outputs": [
    {
     "data": {
      "text/plain": [
       "{'text': '傅應瑞 楊南超 黄繼老 邹雨润 吳纉緒 黄心誠 楊汶水 黄長生 嚴衆官 袁滿官 林綢生 林光蔭 李霪官 捐金壹拾文 捐金壹拾文 捐金壹拾文 捐金壹拾文 捐金壹拾文 捐金壹拾文 捐金壹拾文 捐金壹拾文 捐金壹拾文 捐金壹拾文 捐金壹拾文 捐金壹拾文 捐金壹拾文',\n",
       " 'identifier': '32_41_0010_p010_r_6',\n",
       " 'image': <PIL.PngImagePlugin.PngImageFile image mode=RGB size=1314x661>}"
      ]
     },
     "execution_count": 52,
     "metadata": {},
     "output_type": "execute_result"
    }
   ],
   "source": [
    "dataset_p40[0]"
   ]
  },
  {
   "cell_type": "markdown",
   "metadata": {},
   "source": [
    "WER not appropriate in our case, since it considers words to be separated by whitespace, which is not true for Chinese text. For now continue with CER."
   ]
  },
  {
   "cell_type": "markdown",
   "metadata": {},
   "source": [
    "# Compute predictions and CER"
   ]
  },
  {
   "cell_type": "markdown",
   "metadata": {},
   "source": [
    "Define message template with instructions by the user for the LLM"
   ]
  },
  {
   "cell_type": "code",
   "execution_count": 30,
   "metadata": {},
   "outputs": [],
   "source": [
    "messages_template = [\n",
    "    {\n",
    "        \"role\": \"user\",\n",
    "        \"content\": [\n",
    "            {\n",
    "                \"type\": \"image\",\n",
    "                \"image\": None,  # Placeholder for image, to be updated\n",
    "            },\n",
    "            {\"type\": \"text\", \"text\": \"Convert this image to text\"},\n",
    "            #{\"type\": \"text\", \"text\": \"Convert this image to Chinese text and carefully consider when the image has multiple columns of text\"},\n",
    "        ],\n",
    "    }\n",
    "]"
   ]
  },
  {
   "cell_type": "code",
   "execution_count": 31,
   "metadata": {},
   "outputs": [],
   "source": [
    "def process_image(image, model, messages_template):\n",
    "    messages = deepcopy(messages_template)\n",
    "    messages[0][\"content\"][0][\"image\"] = image\n",
    "    text = processor.apply_chat_template(\n",
    "        messages, tokenize=False, add_generation_prompt=True\n",
    "    )\n",
    "    image_inputs, video_inputs = process_vision_info(messages)\n",
    "    inputs = processor(\n",
    "        text=[text],\n",
    "        images=image_inputs,\n",
    "        videos=video_inputs,\n",
    "        padding=True,\n",
    "        return_tensors=\"pt\",\n",
    "    )\n",
    "    inputs = inputs.to(\"cuda\")\n",
    "    generated_ids = model.generate(**inputs, max_new_tokens=128)\n",
    "    generated_ids_trimmed = [\n",
    "        out_ids[len(in_ids):] for in_ids, out_ids in zip(inputs.input_ids, generated_ids)\n",
    "    ]\n",
    "    output_text = processor.batch_decode(\n",
    "        generated_ids_trimmed, skip_special_tokens=True, clean_up_tokenization_spaces=False\n",
    "    )\n",
    "    return output_text[0]"
   ]
  },
  {
   "cell_type": "code",
   "execution_count": 43,
   "metadata": {},
   "outputs": [],
   "source": [
    "def run_inference_and_calculate_cer(model_path, message_template, dataset):\n",
    "    # Load the model and processor\n",
    "    model = Qwen2VLForConditionalGeneration.from_pretrained(model_path, device_map=\"auto\").half()\n",
    "    processor = AutoProcessor.from_pretrained(model_path)\n",
    "\n",
    "    results = []\n",
    "    # Run inference on the dataset\n",
    "    for item in dataset:\n",
    "        prediction = process_image(item[\"image\"], model, message_template)\n",
    "        cer = compute_CER(item[\"text\"], prediction, normalize=True)\n",
    "        results.append({\n",
    "            \"ground_truth\": item[\"text\"],\n",
    "            \"num_lines\": item[\"num_lines\"],\n",
    "            \"prediction\": prediction,\n",
    "            \"identifier\": item[\"identifier\"],\n",
    "            \"CER\": cer\n",
    "        })\n",
    "\n",
    "    # Create DataFrame from results\n",
    "    df = pd.DataFrame(results)\n",
    "\n",
    "    return df\n"
   ]
  },
  {
   "cell_type": "code",
   "execution_count": 33,
   "metadata": {},
   "outputs": [],
   "source": [
    "res = run_inference_and_calculate_cer(\"results/p40_newindex/final\", messages_template, dataset_p40)"
   ]
  },
  {
   "cell_type": "code",
   "execution_count": 35,
   "metadata": {},
   "outputs": [
    {
     "data": {
      "text/html": [
       "<div>\n",
       "<style scoped>\n",
       "    .dataframe tbody tr th:only-of-type {\n",
       "        vertical-align: middle;\n",
       "    }\n",
       "\n",
       "    .dataframe tbody tr th {\n",
       "        vertical-align: top;\n",
       "    }\n",
       "\n",
       "    .dataframe thead th {\n",
       "        text-align: right;\n",
       "    }\n",
       "</style>\n",
       "<table border=\"1\" class=\"dataframe\">\n",
       "  <thead>\n",
       "    <tr style=\"text-align: right;\">\n",
       "      <th></th>\n",
       "      <th>ground_truth</th>\n",
       "      <th>prediction</th>\n",
       "      <th>identifier</th>\n",
       "      <th>CER</th>\n",
       "    </tr>\n",
       "  </thead>\n",
       "  <tbody>\n",
       "    <tr>\n",
       "      <th>0</th>\n",
       "      <td>傅應瑞 楊南超 黄繼老 邹雨润 吳纉緒 黄心誠 楊汶水 黄長生 嚴衆官 袁滿官 林綢生 林光...</td>\n",
       "      <td>黄綌 老捐金臺拾文 黃心誠捐金臺拾文 楊汶水捐金臺拾文 鄧雨潤捐金臺拾文 傅應瑞捐金臺拾文 ...</td>\n",
       "      <td>32_41_0010_p010_r_6</td>\n",
       "      <td>0.682171</td>\n",
       "    </tr>\n",
       "    <tr>\n",
       "      <th>1</th>\n",
       "      <td>将厝尽归一人然後可已兹为汝公䖏一人得厝一人得銭當以拈阄为 修整厝氏出費錢叁拾餘文阮壽娘云他亦...</td>\n",
       "      <td>唯有而退 唯文愿乎不願奉日公堂事多毎暇及此若囬異日可行此法二比 李金娘供謂阮秀娘前合夥買厝壹...</td>\n",
       "      <td>12_21_0002_p002_r_3</td>\n",
       "      <td>0.842105</td>\n",
       "    </tr>\n",
       "    <tr>\n",
       "      <th>2</th>\n",
       "      <td>黄甲</td>\n",
       "      <td>黄甲</td>\n",
       "      <td>32_41_0004_p004_r_236</td>\n",
       "      <td>0.000000</td>\n",
       "    </tr>\n",
       "    <tr>\n",
       "      <th>3</th>\n",
       "      <td>雷珍蘭高根官在吧做遺囑字</td>\n",
       "      <td>雷珍瀾高根官在吧做遺嘱字</td>\n",
       "      <td>01_11_0006_p006_r_9</td>\n",
       "      <td>0.166667</td>\n",
       "    </tr>\n",
       "    <tr>\n",
       "      <th>4</th>\n",
       "      <td>張宙覌呌 許浪生 不到</td>\n",
       "      <td>張宙覌 呌 許浪生 不到</td>\n",
       "      <td>01_11_0001_p001_r</td>\n",
       "      <td>0.090909</td>\n",
       "    </tr>\n",
       "    <tr>\n",
       "      <th>...</th>\n",
       "      <td>...</td>\n",
       "      <td>...</td>\n",
       "      <td>...</td>\n",
       "      <td>...</td>\n",
       "    </tr>\n",
       "    <tr>\n",
       "      <th>128</th>\n",
       "      <td>寄在内淡囚内 三期不到请伽頭之令命達氏捉陳是</td>\n",
       "      <td>三期不到请伽倻王全命達氏提陳是 寄在内淡囧内</td>\n",
       "      <td>22_31_0002_p002_r_114</td>\n",
       "      <td>0.818182</td>\n",
       "    </tr>\n",
       "    <tr>\n",
       "      <th>129</th>\n",
       "      <td>34</td>\n",
       "      <td>4</td>\n",
       "      <td>12_21_0007_p007_r_3</td>\n",
       "      <td>0.500000</td>\n",
       "    </tr>\n",
       "    <tr>\n",
       "      <th>130</th>\n",
       "      <td>李寕義</td>\n",
       "      <td>李寕義</td>\n",
       "      <td>12_21_0002_p002_r_524</td>\n",
       "      <td>0.000000</td>\n",
       "    </tr>\n",
       "    <tr>\n",
       "      <th>131</th>\n",
       "      <td>陳馬援</td>\n",
       "      <td>陳馬援</td>\n",
       "      <td>22_31_0001_p001_r_36</td>\n",
       "      <td>0.000000</td>\n",
       "    </tr>\n",
       "    <tr>\n",
       "      <th>132</th>\n",
       "      <td>十二月十六日清還徐洪綸甘願 疑不足信諭着池老三該坐還徐洪綸錢壹拾文池老三乞限 交來定錢壹拾文...</td>\n",
       "      <td>十盲十貳清亻 徐洪倫甘愿 追究池耇三供谓徐洪倫原议要買藥材前于八月初四日 交末定錢臺拾亻延至...</td>\n",
       "      <td>01_11_0008_p008_r_10</td>\n",
       "      <td>0.760504</td>\n",
       "    </tr>\n",
       "  </tbody>\n",
       "</table>\n",
       "<p>133 rows × 4 columns</p>\n",
       "</div>"
      ],
      "text/plain": [
       "                                          ground_truth  \\\n",
       "0    傅應瑞 楊南超 黄繼老 邹雨润 吳纉緒 黄心誠 楊汶水 黄長生 嚴衆官 袁滿官 林綢生 林光...   \n",
       "1    将厝尽归一人然後可已兹为汝公䖏一人得厝一人得銭當以拈阄为 修整厝氏出費錢叁拾餘文阮壽娘云他亦...   \n",
       "2                                                   黄甲   \n",
       "3                                         雷珍蘭高根官在吧做遺囑字   \n",
       "4                                          張宙覌呌 許浪生 不到   \n",
       "..                                                 ...   \n",
       "128                             寄在内淡囚内 三期不到请伽頭之令命達氏捉陳是   \n",
       "129                                                 34   \n",
       "130                                                李寕義   \n",
       "131                                                陳馬援   \n",
       "132  十二月十六日清還徐洪綸甘願 疑不足信諭着池老三該坐還徐洪綸錢壹拾文池老三乞限 交來定錢壹拾文...   \n",
       "\n",
       "                                            prediction             identifier  \\\n",
       "0    黄綌 老捐金臺拾文 黃心誠捐金臺拾文 楊汶水捐金臺拾文 鄧雨潤捐金臺拾文 傅應瑞捐金臺拾文 ...    32_41_0010_p010_r_6   \n",
       "1    唯有而退 唯文愿乎不願奉日公堂事多毎暇及此若囬異日可行此法二比 李金娘供謂阮秀娘前合夥買厝壹...    12_21_0002_p002_r_3   \n",
       "2                                                   黄甲  32_41_0004_p004_r_236   \n",
       "3                                         雷珍瀾高根官在吧做遺嘱字    01_11_0006_p006_r_9   \n",
       "4                                         張宙覌 呌 許浪生 不到      01_11_0001_p001_r   \n",
       "..                                                 ...                    ...   \n",
       "128                             三期不到请伽倻王全命達氏提陳是 寄在内淡囧内  22_31_0002_p002_r_114   \n",
       "129                                                  4    12_21_0007_p007_r_3   \n",
       "130                                                李寕義  12_21_0002_p002_r_524   \n",
       "131                                                陳馬援   22_31_0001_p001_r_36   \n",
       "132  十盲十貳清亻 徐洪倫甘愿 追究池耇三供谓徐洪倫原议要買藥材前于八月初四日 交末定錢臺拾亻延至...   01_11_0008_p008_r_10   \n",
       "\n",
       "          CER  \n",
       "0    0.682171  \n",
       "1    0.842105  \n",
       "2    0.000000  \n",
       "3    0.166667  \n",
       "4    0.090909  \n",
       "..        ...  \n",
       "128  0.818182  \n",
       "129  0.500000  \n",
       "130  0.000000  \n",
       "131  0.000000  \n",
       "132  0.760504  \n",
       "\n",
       "[133 rows x 4 columns]"
      ]
     },
     "execution_count": 35,
     "metadata": {},
     "output_type": "execute_result"
    }
   ],
   "source": [
    "# Save predictions to CSV\n",
    "#df_p40.to_csv('results/predictions/res.csv', index=False)\n",
    "res"
   ]
  },
  {
   "cell_type": "code",
   "execution_count": 37,
   "metadata": {},
   "outputs": [
    {
     "data": {
      "text/plain": [
       "np.float64(0.43230091038372437)"
      ]
     },
     "execution_count": 37,
     "metadata": {},
     "output_type": "execute_result"
    }
   ],
   "source": [
    "res[\"CER\"].mean()"
   ]
  },
  {
   "cell_type": "code",
   "execution_count": 22,
   "metadata": {},
   "outputs": [
    {
     "data": {
      "image/png": "[encoded data removed]",
      "text/plain": [
       "<Figure size 1000x600 with 1 Axes>"
      ]
     },
     "metadata": {},
     "output_type": "display_data"
    },
    {
     "name": "stdout",
     "output_type": "stream",
     "text": [
      "Total samples: 133\n",
      "Mean CER: 0.4339\n",
      "Median CER: 0.3333\n",
      "Std CER: 0.5110\n",
      "Min CER: 0.0000\n",
      "Max CER: 5.0000\n"
     ]
    }
   ],
   "source": [
    "\n",
    "\n",
    "import matplotlib.pyplot as plt\n",
    "import numpy as np\n",
    "\n",
    "# Extract CER values from the results\n",
    "cer_values = res['CER'].values\n",
    "\n",
    "# Create histogram\n",
    "plt.figure(figsize=(10, 6))\n",
    "plt.hist(cer_values, bins=30, edgecolor='black', alpha=0.7)\n",
    "plt.xlabel('Character Error Rate (CER)')\n",
    "plt.ylabel('Frequency')\n",
    "plt.title('Distribution of Character Error Rate (CER)')\n",
    "plt.grid(True, alpha=0.3)\n",
    "\n",
    "# Add some statistics\n",
    "mean_cer = np.mean(cer_values)\n",
    "median_cer = np.median(cer_values)\n",
    "plt.axvline(mean_cer, color='red', linestyle='--', label=f'Mean: {mean_cer:.3f}')\n",
    "plt.axvline(median_cer, color='green', linestyle='--', label=f'Median: {median_cer:.3f}')\n",
    "plt.legend()\n",
    "\n",
    "plt.tight_layout()\n",
    "plt.show()\n",
    "\n",
    "# Print summary statistics\n",
    "print(f\"Total samples: {len(cer_values)}\")\n",
    "print(f\"Mean CER: {mean_cer:.4f}\")\n",
    "print(f\"Median CER: {median_cer:.4f}\")\n",
    "print(f\"Std CER: {np.std(cer_values):.4f}\")\n",
    "print(f\"Min CER: {np.min(cer_values):.4f}\")\n",
    "print(f\"Max CER: {np.max(cer_values):.4f}\")\n",
    "\n",
    "\n"
   ]
  },
  {
   "cell_type": "code",
   "execution_count": 24,
   "metadata": {},
   "outputs": [
    {
     "name": "stdout",
     "output_type": "stream",
     "text": [
      "First Entry Analysis:\n",
      "Identifier: 01_11_0006_p006_r_9\n",
      "Original GT: 雷珍蘭高根官在吧做遺囑字\n",
      "Normalized GT: 雷珍蘭高根官在吧做遺囑字\n",
      "Original Pred: 雷珍 蘭高根官在吧 做遗嘱字\n",
      "Normalized Pred: 雷珍 蘭高根官在吧 做遗嘱字\n",
      "Char Distance: 4\n",
      "CER: 0.3333333333333333\n"
     ]
    }
   ],
   "source": [
    "# Extract the first entry\n",
    "first_entry = res.iloc[3]\n",
    "\n",
    "# Original texts\n",
    "original_gt_text = first_entry['ground_truth']\n",
    "original_pred_text = first_entry['prediction']\n",
    "\n",
    "# Add option to skip normalization\n",
    "skip_normalization = True  # Set to True to skip normalization\n",
    "\n",
    "if not skip_normalization:\n",
    "    # Normalization steps\n",
    "    normalized_gt_text = re.sub(r'\\s+', ' ', unicodedata.normalize('NFKC', str(original_gt_text))).strip()\n",
    "    normalized_pred_text = re.sub(r'\\s+', ' ', unicodedata.normalize('NFKC', str(original_pred_text))).strip()\n",
    "else:\n",
    "    # Use original texts without normalization\n",
    "    normalized_gt_text = str(original_gt_text)\n",
    "    normalized_pred_text = str(original_pred_text)\n",
    "\n",
    "# Calculate CER\n",
    "\n",
    "char_distance = levenshtein_distance(list(normalized_gt_text), list(normalized_pred_text))\n",
    "cer = char_distance / len(normalized_gt_text) if len(normalized_gt_text) > 0 else 0\n",
    "\n",
    "# Print results\n",
    "print(\"First Entry Analysis:\")\n",
    "print(f\"Identifier: {first_entry['identifier']}\")\n",
    "print(f\"Original GT: {original_gt_text}\")\n",
    "print(f\"Normalized GT: {normalized_gt_text}\")\n",
    "print(f\"Original Pred: {original_pred_text}\")\n",
    "print(f\"Normalized Pred: {normalized_pred_text}\")\n",
    "print(f\"Char Distance: {char_distance}\")\n",
    "print(f\"CER: {cer}\")"
   ]
  },
  {
   "cell_type": "code",
   "execution_count": null,
   "metadata": {},
   "outputs": [],
   "source": [
    "display_results(df_p40, num_examples= 2)"
   ]
  },
  {
   "cell_type": "code",
   "execution_count": 38,
   "metadata": {},
   "outputs": [
    {
     "name": "stdout",
     "output_type": "stream",
     "text": [
      "Top 10 CER Analysis:\n",
      "Most common symbols: [(' ', 52), ('覌', 26), ('呌', 21), ('甲', 16), ('陳', 13), ('不', 11), ('到', 9), ('當', 9), ('林', 8), ('事', 8)]\n",
      "Prediction lengths: count    66.000000\n",
      "mean      9.515152\n",
      "std      14.198854\n",
      "min       1.000000\n",
      "25%       3.000000\n",
      "50%       5.000000\n",
      "75%       8.000000\n",
      "max      87.000000\n",
      "Name: prediction, dtype: float64\n",
      "\n",
      "Bottom 10 CER Analysis:\n",
      "Most common symbols: [(' ', 224), ('文', 85), ('拾', 68), ('錢', 60), ('壹', 55), ('金', 44), ('捐', 39), ('不', 36), ('一', 36), ('五', 32)]\n",
      "Prediction lengths: count     65.000000\n",
      "mean      36.800000\n",
      "std       42.601056\n",
      "min        1.000000\n",
      "25%        5.000000\n",
      "50%       14.000000\n",
      "75%       61.000000\n",
      "max      134.000000\n",
      "Name: prediction, dtype: float64\n"
     ]
    }
   ],
   "source": [
    "import pandas as pd\n",
    "from collections import Counter\n",
    "\n",
    "half_sample_size = round(res.shape[0] / 2)\n",
    "\n",
    "# Function to analyze the DataFrame for highest and lowest CER values\n",
    "#def analyze_cer(res):\n",
    "    # Sort by CER\n",
    "sorted_df = res.sort_values(by='CER', ascending=False)\n",
    "# Get top 10 and bottom 10 entries\n",
    "top_10 = sorted_df.tail(half_sample_size).dropna()\n",
    "bottom_10 = sorted_df.head(half_sample_size).dropna()\n",
    "\n",
    "# Analyze Chinese symbols in top and bottom 10\n",
    "top_symbols = Counter(''.join(top_10['ground_truth']))\n",
    "bottom_symbols = Counter(''.join(bottom_10['ground_truth']))\n",
    "# Get most common symbols\n",
    "top_common_symbols = top_symbols.most_common(10)\n",
    "bottom_common_symbols = bottom_symbols.most_common(10)\n",
    "\n",
    "\n",
    "# Analyze prediction lengths\n",
    "top_lengths = top_10['prediction'].apply(len)\n",
    "bottom_lengths = bottom_10['prediction'].apply(len)\n",
    "\n",
    "# Print analysis\n",
    "print(\"Top 10 CER Analysis:\")\n",
    "print(\"Most common symbols:\", top_common_symbols)\n",
    "print(\"Prediction lengths:\", top_lengths.describe())\n",
    "\n",
    "print(\"\\nBottom 10 CER Analysis:\")\n",
    "print(\"Most common symbols:\", bottom_common_symbols)\n",
    "print(\"Prediction lengths:\", bottom_lengths.describe())\n",
    "\n",
    "# Additional analysis suggestions\n",
    "# - Compare CER with prediction length\n",
    "# - Visualize CER distribution\n",
    "# - Analyze correlation between CER and specific symbols\n"
   ]
  },
  {
   "cell_type": "code",
   "execution_count": 26,
   "metadata": {},
   "outputs": [
    {
     "data": {
      "text/plain": [
       "ground_truth    陳德蘭供谓李寕二前去山枋壁磚灰鉄对除外尚 長去銭叁拾四文弍犮五方屡讨不还李寕二供谓欠 德蘭之...\n",
       "prediction      德蘭 之子 有之 呌若 之 多 列 呌谕 二 比在外 会 算 长古自叁拾四文 武文 五方 属...\n",
       "identifier                                    32_41_0001_p001_r_6\n",
       "CER                                                      1.063492\n",
       "Name: 5, dtype: object"
      ]
     },
     "execution_count": 26,
     "metadata": {},
     "output_type": "execute_result"
    }
   ],
   "source": [
    "cases_with_spaces = bottom_10[bottom_10['ground_truth'].str.contains(' ')]\n",
    "                               #|bottom_10['prediction'].str.contains(' ')]\n",
    "    \n",
    "# Extract two cases\n",
    "cases_with_spaces.iloc[1, ]\n"
   ]
  },
  {
   "cell_type": "code",
   "execution_count": 39,
   "metadata": {},
   "outputs": [
    {
     "data": {
      "text/html": [
       "<div>\n",
       "<style scoped>\n",
       "    .dataframe tbody tr th:only-of-type {\n",
       "        vertical-align: middle;\n",
       "    }\n",
       "\n",
       "    .dataframe tbody tr th {\n",
       "        vertical-align: top;\n",
       "    }\n",
       "\n",
       "    .dataframe thead th {\n",
       "        text-align: right;\n",
       "    }\n",
       "</style>\n",
       "<table border=\"1\" class=\"dataframe\">\n",
       "  <thead>\n",
       "    <tr style=\"text-align: right;\">\n",
       "      <th></th>\n",
       "      <th>ground_truth</th>\n",
       "      <th>prediction</th>\n",
       "      <th>identifier</th>\n",
       "      <th>CER</th>\n",
       "    </tr>\n",
       "  </thead>\n",
       "  <tbody>\n",
       "    <tr>\n",
       "      <th>46</th>\n",
       "      <td>削視 人 鄭顧覌 張玉郎</td>\n",
       "      <td>削人鄭顧覌 視張玉郎</td>\n",
       "      <td>12_21_0009_p009_r_12</td>\n",
       "      <td>0.333333</td>\n",
       "    </tr>\n",
       "    <tr>\n",
       "      <th>36</th>\n",
       "      <td>吳度覌</td>\n",
       "      <td>吳慶覌</td>\n",
       "      <td>01_11_0008_p008_r_25</td>\n",
       "      <td>0.333333</td>\n",
       "    </tr>\n",
       "    <tr>\n",
       "      <th>97</th>\n",
       "      <td>削視 人 黄百合 張宙覌</td>\n",
       "      <td>削人黄百合 視張宙覌</td>\n",
       "      <td>32_41_0009_p009_r_8</td>\n",
       "      <td>0.333333</td>\n",
       "    </tr>\n",
       "    <tr>\n",
       "      <th>124</th>\n",
       "      <td>鄭春覌 二期 不到</td>\n",
       "      <td>鄭春覌 不到</td>\n",
       "      <td>12_21_0005_p005_r_15</td>\n",
       "      <td>0.333333</td>\n",
       "    </tr>\n",
       "    <tr>\n",
       "      <th>114</th>\n",
       "      <td>李寧二</td>\n",
       "      <td>李寕二</td>\n",
       "      <td>22_31_0008_p008_r_3</td>\n",
       "      <td>0.333333</td>\n",
       "    </tr>\n",
       "    <tr>\n",
       "      <th>...</th>\n",
       "      <td>...</td>\n",
       "      <td>...</td>\n",
       "      <td>...</td>\n",
       "      <td>...</td>\n",
       "    </tr>\n",
       "    <tr>\n",
       "      <th>105</th>\n",
       "      <td>邹富覌 呌</td>\n",
       "      <td>邹富覌 呌</td>\n",
       "      <td>12_21_0004_p004_r_9</td>\n",
       "      <td>0.000000</td>\n",
       "    </tr>\n",
       "    <tr>\n",
       "      <th>123</th>\n",
       "      <td>陳端舍呌</td>\n",
       "      <td>陳端舍呌</td>\n",
       "      <td>22_31_0007_p007_r_15</td>\n",
       "      <td>0.000000</td>\n",
       "    </tr>\n",
       "    <tr>\n",
       "      <th>119</th>\n",
       "      <td>22</td>\n",
       "      <td>22</td>\n",
       "      <td>12_21_0001_p001_r</td>\n",
       "      <td>0.000000</td>\n",
       "    </tr>\n",
       "    <tr>\n",
       "      <th>130</th>\n",
       "      <td>李寕義</td>\n",
       "      <td>李寕義</td>\n",
       "      <td>12_21_0002_p002_r_524</td>\n",
       "      <td>0.000000</td>\n",
       "    </tr>\n",
       "    <tr>\n",
       "      <th>131</th>\n",
       "      <td>陳馬援</td>\n",
       "      <td>陳馬援</td>\n",
       "      <td>22_31_0001_p001_r_36</td>\n",
       "      <td>0.000000</td>\n",
       "    </tr>\n",
       "  </tbody>\n",
       "</table>\n",
       "<p>66 rows × 4 columns</p>\n",
       "</div>"
      ],
      "text/plain": [
       "     ground_truth  prediction             identifier       CER\n",
       "46   削視 人 鄭顧覌 張玉郎  削人鄭顧覌 視張玉郎   12_21_0009_p009_r_12  0.333333\n",
       "36            吳度覌         吳慶覌   01_11_0008_p008_r_25  0.333333\n",
       "97   削視 人 黄百合 張宙覌  削人黄百合 視張宙覌    32_41_0009_p009_r_8  0.333333\n",
       "124     鄭春覌 二期 不到      鄭春覌 不到   12_21_0005_p005_r_15  0.333333\n",
       "114           李寧二         李寕二    22_31_0008_p008_r_3  0.333333\n",
       "..            ...         ...                    ...       ...\n",
       "105         邹富覌 呌       邹富覌 呌    12_21_0004_p004_r_9  0.000000\n",
       "123          陳端舍呌        陳端舍呌   22_31_0007_p007_r_15  0.000000\n",
       "119            22          22      12_21_0001_p001_r  0.000000\n",
       "130           李寕義         李寕義  12_21_0002_p002_r_524  0.000000\n",
       "131           陳馬援         陳馬援   22_31_0001_p001_r_36  0.000000\n",
       "\n",
       "[66 rows x 4 columns]"
      ]
     },
     "execution_count": 39,
     "metadata": {},
     "output_type": "execute_result"
    }
   ],
   "source": [
    "top_10"
   ]
  },
  {
   "cell_type": "code",
   "execution_count": 40,
   "metadata": {},
   "outputs": [
    {
     "data": {
      "text/html": [
       "<div>\n",
       "<style scoped>\n",
       "    .dataframe tbody tr th:only-of-type {\n",
       "        vertical-align: middle;\n",
       "    }\n",
       "\n",
       "    .dataframe tbody tr th {\n",
       "        vertical-align: top;\n",
       "    }\n",
       "\n",
       "    .dataframe thead th {\n",
       "        text-align: right;\n",
       "    }\n",
       "</style>\n",
       "<table border=\"1\" class=\"dataframe\">\n",
       "  <thead>\n",
       "    <tr style=\"text-align: right;\">\n",
       "      <th></th>\n",
       "      <th>ground_truth</th>\n",
       "      <th>prediction</th>\n",
       "      <th>identifier</th>\n",
       "      <th>CER</th>\n",
       "    </tr>\n",
       "  </thead>\n",
       "  <tbody>\n",
       "    <tr>\n",
       "      <th>45</th>\n",
       "      <td>46</td>\n",
       "      <td>47 58</td>\n",
       "      <td>22_31_0003_p003_r_322</td>\n",
       "      <td>2.000000</td>\n",
       "    </tr>\n",
       "    <tr>\n",
       "      <th>107</th>\n",
       "      <td>無再𨂻前轍列𦤼赦宥不究 寅突入卧房毆打是以有與他互毆懇𦤼開恩赦宥斷</td>\n",
       "      <td>寅interop序殴打是已有其他互殴案 臺间恩叔審影 身再蹈前輓列表救寘不究</td>\n",
       "      <td>12_21_0007_p007_r</td>\n",
       "      <td>1.151515</td>\n",
       "    </tr>\n",
       "    <tr>\n",
       "      <th>62</th>\n",
       "      <td>又囬家之信係林次老所寄祈为審实 林盛为前年陳𤆬有欠去貨銭供详前期四月十六日</td>\n",
       "      <td>林盛为前年陈焦有欠李货钱供详前期四月十六日 文回家之后信橡林次老听寄说为审实</td>\n",
       "      <td>32_41_0003_p003_r_3</td>\n",
       "      <td>1.027027</td>\n",
       "    </tr>\n",
       "    <tr>\n",
       "      <th>56</th>\n",
       "      <td>伊家傭工即将鞋籠物器交寄寜義代収工竣之日工錢既已 向寕義取讨所寄鞋籠々内有鞋刀三枝釘槌壹枝鞋...</td>\n",
       "      <td>百餘條釁鑼土枝紳笏頭裈半條-ln切刀三枝鑽仔八枝剪刀一枝 伊家僱工即將鞋籠物罌交寄寧義代收工...</td>\n",
       "      <td>12_21_0002_p002_r_16</td>\n",
       "      <td>0.951220</td>\n",
       "    </tr>\n",
       "    <tr>\n",
       "      <th>120</th>\n",
       "      <td>至今不還本日對舍侄還來錢叁拾文貳鈸除外尚欠去錢叁拾文貳 湯新供謂去歲六月十一日葉亞六去錢陸拾...</td>\n",
       "      <td>至今不還奉日对金赃还赃日叁拾又口径除往外尚欠去日叁拾又口径 萬壹六乞限壹年六月清楚 溝新供渭...</td>\n",
       "      <td>01_11_0005_p005_r_8</td>\n",
       "      <td>0.906667</td>\n",
       "    </tr>\n",
       "    <tr>\n",
       "      <th>...</th>\n",
       "      <td>...</td>\n",
       "      <td>...</td>\n",
       "      <td>...</td>\n",
       "      <td>...</td>\n",
       "    </tr>\n",
       "    <tr>\n",
       "      <th>25</th>\n",
       "      <td>三阄 黄甲 林甲</td>\n",
       "      <td>三圍 黃甲 林</td>\n",
       "      <td>12_21_0003_p003_r_590</td>\n",
       "      <td>0.375000</td>\n",
       "    </tr>\n",
       "    <tr>\n",
       "      <th>16</th>\n",
       "      <td>王興廣供謂鄭旺伯前期在公堂坐欠去錢陸拾柒文貳鈸後他</td>\n",
       "      <td>王興廣供謂鄭旺均前期在庲堂坐欠李子誥拾得文武成後地</td>\n",
       "      <td>01_11_0005_p005_r_7</td>\n",
       "      <td>0.360000</td>\n",
       "    </tr>\n",
       "    <tr>\n",
       "      <th>121</th>\n",
       "      <td>圡庫内案奪为李璉一事存案</td>\n",
       "      <td>去庫内案奪為李連一案存案</td>\n",
       "      <td>32_41_0005_p005_r_7</td>\n",
       "      <td>0.333333</td>\n",
       "    </tr>\n",
       "    <tr>\n",
       "      <th>92</th>\n",
       "      <td>陳寬覌</td>\n",
       "      <td>陳寕覌</td>\n",
       "      <td>22_31_0007_p007_r_16</td>\n",
       "      <td>0.333333</td>\n",
       "    </tr>\n",
       "    <tr>\n",
       "      <th>106</th>\n",
       "      <td>郭石泉 不到</td>\n",
       "      <td>郭石泉到</td>\n",
       "      <td>12_21_0004_p004_r_11</td>\n",
       "      <td>0.333333</td>\n",
       "    </tr>\n",
       "  </tbody>\n",
       "</table>\n",
       "<p>65 rows × 4 columns</p>\n",
       "</div>"
      ],
      "text/plain": [
       "                                          ground_truth  \\\n",
       "45                                                  46   \n",
       "107                  無再𨂻前轍列𦤼赦宥不究 寅突入卧房毆打是以有與他互毆懇𦤼開恩赦宥斷   \n",
       "62               又囬家之信係林次老所寄祈为審实 林盛为前年陳𤆬有欠去貨銭供详前期四月十六日   \n",
       "56   伊家傭工即将鞋籠物器交寄寜義代収工竣之日工錢既已 向寕義取讨所寄鞋籠々内有鞋刀三枝釘槌壹枝鞋...   \n",
       "120  至今不還本日對舍侄還來錢叁拾文貳鈸除外尚欠去錢叁拾文貳 湯新供謂去歲六月十一日葉亞六去錢陸拾...   \n",
       "..                                                 ...   \n",
       "25                                            三阄 黄甲 林甲   \n",
       "16                           王興廣供謂鄭旺伯前期在公堂坐欠去錢陸拾柒文貳鈸後他   \n",
       "121                                       圡庫内案奪为李璉一事存案   \n",
       "92                                                 陳寬覌   \n",
       "106                                             郭石泉 不到   \n",
       "\n",
       "                                            prediction             identifier  \\\n",
       "45                                               47 58  22_31_0003_p003_r_322   \n",
       "107             寅interop序殴打是已有其他互殴案 臺间恩叔審影 身再蹈前輓列表救寘不究      12_21_0007_p007_r   \n",
       "62              林盛为前年陈焦有欠李货钱供详前期四月十六日 文回家之后信橡林次老听寄说为审实    32_41_0003_p003_r_3   \n",
       "56   百餘條釁鑼土枝紳笏頭裈半條-ln切刀三枝鑽仔八枝剪刀一枝 伊家僱工即將鞋籠物罌交寄寧義代收工...   12_21_0002_p002_r_16   \n",
       "120  至今不還奉日对金赃还赃日叁拾又口径除往外尚欠去日叁拾又口径 萬壹六乞限壹年六月清楚 溝新供渭...    01_11_0005_p005_r_8   \n",
       "..                                                 ...                    ...   \n",
       "25                                             三圍 黃甲 林  12_21_0003_p003_r_590   \n",
       "16                           王興廣供謂鄭旺均前期在庲堂坐欠李子誥拾得文武成後地    01_11_0005_p005_r_7   \n",
       "121                                       去庫内案奪為李連一案存案    32_41_0005_p005_r_7   \n",
       "92                                                 陳寕覌   22_31_0007_p007_r_16   \n",
       "106                                               郭石泉到   12_21_0004_p004_r_11   \n",
       "\n",
       "          CER  \n",
       "45   2.000000  \n",
       "107  1.151515  \n",
       "62   1.027027  \n",
       "56   0.951220  \n",
       "120  0.906667  \n",
       "..        ...  \n",
       "25   0.375000  \n",
       "16   0.360000  \n",
       "121  0.333333  \n",
       "92   0.333333  \n",
       "106  0.333333  \n",
       "\n",
       "[65 rows x 4 columns]"
      ]
     },
     "execution_count": 40,
     "metadata": {},
     "output_type": "execute_result"
    }
   ],
   "source": [
    "bottom_10   "
   ]
  },
  {
   "cell_type": "code",
   "execution_count": 74,
   "metadata": {},
   "outputs": [
    {
     "name": "stdout",
     "output_type": "stream",
     "text": [
      "82     1\n",
      "83     3\n",
      "74     3\n",
      "79     8\n",
      "113    3\n",
      "105    5\n",
      "123    4\n",
      "119    2\n",
      "130    3\n",
      "131    3\n",
      "Name: prediction, dtype: int64\n"
     ]
    },
    {
     "data": {
      "text/html": [
       "<div>\n",
       "<style scoped>\n",
       "    .dataframe tbody tr th:only-of-type {\n",
       "        vertical-align: middle;\n",
       "    }\n",
       "\n",
       "    .dataframe tbody tr th {\n",
       "        vertical-align: top;\n",
       "    }\n",
       "\n",
       "    .dataframe thead th {\n",
       "        text-align: right;\n",
       "    }\n",
       "</style>\n",
       "<table border=\"1\" class=\"dataframe\">\n",
       "  <thead>\n",
       "    <tr style=\"text-align: right;\">\n",
       "      <th></th>\n",
       "      <th>ground_truth</th>\n",
       "      <th>prediction</th>\n",
       "      <th>identifier</th>\n",
       "      <th>CER</th>\n",
       "    </tr>\n",
       "  </thead>\n",
       "  <tbody>\n",
       "    <tr>\n",
       "      <th>82</th>\n",
       "      <td>5</td>\n",
       "      <td>5</td>\n",
       "      <td>01_11_0003_p003_r_2</td>\n",
       "      <td>0.0</td>\n",
       "    </tr>\n",
       "    <tr>\n",
       "      <th>83</th>\n",
       "      <td>陳約覌</td>\n",
       "      <td>陳約覌</td>\n",
       "      <td>22_31_0005_p005_r_5</td>\n",
       "      <td>0.0</td>\n",
       "    </tr>\n",
       "    <tr>\n",
       "      <th>74</th>\n",
       "      <td>鄭旺伯</td>\n",
       "      <td>鄭旺伯</td>\n",
       "      <td>01_11_0002_p002_r_81</td>\n",
       "      <td>0.0</td>\n",
       "    </tr>\n",
       "    <tr>\n",
       "      <th>79</th>\n",
       "      <td>陳甲 楊甲 當事</td>\n",
       "      <td>陳甲 楊甲 當事</td>\n",
       "      <td>22_31_0009_p009_r_13</td>\n",
       "      <td>0.0</td>\n",
       "    </tr>\n",
       "    <tr>\n",
       "      <th>113</th>\n",
       "      <td>朱金覌</td>\n",
       "      <td>朱金覌</td>\n",
       "      <td>32_41_0008_p008_r_8</td>\n",
       "      <td>0.0</td>\n",
       "    </tr>\n",
       "    <tr>\n",
       "      <th>105</th>\n",
       "      <td>邹富覌 呌</td>\n",
       "      <td>邹富覌 呌</td>\n",
       "      <td>12_21_0004_p004_r_9</td>\n",
       "      <td>0.0</td>\n",
       "    </tr>\n",
       "    <tr>\n",
       "      <th>123</th>\n",
       "      <td>陳端舍呌</td>\n",
       "      <td>陳端舍呌</td>\n",
       "      <td>22_31_0007_p007_r_15</td>\n",
       "      <td>0.0</td>\n",
       "    </tr>\n",
       "    <tr>\n",
       "      <th>119</th>\n",
       "      <td>22</td>\n",
       "      <td>22</td>\n",
       "      <td>12_21_0001_p001_r</td>\n",
       "      <td>0.0</td>\n",
       "    </tr>\n",
       "    <tr>\n",
       "      <th>130</th>\n",
       "      <td>李寕義</td>\n",
       "      <td>李寕義</td>\n",
       "      <td>12_21_0002_p002_r_524</td>\n",
       "      <td>0.0</td>\n",
       "    </tr>\n",
       "    <tr>\n",
       "      <th>131</th>\n",
       "      <td>陳馬援</td>\n",
       "      <td>陳馬援</td>\n",
       "      <td>22_31_0001_p001_r_36</td>\n",
       "      <td>0.0</td>\n",
       "    </tr>\n",
       "  </tbody>\n",
       "</table>\n",
       "</div>"
      ],
      "text/plain": [
       "    ground_truth prediction             identifier  CER\n",
       "82             5          5    01_11_0003_p003_r_2  0.0\n",
       "83           陳約覌        陳約覌    22_31_0005_p005_r_5  0.0\n",
       "74           鄭旺伯        鄭旺伯   01_11_0002_p002_r_81  0.0\n",
       "79      陳甲 楊甲 當事   陳甲 楊甲 當事   22_31_0009_p009_r_13  0.0\n",
       "113          朱金覌        朱金覌    32_41_0008_p008_r_8  0.0\n",
       "105        邹富覌 呌      邹富覌 呌    12_21_0004_p004_r_9  0.0\n",
       "123         陳端舍呌       陳端舍呌   22_31_0007_p007_r_15  0.0\n",
       "119           22         22      12_21_0001_p001_r  0.0\n",
       "130          李寕義        李寕義  12_21_0002_p002_r_524  0.0\n",
       "131          陳馬援        陳馬援   22_31_0001_p001_r_36  0.0"
      ]
     },
     "execution_count": 74,
     "metadata": {},
     "output_type": "execute_result"
    }
   ],
   "source": [
    "print(top_lengths)\n",
    "top_10"
   ]
  },
  {
   "cell_type": "code",
   "execution_count": 41,
   "metadata": {},
   "outputs": [],
   "source": [
    "def plot_prediction_lengths_histogram(df, num_predictions=10):\n",
    "    # Sort by CER\n",
    "    sorted_df = df.sort_values(by='CER', ascending=True)\n",
    "    \n",
    "    # Get top and bottom entries\n",
    "    top_entries = sorted_df.head(num_predictions)\n",
    "    bottom_entries = sorted_df.tail(num_predictions)\n",
    "    \n",
    "    # Analyze prediction lengths\n",
    "    top_lengths = top_entries['prediction'].apply(len)\n",
    "    bottom_lengths = bottom_entries['prediction'].apply(len)\n",
    "    \n",
    "    # Determine the range for the bins\n",
    "    min_length = min(top_lengths.min(), bottom_lengths.min())\n",
    "    max_length = max(top_lengths.max(), bottom_lengths.max())\n",
    "    bins = range(min_length, max_length + 1)\n",
    "\n",
    "    # Plot histogram\n",
    "    plt.figure(figsize=(10, 6))\n",
    "    plt.hist(top_lengths, bins=bins, alpha=0.5, label='Top CER Predictions', color='red')\n",
    "    plt.hist(bottom_lengths, bins=bins, alpha=0.5, label='Bottom CER Predictions', color='blue')\n",
    "    plt.xlabel('Prediction Length')\n",
    "    plt.ylabel('Frequency')\n",
    "    plt.title('Histogram of Prediction Lengths')\n",
    "    plt.legend(loc='upper right')\n",
    "    plt.show()"
   ]
  },
  {
   "cell_type": "code",
   "execution_count": 42,
   "metadata": {},
   "outputs": [
    {
     "data": {
      "image/png": "[encoded data removed]",
      "text/plain": [
       "<Figure size 1000x600 with 1 Axes>"
      ]
     },
     "metadata": {},
     "output_type": "display_data"
    }
   ],
   "source": [
    "plot_prediction_lengths_histogram(res, num_predictions=round(res.shape[0]/2)) "
   ]
  }
 ],
 "metadata": {
  "kernelspec": {
   "display_name": "Python 3",
   "language": "python",
   "name": "python3"
  },
  "language_info": {
   "codemirror_mode": {
    "name": "ipython",
    "version": 3
   },
   "file_extension": ".py",
   "mimetype": "text/x-python",
   "name": "python",
   "nbconvert_exporter": "python",
   "pygments_lexer": "ipython3",
   "version": "3.10.12"
  }
 },
 "nbformat": 4,
 "nbformat_minor": 2
}
