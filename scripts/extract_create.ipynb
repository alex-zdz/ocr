{
 "cells": [
  {
   "cell_type": "markdown",
   "metadata": {},
   "source": [
    "1. Import modules and functions"
   ]
  },
  {
   "cell_type": "code",
   "execution_count": 2,
   "metadata": {},
   "outputs": [
    {
     "name": "stdout",
     "output_type": "stream",
     "text": [
      "C:\\Users\\alexm\\NUS Dropbox\\Alexander Mozdzen\\ocr\\ocr_new\n",
      "C:\\Users\\alexm\\NUS Dropbox\\Alexander Mozdzen\\ocr\\ocr_new\n"
     ]
    },
    {
     "ename": "ModuleNotFoundError",
     "evalue": "No module named 'src.extract_and_create'",
     "output_type": "error",
     "traceback": [
      "\u001b[31m---------------------------------------------------------------------------\u001b[39m",
      "\u001b[31mModuleNotFoundError\u001b[39m                       Traceback (most recent call last)",
      "\u001b[36mCell\u001b[39m\u001b[36m \u001b[39m\u001b[32mIn[2]\u001b[39m\u001b[32m, line 10\u001b[39m\n\u001b[32m      7\u001b[39m \u001b[38;5;28;01mimport\u001b[39;00m\u001b[38;5;250m \u001b[39m\u001b[34;01mpandas\u001b[39;00m\u001b[38;5;250m \u001b[39m\u001b[38;5;28;01mas\u001b[39;00m\u001b[38;5;250m \u001b[39m\u001b[34;01mpd\u001b[39;00m\n\u001b[32m      8\u001b[39m \u001b[38;5;28;01mfrom\u001b[39;00m\u001b[38;5;250m \u001b[39m\u001b[34;01mpathlib\u001b[39;00m\u001b[38;5;250m \u001b[39m\u001b[38;5;28;01mimport\u001b[39;00m Path\n\u001b[32m---> \u001b[39m\u001b[32m10\u001b[39m \u001b[38;5;28;01mfrom\u001b[39;00m\u001b[38;5;250m \u001b[39m\u001b[34;01msrc\u001b[39;00m\u001b[34;01m.\u001b[39;00m\u001b[34;01mextract_and_create\u001b[39;00m\u001b[38;5;250m \u001b[39m\u001b[38;5;28;01mimport\u001b[39;00m *\n",
      "\u001b[31mModuleNotFoundError\u001b[39m: No module named 'src.extract_and_create'"
     ]
    }
   ],
   "source": [
    "import os\n",
    "import sys\n",
    "print(os.getcwd())\n",
    "os.chdir(\"C:/Users/alexm/NUS Dropbox/Alexander Mozdzen/ocr/ocr_new\") # change in the future\n",
    "print(os.getcwd())\n",
    "import glob\n",
    "import pandas as pd\n",
    "from pathlib import Path\n",
    "\n",
    "from src.extract_and_create import *\n"
   ]
  },
  {
   "cell_type": "markdown",
   "metadata": {},
   "source": [
    "2. Extract text regions and crop images"
   ]
  },
  {
   "cell_type": "code",
   "execution_count": 2,
   "metadata": {},
   "outputs": [],
   "source": [
    "\n",
    "# def extract_and_create(input_folder, output_folder):\n",
    "#     jpg_folder = input_folder / \"jpg\"\n",
    "#     xml_folder = input_folder / \"xml\"\n",
    "\n",
    "#     print(f\"Processing images from: {jpg_folder}\")\n",
    "#     print(f\"Processing XMLs from: {xml_folder}\")\n",
    "\n",
    "#     # List files in jpg and xml folders\n",
    "#     #print(\"Files in jpg folder:\")\n",
    "#     #for file in jpg_folder.iterdir():\n",
    "#     #    print(file)\n",
    "\n",
    "#     #print(\"Files in xml folder:\")\n",
    "#     #for file in xml_folder.iterdir():\n",
    "#     #    print(file)\n",
    "\n",
    "#     image_paths = sorted(jpg_folder.glob(\"*.jpg\"), key=lambda p: p.stem)\n",
    "#     xml_paths = sorted(xml_folder.glob(\"*.xml\"), key=lambda p: p.stem)\n",
    "\n",
    "#     print(f\"Found {len(image_paths)} images and {len(xml_paths)} XML files.\")\n",
    "\n",
    "#     for image_path, xml_path in zip(image_paths, xml_paths):\n",
    "#         if image_path.stem == xml_path.stem:\n",
    "#             base_name = image_path.stem\n",
    "#             print(f\"Processing: {base_name}\")\n",
    "\n",
    "#             regions = parse_xml_index_ordering(xml_path)\n",
    "#             pd.DataFrame({\n",
    "#                 \"text\": regions[\"ordered_text\"],\n",
    "#                 \"identifier\": [f\"{base_name}_{region_id}\" for region_id in regions[\"region_id\"]]\n",
    "#             }).to_csv(f\"{output_folder}/texts/{base_name}.csv\", index=False)\n",
    "\n",
    "#             cropped_images = create_images_from_regions(image_path, regions,\n",
    "#                                                                   buffer_above=0, buffer_below=0, buffer_left=0, buffer_right=0)\n",
    "\n",
    "#             for cropped_image, region_id in cropped_images:\n",
    "#                 cropped_image.save(f\"{output_folder}/images/{base_name}_{region_id}.png\")\n",
    "#                 print(f\"Saved image: {base_name}_{region_id}.png\")\n"
   ]
  },
  {
   "cell_type": "code",
   "execution_count": null,
   "metadata": {},
   "outputs": [],
   "source": [
    "input_folder = Path(\"data/raw/\")\n",
    "output_folder = Path(\"data/processed\")\n",
    "extract_and_create(input_folder, output_folder)"
   ]
  },
  {
   "cell_type": "markdown",
   "metadata": {},
   "source": [
    "Now the part that was performed in 2_create"
   ]
  }
 ],
 "metadata": {
  "kernelspec": {
   "display_name": "venv",
   "language": "python",
   "name": "python3"
  },
  "language_info": {
   "codemirror_mode": {
    "name": "ipython",
    "version": 3
   },
   "file_extension": ".py",
   "mimetype": "text/x-python",
   "name": "python",
   "nbconvert_exporter": "python",
   "pygments_lexer": "ipython3",
   "version": "3.13.3"
  }
 },
 "nbformat": 4,
 "nbformat_minor": 2
}
