{
 "cells": [
  {
   "cell_type": "markdown",
   "metadata": {},
   "source": [
    "# 1. Import modules and functions"
   ]
  },
  {
   "cell_type": "code",
   "execution_count": 5,
   "metadata": {},
   "outputs": [
    {
     "data": {
      "text/plain": [
       "'/home/alex/projects/ocr'"
      ]
     },
     "execution_count": 5,
     "metadata": {},
     "output_type": "execute_result"
    }
   ],
   "source": [
    "os.getcwd()"
   ]
  },
  {
   "cell_type": "code",
   "execution_count": null,
   "metadata": {},
   "outputs": [],
   "source": [
    "import os\n",
    "import sys\n",
    "from pathlib import Path\n",
    "import glob\n",
    "import pandas as pd\n",
    "from datasets import Dataset, load_from_disk, concatenate_datasets, DatasetInfo, DatasetDict\n",
    "from PIL import Image\n",
    "#os.chdir(\"..\")\n",
    "#os.chdir(\"ocr\")\n",
    "from src.extract_create import *\n",
    "\n",
    "import importlib\n",
    "import src.extract_create\n",
    "\n",
    "# Reload the module to ensure changes are picked up\n",
    "importlib.reload(src)\n",
    "input_folder = Path(\"data/raw/\")\n",
    "output_folder = Path(\"data/processed\")"
   ]
  },
  {
   "cell_type": "markdown",
   "metadata": {},
   "source": [
    "# 2. OLD: Extract text regions and crop images"
   ]
  },
  {
   "cell_type": "code",
   "execution_count": null,
   "metadata": {},
   "outputs": [],
   "source": [
    "\n",
    "extract_and_create(input_folder, output_folder)"
   ]
  },
  {
   "cell_type": "markdown",
   "metadata": {},
   "source": [
    "# OLD: Create the combined dataset and upload it to HuggingFace"
   ]
  },
  {
   "cell_type": "code",
   "execution_count": 15,
   "metadata": {},
   "outputs": [],
   "source": [
    "text_dir = \"data/processed/texts\"\n",
    "image_dir = \"data/processed/images\"\n",
    "\n",
    "dataframes = [pd.read_csv(x) for x in glob.glob(f\"{text_dir}/*.csv\")]\n"
   ]
  },
  {
   "cell_type": "code",
   "execution_count": null,
   "metadata": {},
   "outputs": [],
   "source": [
    "dataframes\n",
    "datasets = [process_dataframe(df,image_dir) for df in dataframes]\n",
    "combined_dataset = concatenate_datasets(datasets)\n",
    "\n",
    "# Save the combined dataset\n",
    "combined_dataset.save_to_disk(\"data/processed/dataset_p40\")"
   ]
  },
  {
   "cell_type": "markdown",
   "metadata": {},
   "source": [
    "# NEW: Images already in correct format, now need to extract texts from csv table"
   ]
  },
  {
   "cell_type": "code",
   "execution_count": 4,
   "metadata": {},
   "outputs": [
    {
     "data": {
      "text/html": [
       "<div>\n",
       "<style scoped>\n",
       "    .dataframe tbody tr th:only-of-type {\n",
       "        vertical-align: middle;\n",
       "    }\n",
       "\n",
       "    .dataframe tbody tr th {\n",
       "        vertical-align: top;\n",
       "    }\n",
       "\n",
       "    .dataframe thead th {\n",
       "        text-align: right;\n",
       "    }\n",
       "</style>\n",
       "<table border=\"1\" class=\"dataframe\">\n",
       "  <thead>\n",
       "    <tr style=\"text-align: right;\">\n",
       "      <th></th>\n",
       "      <th>id</th>\n",
       "      <th>transcription</th>\n",
       "    </tr>\n",
       "  </thead>\n",
       "  <tbody>\n",
       "    <tr>\n",
       "      <th>0</th>\n",
       "      <td>2-0</td>\n",
       "      <td>陳甲</td>\n",
       "    </tr>\n",
       "    <tr>\n",
       "      <th>1</th>\n",
       "      <td>2-1</td>\n",
       "      <td>楊甲</td>\n",
       "    </tr>\n",
       "    <tr>\n",
       "      <th>2</th>\n",
       "      <td>2-2</td>\n",
       "      <td>王興廣叫</td>\n",
       "    </tr>\n",
       "    <tr>\n",
       "      <th>3</th>\n",
       "      <td>2-3</td>\n",
       "      <td>陳江娘呌</td>\n",
       "    </tr>\n",
       "    <tr>\n",
       "      <th>4</th>\n",
       "      <td>2-4</td>\n",
       "      <td>貳文貳鈸願過汝夫數内以還興廣之錢否答曰願</td>\n",
       "    </tr>\n",
       "    <tr>\n",
       "      <th>...</th>\n",
       "      <td>...</td>\n",
       "      <td>...</td>\n",
       "    </tr>\n",
       "    <tr>\n",
       "      <th>2938</th>\n",
       "      <td>087-28</td>\n",
       "      <td>陈金诉谓前期的唤盛祖到堂证实秦寻他不遇乞再限</td>\n",
       "    </tr>\n",
       "    <tr>\n",
       "      <th>2939</th>\n",
       "      <td>087-29</td>\n",
       "      <td>陳全观</td>\n",
       "    </tr>\n",
       "    <tr>\n",
       "      <th>2940</th>\n",
       "      <td>087-30</td>\n",
       "      <td>連敦观</td>\n",
       "    </tr>\n",
       "    <tr>\n",
       "      <th>2941</th>\n",
       "      <td>087-31</td>\n",
       "      <td>李五芳和息前视李互法</td>\n",
       "    </tr>\n",
       "    <tr>\n",
       "      <th>2942</th>\n",
       "      <td>087-32</td>\n",
       "      <td>NaN</td>\n",
       "    </tr>\n",
       "  </tbody>\n",
       "</table>\n",
       "<p>2943 rows × 2 columns</p>\n",
       "</div>"
      ],
      "text/plain": [
       "          id           transcription\n",
       "0        2-0                      陳甲\n",
       "1        2-1                      楊甲\n",
       "2        2-2                    王興廣叫\n",
       "3        2-3                    陳江娘呌\n",
       "4        2-4   貳文貳鈸願過汝夫數内以還興廣之錢否答曰願 \n",
       "...      ...                     ...\n",
       "2938  087-28  陈金诉谓前期的唤盛祖到堂证实秦寻他不遇乞再限\n",
       "2939  087-29                     陳全观\n",
       "2940  087-30                     連敦观\n",
       "2941  087-31              李五芳和息前视李互法\n",
       "2942  087-32                     NaN\n",
       "\n",
       "[2943 rows x 2 columns]"
      ]
     },
     "execution_count": 4,
     "metadata": {},
     "output_type": "execute_result"
    }
   ],
   "source": [
    "# load csv\n",
    "p0_40_singlecol_df = pd.read_csv(\"data/raw_singlecol/meeting-minutes-40pages-gt.csv\")\n",
    "p40_80_singlecol_df = pd.read_csv(\"data/raw_singlecol/48-87_prediction.csv\")\n",
    "\n",
    "p0_80_singlecol_df = pd.concat([p0_40_singlecol_df, p40_80_singlecol_df], ignore_index=True)\n",
    "\n",
    "\n",
    "text_dir = \"data/processed_singlecol/texts\"\n",
    "image_dir = \"data/processed_singlecol/images\"\n",
    "\n",
    "dataframes = p0_80_singlecol_df[[\"id\", \"transcription\"]].copy()\n",
    "dataframes"
   ]
  },
  {
   "cell_type": "code",
   "execution_count": 9,
   "metadata": {},
   "outputs": [],
   "source": [
    "# # Function to map the image loading for each row\n",
    "def process_images(example):\n",
    "    if(\"singlecol\" in image_dir):\n",
    "        image_filename = example['id'] + '.jpg' \n",
    "    else:\n",
    "        image_filename = example['identifier'] + '.png' \n",
    "    image_path = os.path.join(image_dir, image_filename)  # 'identifier' is the image file name\n",
    "    example['image'] = Image.open(image_path)\n",
    "    return example\n"
   ]
  },
  {
   "cell_type": "code",
   "execution_count": 11,
   "metadata": {},
   "outputs": [
    {
     "name": "stderr",
     "output_type": "stream",
     "text": [
      "Map: 100%|██████████| 2943/2943 [00:00<00:00, 20039.93 examples/s]\n",
      "Saving the dataset (1/1 shards): 100%|██████████| 2943/2943 [00:00<00:00, 32036.95 examples/s]\n"
     ]
    }
   ],
   "source": [
    "\n",
    "# Apply the image loading function\n",
    "dataset = Dataset.from_pandas(dataframes)\n",
    "dataset = dataset.map(process_images)\n",
    "# Save the combined dataset\n",
    "#dataset.save_to_disk(\"data/processed_singlecol/dataset_p40\")\n",
    "dataset.save_to_disk(\"data/processed_singlecol/dataset_p80\")\n",
    "combined_dataset = dataset"
   ]
  },
  {
   "cell_type": "markdown",
   "metadata": {},
   "source": [
    "# Deprecated: Trying to create an only single column dataset using the information given in the xml files -- coordinates wrong"
   ]
  },
  {
   "cell_type": "code",
   "execution_count": 44,
   "metadata": {},
   "outputs": [],
   "source": [
    "# input_folder = Path(\"data/raw/\")\n",
    "# output_folder = Path(\"data/processed_singlecol\")\n",
    "# extract_and_create_singlecol(input_folder, output_folder)"
   ]
  },
  {
   "cell_type": "code",
   "execution_count": 47,
   "metadata": {},
   "outputs": [],
   "source": [
    "# text_dir = \"data/processed_singlecol/texts\"\n",
    "# image_dir = \"data/processed_singlecol/images\"\n",
    "# dataframes = [pd.read_csv(x) for x in glob.glob(f\"{text_dir}/*.csv\")]\n",
    "# # Combine datasets from each dataframe\n",
    "# datasets = [process_dataframe(df,image_dir) for df in dataframes]\n",
    "# combined_dataset = concatenate_datasets(datasets)\n",
    "# combined_dataset.save_to_disk(\"data/processed_singlecol/data_p40_singlecol\")"
   ]
  },
  {
   "cell_type": "markdown",
   "metadata": {},
   "source": [
    "## Spliting into train and validation set"
   ]
  },
  {
   "cell_type": "code",
   "execution_count": 37,
   "metadata": {},
   "outputs": [],
   "source": [
    "train_test_split = combined_dataset.train_test_split(test_size=0.2)\n",
    "\n",
    "split_dataset = DatasetDict({\n",
    "    'train': train_test_split['train'],\n",
    "    'validation': train_test_split['test']\n",
    "})"
   ]
  },
  {
   "cell_type": "code",
   "execution_count": null,
   "metadata": {},
   "outputs": [],
   "source": [
    "### Saving to HF hub"
   ]
  },
  {
   "cell_type": "code",
   "execution_count": 55,
   "metadata": {},
   "outputs": [],
   "source": [
    "with open(\"data/tokens/token.txt\") as f:\n",
    "    token = f.read()"
   ]
  },
  {
   "cell_type": "code",
   "execution_count": 56,
   "metadata": {},
   "outputs": [
    {
     "name": "stderr",
     "output_type": "stream",
     "text": [
      "Map: 100%|██████████| 1438/1438 [00:00<00:00, 7276.41 examples/s]s]\n",
      "Creating parquet from Arrow format: 100%|██████████| 15/15 [00:00<00:00, 221.11ba/s]\n",
      "Uploading the dataset shards: 100%|██████████| 1/1 [00:06<00:00,  6.88s/it]\n",
      "Map: 100%|██████████| 360/360 [00:00<00:00, 8872.56 examples/s]t/s]\n",
      "Creating parquet from Arrow format: 100%|██████████| 4/4 [00:00<00:00, 382.45ba/s]\n",
      "Uploading the dataset shards: 100%|██████████| 1/1 [00:02<00:00,  2.24s/it]\n"
     ]
    },
    {
     "data": {
      "text/plain": [
       "CommitInfo(commit_url='https://huggingface.co/datasets/culturalheritagenus/gongguan_ocr_p40_singlecol/commit/311d7ad25ea95473b807d8953faa6bfc60adfeec', commit_message='Upload dataset', commit_description='', oid='311d7ad25ea95473b807d8953faa6bfc60adfeec', pr_url=None, repo_url=RepoUrl('https://huggingface.co/datasets/culturalheritagenus/gongguan_ocr_p40_singlecol', endpoint='https://huggingface.co', repo_type='dataset', repo_id='culturalheritagenus/gongguan_ocr_p40_singlecol'), pr_revision=None, pr_num=None)"
      ]
     },
     "execution_count": 56,
     "metadata": {},
     "output_type": "execute_result"
    }
   ],
   "source": [
    "split_dataset.push_to_hub(\"culturalheritagenus/gongguan_ocr_p40_singlecol\", token=token)"
   ]
  }
 ],
 "metadata": {
  "kernelspec": {
   "display_name": "Python 3",
   "language": "python",
   "name": "python3"
  },
  "language_info": {
   "codemirror_mode": {
    "name": "ipython",
    "version": 3
   },
   "file_extension": ".py",
   "mimetype": "text/x-python",
   "name": "python",
   "nbconvert_exporter": "python",
   "pygments_lexer": "ipython3",
   "version": "3.10.12"
  }
 },
 "nbformat": 4,
 "nbformat_minor": 2
}
