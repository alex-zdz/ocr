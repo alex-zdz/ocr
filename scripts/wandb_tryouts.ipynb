{
 "cells": [
  {
   "cell_type": "markdown",
   "metadata": {},
   "source": [
    "## Split into train and test set"
   ]
  },
  {
   "cell_type": "code",
   "execution_count": 1,
   "metadata": {},
   "outputs": [
    {
     "name": "stderr",
     "output_type": "stream",
     "text": [
      "/usr/local/lib/python3.10/dist-packages/tqdm/auto.py:21: TqdmWarning: IProgress not found. Please update jupyter and ipywidgets. See https://ipywidgets.readthedocs.io/en/stable/user_install.html\n",
      "  from .autonotebook import tqdm as notebook_tqdm\n"
     ]
    },
    {
     "name": "stdout",
     "output_type": "stream",
     "text": [
      "/home/alex/projects/ocr/scripts\n"
     ]
    },
    {
     "name": "stderr",
     "output_type": "stream",
     "text": [
      "\u001b[34m\u001b[1mwandb\u001b[0m: \u001b[33mWARNING\u001b[0m If you're specifying your api key in code, ensure this code is not shared publicly.\n",
      "\u001b[34m\u001b[1mwandb\u001b[0m: \u001b[33mWARNING\u001b[0m Consider setting the WANDB_API_KEY environment variable, or running `wandb login` from the command line.\n",
      "\u001b[34m\u001b[1mwandb\u001b[0m: Appending key for api.wandb.ai to your netrc file: /home/alex/.netrc\n",
      "\u001b[34m\u001b[1mwandb\u001b[0m: Currently logged in as: \u001b[33malex-zdz\u001b[0m (\u001b[33malex-zdz-university-of-klagenfurt\u001b[0m) to \u001b[32mhttps://api.wandb.ai\u001b[0m. Use \u001b[1m`wandb login --relogin`\u001b[0m to force relogin\n"
     ]
    },
    {
     "data": {
      "text/plain": [
       "True"
      ]
     },
     "execution_count": 1,
     "metadata": {},
     "output_type": "execute_result"
    }
   ],
   "source": [
    "import os\n",
    "\n",
    "from datasets import load_from_disk\n",
    "from transformers import Qwen2VLForConditionalGeneration, Qwen2_5_VLForConditionalGeneration, AutoProcessor\n",
    "import torch\n",
    "from qwen_vl_utils import process_vision_info\n",
    "from PIL import Image\n",
    "from datasets import load_dataset\n",
    "import pandas as pd\n",
    "print(os.getcwd())\n",
    "os.chdir(\"../src\")\n",
    "#print(os.getcwd())\n",
    "from qwen_finetune import train_and_validate\n",
    "\n",
    "\n",
    "from qwen_finetune import *\n",
    "from train_test import *\n",
    "from tqdm import tqdm\n",
    "import time\n",
    "import wandb\n",
    "from random import random\n",
    "import time\n",
    "\n",
    "wandb.login(key = \"3708195e26856c0278c92195c8d374200262cf6f\")"
   ]
  },
  {
   "cell_type": "code",
   "execution_count": 67,
   "metadata": {},
   "outputs": [
    {
     "name": "stdout",
     "output_type": "stream",
     "text": [
      "Free: 24663.31 MB\n",
      "Total: 45466.25 MB\n",
      "Used: 20802.94 MB\n"
     ]
    },
    {
     "data": {
      "text/plain": [
       "0"
      ]
     },
     "execution_count": 67,
     "metadata": {},
     "output_type": "execute_result"
    }
   ],
   "source": [
    "free, total = torch.cuda.mem_get_info()\n",
    "print(f\"Free: {free/1024**2:.2f} MB\")\n",
    "print(f\"Total: {total/1024**2:.2f} MB\")\n",
    "print(f\"Used: {(total-free)/1024**2:.2f} MB\")\n",
    "torch.cuda.empty_cache()\n",
    "torch.cuda.reset_max_memory_allocated()\n",
    "import gc\n",
    "gc.collect()  "
   ]
  },
  {
   "cell_type": "markdown",
   "metadata": {},
   "source": [
    "# Individual Cells for understanding:\n",
    "## train_and_validate setup:"
   ]
  },
  {
   "cell_type": "code",
   "execution_count": 15,
   "metadata": {},
   "outputs": [],
   "source": [
    "model_name = \"Qwen/Qwen2-VL-2B-Instruct\"\n",
    "#qwen_model = \"Qwen/Qwen2.5-VL-72B-Instruct\""
   ]
  },
  {
   "cell_type": "markdown",
   "metadata": {},
   "source": [
    "Split twice: first into train and rest and then the rest into validation and test set, or train + validation AND test set"
   ]
  },
  {
   "cell_type": "code",
   "execution_count": 25,
   "metadata": {},
   "outputs": [
    {
     "data": {
      "text/plain": [
       "(Dataset({\n",
       "     features: ['id', 'transcription', 'image'],\n",
       "     num_rows: 298\n",
       " }),\n",
       " Dataset({\n",
       "     features: ['id', 'transcription', 'image'],\n",
       "     num_rows: 893\n",
       " }),\n",
       " Dataset({\n",
       "     features: ['id', 'transcription', 'image'],\n",
       "     num_rows: 298\n",
       " }))"
      ]
     },
     "execution_count": 25,
     "metadata": {},
     "output_type": "execute_result"
    }
   ],
   "source": [
    "# Load the combined dataset from the processed directory\n",
    "path = \"../data/processed_singlecol/dataset_p40\"\n",
    "data = load_from_disk(path)\n",
    "trainval_test_split = data.train_test_split(test_size=0.2, seed=42)\n",
    "test_dataset = trainval_test_split['test']\n",
    "train_val_split = trainval_test_split[\"train\"].train_test_split(test_size=0.25, seed=42)\n",
    "train_dataset = train_val_split['train']\n",
    "val_dataset = train_val_split['test']\n",
    "\n",
    "test_dataset, train_dataset, val_dataset"
   ]
  },
  {
   "cell_type": "code",
   "execution_count": null,
   "metadata": {},
   "outputs": [],
   "source": [
    "#os.chdir(\"../src\")"
   ]
  },
  {
   "cell_type": "code",
   "execution_count": 3,
   "metadata": {},
   "outputs": [],
   "source": [
    "from qwen_finetune import HuggingFaceDataset, collate_fn, validate\n",
    "from torch.utils.data import Dataset, DataLoader\n",
    "from torch.optim import AdamW\n",
    "from functools import partial"
   ]
  },
  {
   "cell_type": "code",
   "execution_count": null,
   "metadata": {},
   "outputs": [],
   "source": [
    "# transform dataset into nested dictionary - list - dict - list - dict form that is typical for LLMs where its fromatted like a chat \n",
    "# with the user giving the input image and request to transform it to text and the \"assistant\" response is the text transcription of the image, the \"label\" = the ground truth transcription\n",
    "tst = HuggingFaceDataset(train_dataset, image_column=\"image\",\n",
    "                            text_column=\"transcription\",\n",
    "                            user_text=\"Convert this image to text\")\n"
   ]
  },
  {
   "cell_type": "code",
   "execution_count": 62,
   "metadata": {},
   "outputs": [
    {
     "data": {
      "text/plain": [
       "{'messages': [{'role': 'user',\n",
       "   'content': [{'type': 'image',\n",
       "     'image': <PIL.JpegImagePlugin.JpegImageFile image mode=RGB size=36x84>},\n",
       "    {'type': 'text', 'text': 'Convert this image to text'}]},\n",
       "  {'role': 'assistant', 'content': [{'type': 'text', 'text': '唐甲'}]}]}"
      ]
     },
     "execution_count": 62,
     "metadata": {},
     "output_type": "execute_result"
    }
   ],
   "source": [
    "tst[0]"
   ]
  },
  {
   "cell_type": "code",
   "execution_count": 75,
   "metadata": {},
   "outputs": [],
   "source": [
    "min_pixel=256\n",
    "max_pixel=384\n",
    "image_factor=28\n",
    "processor = AutoProcessor.from_pretrained(\"Qwen/Qwen2-VL-2B-Instruct\", min_pixels=min_pixel*image_factor*image_factor, max_pixels=max_pixel*image_factor*image_factor, padding_side=\"right\")"
   ]
  },
  {
   "cell_type": "code",
   "execution_count": 73,
   "metadata": {},
   "outputs": [],
   "source": [
    "train_loader = DataLoader(\n",
    "        tst,\n",
    "        batch_size= 4,\n",
    "        collate_fn=partial(collate_fn, processor=processor, device = \"cuda\"),\n",
    "        shuffle=True\n",
    "    )"
   ]
  },
  {
   "cell_type": "code",
   "execution_count": 74,
   "metadata": {},
   "outputs": [
    {
     "data": {
      "text/plain": [
       "torch.utils.data.dataloader.DataLoader"
      ]
     },
     "execution_count": 74,
     "metadata": {},
     "output_type": "execute_result"
    }
   ],
   "source": [
    "type(train_loader)"
   ]
  },
  {
   "cell_type": "code",
   "execution_count": null,
   "metadata": {},
   "outputs": [
    {
     "name": "stdout",
     "output_type": "stream",
     "text": [
      "The history saving thread hit an unexpected error (OperationalError('database or disk is full')).History will not be written to the database.\n",
      "inputs <class 'transformers.feature_extraction_utils.BatchFeature'> input keys dict_keys(['input_ids', 'attention_mask', 'pixel_values', 'image_grid_thw']) labels shape torch.Size([2, 428]) labels\n",
      "({'input_ids': tensor([[151644,   8948,    198,   2610,    525,    264,  10950,  17847,     13,\n",
      "         151645,    198, 151644,    872,    198, 151652, 151655, 151655, 151655,\n",
      "         151655, 151655, 151655, 151655, 151655, 151655, 151655, 151655, 151655,\n",
      "         151655, 151655, 151655, 151655, 151655, 151655, 151655, 151655, 151655,\n",
      "         151655, 151655, 151655, 151655, 151655, 151655, 151655, 151655, 151655,\n",
      "         151655, 151655, 151655, 151655, 151655, 151655, 151655, 151655, 151655,\n",
      "         151655, 151655, 151655, 151655, 151655, 151655, 151655, 151655, 151655,\n",
      "         151655, 151655, 151655, 151655, 151655, 151655, 151655, 151655, 151655,\n",
      "         151655, 151655, 151655, 151655, 151655, 151655, 151655, 151655, 151655,\n",
      "         151655, 151655, 151655, 151655, 151655, 151655, 151655, 151655, 151655,\n",
      "         151655, 151655, 151655, 151655, 151655, 151655, 151655, 151655, 151655,\n",
      "         151655, 151655, 151655, 151655, 151655, 151655, 151655, 151655, 151655,\n",
      "         151655, 151655, 151655, 151655, 151655, 151655, 151655, 151655, 151655,\n",
      "         151655, 151655, 151655, 151655, 151655, 151655, 151655, 151655, 151655,\n",
      "         151655, 151655, 151655, 151655, 151655, 151655, 151655, 151655, 151655,\n",
      "         151655, 151655, 151655, 151655, 151655, 151655, 151655, 151655, 151655,\n",
      "         151655, 151655, 151655, 151655, 151655, 151655, 151655, 151655, 151655,\n",
      "         151655, 151655, 151655, 151655, 151655, 151655, 151655, 151655, 151655,\n",
      "         151655, 151655, 151655, 151655, 151655, 151655, 151655, 151655, 151655,\n",
      "         151655, 151655, 151655, 151655, 151655, 151655, 151655, 151655, 151655,\n",
      "         151655, 151655, 151655, 151655, 151655, 151655, 151655, 151655, 151655,\n",
      "         151655, 151655, 151655, 151655, 151655, 151655, 151655, 151655, 151655,\n",
      "         151655, 151655, 151655, 151655, 151655, 151655, 151655, 151655, 151655,\n",
      "         151655, 151655, 151655, 151655, 151655, 151655, 151655, 151655, 151655,\n",
      "         151655, 151655, 151655, 151655, 151655, 151655, 151655, 151655, 151655,\n",
      "         151655, 151655, 151655, 151655, 151655, 151655, 151655, 151655, 151655,\n",
      "         151655, 151655, 151655, 151655, 151655, 151655, 151655, 151655, 151655,\n",
      "         151655, 151655, 151655, 151655, 151655, 151655, 151655, 151655, 151655,\n",
      "         151655, 151655, 151655, 151655, 151655, 151655, 151655, 151655, 151655,\n",
      "         151655, 151655, 151655, 151655, 151655, 151655, 151655, 151655, 151655,\n",
      "         151655, 151655, 151655, 151655, 151655, 151655, 151655, 151655, 151655,\n",
      "         151655, 151655, 151655, 151655, 151655, 151655, 151655, 151655, 151655,\n",
      "         151655, 151655, 151655, 151655, 151655, 151655, 151655, 151655, 151655,\n",
      "         151655, 151655, 151655, 151655, 151653,  12012,    419,   2168,    311,\n",
      "           1467, 151645,    198, 151644,  77091,    198,  99789, 100998,  24071,\n",
      "            234, 151645,    198, 151643, 151643, 151643, 151643, 151643, 151643,\n",
      "         151643, 151643, 151643, 151643, 151643, 151643, 151643, 151643, 151643,\n",
      "         151643, 151643, 151643, 151643, 151643, 151643, 151643, 151643, 151643,\n",
      "         151643, 151643, 151643, 151643, 151643, 151643, 151643, 151643, 151643,\n",
      "         151643, 151643, 151643, 151643, 151643, 151643, 151643, 151643, 151643,\n",
      "         151643, 151643, 151643, 151643, 151643, 151643, 151643, 151643, 151643,\n",
      "         151643, 151643, 151643, 151643, 151643, 151643, 151643, 151643, 151643,\n",
      "         151643, 151643, 151643, 151643, 151643, 151643, 151643, 151643, 151643,\n",
      "         151643, 151643, 151643, 151643, 151643, 151643, 151643, 151643, 151643,\n",
      "         151643, 151643, 151643, 151643, 151643, 151643, 151643, 151643, 151643,\n",
      "         151643, 151643, 151643, 151643, 151643, 151643, 151643, 151643, 151643,\n",
      "         151643, 151643, 151643, 151643, 151643, 151643, 151643, 151643, 151643,\n",
      "         151643, 151643, 151643, 151643, 151643],\n",
      "        [151644,   8948,    198,   2610,    525,    264,  10950,  17847,     13,\n",
      "         151645,    198, 151644,    872,    198, 151652, 151655, 151655, 151655,\n",
      "         151655, 151655, 151655, 151655, 151655, 151655, 151655, 151655, 151655,\n",
      "         151655, 151655, 151655, 151655, 151655, 151655, 151655, 151655, 151655,\n",
      "         151655, 151655, 151655, 151655, 151655, 151655, 151655, 151655, 151655,\n",
      "         151655, 151655, 151655, 151655, 151655, 151655, 151655, 151655, 151655,\n",
      "         151655, 151655, 151655, 151655, 151655, 151655, 151655, 151655, 151655,\n",
      "         151655, 151655, 151655, 151655, 151655, 151655, 151655, 151655, 151655,\n",
      "         151655, 151655, 151655, 151655, 151655, 151655, 151655, 151655, 151655,\n",
      "         151655, 151655, 151655, 151655, 151655, 151655, 151655, 151655, 151655,\n",
      "         151655, 151655, 151655, 151655, 151655, 151655, 151655, 151655, 151655,\n",
      "         151655, 151655, 151655, 151655, 151655, 151655, 151655, 151655, 151655,\n",
      "         151655, 151655, 151655, 151655, 151655, 151655, 151655, 151655, 151655,\n",
      "         151655, 151655, 151655, 151655, 151655, 151655, 151655, 151655, 151655,\n",
      "         151655, 151655, 151655, 151655, 151655, 151655, 151655, 151655, 151655,\n",
      "         151655, 151655, 151655, 151655, 151655, 151655, 151655, 151655, 151655,\n",
      "         151655, 151655, 151655, 151655, 151655, 151655, 151655, 151655, 151655,\n",
      "         151655, 151655, 151655, 151655, 151655, 151655, 151655, 151655, 151655,\n",
      "         151655, 151655, 151655, 151655, 151655, 151655, 151655, 151655, 151655,\n",
      "         151655, 151655, 151655, 151655, 151655, 151655, 151655, 151655, 151655,\n",
      "         151655, 151655, 151655, 151655, 151655, 151655, 151655, 151655, 151655,\n",
      "         151655, 151655, 151655, 151655, 151655, 151655, 151655, 151655, 151655,\n",
      "         151655, 151655, 151655, 151655, 151655, 151655, 151655, 151655, 151655,\n",
      "         151655, 151655, 151655, 151655, 151655, 151655, 151655, 151655, 151655,\n",
      "         151655, 151655, 151655, 151655, 151655, 151655, 151655, 151655, 151655,\n",
      "         151655, 151655, 151655, 151655, 151655, 151655, 151655, 151655, 151655,\n",
      "         151655, 151655, 151655, 151655, 151655, 151655, 151655, 151655, 151655,\n",
      "         151655, 151655, 151655, 151655, 151655, 151655, 151655, 151655, 151655,\n",
      "         151655, 151655, 151655, 151655, 151655, 151655, 151655, 151655, 151655,\n",
      "         151655, 151655, 151655, 151655, 151655, 151655, 151655, 151655, 151655,\n",
      "         151655, 151655, 151655, 151655, 151655, 151655, 151655, 151655, 151655,\n",
      "         151655, 151655, 151655, 151655, 151655, 151655, 151655, 151655, 151655,\n",
      "         151655, 151655, 151655, 151655, 151655, 151655, 151655, 151655, 151655,\n",
      "         151655, 151655, 151655, 151655, 151655, 151655, 151655, 151655, 151655,\n",
      "         151655, 151655, 151655, 151655, 151655, 151655, 151655, 151655, 151655,\n",
      "         151655, 151655, 151655, 151655, 151655, 151655, 151655, 151655, 151655,\n",
      "         151655, 151655, 151655, 151655, 151655, 151655, 151655, 151655, 151655,\n",
      "         151655, 151655, 151655, 151655, 151655, 151655, 151655, 151655, 151655,\n",
      "         151655, 151655, 151655, 151655, 151655, 151655, 151655, 151655, 151655,\n",
      "         151655, 151655, 151655, 151655, 151655, 151655, 151655, 151655, 151655,\n",
      "         151655, 151655, 151655, 151655, 151655, 151655, 151655, 151655, 151655,\n",
      "         151655, 151655, 151655, 151655, 151655, 151655, 151655, 151655, 151655,\n",
      "         151655, 151655, 151655, 151655, 151655, 151655, 151655, 151655, 151655,\n",
      "         151655, 151655, 151655, 151653,  12012,    419,   2168,    311,   1467,\n",
      "         151645,    198, 151644,  77091,    198,  38342,  79766,  81320,  36667,\n",
      "           9722,    105,  45629,  56137,  21894,   7948,    172,  24447,    107,\n",
      "         107479,  20221, 100003,  69041,  42411,  18158, 100219,  16530,  97706,\n",
      "          99454,  99493, 100705, 151645,    198]], device='cuda:0'), 'attention_mask': tensor([[1, 1, 1, 1, 1, 1, 1, 1, 1, 1, 1, 1, 1, 1, 1, 1, 1, 1, 1, 1, 1, 1, 1, 1,\n",
      "         1, 1, 1, 1, 1, 1, 1, 1, 1, 1, 1, 1, 1, 1, 1, 1, 1, 1, 1, 1, 1, 1, 1, 1,\n",
      "         1, 1, 1, 1, 1, 1, 1, 1, 1, 1, 1, 1, 1, 1, 1, 1, 1, 1, 1, 1, 1, 1, 1, 1,\n",
      "         1, 1, 1, 1, 1, 1, 1, 1, 1, 1, 1, 1, 1, 1, 1, 1, 1, 1, 1, 1, 1, 1, 1, 1,\n",
      "         1, 1, 1, 1, 1, 1, 1, 1, 1, 1, 1, 1, 1, 1, 1, 1, 1, 1, 1, 1, 1, 1, 1, 1,\n",
      "         1, 1, 1, 1, 1, 1, 1, 1, 1, 1, 1, 1, 1, 1, 1, 1, 1, 1, 1, 1, 1, 1, 1, 1,\n",
      "         1, 1, 1, 1, 1, 1, 1, 1, 1, 1, 1, 1, 1, 1, 1, 1, 1, 1, 1, 1, 1, 1, 1, 1,\n",
      "         1, 1, 1, 1, 1, 1, 1, 1, 1, 1, 1, 1, 1, 1, 1, 1, 1, 1, 1, 1, 1, 1, 1, 1,\n",
      "         1, 1, 1, 1, 1, 1, 1, 1, 1, 1, 1, 1, 1, 1, 1, 1, 1, 1, 1, 1, 1, 1, 1, 1,\n",
      "         1, 1, 1, 1, 1, 1, 1, 1, 1, 1, 1, 1, 1, 1, 1, 1, 1, 1, 1, 1, 1, 1, 1, 1,\n",
      "         1, 1, 1, 1, 1, 1, 1, 1, 1, 1, 1, 1, 1, 1, 1, 1, 1, 1, 1, 1, 1, 1, 1, 1,\n",
      "         1, 1, 1, 1, 1, 1, 1, 1, 1, 1, 1, 1, 1, 1, 1, 1, 1, 1, 1, 1, 1, 1, 1, 1,\n",
      "         1, 1, 1, 1, 1, 1, 1, 1, 1, 1, 1, 1, 1, 1, 1, 1, 1, 1, 1, 1, 1, 1, 1, 1,\n",
      "         1, 1, 1, 1, 1, 1, 0, 0, 0, 0, 0, 0, 0, 0, 0, 0, 0, 0, 0, 0, 0, 0, 0, 0,\n",
      "         0, 0, 0, 0, 0, 0, 0, 0, 0, 0, 0, 0, 0, 0, 0, 0, 0, 0, 0, 0, 0, 0, 0, 0,\n",
      "         0, 0, 0, 0, 0, 0, 0, 0, 0, 0, 0, 0, 0, 0, 0, 0, 0, 0, 0, 0, 0, 0, 0, 0,\n",
      "         0, 0, 0, 0, 0, 0, 0, 0, 0, 0, 0, 0, 0, 0, 0, 0, 0, 0, 0, 0, 0, 0, 0, 0,\n",
      "         0, 0, 0, 0, 0, 0, 0, 0, 0, 0, 0, 0, 0, 0, 0, 0, 0, 0, 0, 0],\n",
      "        [1, 1, 1, 1, 1, 1, 1, 1, 1, 1, 1, 1, 1, 1, 1, 1, 1, 1, 1, 1, 1, 1, 1, 1,\n",
      "         1, 1, 1, 1, 1, 1, 1, 1, 1, 1, 1, 1, 1, 1, 1, 1, 1, 1, 1, 1, 1, 1, 1, 1,\n",
      "         1, 1, 1, 1, 1, 1, 1, 1, 1, 1, 1, 1, 1, 1, 1, 1, 1, 1, 1, 1, 1, 1, 1, 1,\n",
      "         1, 1, 1, 1, 1, 1, 1, 1, 1, 1, 1, 1, 1, 1, 1, 1, 1, 1, 1, 1, 1, 1, 1, 1,\n",
      "         1, 1, 1, 1, 1, 1, 1, 1, 1, 1, 1, 1, 1, 1, 1, 1, 1, 1, 1, 1, 1, 1, 1, 1,\n",
      "         1, 1, 1, 1, 1, 1, 1, 1, 1, 1, 1, 1, 1, 1, 1, 1, 1, 1, 1, 1, 1, 1, 1, 1,\n",
      "         1, 1, 1, 1, 1, 1, 1, 1, 1, 1, 1, 1, 1, 1, 1, 1, 1, 1, 1, 1, 1, 1, 1, 1,\n",
      "         1, 1, 1, 1, 1, 1, 1, 1, 1, 1, 1, 1, 1, 1, 1, 1, 1, 1, 1, 1, 1, 1, 1, 1,\n",
      "         1, 1, 1, 1, 1, 1, 1, 1, 1, 1, 1, 1, 1, 1, 1, 1, 1, 1, 1, 1, 1, 1, 1, 1,\n",
      "         1, 1, 1, 1, 1, 1, 1, 1, 1, 1, 1, 1, 1, 1, 1, 1, 1, 1, 1, 1, 1, 1, 1, 1,\n",
      "         1, 1, 1, 1, 1, 1, 1, 1, 1, 1, 1, 1, 1, 1, 1, 1, 1, 1, 1, 1, 1, 1, 1, 1,\n",
      "         1, 1, 1, 1, 1, 1, 1, 1, 1, 1, 1, 1, 1, 1, 1, 1, 1, 1, 1, 1, 1, 1, 1, 1,\n",
      "         1, 1, 1, 1, 1, 1, 1, 1, 1, 1, 1, 1, 1, 1, 1, 1, 1, 1, 1, 1, 1, 1, 1, 1,\n",
      "         1, 1, 1, 1, 1, 1, 1, 1, 1, 1, 1, 1, 1, 1, 1, 1, 1, 1, 1, 1, 1, 1, 1, 1,\n",
      "         1, 1, 1, 1, 1, 1, 1, 1, 1, 1, 1, 1, 1, 1, 1, 1, 1, 1, 1, 1, 1, 1, 1, 1,\n",
      "         1, 1, 1, 1, 1, 1, 1, 1, 1, 1, 1, 1, 1, 1, 1, 1, 1, 1, 1, 1, 1, 1, 1, 1,\n",
      "         1, 1, 1, 1, 1, 1, 1, 1, 1, 1, 1, 1, 1, 1, 1, 1, 1, 1, 1, 1, 1, 1, 1, 1,\n",
      "         1, 1, 1, 1, 1, 1, 1, 1, 1, 1, 1, 1, 1, 1, 1, 1, 1, 1, 1, 1]],\n",
      "       device='cuda:0'), 'pixel_values': tensor([[1.7114, 1.6968, 1.6968,  ..., 2.0179, 2.0321, 2.0464],\n",
      "        [1.5508, 1.5508, 1.5508,  ..., 2.0037, 2.0037, 2.0037],\n",
      "        [1.7114, 1.7260, 1.7260,  ..., 2.0464, 2.0606, 2.0606],\n",
      "        ...,\n",
      "        [1.5654, 1.5654, 1.5362,  ..., 1.3638, 1.3638, 1.3638],\n",
      "        [0.8938, 0.8938, 0.9084,  ..., 0.1124, 0.1266, 0.1266],\n",
      "        [0.8501, 0.8501, 0.8501,  ..., 0.2262, 0.2120, 0.1977]],\n",
      "       device='cuda:0'), 'image_grid_thw': tensor([[  1,  52,  22],\n",
      "        [  1, 150,  10]], device='cuda:0')}, tensor([[  -100,   -100,   -100,   -100,   -100,   -100,   -100,   -100,   -100,\n",
      "           -100,   -100,   -100,   -100,   -100,   -100,   -100,   -100,   -100,\n",
      "           -100,   -100,   -100,   -100,   -100,   -100,   -100,   -100,   -100,\n",
      "           -100,   -100,   -100,   -100,   -100,   -100,   -100,   -100,   -100,\n",
      "           -100,   -100,   -100,   -100,   -100,   -100,   -100,   -100,   -100,\n",
      "           -100,   -100,   -100,   -100,   -100,   -100,   -100,   -100,   -100,\n",
      "           -100,   -100,   -100,   -100,   -100,   -100,   -100,   -100,   -100,\n",
      "           -100,   -100,   -100,   -100,   -100,   -100,   -100,   -100,   -100,\n",
      "           -100,   -100,   -100,   -100,   -100,   -100,   -100,   -100,   -100,\n",
      "           -100,   -100,   -100,   -100,   -100,   -100,   -100,   -100,   -100,\n",
      "           -100,   -100,   -100,   -100,   -100,   -100,   -100,   -100,   -100,\n",
      "           -100,   -100,   -100,   -100,   -100,   -100,   -100,   -100,   -100,\n",
      "           -100,   -100,   -100,   -100,   -100,   -100,   -100,   -100,   -100,\n",
      "           -100,   -100,   -100,   -100,   -100,   -100,   -100,   -100,   -100,\n",
      "           -100,   -100,   -100,   -100,   -100,   -100,   -100,   -100,   -100,\n",
      "           -100,   -100,   -100,   -100,   -100,   -100,   -100,   -100,   -100,\n",
      "           -100,   -100,   -100,   -100,   -100,   -100,   -100,   -100,   -100,\n",
      "           -100,   -100,   -100,   -100,   -100,   -100,   -100,   -100,   -100,\n",
      "           -100,   -100,   -100,   -100,   -100,   -100,   -100,   -100,   -100,\n",
      "           -100,   -100,   -100,   -100,   -100,   -100,   -100,   -100,   -100,\n",
      "           -100,   -100,   -100,   -100,   -100,   -100,   -100,   -100,   -100,\n",
      "           -100,   -100,   -100,   -100,   -100,   -100,   -100,   -100,   -100,\n",
      "           -100,   -100,   -100,   -100,   -100,   -100,   -100,   -100,   -100,\n",
      "           -100,   -100,   -100,   -100,   -100,   -100,   -100,   -100,   -100,\n",
      "           -100,   -100,   -100,   -100,   -100,   -100,   -100,   -100,   -100,\n",
      "           -100,   -100,   -100,   -100,   -100,   -100,   -100,   -100,   -100,\n",
      "           -100,   -100,   -100,   -100,   -100,   -100,   -100,   -100,   -100,\n",
      "           -100,   -100,   -100,   -100,   -100,   -100,   -100,   -100,   -100,\n",
      "           -100,   -100,   -100,   -100,   -100,   -100,   -100,   -100,   -100,\n",
      "           -100,   -100,   -100,   -100,   -100,   -100,   -100,   -100,   -100,\n",
      "           -100,   -100,   -100,   -100,   -100,   -100,   -100,   -100,   -100,\n",
      "           -100,   -100,   -100,   -100,   -100,   -100,   -100,   -100,   -100,\n",
      "           -100,   -100,   -100,   -100,   -100,   -100,   -100,   -100,   -100,\n",
      "           -100,   -100,   -100,   -100,   -100,   -100,   -100,   -100,   -100,\n",
      "           -100,   -100,   -100,   -100,   -100,    198,  99789, 100998,  24071,\n",
      "            234, 151645,   -100,   -100,   -100,   -100,   -100,   -100,   -100,\n",
      "           -100,   -100,   -100,   -100,   -100,   -100,   -100,   -100,   -100,\n",
      "           -100,   -100,   -100,   -100,   -100,   -100,   -100,   -100,   -100,\n",
      "           -100,   -100,   -100,   -100,   -100,   -100,   -100,   -100,   -100,\n",
      "           -100,   -100,   -100,   -100,   -100,   -100,   -100,   -100,   -100,\n",
      "           -100,   -100,   -100,   -100,   -100,   -100,   -100,   -100,   -100,\n",
      "           -100,   -100,   -100,   -100,   -100,   -100,   -100,   -100,   -100,\n",
      "           -100,   -100,   -100,   -100,   -100,   -100,   -100,   -100,   -100,\n",
      "           -100,   -100,   -100,   -100,   -100,   -100,   -100,   -100,   -100,\n",
      "           -100,   -100,   -100,   -100,   -100,   -100,   -100,   -100,   -100,\n",
      "           -100,   -100,   -100,   -100,   -100,   -100,   -100,   -100,   -100,\n",
      "           -100,   -100,   -100,   -100,   -100,   -100,   -100,   -100,   -100,\n",
      "           -100,   -100,   -100,   -100,   -100],\n",
      "        [  -100,   -100,   -100,   -100,   -100,   -100,   -100,   -100,   -100,\n",
      "           -100,   -100,   -100,   -100,   -100,   -100,   -100,   -100,   -100,\n",
      "           -100,   -100,   -100,   -100,   -100,   -100,   -100,   -100,   -100,\n",
      "           -100,   -100,   -100,   -100,   -100,   -100,   -100,   -100,   -100,\n",
      "           -100,   -100,   -100,   -100,   -100,   -100,   -100,   -100,   -100,\n",
      "           -100,   -100,   -100,   -100,   -100,   -100,   -100,   -100,   -100,\n",
      "           -100,   -100,   -100,   -100,   -100,   -100,   -100,   -100,   -100,\n",
      "           -100,   -100,   -100,   -100,   -100,   -100,   -100,   -100,   -100,\n",
      "           -100,   -100,   -100,   -100,   -100,   -100,   -100,   -100,   -100,\n",
      "           -100,   -100,   -100,   -100,   -100,   -100,   -100,   -100,   -100,\n",
      "           -100,   -100,   -100,   -100,   -100,   -100,   -100,   -100,   -100,\n",
      "           -100,   -100,   -100,   -100,   -100,   -100,   -100,   -100,   -100,\n",
      "           -100,   -100,   -100,   -100,   -100,   -100,   -100,   -100,   -100,\n",
      "           -100,   -100,   -100,   -100,   -100,   -100,   -100,   -100,   -100,\n",
      "           -100,   -100,   -100,   -100,   -100,   -100,   -100,   -100,   -100,\n",
      "           -100,   -100,   -100,   -100,   -100,   -100,   -100,   -100,   -100,\n",
      "           -100,   -100,   -100,   -100,   -100,   -100,   -100,   -100,   -100,\n",
      "           -100,   -100,   -100,   -100,   -100,   -100,   -100,   -100,   -100,\n",
      "           -100,   -100,   -100,   -100,   -100,   -100,   -100,   -100,   -100,\n",
      "           -100,   -100,   -100,   -100,   -100,   -100,   -100,   -100,   -100,\n",
      "           -100,   -100,   -100,   -100,   -100,   -100,   -100,   -100,   -100,\n",
      "           -100,   -100,   -100,   -100,   -100,   -100,   -100,   -100,   -100,\n",
      "           -100,   -100,   -100,   -100,   -100,   -100,   -100,   -100,   -100,\n",
      "           -100,   -100,   -100,   -100,   -100,   -100,   -100,   -100,   -100,\n",
      "           -100,   -100,   -100,   -100,   -100,   -100,   -100,   -100,   -100,\n",
      "           -100,   -100,   -100,   -100,   -100,   -100,   -100,   -100,   -100,\n",
      "           -100,   -100,   -100,   -100,   -100,   -100,   -100,   -100,   -100,\n",
      "           -100,   -100,   -100,   -100,   -100,   -100,   -100,   -100,   -100,\n",
      "           -100,   -100,   -100,   -100,   -100,   -100,   -100,   -100,   -100,\n",
      "           -100,   -100,   -100,   -100,   -100,   -100,   -100,   -100,   -100,\n",
      "           -100,   -100,   -100,   -100,   -100,   -100,   -100,   -100,   -100,\n",
      "           -100,   -100,   -100,   -100,   -100,   -100,   -100,   -100,   -100,\n",
      "           -100,   -100,   -100,   -100,   -100,   -100,   -100,   -100,   -100,\n",
      "           -100,   -100,   -100,   -100,   -100,   -100,   -100,   -100,   -100,\n",
      "           -100,   -100,   -100,   -100,   -100,   -100,   -100,   -100,   -100,\n",
      "           -100,   -100,   -100,   -100,   -100,   -100,   -100,   -100,   -100,\n",
      "           -100,   -100,   -100,   -100,   -100,   -100,   -100,   -100,   -100,\n",
      "           -100,   -100,   -100,   -100,   -100,   -100,   -100,   -100,   -100,\n",
      "           -100,   -100,   -100,   -100,   -100,   -100,   -100,   -100,   -100,\n",
      "           -100,   -100,   -100,   -100,   -100,   -100,   -100,   -100,   -100,\n",
      "           -100,   -100,   -100,   -100,   -100,   -100,   -100,   -100,   -100,\n",
      "           -100,   -100,   -100,   -100,   -100,   -100,   -100,   -100,   -100,\n",
      "           -100,   -100,   -100,   -100,   -100,   -100,   -100,   -100,   -100,\n",
      "           -100,   -100,   -100,   -100,   -100,   -100,   -100,   -100,   -100,\n",
      "           -100,   -100,   -100,   -100,    198,  38342,  79766,  81320,  36667,\n",
      "           9722,    105,  45629,  56137,  21894,   7948,    172,  24447,    107,\n",
      "         107479,  20221, 100003,  69041,  42411,  18158, 100219,  16530,  97706,\n",
      "          99454,  99493, 100705, 151645,   -100]]))\n"
     ]
    }
   ],
   "source": [
    "for batch in train_loader:\n",
    "    inputs, labels = batch\n",
    "    print(\"inputs\", type(inputs) ,\"input keys\", inputs.keys(), \"labels shape\", labels.shape, \"labels\")\n",
    "    print(batch)\n",
    "   \n",
    "    break"
   ]
  },
  {
   "cell_type": "markdown",
   "metadata": {},
   "source": [
    "✅ Summary\n",
    "\n",
    "Each batch is:\n",
    "\n",
    "Inputs: dictionary with text tokens, masks, image tensors, and image shape metadata.\n",
    "\n",
    "Labels: tensor aligned with input_ids, but with -100 except where the assistant’s output should be predicted.\n",
    "\n",
    "This is exactly what allows the model to be trained in a causal LM style with images."
   ]
  },
  {
   "cell_type": "code",
   "execution_count": 51,
   "metadata": {},
   "outputs": [
    {
     "data": {
      "text/plain": [
       "tensor([1.7114, 1.6968, 1.6968,  ..., 2.0179, 2.0321, 2.0464], device='cuda:0')"
      ]
     },
     "execution_count": 51,
     "metadata": {},
     "output_type": "execute_result"
    }
   ],
   "source": [
    "inputs[\"pixel_values\"][0]"
   ]
  },
  {
   "cell_type": "markdown",
   "metadata": {},
   "source": [
    "Loss and Accuracy curves using weights and biases# Load and split the dataset\n",
    "dataset = load_dataset(dataset_name)\n",
    "\n",
    "\n",
    "https://huggingface.co/learn/llm-course/chapter3/5?fw=pt\n",
    "\n",
    "Characteristics of healthy curves:\n",
    "\n",
    "Smooth decline in loss: Both training and validation loss decrease steadily\n",
    "Close training/validation performance: Small gap between training and validation metrics\n",
    "Convergence: Curves level off, indicating the model has learned the patterns\n"
   ]
  },
  {
   "cell_type": "markdown",
   "metadata": {},
   "source": [
    "# Computing the Loss vs Accuracy vs CER"
   ]
  },
  {
   "cell_type": "code",
   "execution_count": 6,
   "metadata": {},
   "outputs": [
    {
     "name": "stderr",
     "output_type": "stream",
     "text": [
      "Loading checkpoint shards: 100%|██████████| 2/2 [00:03<00:00,  1.87s/it]\n",
      "Using a slow image processor as `use_fast` is unset and a slow processor was saved with this model. `use_fast=True` will be the default behavior in v4.52, even if the model was saved with a slow processor. This will result in minor differences in outputs. You'll still be able to use a slow processor with `use_fast=False`.\n"
     ]
    }
   ],
   "source": [
    "\n",
    "    #Configuration\n",
    "    learning_rate = 0.000001\n",
    "    train_batch_size = 2\n",
    "    #dataset = \"dataset_p40\"\n",
    "    train_size = 200\n",
    "    max_steps = 100\n",
    "    eval_steps = max_steps / 10\n",
    "    num_accumulation_steps = 2\n",
    "\n",
    "    # Load the combined dataset from the processed directory\n",
    "    output_dir=\"results/p40_test\"\n",
    "    path = \"../data/processed_singlecol/dataset_p40\"\n",
    "    data = load_from_disk(path)\n",
    "    # Split into train/val/test (fixed across runs!)\n",
    "    trainval_test_split = data.train_test_split(test_size=0.2, seed=42)\n",
    "    #test_dataset = trainval_test_split['test']\n",
    "    train_val_split = trainval_test_split[\"train\"].train_test_split(test_size=0.25, seed=42)\n",
    "    val_dataset = train_val_split['test']\n",
    "    train_full = train_val_split['train']\n",
    "\n",
    "    # Subsample training set according to sweep parameter\n",
    "    #train_dataset = get_train_subset(train_full, train_size)\n",
    "    train_dataset = train_full\n",
    "\n",
    "    device = \"cuda\"\n",
    "    min_pixel=256\n",
    "    max_pixel=384\n",
    "    image_factor=28\n",
    "\n",
    "    model_name = \"Qwen/Qwen2-VL-2B-Instruct\"\n",
    "    model = Qwen2VLForConditionalGeneration.from_pretrained(\n",
    "            model_name, torch_dtype=torch.bfloat16,\n",
    "            device_map = device\n",
    "        )\n",
    "\n",
    "    processor = AutoProcessor.from_pretrained(model_name, min_pixels=min_pixel*image_factor*image_factor, max_pixels=max_pixel*image_factor*image_factor, padding_side=\"right\")\n",
    "\n",
    "    train_dataset = HuggingFaceDataset(train_dataset, image_column=\"image\",\n",
    "                                text_column=\"transcription\",\n",
    "                                user_text=\"Convert this image to text\")\n",
    "                                \n",
    "    val_dataset = HuggingFaceDataset(val_dataset, image_column=\"image\",\n",
    "                                text_column=\"transcription\",\n",
    "                                user_text=\"Convert this image to text\")\n",
    "\n",
    "    train_loader = DataLoader(\n",
    "        train_dataset,\n",
    "        batch_size=train_batch_size,\n",
    "        collate_fn=partial(collate_fn, processor=processor, device=device),\n",
    "        shuffle=True\n",
    "    )\n",
    "\n",
    "    val_loader = DataLoader(\n",
    "        val_dataset,\n",
    "        batch_size=1,\n",
    "        collate_fn=partial(collate_fn, processor=processor, device=device)\n",
    "    )\n",
    "\n",
    "\n",
    "    model.train()\n",
    "    optimizer = AdamW(model.parameters(), lr = learning_rate) #1e-5\n"
   ]
  },
  {
   "cell_type": "code",
   "execution_count": null,
   "metadata": {},
   "outputs": [
    {
     "name": "stdout",
     "output_type": "stream",
     "text": [
      "inputs <class 'transformers.feature_extraction_utils.BatchFeature'> input keys dict_keys(['input_ids', 'attention_mask', 'pixel_values', 'image_grid_thw']) labels shape torch.Size([2, 417]) labels\n"
     ]
    }
   ],
   "source": [
    "batch = next(iter(train_loader))\n",
    "#type(first_batch[0]), first_batch[0].keys()\n",
    "inputs, labels = batch\n",
    "#Inputs: dictionary with text tokens (tokenized numerical representations of the input text), masks (Attention masks that tell the model which tokens are meaningful and which are just padding.),\n",
    "#image tensors (Shape is usually [batch_size, color channels, height, width]), and image shape metadata (nformation about the original image dimensions before resizing/cropping.).\n",
    "print(\"inputs\", type(inputs) ,\"input keys\", inputs.keys(), \"labels shape\", labels.shape, \"labels\")\n",
    "#labels.\n"
   ]
  },
  {
   "cell_type": "code",
   "execution_count": null,
   "metadata": {},
   "outputs": [
    {
     "data": {
      "text/plain": [
       "torch.Size([2, 428])"
      ]
     },
     "execution_count": 54,
     "metadata": {},
     "output_type": "execute_result"
    }
   ],
   "source": [
    "labels.shape\n",
    "# batch size, tokenized ground truth"
   ]
  },
  {
   "cell_type": "code",
   "execution_count": 58,
   "metadata": {},
   "outputs": [
    {
     "name": "stdout",
     "output_type": "stream",
     "text": [
      "<class 'transformers.models.qwen2_vl.modeling_qwen2_vl.Qwen2VLForConditionalGeneration'>\n",
      "Help on Qwen2VLForConditionalGeneration in module transformers.models.qwen2_vl.modeling_qwen2_vl object:\n",
      "\n",
      "class Qwen2VLForConditionalGeneration(Qwen2VLPreTrainedModel, transformers.generation.utils.GenerationMixin)\n",
      " |  Qwen2VLForConditionalGeneration(config)\n",
      " |  \n",
      " |  Method resolution order:\n",
      " |      Qwen2VLForConditionalGeneration\n",
      " |      Qwen2VLPreTrainedModel\n",
      " |      transformers.modeling_utils.PreTrainedModel\n",
      " |      torch.nn.modules.module.Module\n",
      " |      transformers.modeling_utils.ModuleUtilsMixin\n",
      " |      transformers.utils.hub.PushToHubMixin\n",
      " |      transformers.integrations.peft.PeftAdapterMixin\n",
      " |      transformers.generation.utils.GenerationMixin\n",
      " |      builtins.object\n",
      " |  \n",
      " |  Methods defined here:\n",
      " |  \n",
      " |  __init__(self, config)\n",
      " |      Initialize internal Module state, shared by both nn.Module and ScriptModule.\n",
      " |  \n",
      " |  forward(self, input_ids: Optional[torch.LongTensor] = None, attention_mask: Optional[torch.Tensor] = None, position_ids: Optional[torch.LongTensor] = None, past_key_values: Optional[List[torch.FloatTensor]] = None, inputs_embeds: Optional[torch.FloatTensor] = None, labels: Optional[torch.LongTensor] = None, use_cache: Optional[bool] = None, output_attentions: Optional[bool] = None, output_hidden_states: Optional[bool] = None, return_dict: Optional[bool] = None, pixel_values: Optional[torch.Tensor] = None, pixel_values_videos: Optional[torch.FloatTensor] = None, image_grid_thw: Optional[torch.LongTensor] = None, video_grid_thw: Optional[torch.LongTensor] = None, rope_deltas: Optional[torch.LongTensor] = None, cache_position: Optional[torch.LongTensor] = None) -> Union[Tuple, transformers.models.qwen2_vl.modeling_qwen2_vl.Qwen2VLCausalLMOutputWithPast]\n",
      " |      The [`Qwen2VLForConditionalGeneration`] forward method, overrides the `__call__` special method.\n",
      " |      \n",
      " |      <Tip>\n",
      " |      \n",
      " |      Although the recipe for forward pass needs to be defined within this function, one should call the [`Module`]\n",
      " |      instance afterwards instead of this since the former takes care of running the pre and post processing steps while\n",
      " |      the latter silently ignores them.\n",
      " |      \n",
      " |      </Tip>\n",
      " |      \n",
      " |      Args:\n",
      " |          input_ids (`torch.LongTensor` of shape `(batch_size, sequence_length)`):\n",
      " |              Indices of input sequence tokens in the vocabulary. Padding will be ignored by default should you provide\n",
      " |              it.\n",
      " |      \n",
      " |              Indices can be obtained using [`AutoTokenizer`]. See [`PreTrainedTokenizer.encode`] and\n",
      " |              [`PreTrainedTokenizer.__call__`] for details.\n",
      " |      \n",
      " |              [What are input IDs?](../glossary#input-ids)\n",
      " |          attention_mask (`torch.Tensor` of shape `(batch_size, sequence_length)`, *optional*):\n",
      " |              Mask to avoid performing attention on padding token indices. Mask values selected in `[0, 1]`:\n",
      " |      \n",
      " |              - 1 for tokens that are **not masked**,\n",
      " |              - 0 for tokens that are **masked**.\n",
      " |      \n",
      " |              [What are attention masks?](../glossary#attention-mask)\n",
      " |      \n",
      " |              Indices can be obtained using [`AutoTokenizer`]. See [`PreTrainedTokenizer.encode`] and\n",
      " |              [`PreTrainedTokenizer.__call__`] for details.\n",
      " |      \n",
      " |              If `past_key_values` is used, optionally only the last `decoder_input_ids` have to be input (see\n",
      " |              `past_key_values`).\n",
      " |      \n",
      " |              If you want to change padding behavior, you should read [`modeling_opt._prepare_decoder_attention_mask`]\n",
      " |              and modify to your needs. See diagram 1 in [the paper](https://arxiv.org/abs/1910.13461) for more\n",
      " |              information on the default strategy.\n",
      " |      \n",
      " |              - 1 indicates the head is **not masked**,\n",
      " |              - 0 indicates the head is **masked**.\n",
      " |          position_ids (`torch.LongTensor` of shape `(batch_size, sequence_length)`, *optional*):\n",
      " |              Indices of positions of each input sequence tokens in the position embeddings. Selected in the range `[0,\n",
      " |              config.n_positions - 1]`. [What are position IDs?](../glossary#position-ids)\n",
      " |          past_key_values (`tuple(tuple(torch.FloatTensor))`, *optional*, returned when `use_cache=True` is passed or when `config.use_cache=True`):\n",
      " |              Tuple of `tuple(torch.FloatTensor)` of length `config.n_layers`, with each tuple having 2 tensors of shape\n",
      " |              `(batch_size, num_heads, sequence_length, embed_size_per_head)`) and 2 additional tensors of shape\n",
      " |              `(batch_size, num_heads, encoder_sequence_length, embed_size_per_head)`.\n",
      " |      \n",
      " |              Contains pre-computed hidden-states (key and values in the self-attention blocks and in the cross-attention\n",
      " |              blocks) that can be used (see `past_key_values` input) to speed up sequential decoding.\n",
      " |      \n",
      " |              If `past_key_values` are used, the user can optionally input only the last `decoder_input_ids` (those that\n",
      " |              don't have their past key value states given to this model) of shape `(batch_size, 1)` instead of all\n",
      " |              `decoder_input_ids` of shape `(batch_size, sequence_length)`.\n",
      " |          inputs_embeds (`torch.FloatTensor` of shape `(batch_size, sequence_length, hidden_size)`, *optional*):\n",
      " |              Optionally, instead of passing `input_ids` you can choose to directly pass an embedded representation. This\n",
      " |              is useful if you want more control over how to convert `input_ids` indices into associated vectors than the\n",
      " |              model's internal embedding lookup matrix.\n",
      " |          use_cache (`bool`, *optional*):\n",
      " |              If set to `True`, `past_key_values` key value states are returned and can be used to speed up decoding (see\n",
      " |              `past_key_values`).\n",
      " |          output_attentions (`bool`, *optional*):\n",
      " |              Whether or not to return the attentions tensors of all attention layers. See `attentions` under returned\n",
      " |              tensors for more detail.\n",
      " |          output_hidden_states (`bool`, *optional*):\n",
      " |              Whether or not to return the hidden states of all layers. See `hidden_states` under returned tensors for\n",
      " |              more detail.\n",
      " |          return_dict (`bool`, *optional*):\n",
      " |              Whether or not to return a [`~utils.ModelOutput`] instead of a plain tuple.\n",
      " |          pixel_values (`torch.FloatTensor` of shape `(seq_length, num_channels * image_size * image_size)):\n",
      " |              The tensors corresponding to the input images. Pixel values can be obtained using\n",
      " |              [`AutoImageProcessor`]. See [`Qwen2VLImageProcessor.__call__`] for details. [`Qwen2VLProcessor`] uses\n",
      " |              [`Qwen2VLImageProcessor`] for processing images.\n",
      " |          pixel_values_videos (`torch.FloatTensor` of shape `(seq_length, num_channels * temporal_size * image_size * image_size)):\n",
      " |              The tensors corresponding to the input videos. Pixel values can be obtained using\n",
      " |              [`AutoImageProcessor`]. See [`Qwen2VLImageProcessor.__call__`] for details. [`Qwen2VLProcessor`] uses\n",
      " |              [`Qwen2VLImageProcessor`] for processing videos.\n",
      " |          image_grid_thw (`torch.LongTensor` of shape `(num_images, 3)`, *optional*):\n",
      " |              The temporal, height and width of feature shape of each image in LLM.\n",
      " |          video_grid_thw (`torch.LongTensor` of shape `(num_videos, 3)`, *optional*):\n",
      " |              The temporal, height and width of feature shape of each video in LLM.\n",
      " |          rope_deltas (`torch.LongTensor` of shape `(batch_size, )`, *optional*):\n",
      " |              The rope index difference between sequence length and multimodal rope.\n",
      " |      \n",
      " |          labels (`torch.LongTensor` of shape `(batch_size, sequence_length)`, *optional*):\n",
      " |              Labels for computing the masked language modeling loss. Indices should either be in `[0, ...,\n",
      " |              config.vocab_size]` or -100 (see `input_ids` docstring). Tokens with indices set to `-100` are ignored\n",
      " |              (masked), the loss is only computed for the tokens with labels in `[0, ..., config.vocab_size]`.\n",
      " |      \n",
      " |      \n",
      " |      Returns:\n",
      " |          [`transformers.models.qwen2_vl.modeling_qwen2_vl.Qwen2VLCausalLMOutputWithPast`] or `tuple(torch.FloatTensor)`: A [`transformers.models.qwen2_vl.modeling_qwen2_vl.Qwen2VLCausalLMOutputWithPast`] or a tuple of\n",
      " |          `torch.FloatTensor` (if `return_dict=False` is passed or when `config.return_dict=False`) comprising various\n",
      " |          elements depending on the configuration ([`Qwen2VLConfig`]) and inputs.\n",
      " |      \n",
      " |          - **loss** (`torch.FloatTensor` of shape `(1,)`, *optional*, returned when `labels` is provided) -- Language modeling loss (for next-token prediction).\n",
      " |          - **logits** (`torch.FloatTensor` of shape `(batch_size, sequence_length, config.vocab_size)`) -- Prediction scores of the language modeling head (scores for each vocabulary token before SoftMax).\n",
      " |          - **past_key_values** (`tuple(tuple(torch.FloatTensor))`, *optional*, returned when `use_cache=True` is passed or when `config.use_cache=True`) -- Tuple of `tuple(torch.FloatTensor)` of length `config.n_layers`, with each tuple having 2 tensors of shape\n",
      " |            `(batch_size, num_heads, sequence_length, embed_size_per_head)`)\n",
      " |      \n",
      " |            Contains pre-computed hidden-states (key and values in the self-attention blocks) that can be used (see\n",
      " |            `past_key_values` input) to speed up sequential decoding.\n",
      " |          - **hidden_states** (`tuple(torch.FloatTensor)`, *optional*, returned when `output_hidden_states=True` is passed or when `config.output_hidden_states=True`) -- Tuple of `torch.FloatTensor` (one for the output of the embeddings, if the model has an embedding layer, +\n",
      " |            one for the output of each layer) of shape `(batch_size, sequence_length, hidden_size)`.\n",
      " |      \n",
      " |            Hidden-states of the model at the output of each layer plus the optional initial embedding outputs.\n",
      " |          - **attentions** (`tuple(torch.FloatTensor)`, *optional*, returned when `output_attentions=True` is passed or when `config.output_attentions=True`) -- Tuple of `torch.FloatTensor` (one for each layer) of shape `(batch_size, num_heads, sequence_length,\n",
      " |            sequence_length)`.\n",
      " |      \n",
      " |            Attentions weights after the attention softmax, used to compute the weighted average in the self-attention\n",
      " |            heads.\n",
      " |          - **rope_deltas** (`torch.LongTensor` of shape `(batch_size, )`, *optional*) -- The rope index difference between sequence length and multimodal rope.\n",
      " |      \n",
      " |      \n",
      " |      Example:\n",
      " |      \n",
      " |      ```python\n",
      " |      >>> from PIL import Image\n",
      " |      >>> import requests\n",
      " |      >>> from transformers import AutoProcessor, Qwen2VLForConditionalGeneration\n",
      " |      \n",
      " |      >>> model = Qwen2VLForConditionalGeneration.from_pretrained(\"Qwen/Qwen2-VL-7B-Instruct\")\n",
      " |      >>> processor = AutoProcessor.from_pretrained(\"Qwen/Qwen2-VL-7B-Instruct\")\n",
      " |      \n",
      " |      >>> messages = [\n",
      " |          {\n",
      " |              \"role\": \"user\",\n",
      " |              \"content\": [\n",
      " |                  {\"type\": \"image\"},\n",
      " |                  {\"type\": \"text\", \"text\": \"What is shown in this image?\"},\n",
      " |              ],\n",
      " |          },\n",
      " |      ]\n",
      " |      >>> url = \"https://www.ilankelman.org/stopsigns/australia.jpg\"\n",
      " |      >>> image = Image.open(requests.get(url, stream=True).raw)\n",
      " |      \n",
      " |      >>> text = processor.apply_chat_template(messages, tokenize=False, add_generation_prompt=True)\n",
      " |      >>> inputs = processor(text=[text], images=[image], vision_infos=[vision_infos])\n",
      " |      \n",
      " |      >>> # Generate\n",
      " |      >>> generate_ids = model.generate(inputs.input_ids, max_length=30)\n",
      " |      >>> tokenizer.batch_decode(generate_ids, skip_special_tokens=True, clean_up_tokenization_spaces=False)[0]\n",
      " |      \"The image shows a street scene with a red stop sign in the foreground. In the background, there is a large red gate with Chinese characters ...\"\n",
      " |      ```\n",
      " |  \n",
      " |  get_decoder(self)\n",
      " |  \n",
      " |  get_input_embeddings(self)\n",
      " |      Returns the model's input embeddings.\n",
      " |      \n",
      " |      Returns:\n",
      " |          `nn.Module`: A torch module mapping vocabulary to hidden states.\n",
      " |  \n",
      " |  get_output_embeddings(self)\n",
      " |      Returns the model's output embeddings.\n",
      " |      \n",
      " |      Returns:\n",
      " |          `nn.Module`: A torch module mapping hidden states to vocabulary.\n",
      " |  \n",
      " |  get_rope_index(self, input_ids: Optional[torch.LongTensor] = None, image_grid_thw: Optional[torch.LongTensor] = None, video_grid_thw: Optional[torch.LongTensor] = None, attention_mask: Optional[torch.Tensor] = None) -> Tuple[torch.Tensor, torch.Tensor]\n",
      " |      Calculate the 3D rope index based on image and video's temporal, height and width in LLM.\n",
      " |      \n",
      " |      Explanation:\n",
      " |          Each embedding sequence contains vision embedding and text embedding or just contains text embedding.\n",
      " |      \n",
      " |          For pure text embedding sequence, the rotary position embedding has no difference with modern LLMs.\n",
      " |          Examples:\n",
      " |              input_ids: [T T T T T], here T is for text.\n",
      " |              temporal position_ids: [0, 1, 2, 3, 4]\n",
      " |              height position_ids: [0, 1, 2, 3, 4]\n",
      " |              width position_ids: [0, 1, 2, 3, 4]\n",
      " |      \n",
      " |          For vision and text embedding sequence, we calculate 3D rotary position embedding for vision part\n",
      " |          and 1D rotary position embedding for text part.\n",
      " |          Examples:\n",
      " |              Assume we have a video input with 3 temporal patches, 2 height patches and 2 width patches.\n",
      " |              input_ids: [V V V V V V V V V V V V T T T T T], here V is for vision.\n",
      " |              vision temporal position_ids: [0, 0, 0, 0, 1, 1, 1, 1, 2, 2, 2, 2]\n",
      " |              vision height position_ids: [0, 0, 1, 1, 0, 0, 1, 1, 0, 0, 1, 1]\n",
      " |              vision width position_ids: [0, 1, 0, 1, 0, 1, 0, 1, 0, 1, 0, 1]\n",
      " |              text temporal position_ids: [3, 4, 5, 6, 7]\n",
      " |              text height position_ids: [3, 4, 5, 6, 7]\n",
      " |              text width position_ids: [3, 4, 5, 6, 7]\n",
      " |              Here we calculate the text start position_ids as the max vision position_ids plus 1.\n",
      " |      \n",
      " |      Args:\n",
      " |          input_ids (`torch.LongTensor` of shape `(batch_size, sequence_length)`):\n",
      " |              Indices of input sequence tokens in the vocabulary. Padding will be ignored by default should you provide\n",
      " |              it.\n",
      " |          image_grid_thw (`torch.LongTensor` of shape `(num_images, 3)`, *optional*):\n",
      " |              The temporal, height and width of feature shape of each image in LLM.\n",
      " |          video_grid_thw (`torch.LongTensor` of shape `(num_videos, 3)`, *optional*):\n",
      " |              The temporal, height and width of feature shape of each video in LLM.\n",
      " |          attention_mask (`torch.Tensor` of shape `(batch_size, sequence_length)`, *optional*):\n",
      " |              Mask to avoid performing attention on padding token indices. Mask values selected in `[0, 1]`:\n",
      " |      \n",
      " |              - 1 for tokens that are **not masked**,\n",
      " |              - 0 for tokens that are **masked**.\n",
      " |      \n",
      " |      Returns:\n",
      " |          position_ids (`torch.LongTensor` of shape `(3, batch_size, sequence_length)`)\n",
      " |          mrope_position_deltas (`torch.Tensor` of shape `(batch_size)`)\n",
      " |  \n",
      " |  prepare_inputs_for_generation(self, input_ids, past_key_values=None, attention_mask=None, inputs_embeds=None, cache_position=None, position_ids=None, use_cache=True, pixel_values=None, pixel_values_videos=None, image_grid_thw=None, video_grid_thw=None, **kwargs)\n",
      " |      Prepare the model inputs for generation. In includes operations like computing the 4D attention mask or\n",
      " |      slicing inputs given the existing cache.\n",
      " |      \n",
      " |      See the forward pass in the model documentation for expected arguments (different models might have different\n",
      " |      requirements for e.g. `past_key_values`). This function should work as is for most LLMs.\n",
      " |  \n",
      " |  set_decoder(self, decoder)\n",
      " |  \n",
      " |  set_input_embeddings(self, value)\n",
      " |      Set model's input embeddings.\n",
      " |      \n",
      " |      Args:\n",
      " |          value (`nn.Module`): A module mapping vocabulary to hidden states.\n",
      " |  \n",
      " |  set_output_embeddings(self, new_embeddings)\n",
      " |  \n",
      " |  ----------------------------------------------------------------------\n",
      " |  Data and other attributes defined here:\n",
      " |  \n",
      " |  __annotations__ = {}\n",
      " |  \n",
      " |  ----------------------------------------------------------------------\n",
      " |  Data and other attributes inherited from Qwen2VLPreTrainedModel:\n",
      " |  \n",
      " |  base_model_prefix = 'model'\n",
      " |  \n",
      " |  config_class = <class 'transformers.models.qwen2_vl.configuration_qwen...\n",
      " |      This is the configuration class to store the configuration of a [`Qwen2VLModel`]. It is used to instantiate a\n",
      " |      Qwen2-VL model according to the specified arguments, defining the model architecture. Instantiating a configuration\n",
      " |      with the defaults will yield a similar configuration to that of\n",
      " |      Qwen2-VL-7B-Instruct [Qwen/Qwen2-VL-7B-Instruct](https://huggingface.co/Qwen/Qwen2-VL-7B-Instruct).\n",
      " |      \n",
      " |      Configuration objects inherit from [`PretrainedConfig`] and can be used to control the model outputs. Read the\n",
      " |      documentation from [`PretrainedConfig`] for more information.\n",
      " |      \n",
      " |      \n",
      " |      Args:\n",
      " |          vocab_size (`int`, *optional*, defaults to 152064):\n",
      " |              Vocabulary size of the Qwen2VL model. Defines the number of different tokens that can be represented by the\n",
      " |              `inputs_ids` passed when calling [`Qwen2VLModel`]\n",
      " |          hidden_size (`int`, *optional*, defaults to 8192):\n",
      " |              Dimension of the hidden representations.\n",
      " |          intermediate_size (`int`, *optional*, defaults to 29568):\n",
      " |              Dimension of the MLP representations.\n",
      " |          num_hidden_layers (`int`, *optional*, defaults to 80):\n",
      " |              Number of hidden layers in the Transformer encoder.\n",
      " |          num_attention_heads (`int`, *optional*, defaults to 64):\n",
      " |              Number of attention heads for each attention layer in the Transformer encoder.\n",
      " |          num_key_value_heads (`int`, *optional*, defaults to 8):\n",
      " |              This is the number of key_value heads that should be used to implement Grouped Query Attention. If\n",
      " |              `num_key_value_heads=num_attention_heads`, the model will use Multi Head Attention (MHA), if\n",
      " |              `num_key_value_heads=1` the model will use Multi Query Attention (MQA) otherwise GQA is used. When\n",
      " |              converting a multi-head checkpoint to a GQA checkpoint, each group key and value head should be constructed\n",
      " |              by meanpooling all the original heads within that group. For more details checkout [this\n",
      " |              paper](https://arxiv.org/pdf/2305.13245.pdf). If it is not specified, will default to `32`.\n",
      " |          hidden_act (`str` or `function`, *optional*, defaults to `\"silu\"`):\n",
      " |              The non-linear activation function (function or string) in the decoder.\n",
      " |          max_position_embeddings (`int`, *optional*, defaults to 32768):\n",
      " |              The maximum sequence length that this model might ever be used with.\n",
      " |          initializer_range (`float`, *optional*, defaults to 0.02):\n",
      " |              The standard deviation of the truncated_normal_initializer for initializing all weight matrices.\n",
      " |          rms_norm_eps (`float`, *optional*, defaults to 1e-05):\n",
      " |              The epsilon used by the rms normalization layers.\n",
      " |          use_cache (`bool`, *optional*, defaults to `True`):\n",
      " |              Whether or not the model should return the last key/values attentions (not used by all models). Only\n",
      " |              relevant if `config.is_decoder=True`.\n",
      " |          tie_word_embeddings (`bool`, *optional*, defaults to `False`):\n",
      " |              Whether the model's input and output word embeddings should be tied.\n",
      " |          rope_theta (`float`, *optional*, defaults to 1000000.0):\n",
      " |              The base period of the RoPE embeddings.\n",
      " |          use_sliding_window (`bool`, *optional*, defaults to `False`):\n",
      " |              Whether to use sliding window attention.\n",
      " |          sliding_window (`int`, *optional*, defaults to 4096):\n",
      " |              Sliding window attention (SWA) window size. If not specified, will default to `4096`.\n",
      " |          max_window_layers (`int`, *optional*, defaults to 80):\n",
      " |              The number of layers that use SWA (Sliding Window Attention). The bottom layers use SWA while the top use full attention.\n",
      " |          attention_dropout (`float`, *optional*, defaults to 0.0):\n",
      " |              The dropout ratio for the attention probabilities.\n",
      " |          vision_config (`Dict`, *optional*):\n",
      " |              The config for the visual encoder initialization.\n",
      " |          rope_scaling (`Dict`, *optional*):\n",
      " |              Dictionary containing the scaling configuration for the RoPE embeddings. NOTE: if you apply new rope type\n",
      " |              and you expect the model to work on longer `max_position_embeddings`, we recommend you to update this value\n",
      " |              accordingly.\n",
      " |              Expected contents:\n",
      " |                  `rope_type` (`str`):\n",
      " |                      The sub-variant of RoPE to use. Can be one of ['default', 'linear', 'dynamic', 'yarn', 'longrope',\n",
      " |                      'llama3'], with 'default' being the original RoPE implementation.\n",
      " |                  `factor` (`float`, *optional*):\n",
      " |                      Used with all rope types except 'default'. The scaling factor to apply to the RoPE embeddings. In\n",
      " |                      most scaling types, a `factor` of x will enable the model to handle sequences of length x *\n",
      " |                      original maximum pre-trained length.\n",
      " |                  `original_max_position_embeddings` (`int`, *optional*):\n",
      " |                      Used with 'dynamic', 'longrope' and 'llama3'. The original max position embeddings used during\n",
      " |                      pretraining.\n",
      " |                  `attention_factor` (`float`, *optional*):\n",
      " |                      Used with 'yarn' and 'longrope'. The scaling factor to be applied on the attention\n",
      " |                      computation. If unspecified, it defaults to value recommended by the implementation, using the\n",
      " |                      `factor` field to infer the suggested value.\n",
      " |                  `beta_fast` (`float`, *optional*):\n",
      " |                      Only used with 'yarn'. Parameter to set the boundary for extrapolation (only) in the linear\n",
      " |                      ramp function. If unspecified, it defaults to 32.\n",
      " |                  `beta_slow` (`float`, *optional*):\n",
      " |                      Only used with 'yarn'. Parameter to set the boundary for interpolation (only) in the linear\n",
      " |                      ramp function. If unspecified, it defaults to 1.\n",
      " |                  `short_factor` (`List[float]`, *optional*):\n",
      " |                      Only used with 'longrope'. The scaling factor to be applied to short contexts (<\n",
      " |                      `original_max_position_embeddings`). Must be a list of numbers with the same length as the hidden\n",
      " |                      size divided by the number of attention heads divided by 2\n",
      " |                  `long_factor` (`List[float]`, *optional*):\n",
      " |                      Only used with 'longrope'. The scaling factor to be applied to long contexts (<\n",
      " |                      `original_max_position_embeddings`). Must be a list of numbers with the same length as the hidden\n",
      " |                      size divided by the number of attention heads divided by 2\n",
      " |                  `low_freq_factor` (`float`, *optional*):\n",
      " |                      Only used with 'llama3'. Scaling factor applied to low frequency components of the RoPE\n",
      " |                  `high_freq_factor` (`float`, *optional*):\n",
      " |                      Only used with 'llama3'. Scaling factor applied to high frequency components of the RoPE\n",
      " |      \n",
      " |      ```python\n",
      " |      >>> from transformers import Qwen2VLForConditionalGeneration, Qwen2VLConfig\n",
      " |      \n",
      " |      >>> # Initializing a Qwen2VL style configuration\n",
      " |      >>> configuration = Qwen2VLConfig()\n",
      " |      \n",
      " |      >>> # Initializing a model from the Qwen2-VL-7B style configuration\n",
      " |      >>> model = Qwen2VLForConditionalGeneration(configuration)\n",
      " |      \n",
      " |      >>> # Accessing the model configuration\n",
      " |      >>> configuration = model.config\n",
      " |      ```\n",
      " |  \n",
      " |  \n",
      " |  supports_gradient_checkpointing = True\n",
      " |  \n",
      " |  ----------------------------------------------------------------------\n",
      " |  Methods inherited from transformers.modeling_utils.PreTrainedModel:\n",
      " |  \n",
      " |  add_model_tags(self, tags: Union[List[str], str]) -> None\n",
      " |      Add custom tags into the model that gets pushed to the Hugging Face Hub. Will\n",
      " |      not overwrite existing tags in the model.\n",
      " |      \n",
      " |      Args:\n",
      " |          tags (`Union[List[str], str]`):\n",
      " |              The desired tags to inject in the model\n",
      " |      \n",
      " |      Examples:\n",
      " |      \n",
      " |      ```python\n",
      " |      from transformers import AutoModel\n",
      " |      \n",
      " |      model = AutoModel.from_pretrained(\"google-bert/bert-base-cased\")\n",
      " |      \n",
      " |      model.add_model_tags([\"custom\", \"custom-bert\"])\n",
      " |      \n",
      " |      # Push the model to your namespace with the name \"my-custom-bert\".\n",
      " |      model.push_to_hub(\"my-custom-bert\")\n",
      " |      ```\n",
      " |  \n",
      " |  cuda(self: ~T, device: Union[int, torch.device, NoneType] = None) -> ~T\n",
      " |      Move all model parameters and buffers to the GPU.\n",
      " |      \n",
      " |      This also makes associated parameters and buffers different objects. So\n",
      " |      it should be called before constructing the optimizer if the module will\n",
      " |      live on GPU while being optimized.\n",
      " |      \n",
      " |      .. note::\n",
      " |          This method modifies the module in-place.\n",
      " |      \n",
      " |      Args:\n",
      " |          device (int, optional): if specified, all parameters will be\n",
      " |              copied to that device\n",
      " |      \n",
      " |      Returns:\n",
      " |          Module: self\n",
      " |  \n",
      " |  dequantize(self)\n",
      " |      Potentially dequantize the model in case it has been quantized by a quantization method that support\n",
      " |      dequantization.\n",
      " |  \n",
      " |  disable_input_require_grads(self)\n",
      " |      Removes the `_require_grads_hook`.\n",
      " |  \n",
      " |  enable_input_require_grads(self)\n",
      " |      Enables the gradients for the input embeddings. This is useful for fine-tuning adapter weights while keeping\n",
      " |      the model weights fixed.\n",
      " |  \n",
      " |  float(self, *args)\n",
      " |      Casts all floating point parameters and buffers to ``float`` datatype.\n",
      " |      \n",
      " |      .. note::\n",
      " |          This method modifies the module in-place.\n",
      " |      \n",
      " |      Returns:\n",
      " |          Module: self\n",
      " |  \n",
      " |  get_compiled_call(self, compile_config: transformers.generation.configuration_utils.CompileConfig)\n",
      " |      Return a `torch.compile`'d version of `self.__call__`. This is useful to dynamically choose between\n",
      " |      non-compiled/compiled `forward` during inference, especially to switch between prefill (where we don't\n",
      " |      want to use compiled version to avoid recomputing the graph with new shapes) and iterative decoding\n",
      " |      (where we want the speed-ups of compiled version with static shapes).\n",
      " |  \n",
      " |  get_memory_footprint(self, return_buffers=True)\n",
      " |      Get the memory footprint of a model. This will return the memory footprint of the current model in bytes.\n",
      " |      Useful to benchmark the memory footprint of the current model and design some tests. Solution inspired from the\n",
      " |      PyTorch discussions: https://discuss.pytorch.org/t/gpu-memory-that-model-uses/56822/2\n",
      " |      \n",
      " |      Arguments:\n",
      " |          return_buffers (`bool`, *optional*, defaults to `True`):\n",
      " |              Whether to return the size of the buffer tensors in the computation of the memory footprint. Buffers\n",
      " |              are tensors that do not require gradients and not registered as parameters. E.g. mean and std in batch\n",
      " |              norm layers. Please see: https://discuss.pytorch.org/t/what-pytorch-means-by-buffers/120266/2\n",
      " |  \n",
      " |  get_parameter_or_buffer(self, target: str)\n",
      " |      Return the parameter or buffer given by `target` if it exists, otherwise throw an error. This combines\n",
      " |      `get_parameter()` and `get_buffer()` in a single handy function. Note that it only work if `target` is a\n",
      " |      leaf of the model.\n",
      " |  \n",
      " |  get_position_embeddings(self) -> Union[torch.nn.modules.sparse.Embedding, Tuple[torch.nn.modules.sparse.Embedding]]\n",
      " |  \n",
      " |  gradient_checkpointing_disable(self)\n",
      " |      Deactivates gradient checkpointing for the current model.\n",
      " |      \n",
      " |      Note that in other frameworks this feature can be referred to as \"activation checkpointing\" or \"checkpoint\n",
      " |      activations\".\n",
      " |  \n",
      " |  gradient_checkpointing_enable(self, gradient_checkpointing_kwargs=None)\n",
      " |      Activates gradient checkpointing for the current model.\n",
      " |      \n",
      " |      Note that in other frameworks this feature can be referred to as \"activation checkpointing\" or \"checkpoint\n",
      " |      activations\".\n",
      " |      \n",
      " |      We pass the `__call__` method of the modules instead of `forward` because `__call__` attaches all the hooks of\n",
      " |      the module. https://discuss.pytorch.org/t/any-different-between-model-input-and-model-forward-input/3690/2\n",
      " |      \n",
      " |      Args:\n",
      " |          gradient_checkpointing_kwargs (dict, *optional*):\n",
      " |              Additional keyword arguments passed along to the `torch.utils.checkpoint.checkpoint` function.\n",
      " |  \n",
      " |  half(self, *args)\n",
      " |      Casts all floating point parameters and buffers to ``half`` datatype.\n",
      " |      \n",
      " |      .. note::\n",
      " |          This method modifies the module in-place.\n",
      " |      \n",
      " |      Returns:\n",
      " |          Module: self\n",
      " |  \n",
      " |  init_weights(self)\n",
      " |      If needed prunes and maybe initializes weights. If using a custom `PreTrainedModel`, you need to implement any\n",
      " |      initialization logic in `_init_weights`.\n",
      " |  \n",
      " |  initialize_weights(self)\n",
      " |      This is equivalent to calling `self.apply(self._initialize_weights)`, but correctly handles composite models.\n",
      " |      This function dynamically dispatches the correct `init_weights` function to the modules as we advance in the\n",
      " |      module graph along the recursion. It can handle an arbitrary number of sub-models. Without it, every composite\n",
      " |      model would have to recurse a second time on all sub-models explicitly in the outer-most `_init_weights`, which\n",
      " |      is extremely error prone and inefficient.\n",
      " |      \n",
      " |      Note that the `torch.no_grad()` decorator is very important as well, as most of our `_init_weights` do not use\n",
      " |      `torch.nn.init` functions (which are all no_grad by default), but simply do in-place ops such as\n",
      " |      `module.weight.data.zero_()`.\n",
      " |  \n",
      " |  post_init(self)\n",
      " |      A method executed at the end of each Transformer model initialization, to execute code that needs the model's\n",
      " |      modules properly initialized (such as weight initialization).\n",
      " |  \n",
      " |  prune_heads(self, heads_to_prune: Dict[int, List[int]])\n",
      " |      Prunes heads of the base model.\n",
      " |      \n",
      " |      Arguments:\n",
      " |          heads_to_prune (`Dict[int, List[int]]`):\n",
      " |              Dictionary with keys being selected layer indices (`int`) and associated values being the list of heads\n",
      " |              to prune in said layer (list of `int`). For instance {1: [0, 2], 2: [2, 3]} will prune heads 0 and 2 on\n",
      " |              layer 1 and heads 2 and 3 on layer 2.\n",
      " |  \n",
      " |  push_to_hub(self, repo_id: str, use_temp_dir: Optional[bool] = None, commit_message: Optional[str] = None, private: Optional[bool] = None, token: Union[bool, str, NoneType] = None, max_shard_size: Union[int, str, NoneType] = '5GB', create_pr: bool = False, safe_serialization: bool = True, revision: Optional[str] = None, commit_description: Optional[str] = None, tags: Optional[list[str]] = None, **deprecated_kwargs) -> str\n",
      " |      Upload the model file to the 🤗 Model Hub.\n",
      " |      \n",
      " |      Parameters:\n",
      " |          repo_id (`str`):\n",
      " |              The name of the repository you want to push your model to. It should contain your organization name\n",
      " |              when pushing to a given organization.\n",
      " |          use_temp_dir (`bool`, *optional*):\n",
      " |              Whether or not to use a temporary directory to store the files saved before they are pushed to the Hub.\n",
      " |              Will default to `True` if there is no directory named like `repo_id`, `False` otherwise.\n",
      " |          commit_message (`str`, *optional*):\n",
      " |              Message to commit while pushing. Will default to `\"Upload model\"`.\n",
      " |          private (`bool`, *optional*):\n",
      " |              Whether to make the repo private. If `None` (default), the repo will be public unless the organization's default is private. This value is ignored if the repo already exists.\n",
      " |          token (`bool` or `str`, *optional*):\n",
      " |              The token to use as HTTP bearer authorization for remote files. If `True`, will use the token generated\n",
      " |              when running `huggingface-cli login` (stored in `~/.huggingface`). Will default to `True` if `repo_url`\n",
      " |              is not specified.\n",
      " |          max_shard_size (`int` or `str`, *optional*, defaults to `\"5GB\"`):\n",
      " |              Only applicable for models. The maximum size for a checkpoint before being sharded. Checkpoints shard\n",
      " |              will then be each of size lower than this size. If expressed as a string, needs to be digits followed\n",
      " |              by a unit (like `\"5MB\"`). We default it to `\"5GB\"` so that users can easily load models on free-tier\n",
      " |              Google Colab instances without any CPU OOM issues.\n",
      " |          create_pr (`bool`, *optional*, defaults to `False`):\n",
      " |              Whether or not to create a PR with the uploaded files or directly commit.\n",
      " |          safe_serialization (`bool`, *optional*, defaults to `True`):\n",
      " |              Whether or not to convert the model weights in safetensors format for safer serialization.\n",
      " |          revision (`str`, *optional*):\n",
      " |              Branch to push the uploaded files to.\n",
      " |          commit_description (`str`, *optional*):\n",
      " |              The description of the commit that will be created\n",
      " |          tags (`List[str]`, *optional*):\n",
      " |              List of tags to push on the Hub.\n",
      " |      \n",
      " |      Examples:\n",
      " |      \n",
      " |      ```python\n",
      " |      from transformers import AutoModel\n",
      " |      \n",
      " |      model = AutoModel.from_pretrained(\"google-bert/bert-base-cased\")\n",
      " |      \n",
      " |      # Push the model to your namespace with the name \"my-finetuned-bert\".\n",
      " |      model.push_to_hub(\"my-finetuned-bert\")\n",
      " |      \n",
      " |      # Push the model to an organization with the name \"my-finetuned-bert\".\n",
      " |      model.push_to_hub(\"huggingface/my-finetuned-bert\")\n",
      " |      ```\n",
      " |  \n",
      " |  resize_position_embeddings(self, new_num_position_embeddings: int)\n",
      " |  \n",
      " |  resize_token_embeddings(self, new_num_tokens: Optional[int] = None, pad_to_multiple_of: Optional[int] = None, mean_resizing: bool = True) -> torch.nn.modules.sparse.Embedding\n",
      " |      Resizes input token embeddings matrix of the model if `new_num_tokens != config.vocab_size`.\n",
      " |      \n",
      " |      Takes care of tying weights embeddings afterwards if the model class has a `tie_weights()` method.\n",
      " |      \n",
      " |      Arguments:\n",
      " |          new_num_tokens (`int`, *optional*):\n",
      " |              The new number of tokens in the embedding matrix. Increasing the size will add newly initialized\n",
      " |              vectors at the end. Reducing the size will remove vectors from the end. If not provided or `None`, just\n",
      " |              returns a pointer to the input tokens `torch.nn.Embedding` module of the model without doing anything.\n",
      " |          pad_to_multiple_of (`int`, *optional*):\n",
      " |              If set will pad the embedding matrix to a multiple of the provided value.If `new_num_tokens` is set to\n",
      " |              `None` will just pad the embedding to a multiple of `pad_to_multiple_of`.\n",
      " |      \n",
      " |              This is especially useful to enable the use of Tensor Cores on NVIDIA hardware with compute capability\n",
      " |              `>= 7.5` (Volta), or on TPUs which benefit from having sequence lengths be a multiple of 128. For more\n",
      " |              details about this, or help on choosing the correct value for resizing, refer to this guide:\n",
      " |              https://docs.nvidia.com/deeplearning/performance/dl-performance-matrix-multiplication/index.html#requirements-tc\n",
      " |          mean_resizing (`bool`):\n",
      " |              Whether to initialize the added embeddings from a multivariate normal distribution that has old embeddings' mean and\n",
      " |              covariance or to initialize them with a normal distribution that has a mean of zero and std equals `config.initializer_range`.\n",
      " |      \n",
      " |              Setting `mean_resizing` to `True` is useful when increasing the size of the embeddings of causal language models,\n",
      " |              where the generated tokens' probabilities won't be affected by the added embeddings because initializing the new embeddings with the\n",
      " |              old embeddings' mean will reduce the kl-divergence between the next token probability before and after adding the new embeddings.\n",
      " |              Refer to this article for more information: https://nlp.stanford.edu/~johnhew/vocab-expansion.html\n",
      " |      \n",
      " |      Return:\n",
      " |          `torch.nn.Embedding`: Pointer to the input tokens Embeddings Module of the model.\n",
      " |  \n",
      " |  retrieve_modules_from_names(self, names, add_prefix=False, remove_prefix=False)\n",
      " |  \n",
      " |  reverse_bettertransformer(self)\n",
      " |      Reverts the transformation from [`~PreTrainedModel.to_bettertransformer`] so that the original modeling is\n",
      " |      used, for example in order to save the model.\n",
      " |      \n",
      " |      Returns:\n",
      " |          [`PreTrainedModel`]: The model converted back to the original modeling.\n",
      " |  \n",
      " |  save_pretrained(self, save_directory: Union[str, os.PathLike], is_main_process: bool = True, state_dict: Optional[dict] = None, save_function: Callable = <function save at 0x7382041d9f30>, push_to_hub: bool = False, max_shard_size: Union[int, str] = '5GB', safe_serialization: bool = True, variant: Optional[str] = None, token: Union[str, bool, NoneType] = None, save_peft_format: bool = True, **kwargs)\n",
      " |      Save a model and its configuration file to a directory, so that it can be re-loaded using the\n",
      " |      [`~PreTrainedModel.from_pretrained`] class method.\n",
      " |      \n",
      " |      Arguments:\n",
      " |          save_directory (`str` or `os.PathLike`):\n",
      " |              Directory to which to save. Will be created if it doesn't exist.\n",
      " |          is_main_process (`bool`, *optional*, defaults to `True`):\n",
      " |              Whether the process calling this is the main process or not. Useful when in distributed training like\n",
      " |              TPUs and need to call this function on all processes. In this case, set `is_main_process=True` only on\n",
      " |              the main process to avoid race conditions.\n",
      " |          state_dict (nested dictionary of `torch.Tensor`):\n",
      " |              The state dictionary of the model to save. Will default to `self.state_dict()`, but can be used to only\n",
      " |              save parts of the model or if special precautions need to be taken when recovering the state dictionary\n",
      " |              of a model (like when using model parallelism).\n",
      " |          save_function (`Callable`):\n",
      " |              The function to use to save the state dictionary. Useful on distributed training like TPUs when one\n",
      " |              need to replace `torch.save` by another method.\n",
      " |          push_to_hub (`bool`, *optional*, defaults to `False`):\n",
      " |              Whether or not to push your model to the Hugging Face model hub after saving it. You can specify the\n",
      " |              repository you want to push to with `repo_id` (will default to the name of `save_directory` in your\n",
      " |              namespace).\n",
      " |          max_shard_size (`int` or `str`, *optional*, defaults to `\"5GB\"`):\n",
      " |              The maximum size for a checkpoint before being sharded. Checkpoints shard will then be each of size\n",
      " |              lower than this size. If expressed as a string, needs to be digits followed by a unit (like `\"5MB\"`).\n",
      " |              We default it to 5GB in order for models to be able to run easily on free-tier google colab instances\n",
      " |              without CPU OOM issues.\n",
      " |      \n",
      " |              <Tip warning={true}>\n",
      " |      \n",
      " |              If a single weight of the model is bigger than `max_shard_size`, it will be in its own checkpoint shard\n",
      " |              which will be bigger than `max_shard_size`.\n",
      " |      \n",
      " |              </Tip>\n",
      " |      \n",
      " |          safe_serialization (`bool`, *optional*, defaults to `True`):\n",
      " |              Whether to save the model using `safetensors` or the traditional PyTorch way (that uses `pickle`).\n",
      " |          variant (`str`, *optional*):\n",
      " |              If specified, weights are saved in the format pytorch_model.<variant>.bin.\n",
      " |          token (`str` or `bool`, *optional*):\n",
      " |              The token to use as HTTP bearer authorization for remote files. If `True`, or not specified, will use\n",
      " |              the token generated when running `huggingface-cli login` (stored in `~/.huggingface`).\n",
      " |          save_peft_format (`bool`, *optional*, defaults to `True`):\n",
      " |              For backward compatibility with PEFT library, in case adapter weights are attached to the model, all\n",
      " |              keys of the state dict of adapters needs to be pre-pended with `base_model.model`. Advanced users can\n",
      " |              disable this behaviours by setting `save_peft_format` to `False`.\n",
      " |          kwargs (`Dict[str, Any]`, *optional*):\n",
      " |              Additional key word arguments passed along to the [`~utils.PushToHubMixin.push_to_hub`] method.\n",
      " |  \n",
      " |  tie_weights(self)\n",
      " |      Tie the weights between the input embeddings and the output embeddings.\n",
      " |      \n",
      " |      If the `torchscript` flag is set in the configuration, can't handle parameter sharing so we are cloning the\n",
      " |      weights instead.\n",
      " |  \n",
      " |  to(self, *args, **kwargs)\n",
      " |      Move and/or cast the parameters and buffers.\n",
      " |      \n",
      " |      This can be called as\n",
      " |      \n",
      " |      .. function:: to(device=None, dtype=None, non_blocking=False)\n",
      " |         :noindex:\n",
      " |      \n",
      " |      .. function:: to(dtype, non_blocking=False)\n",
      " |         :noindex:\n",
      " |      \n",
      " |      .. function:: to(tensor, non_blocking=False)\n",
      " |         :noindex:\n",
      " |      \n",
      " |      .. function:: to(memory_format=torch.channels_last)\n",
      " |         :noindex:\n",
      " |      \n",
      " |      Its signature is similar to :meth:`torch.Tensor.to`, but only accepts\n",
      " |      floating point or complex :attr:`dtype`\\ s. In addition, this method will\n",
      " |      only cast the floating point or complex parameters and buffers to :attr:`dtype`\n",
      " |      (if given). The integral parameters and buffers will be moved\n",
      " |      :attr:`device`, if that is given, but with dtypes unchanged. When\n",
      " |      :attr:`non_blocking` is set, it tries to convert/move asynchronously\n",
      " |      with respect to the host if possible, e.g., moving CPU Tensors with\n",
      " |      pinned memory to CUDA devices.\n",
      " |      \n",
      " |      See below for examples.\n",
      " |      \n",
      " |      .. note::\n",
      " |          This method modifies the module in-place.\n",
      " |      \n",
      " |      Args:\n",
      " |          device (:class:`torch.device`): the desired device of the parameters\n",
      " |              and buffers in this module\n",
      " |          dtype (:class:`torch.dtype`): the desired floating point or complex dtype of\n",
      " |              the parameters and buffers in this module\n",
      " |          tensor (torch.Tensor): Tensor whose dtype and device are the desired\n",
      " |              dtype and device for all parameters and buffers in this module\n",
      " |          memory_format (:class:`torch.memory_format`): the desired memory\n",
      " |              format for 4D parameters and buffers in this module (keyword\n",
      " |              only argument)\n",
      " |      \n",
      " |      Returns:\n",
      " |          Module: self\n",
      " |      \n",
      " |      Examples::\n",
      " |      \n",
      " |          >>> # xdoctest: +IGNORE_WANT(\"non-deterministic\")\n",
      " |          >>> linear = nn.Linear(2, 2)\n",
      " |          >>> linear.weight\n",
      " |          Parameter containing:\n",
      " |          tensor([[ 0.1913, -0.3420],\n",
      " |                  [-0.5113, -0.2325]])\n",
      " |          >>> linear.to(torch.double)\n",
      " |          Linear(in_features=2, out_features=2, bias=True)\n",
      " |          >>> linear.weight\n",
      " |          Parameter containing:\n",
      " |          tensor([[ 0.1913, -0.3420],\n",
      " |                  [-0.5113, -0.2325]], dtype=torch.float64)\n",
      " |          >>> # xdoctest: +REQUIRES(env:TORCH_DOCTEST_CUDA1)\n",
      " |          >>> gpu1 = torch.device(\"cuda:1\")\n",
      " |          >>> linear.to(gpu1, dtype=torch.half, non_blocking=True)\n",
      " |          Linear(in_features=2, out_features=2, bias=True)\n",
      " |          >>> linear.weight\n",
      " |          Parameter containing:\n",
      " |          tensor([[ 0.1914, -0.3420],\n",
      " |                  [-0.5112, -0.2324]], dtype=torch.float16, device='cuda:1')\n",
      " |          >>> cpu = torch.device(\"cpu\")\n",
      " |          >>> linear.to(cpu)\n",
      " |          Linear(in_features=2, out_features=2, bias=True)\n",
      " |          >>> linear.weight\n",
      " |          Parameter containing:\n",
      " |          tensor([[ 0.1914, -0.3420],\n",
      " |                  [-0.5112, -0.2324]], dtype=torch.float16)\n",
      " |      \n",
      " |          >>> linear = nn.Linear(2, 2, bias=None).to(torch.cdouble)\n",
      " |          >>> linear.weight\n",
      " |          Parameter containing:\n",
      " |          tensor([[ 0.3741+0.j,  0.2382+0.j],\n",
      " |                  [ 0.5593+0.j, -0.4443+0.j]], dtype=torch.complex128)\n",
      " |          >>> linear(torch.ones(3, 2, dtype=torch.cdouble))\n",
      " |          tensor([[0.6122+0.j, 0.1150+0.j],\n",
      " |                  [0.6122+0.j, 0.1150+0.j],\n",
      " |                  [0.6122+0.j, 0.1150+0.j]], dtype=torch.complex128)\n",
      " |  \n",
      " |  to_bettertransformer(self) -> 'PreTrainedModel'\n",
      " |      Converts the model to use [PyTorch's native attention\n",
      " |      implementation](https://pytorch.org/docs/stable/generated/torch.nn.MultiheadAttention.html), integrated to\n",
      " |      Transformers through [Optimum library](https://huggingface.co/docs/optimum/bettertransformer/overview). Only a\n",
      " |      subset of all Transformers models are supported.\n",
      " |      \n",
      " |      PyTorch's attention fastpath allows to speed up inference through kernel fusions and the use of [nested\n",
      " |      tensors](https://pytorch.org/docs/stable/nested.html). Detailed benchmarks can be found in [this blog\n",
      " |      post](https://medium.com/pytorch/bettertransformer-out-of-the-box-performance-for-huggingface-transformers-3fbe27d50ab2).\n",
      " |      \n",
      " |      Returns:\n",
      " |          [`PreTrainedModel`]: The model converted to BetterTransformer.\n",
      " |  \n",
      " |  warn_if_padding_and_no_attention_mask(self, input_ids, attention_mask)\n",
      " |      Shows a one-time warning if the input_ids appear to contain padding and no attention mask was given.\n",
      " |  \n",
      " |  ----------------------------------------------------------------------\n",
      " |  Class methods inherited from transformers.modeling_utils.PreTrainedModel:\n",
      " |  \n",
      " |  can_generate() -> bool from builtins.type\n",
      " |      Returns whether this model can generate sequences with `.generate()` from the `GenerationMixin`.\n",
      " |      \n",
      " |      Under the hood, on classes where this function returns True, some generation-specific changes are triggered:\n",
      " |      for instance, the model instance will have a populated `generation_config` attribute.\n",
      " |      \n",
      " |      Returns:\n",
      " |          `bool`: Whether this model can generate sequences with `.generate()`.\n",
      " |  \n",
      " |  from_pretrained(pretrained_model_name_or_path: Union[str, os.PathLike, NoneType], *model_args, config: Union[transformers.configuration_utils.PretrainedConfig, str, os.PathLike, NoneType] = None, cache_dir: Union[str, os.PathLike, NoneType] = None, ignore_mismatched_sizes: bool = False, force_download: bool = False, local_files_only: bool = False, token: Union[str, bool, NoneType] = None, revision: str = 'main', use_safetensors: Optional[bool] = None, weights_only: bool = True, **kwargs) -> ~SpecificPreTrainedModelType from builtins.type\n",
      " |      Instantiate a pretrained pytorch model from a pre-trained model configuration.\n",
      " |      \n",
      " |      The model is set in evaluation mode by default using `model.eval()` (Dropout modules are deactivated). To train\n",
      " |      the model, you should first set it back in training mode with `model.train()`.\n",
      " |      \n",
      " |      The warning *Weights from XXX not initialized from pretrained model* means that the weights of XXX do not come\n",
      " |      pretrained with the rest of the model. It is up to you to train those weights with a downstream fine-tuning\n",
      " |      task.\n",
      " |      \n",
      " |      The warning *Weights from XXX not used in YYY* means that the layer XXX is not used by YYY, therefore those\n",
      " |      weights are discarded.\n",
      " |      \n",
      " |      Parameters:\n",
      " |          pretrained_model_name_or_path (`str` or `os.PathLike`, *optional*):\n",
      " |              Can be either:\n",
      " |      \n",
      " |                  - A string, the *model id* of a pretrained model hosted inside a model repo on huggingface.co.\n",
      " |                  - A path to a *directory* containing model weights saved using\n",
      " |                    [`~PreTrainedModel.save_pretrained`], e.g., `./my_model_directory/`.\n",
      " |                  - A path or url to a *tensorflow index checkpoint file* (e.g, `./tf_model/model.ckpt.index`). In\n",
      " |                    this case, `from_tf` should be set to `True` and a configuration object should be provided as\n",
      " |                    `config` argument. This loading path is slower than converting the TensorFlow checkpoint in a\n",
      " |                    PyTorch model using the provided conversion scripts and loading the PyTorch model afterwards.\n",
      " |                  - A path or url to a model folder containing a *flax checkpoint file* in *.msgpack* format (e.g,\n",
      " |                    `./flax_model/` containing `flax_model.msgpack`). In this case, `from_flax` should be set to\n",
      " |                    `True`.\n",
      " |                  - `None` if you are both providing the configuration and state dictionary (resp. with keyword\n",
      " |                    arguments `config` and `state_dict`).\n",
      " |          model_args (sequence of positional arguments, *optional*):\n",
      " |              All remaining positional arguments will be passed to the underlying model's `__init__` method.\n",
      " |          config (`Union[PretrainedConfig, str, os.PathLike]`, *optional*):\n",
      " |              Can be either:\n",
      " |      \n",
      " |                  - an instance of a class derived from [`PretrainedConfig`],\n",
      " |                  - a string or path valid as input to [`~PretrainedConfig.from_pretrained`].\n",
      " |      \n",
      " |              Configuration for the model to use instead of an automatically loaded configuration. Configuration can\n",
      " |              be automatically loaded when:\n",
      " |      \n",
      " |                  - The model is a model provided by the library (loaded with the *model id* string of a pretrained\n",
      " |                    model).\n",
      " |                  - The model was saved using [`~PreTrainedModel.save_pretrained`] and is reloaded by supplying the\n",
      " |                    save directory.\n",
      " |                  - The model is loaded by supplying a local directory as `pretrained_model_name_or_path` and a\n",
      " |                    configuration JSON file named *config.json* is found in the directory.\n",
      " |          state_dict (`Dict[str, torch.Tensor]`, *optional*):\n",
      " |              A state dictionary to use instead of a state dictionary loaded from saved weights file.\n",
      " |      \n",
      " |              This option can be used if you want to create a model from a pretrained configuration but load your own\n",
      " |              weights. In this case though, you should check if using [`~PreTrainedModel.save_pretrained`] and\n",
      " |              [`~PreTrainedModel.from_pretrained`] is not a simpler option.\n",
      " |          cache_dir (`Union[str, os.PathLike]`, *optional*):\n",
      " |              Path to a directory in which a downloaded pretrained model configuration should be cached if the\n",
      " |              standard cache should not be used.\n",
      " |          from_tf (`bool`, *optional*, defaults to `False`):\n",
      " |              Load the model weights from a TensorFlow checkpoint save file (see docstring of\n",
      " |              `pretrained_model_name_or_path` argument).\n",
      " |          from_flax (`bool`, *optional*, defaults to `False`):\n",
      " |              Load the model weights from a Flax checkpoint save file (see docstring of\n",
      " |              `pretrained_model_name_or_path` argument).\n",
      " |          ignore_mismatched_sizes (`bool`, *optional*, defaults to `False`):\n",
      " |              Whether or not to raise an error if some of the weights from the checkpoint do not have the same size\n",
      " |              as the weights of the model (if for instance, you are instantiating a model with 10 labels from a\n",
      " |              checkpoint with 3 labels).\n",
      " |          force_download (`bool`, *optional*, defaults to `False`):\n",
      " |              Whether or not to force the (re-)download of the model weights and configuration files, overriding the\n",
      " |              cached versions if they exist.\n",
      " |          resume_download:\n",
      " |              Deprecated and ignored. All downloads are now resumed by default when possible.\n",
      " |              Will be removed in v5 of Transformers.\n",
      " |          proxies (`Dict[str, str]`, *optional*):\n",
      " |              A dictionary of proxy servers to use by protocol or endpoint, e.g., `{'http': 'foo.bar:3128',\n",
      " |              'http://hostname': 'foo.bar:4012'}`. The proxies are used on each request.\n",
      " |          output_loading_info(`bool`, *optional*, defaults to `False`):\n",
      " |              Whether ot not to also return a dictionary containing missing keys, unexpected keys and error messages.\n",
      " |          local_files_only(`bool`, *optional*, defaults to `False`):\n",
      " |              Whether or not to only look at local files (i.e., do not try to download the model).\n",
      " |          token (`str` or `bool`, *optional*):\n",
      " |              The token to use as HTTP bearer authorization for remote files. If `True`, or not specified, will use\n",
      " |              the token generated when running `huggingface-cli login` (stored in `~/.huggingface`).\n",
      " |          revision (`str`, *optional*, defaults to `\"main\"`):\n",
      " |              The specific model version to use. It can be a branch name, a tag name, or a commit id, since we use a\n",
      " |              git-based system for storing models and other artifacts on huggingface.co, so `revision` can be any\n",
      " |              identifier allowed by git.\n",
      " |      \n",
      " |              <Tip>\n",
      " |      \n",
      " |              To test a pull request you made on the Hub, you can pass `revision=\"refs/pr/<pr_number>\"`.\n",
      " |      \n",
      " |              </Tip>\n",
      " |          attn_implementation (`str`, *optional*):\n",
      " |              The attention implementation to use in the model (if relevant). Can be any of `\"eager\"` (manual implementation of the attention), `\"sdpa\"` (using [`F.scaled_dot_product_attention`](https://pytorch.org/docs/master/generated/torch.nn.functional.scaled_dot_product_attention.html)), or `\"flash_attention_2\"` (using [Dao-AILab/flash-attention](https://github.com/Dao-AILab/flash-attention)). By default, if available, SDPA will be used for torch>=2.1.1. The default is otherwise the manual `\"eager\"` implementation.\n",
      " |      \n",
      " |          > Parameters for big model inference\n",
      " |      \n",
      " |          torch_dtype (`str` or `torch.dtype`, *optional*):\n",
      " |              Override the default `torch.dtype` and load the model under a specific `dtype`. The different options\n",
      " |              are:\n",
      " |      \n",
      " |              1. `torch.float16` or `torch.bfloat16` or `torch.float`: load in a specified\n",
      " |                `dtype`, ignoring the model's `config.torch_dtype` if one exists. If not specified\n",
      " |                - the model will get loaded in `torch.float` (fp32).\n",
      " |      \n",
      " |              2. `\"auto\"` - A `torch_dtype` entry in the `config.json` file of the model will be\n",
      " |                attempted to be used. If this entry isn't found then next check the `dtype` of the first weight in\n",
      " |                the checkpoint that's of a floating point type and use that as `dtype`. This will load the model\n",
      " |                using the `dtype` it was saved in at the end of the training. It can't be used as an indicator of how\n",
      " |                the model was trained. Since it could be trained in one of half precision dtypes, but saved in fp32.\n",
      " |      \n",
      " |              3. A string that is a valid `torch.dtype`. E.g. \"float32\" loads the model in `torch.float32`, \"float16\" loads in `torch.float16` etc.\n",
      " |      \n",
      " |              <Tip>\n",
      " |      \n",
      " |              For some models the `dtype` they were trained in is unknown - you may try to check the model's paper or\n",
      " |              reach out to the authors and ask them to add this information to the model's card and to insert the\n",
      " |              `torch_dtype` entry in `config.json` on the hub.\n",
      " |      \n",
      " |              </Tip>\n",
      " |      \n",
      " |          device_map (`str` or `Dict[str, Union[int, str, torch.device]]` or `int` or `torch.device`, *optional*):\n",
      " |              A map that specifies where each submodule should go. It doesn't need to be refined to each\n",
      " |              parameter/buffer name, once a given module name is inside, every submodule of it will be sent to the\n",
      " |              same device. If we only pass the device (*e.g.*, `\"cpu\"`, `\"cuda:1\"`, `\"mps\"`, or a GPU ordinal rank\n",
      " |              like `1`) on which the model will be allocated, the device map will map the entire model to this\n",
      " |              device. Passing `device_map = 0` means put the whole model on GPU 0.\n",
      " |      \n",
      " |              To have Accelerate compute the most optimized `device_map` automatically, set `device_map=\"auto\"`. For\n",
      " |              more information about each option see [designing a device\n",
      " |              map](https://hf.co/docs/accelerate/main/en/usage_guides/big_modeling#designing-a-device-map).\n",
      " |          max_memory (`Dict`, *optional*):\n",
      " |              A dictionary device identifier to maximum memory if using `device_map`. Will default to the maximum memory available for each\n",
      " |              GPU and the available CPU RAM if unset.\n",
      " |          tp_plan (`str`, *optional*):\n",
      " |              A torch tensor parallel plan, see [here](https://pytorch.org/tutorials/intermediate/TP_tutorial.html). Currently, it only accepts\n",
      " |              `tp_plan=\"auto\"` to use predefined plan based on the model. Note that if you use it, you should launch your script accordingly with\n",
      " |              `torchrun [args] script.py`. This will be much faster than using a `device_map`, but has limitations.\n",
      " |          tp_size (`str`, *optional*):\n",
      " |              A torch tensor parallel degree. If not provided would default to world size.\n",
      " |          offload_folder (`str` or `os.PathLike`, *optional*):\n",
      " |              If the `device_map` contains any value `\"disk\"`, the folder where we will offload weights.\n",
      " |          offload_state_dict (`bool`, *optional*):\n",
      " |              If `True`, will temporarily offload the CPU state dict to the hard drive to avoid getting out of CPU\n",
      " |              RAM if the weight of the CPU state dict + the biggest shard of the checkpoint does not fit. Defaults to\n",
      " |              `True` when there is some disk offload.\n",
      " |          offload_buffers (`bool`, *optional*):\n",
      " |              Whether or not to offload the buffers with the model parameters.\n",
      " |          quantization_config (`Union[QuantizationConfigMixin,Dict]`, *optional*):\n",
      " |              A dictionary of configuration parameters or a QuantizationConfigMixin object for quantization (e.g\n",
      " |              bitsandbytes, gptq). There may be other quantization-related kwargs, including `load_in_4bit` and\n",
      " |              `load_in_8bit`, which are parsed by QuantizationConfigParser. Supported only for bitsandbytes\n",
      " |              quantizations and not preferred. consider inserting all such arguments into quantization_config\n",
      " |              instead.\n",
      " |          subfolder (`str`, *optional*, defaults to `\"\"`):\n",
      " |              In case the relevant files are located inside a subfolder of the model repo on huggingface.co, you can\n",
      " |              specify the folder name here.\n",
      " |          variant (`str`, *optional*):\n",
      " |              If specified load weights from `variant` filename, *e.g.* pytorch_model.<variant>.bin. `variant` is\n",
      " |              ignored when using `from_tf` or `from_flax`.\n",
      " |          use_safetensors (`bool`, *optional*, defaults to `None`):\n",
      " |              Whether or not to use `safetensors` checkpoints. Defaults to `None`. If not specified and `safetensors`\n",
      " |              is not installed, it will be set to `False`.\n",
      " |          weights_only (`bool`, *optional*, defaults to `True`):\n",
      " |              Indicates whether unpickler should be restricted to loading only tensors, primitive types,\n",
      " |              dictionaries and any types added via torch.serialization.add_safe_globals().\n",
      " |              When set to False, we can load wrapper tensor subclass weights.\n",
      " |          key_mapping (`Dict[str, str], *optional*):\n",
      " |              A potential mapping of the weight names if using a model on the Hub which is compatible to a Transformers\n",
      " |              architecture, but was not converted accordingly.\n",
      " |          kwargs (remaining dictionary of keyword arguments, *optional*):\n",
      " |              Can be used to update the configuration object (after it being loaded) and initiate the model (e.g.,\n",
      " |              `output_attentions=True`). Behaves differently depending on whether a `config` is provided or\n",
      " |              automatically loaded:\n",
      " |      \n",
      " |                  - If a configuration is provided with `config`, `**kwargs` will be directly passed to the\n",
      " |                    underlying model's `__init__` method (we assume all relevant updates to the configuration have\n",
      " |                    already been done)\n",
      " |                  - If a configuration is not provided, `kwargs` will be first passed to the configuration class\n",
      " |                    initialization function ([`~PretrainedConfig.from_pretrained`]). Each key of `kwargs` that\n",
      " |                    corresponds to a configuration attribute will be used to override said attribute with the\n",
      " |                    supplied `kwargs` value. Remaining keys that do not correspond to any configuration attribute\n",
      " |                    will be passed to the underlying model's `__init__` function.\n",
      " |      \n",
      " |      <Tip>\n",
      " |      \n",
      " |      Activate the special [\"offline-mode\"](https://huggingface.co/transformers/installation.html#offline-mode) to\n",
      " |      use this method in a firewalled environment.\n",
      " |      \n",
      " |      </Tip>\n",
      " |      \n",
      " |      Examples:\n",
      " |      \n",
      " |      ```python\n",
      " |      >>> from transformers import BertConfig, BertModel\n",
      " |      \n",
      " |      >>> # Download model and configuration from huggingface.co and cache.\n",
      " |      >>> model = BertModel.from_pretrained(\"google-bert/bert-base-uncased\")\n",
      " |      >>> # Model was saved using *save_pretrained('./test/saved_model/')* (for example purposes, not runnable).\n",
      " |      >>> model = BertModel.from_pretrained(\"./test/saved_model/\")\n",
      " |      >>> # Update configuration during loading.\n",
      " |      >>> model = BertModel.from_pretrained(\"google-bert/bert-base-uncased\", output_attentions=True)\n",
      " |      >>> assert model.config.output_attentions == True\n",
      " |      >>> # Loading from a TF checkpoint file instead of a PyTorch model (slower, for example purposes, not runnable).\n",
      " |      >>> config = BertConfig.from_json_file(\"./tf_model/my_tf_model_config.json\")\n",
      " |      >>> model = BertModel.from_pretrained(\"./tf_model/my_tf_checkpoint.ckpt.index\", from_tf=True, config=config)\n",
      " |      >>> # Loading from a Flax checkpoint file instead of a PyTorch model (slower)\n",
      " |      >>> model = BertModel.from_pretrained(\"google-bert/bert-base-uncased\", from_flax=True)\n",
      " |      ```\n",
      " |  \n",
      " |  get_init_context(is_quantized: bool, _is_ds_init_called: bool) from builtins.type\n",
      " |  \n",
      " |  is_backend_compatible() from builtins.type\n",
      " |  \n",
      " |  register_for_auto_class(auto_class='AutoModel') from builtins.type\n",
      " |      Register this class with a given auto class. This should only be used for custom models as the ones in the\n",
      " |      library are already mapped with an auto class.\n",
      " |      \n",
      " |      <Tip warning={true}>\n",
      " |      \n",
      " |      This API is experimental and may have some slight breaking changes in the next releases.\n",
      " |      \n",
      " |      </Tip>\n",
      " |      \n",
      " |      Args:\n",
      " |          auto_class (`str` or `type`, *optional*, defaults to `\"AutoModel\"`):\n",
      " |              The auto class to register this new model with.\n",
      " |  \n",
      " |  ----------------------------------------------------------------------\n",
      " |  Readonly properties inherited from transformers.modeling_utils.PreTrainedModel:\n",
      " |  \n",
      " |  base_model\n",
      " |      `torch.nn.Module`: The main body of the model.\n",
      " |  \n",
      " |  dummy_inputs\n",
      " |      `Dict[str, torch.Tensor]`: Dummy inputs to do a forward pass in the network.\n",
      " |  \n",
      " |  framework\n",
      " |      :str: Identifies that this is a PyTorch model.\n",
      " |  \n",
      " |  is_gradient_checkpointing\n",
      " |      Whether gradient checkpointing is activated for this model or not.\n",
      " |      \n",
      " |      Note that in other frameworks this feature can be referred to as \"activation checkpointing\" or \"checkpoint\n",
      " |      activations\".\n",
      " |  \n",
      " |  supports_pp_plan\n",
      " |  \n",
      " |  supports_tp_plan\n",
      " |      Returns whether the model has a tensor parallelism plan.\n",
      " |  \n",
      " |  tp_size\n",
      " |      Returns the model's tensor parallelism degree.\n",
      " |  \n",
      " |  ----------------------------------------------------------------------\n",
      " |  Data descriptors inherited from transformers.modeling_utils.PreTrainedModel:\n",
      " |  \n",
      " |  loss_function\n",
      " |  \n",
      " |  ----------------------------------------------------------------------\n",
      " |  Data and other attributes inherited from transformers.modeling_utils.PreTrainedModel:\n",
      " |  \n",
      " |  is_parallelizable = False\n",
      " |  \n",
      " |  main_input_name = 'input_ids'\n",
      " |  \n",
      " |  model_tags = None\n",
      " |  \n",
      " |  ----------------------------------------------------------------------\n",
      " |  Methods inherited from torch.nn.modules.module.Module:\n",
      " |  \n",
      " |  __call__ = _wrapped_call_impl(self, *args, **kwargs)\n",
      " |  \n",
      " |  __delattr__(self, name)\n",
      " |      Implement delattr(self, name).\n",
      " |  \n",
      " |  __dir__(self)\n",
      " |      Default dir() implementation.\n",
      " |  \n",
      " |  __getattr__(self, name: str) -> Union[torch.Tensor, ForwardRef('Module')]\n",
      " |      # It is crucial that the return type is not annotated as `Any`, otherwise type checking\n",
      " |      # on `torch.nn.Module` and all its subclasses is largely disabled as a result. See:\n",
      " |      # https://github.com/pytorch/pytorch/pull/115074\n",
      " |  \n",
      " |  __getstate__(self)\n",
      " |  \n",
      " |  __repr__(self)\n",
      " |      Return repr(self).\n",
      " |  \n",
      " |  __setattr__(self, name: str, value: Union[torch.Tensor, ForwardRef('Module')]) -> None\n",
      " |      Implement setattr(self, name, value).\n",
      " |  \n",
      " |  __setstate__(self, state)\n",
      " |  \n",
      " |  add_module(self, name: str, module: Optional[ForwardRef('Module')]) -> None\n",
      " |      Add a child module to the current module.\n",
      " |      \n",
      " |      The module can be accessed as an attribute using the given name.\n",
      " |      \n",
      " |      Args:\n",
      " |          name (str): name of the child module. The child module can be\n",
      " |              accessed from this module using the given name\n",
      " |          module (Module): child module to be added to the module.\n",
      " |  \n",
      " |  apply(self: ~T, fn: Callable[[ForwardRef('Module')], NoneType]) -> ~T\n",
      " |      Apply ``fn`` recursively to every submodule (as returned by ``.children()``) as well as self.\n",
      " |      \n",
      " |      Typical use includes initializing the parameters of a model\n",
      " |      (see also :ref:`nn-init-doc`).\n",
      " |      \n",
      " |      Args:\n",
      " |          fn (:class:`Module` -> None): function to be applied to each submodule\n",
      " |      \n",
      " |      Returns:\n",
      " |          Module: self\n",
      " |      \n",
      " |      Example::\n",
      " |      \n",
      " |          >>> @torch.no_grad()\n",
      " |          >>> def init_weights(m):\n",
      " |          >>>     print(m)\n",
      " |          >>>     if type(m) == nn.Linear:\n",
      " |          >>>         m.weight.fill_(1.0)\n",
      " |          >>>         print(m.weight)\n",
      " |          >>> net = nn.Sequential(nn.Linear(2, 2), nn.Linear(2, 2))\n",
      " |          >>> net.apply(init_weights)\n",
      " |          Linear(in_features=2, out_features=2, bias=True)\n",
      " |          Parameter containing:\n",
      " |          tensor([[1., 1.],\n",
      " |                  [1., 1.]], requires_grad=True)\n",
      " |          Linear(in_features=2, out_features=2, bias=True)\n",
      " |          Parameter containing:\n",
      " |          tensor([[1., 1.],\n",
      " |                  [1., 1.]], requires_grad=True)\n",
      " |          Sequential(\n",
      " |            (0): Linear(in_features=2, out_features=2, bias=True)\n",
      " |            (1): Linear(in_features=2, out_features=2, bias=True)\n",
      " |          )\n",
      " |  \n",
      " |  bfloat16(self: ~T) -> ~T\n",
      " |      Casts all floating point parameters and buffers to ``bfloat16`` datatype.\n",
      " |      \n",
      " |      .. note::\n",
      " |          This method modifies the module in-place.\n",
      " |      \n",
      " |      Returns:\n",
      " |          Module: self\n",
      " |  \n",
      " |  buffers(self, recurse: bool = True) -> Iterator[torch.Tensor]\n",
      " |      Return an iterator over module buffers.\n",
      " |      \n",
      " |      Args:\n",
      " |          recurse (bool): if True, then yields buffers of this module\n",
      " |              and all submodules. Otherwise, yields only buffers that\n",
      " |              are direct members of this module.\n",
      " |      \n",
      " |      Yields:\n",
      " |          torch.Tensor: module buffer\n",
      " |      \n",
      " |      Example::\n",
      " |      \n",
      " |          >>> # xdoctest: +SKIP(\"undefined vars\")\n",
      " |          >>> for buf in model.buffers():\n",
      " |          >>>     print(type(buf), buf.size())\n",
      " |          <class 'torch.Tensor'> (20L,)\n",
      " |          <class 'torch.Tensor'> (20L, 1L, 5L, 5L)\n",
      " |  \n",
      " |  children(self) -> Iterator[ForwardRef('Module')]\n",
      " |      Return an iterator over immediate children modules.\n",
      " |      \n",
      " |      Yields:\n",
      " |          Module: a child module\n",
      " |  \n",
      " |  compile(self, *args, **kwargs)\n",
      " |      Compile this Module's forward using :func:`torch.compile`.\n",
      " |      \n",
      " |      This Module's `__call__` method is compiled and all arguments are passed as-is\n",
      " |      to :func:`torch.compile`.\n",
      " |      \n",
      " |      See :func:`torch.compile` for details on the arguments for this function.\n",
      " |  \n",
      " |  cpu(self: ~T) -> ~T\n",
      " |      Move all model parameters and buffers to the CPU.\n",
      " |      \n",
      " |      .. note::\n",
      " |          This method modifies the module in-place.\n",
      " |      \n",
      " |      Returns:\n",
      " |          Module: self\n",
      " |  \n",
      " |  double(self: ~T) -> ~T\n",
      " |      Casts all floating point parameters and buffers to ``double`` datatype.\n",
      " |      \n",
      " |      .. note::\n",
      " |          This method modifies the module in-place.\n",
      " |      \n",
      " |      Returns:\n",
      " |          Module: self\n",
      " |  \n",
      " |  eval(self: ~T) -> ~T\n",
      " |      Set the module in evaluation mode.\n",
      " |      \n",
      " |      This has an effect only on certain modules. See the documentation of\n",
      " |      particular modules for details of their behaviors in training/evaluation\n",
      " |      mode, i.e. whether they are affected, e.g. :class:`Dropout`, :class:`BatchNorm`,\n",
      " |      etc.\n",
      " |      \n",
      " |      This is equivalent with :meth:`self.train(False) <torch.nn.Module.train>`.\n",
      " |      \n",
      " |      See :ref:`locally-disable-grad-doc` for a comparison between\n",
      " |      `.eval()` and several similar mechanisms that may be confused with it.\n",
      " |      \n",
      " |      Returns:\n",
      " |          Module: self\n",
      " |  \n",
      " |  extra_repr(self) -> str\n",
      " |      Return the extra representation of the module.\n",
      " |      \n",
      " |      To print customized extra information, you should re-implement\n",
      " |      this method in your own modules. Both single-line and multi-line\n",
      " |      strings are acceptable.\n",
      " |  \n",
      " |  get_buffer(self, target: str) -> 'Tensor'\n",
      " |      Return the buffer given by ``target`` if it exists, otherwise throw an error.\n",
      " |      \n",
      " |      See the docstring for ``get_submodule`` for a more detailed\n",
      " |      explanation of this method's functionality as well as how to\n",
      " |      correctly specify ``target``.\n",
      " |      \n",
      " |      Args:\n",
      " |          target: The fully-qualified string name of the buffer\n",
      " |              to look for. (See ``get_submodule`` for how to specify a\n",
      " |              fully-qualified string.)\n",
      " |      \n",
      " |      Returns:\n",
      " |          torch.Tensor: The buffer referenced by ``target``\n",
      " |      \n",
      " |      Raises:\n",
      " |          AttributeError: If the target string references an invalid\n",
      " |              path or resolves to something that is not a\n",
      " |              buffer\n",
      " |  \n",
      " |  get_extra_state(self) -> Any\n",
      " |      Return any extra state to include in the module's state_dict.\n",
      " |      \n",
      " |      Implement this and a corresponding :func:`set_extra_state` for your module\n",
      " |      if you need to store extra state. This function is called when building the\n",
      " |      module's `state_dict()`.\n",
      " |      \n",
      " |      Note that extra state should be picklable to ensure working serialization\n",
      " |      of the state_dict. We only provide backwards compatibility guarantees\n",
      " |      for serializing Tensors; other objects may break backwards compatibility if\n",
      " |      their serialized pickled form changes.\n",
      " |      \n",
      " |      Returns:\n",
      " |          object: Any extra state to store in the module's state_dict\n",
      " |  \n",
      " |  get_parameter(self, target: str) -> 'Parameter'\n",
      " |      Return the parameter given by ``target`` if it exists, otherwise throw an error.\n",
      " |      \n",
      " |      See the docstring for ``get_submodule`` for a more detailed\n",
      " |      explanation of this method's functionality as well as how to\n",
      " |      correctly specify ``target``.\n",
      " |      \n",
      " |      Args:\n",
      " |          target: The fully-qualified string name of the Parameter\n",
      " |              to look for. (See ``get_submodule`` for how to specify a\n",
      " |              fully-qualified string.)\n",
      " |      \n",
      " |      Returns:\n",
      " |          torch.nn.Parameter: The Parameter referenced by ``target``\n",
      " |      \n",
      " |      Raises:\n",
      " |          AttributeError: If the target string references an invalid\n",
      " |              path or resolves to something that is not an\n",
      " |              ``nn.Parameter``\n",
      " |  \n",
      " |  get_submodule(self, target: str) -> 'Module'\n",
      " |      Return the submodule given by ``target`` if it exists, otherwise throw an error.\n",
      " |      \n",
      " |      For example, let's say you have an ``nn.Module`` ``A`` that\n",
      " |      looks like this:\n",
      " |      \n",
      " |      .. code-block:: text\n",
      " |      \n",
      " |          A(\n",
      " |              (net_b): Module(\n",
      " |                  (net_c): Module(\n",
      " |                      (conv): Conv2d(16, 33, kernel_size=(3, 3), stride=(2, 2))\n",
      " |                  )\n",
      " |                  (linear): Linear(in_features=100, out_features=200, bias=True)\n",
      " |              )\n",
      " |          )\n",
      " |      \n",
      " |      (The diagram shows an ``nn.Module`` ``A``. ``A`` which has a nested\n",
      " |      submodule ``net_b``, which itself has two submodules ``net_c``\n",
      " |      and ``linear``. ``net_c`` then has a submodule ``conv``.)\n",
      " |      \n",
      " |      To check whether or not we have the ``linear`` submodule, we\n",
      " |      would call ``get_submodule(\"net_b.linear\")``. To check whether\n",
      " |      we have the ``conv`` submodule, we would call\n",
      " |      ``get_submodule(\"net_b.net_c.conv\")``.\n",
      " |      \n",
      " |      The runtime of ``get_submodule`` is bounded by the degree\n",
      " |      of module nesting in ``target``. A query against\n",
      " |      ``named_modules`` achieves the same result, but it is O(N) in\n",
      " |      the number of transitive modules. So, for a simple check to see\n",
      " |      if some submodule exists, ``get_submodule`` should always be\n",
      " |      used.\n",
      " |      \n",
      " |      Args:\n",
      " |          target: The fully-qualified string name of the submodule\n",
      " |              to look for. (See above example for how to specify a\n",
      " |              fully-qualified string.)\n",
      " |      \n",
      " |      Returns:\n",
      " |          torch.nn.Module: The submodule referenced by ``target``\n",
      " |      \n",
      " |      Raises:\n",
      " |          AttributeError: If the target string references an invalid\n",
      " |              path or resolves to something that is not an\n",
      " |              ``nn.Module``\n",
      " |  \n",
      " |  ipu(self: ~T, device: Union[int, torch.device, NoneType] = None) -> ~T\n",
      " |      Move all model parameters and buffers to the IPU.\n",
      " |      \n",
      " |      This also makes associated parameters and buffers different objects. So\n",
      " |      it should be called before constructing the optimizer if the module will\n",
      " |      live on IPU while being optimized.\n",
      " |      \n",
      " |      .. note::\n",
      " |          This method modifies the module in-place.\n",
      " |      \n",
      " |      Arguments:\n",
      " |          device (int, optional): if specified, all parameters will be\n",
      " |              copied to that device\n",
      " |      \n",
      " |      Returns:\n",
      " |          Module: self\n",
      " |  \n",
      " |  load_state_dict(self, state_dict: Mapping[str, Any], strict: bool = True, assign: bool = False)\n",
      " |      Copy parameters and buffers from :attr:`state_dict` into this module and its descendants.\n",
      " |      \n",
      " |      If :attr:`strict` is ``True``, then\n",
      " |      the keys of :attr:`state_dict` must exactly match the keys returned\n",
      " |      by this module's :meth:`~torch.nn.Module.state_dict` function.\n",
      " |      \n",
      " |      .. warning::\n",
      " |          If :attr:`assign` is ``True`` the optimizer must be created after\n",
      " |          the call to :attr:`load_state_dict` unless\n",
      " |          :func:`~torch.__future__.get_swap_module_params_on_conversion` is ``True``.\n",
      " |      \n",
      " |      Args:\n",
      " |          state_dict (dict): a dict containing parameters and\n",
      " |              persistent buffers.\n",
      " |          strict (bool, optional): whether to strictly enforce that the keys\n",
      " |              in :attr:`state_dict` match the keys returned by this module's\n",
      " |              :meth:`~torch.nn.Module.state_dict` function. Default: ``True``\n",
      " |          assign (bool, optional): When set to ``False``, the properties of the tensors\n",
      " |              in the current module are preserved whereas setting it to ``True`` preserves\n",
      " |              properties of the Tensors in the state dict. The only\n",
      " |              exception is the ``requires_grad`` field of :class:`~torch.nn.Parameter`s\n",
      " |              for which the value from the module is preserved.\n",
      " |              Default: ``False``\n",
      " |      \n",
      " |      Returns:\n",
      " |          ``NamedTuple`` with ``missing_keys`` and ``unexpected_keys`` fields:\n",
      " |              * **missing_keys** is a list of str containing any keys that are expected\n",
      " |                  by this module but missing from the provided ``state_dict``.\n",
      " |              * **unexpected_keys** is a list of str containing the keys that are not\n",
      " |                  expected by this module but present in the provided ``state_dict``.\n",
      " |      \n",
      " |      Note:\n",
      " |          If a parameter or buffer is registered as ``None`` and its corresponding key\n",
      " |          exists in :attr:`state_dict`, :meth:`load_state_dict` will raise a\n",
      " |          ``RuntimeError``.\n",
      " |  \n",
      " |  modules(self) -> Iterator[ForwardRef('Module')]\n",
      " |      Return an iterator over all modules in the network.\n",
      " |      \n",
      " |      Yields:\n",
      " |          Module: a module in the network\n",
      " |      \n",
      " |      Note:\n",
      " |          Duplicate modules are returned only once. In the following\n",
      " |          example, ``l`` will be returned only once.\n",
      " |      \n",
      " |      Example::\n",
      " |      \n",
      " |          >>> l = nn.Linear(2, 2)\n",
      " |          >>> net = nn.Sequential(l, l)\n",
      " |          >>> for idx, m in enumerate(net.modules()):\n",
      " |          ...     print(idx, '->', m)\n",
      " |      \n",
      " |          0 -> Sequential(\n",
      " |            (0): Linear(in_features=2, out_features=2, bias=True)\n",
      " |            (1): Linear(in_features=2, out_features=2, bias=True)\n",
      " |          )\n",
      " |          1 -> Linear(in_features=2, out_features=2, bias=True)\n",
      " |  \n",
      " |  mtia(self: ~T, device: Union[int, torch.device, NoneType] = None) -> ~T\n",
      " |      Move all model parameters and buffers to the MTIA.\n",
      " |      \n",
      " |      This also makes associated parameters and buffers different objects. So\n",
      " |      it should be called before constructing the optimizer if the module will\n",
      " |      live on MTIA while being optimized.\n",
      " |      \n",
      " |      .. note::\n",
      " |          This method modifies the module in-place.\n",
      " |      \n",
      " |      Arguments:\n",
      " |          device (int, optional): if specified, all parameters will be\n",
      " |              copied to that device\n",
      " |      \n",
      " |      Returns:\n",
      " |          Module: self\n",
      " |  \n",
      " |  named_buffers(self, prefix: str = '', recurse: bool = True, remove_duplicate: bool = True) -> Iterator[Tuple[str, torch.Tensor]]\n",
      " |      Return an iterator over module buffers, yielding both the name of the buffer as well as the buffer itself.\n",
      " |      \n",
      " |      Args:\n",
      " |          prefix (str): prefix to prepend to all buffer names.\n",
      " |          recurse (bool, optional): if True, then yields buffers of this module\n",
      " |              and all submodules. Otherwise, yields only buffers that\n",
      " |              are direct members of this module. Defaults to True.\n",
      " |          remove_duplicate (bool, optional): whether to remove the duplicated buffers in the result. Defaults to True.\n",
      " |      \n",
      " |      Yields:\n",
      " |          (str, torch.Tensor): Tuple containing the name and buffer\n",
      " |      \n",
      " |      Example::\n",
      " |      \n",
      " |          >>> # xdoctest: +SKIP(\"undefined vars\")\n",
      " |          >>> for name, buf in self.named_buffers():\n",
      " |          >>>     if name in ['running_var']:\n",
      " |          >>>         print(buf.size())\n",
      " |  \n",
      " |  named_children(self) -> Iterator[Tuple[str, ForwardRef('Module')]]\n",
      " |      Return an iterator over immediate children modules, yielding both the name of the module as well as the module itself.\n",
      " |      \n",
      " |      Yields:\n",
      " |          (str, Module): Tuple containing a name and child module\n",
      " |      \n",
      " |      Example::\n",
      " |      \n",
      " |          >>> # xdoctest: +SKIP(\"undefined vars\")\n",
      " |          >>> for name, module in model.named_children():\n",
      " |          >>>     if name in ['conv4', 'conv5']:\n",
      " |          >>>         print(module)\n",
      " |  \n",
      " |  named_modules(self, memo: Optional[Set[ForwardRef('Module')]] = None, prefix: str = '', remove_duplicate: bool = True)\n",
      " |      Return an iterator over all modules in the network, yielding both the name of the module as well as the module itself.\n",
      " |      \n",
      " |      Args:\n",
      " |          memo: a memo to store the set of modules already added to the result\n",
      " |          prefix: a prefix that will be added to the name of the module\n",
      " |          remove_duplicate: whether to remove the duplicated module instances in the result\n",
      " |              or not\n",
      " |      \n",
      " |      Yields:\n",
      " |          (str, Module): Tuple of name and module\n",
      " |      \n",
      " |      Note:\n",
      " |          Duplicate modules are returned only once. In the following\n",
      " |          example, ``l`` will be returned only once.\n",
      " |      \n",
      " |      Example::\n",
      " |      \n",
      " |          >>> l = nn.Linear(2, 2)\n",
      " |          >>> net = nn.Sequential(l, l)\n",
      " |          >>> for idx, m in enumerate(net.named_modules()):\n",
      " |          ...     print(idx, '->', m)\n",
      " |      \n",
      " |          0 -> ('', Sequential(\n",
      " |            (0): Linear(in_features=2, out_features=2, bias=True)\n",
      " |            (1): Linear(in_features=2, out_features=2, bias=True)\n",
      " |          ))\n",
      " |          1 -> ('0', Linear(in_features=2, out_features=2, bias=True))\n",
      " |  \n",
      " |  named_parameters(self, prefix: str = '', recurse: bool = True, remove_duplicate: bool = True) -> Iterator[Tuple[str, torch.nn.parameter.Parameter]]\n",
      " |      Return an iterator over module parameters, yielding both the name of the parameter as well as the parameter itself.\n",
      " |      \n",
      " |      Args:\n",
      " |          prefix (str): prefix to prepend to all parameter names.\n",
      " |          recurse (bool): if True, then yields parameters of this module\n",
      " |              and all submodules. Otherwise, yields only parameters that\n",
      " |              are direct members of this module.\n",
      " |          remove_duplicate (bool, optional): whether to remove the duplicated\n",
      " |              parameters in the result. Defaults to True.\n",
      " |      \n",
      " |      Yields:\n",
      " |          (str, Parameter): Tuple containing the name and parameter\n",
      " |      \n",
      " |      Example::\n",
      " |      \n",
      " |          >>> # xdoctest: +SKIP(\"undefined vars\")\n",
      " |          >>> for name, param in self.named_parameters():\n",
      " |          >>>     if name in ['bias']:\n",
      " |          >>>         print(param.size())\n",
      " |  \n",
      " |  parameters(self, recurse: bool = True) -> Iterator[torch.nn.parameter.Parameter]\n",
      " |      Return an iterator over module parameters.\n",
      " |      \n",
      " |      This is typically passed to an optimizer.\n",
      " |      \n",
      " |      Args:\n",
      " |          recurse (bool): if True, then yields parameters of this module\n",
      " |              and all submodules. Otherwise, yields only parameters that\n",
      " |              are direct members of this module.\n",
      " |      \n",
      " |      Yields:\n",
      " |          Parameter: module parameter\n",
      " |      \n",
      " |      Example::\n",
      " |      \n",
      " |          >>> # xdoctest: +SKIP(\"undefined vars\")\n",
      " |          >>> for param in model.parameters():\n",
      " |          >>>     print(type(param), param.size())\n",
      " |          <class 'torch.Tensor'> (20L,)\n",
      " |          <class 'torch.Tensor'> (20L, 1L, 5L, 5L)\n",
      " |  \n",
      " |  register_backward_hook(self, hook: Callable[[ForwardRef('Module'), Union[Tuple[torch.Tensor, ...], torch.Tensor], Union[Tuple[torch.Tensor, ...], torch.Tensor]], Union[NoneType, Tuple[torch.Tensor, ...], torch.Tensor]]) -> torch.utils.hooks.RemovableHandle\n",
      " |      Register a backward hook on the module.\n",
      " |      \n",
      " |      This function is deprecated in favor of :meth:`~torch.nn.Module.register_full_backward_hook` and\n",
      " |      the behavior of this function will change in future versions.\n",
      " |      \n",
      " |      Returns:\n",
      " |          :class:`torch.utils.hooks.RemovableHandle`:\n",
      " |              a handle that can be used to remove the added hook by calling\n",
      " |              ``handle.remove()``\n",
      " |  \n",
      " |  register_buffer(self, name: str, tensor: Optional[torch.Tensor], persistent: bool = True) -> None\n",
      " |      Add a buffer to the module.\n",
      " |      \n",
      " |      This is typically used to register a buffer that should not to be\n",
      " |      considered a model parameter. For example, BatchNorm's ``running_mean``\n",
      " |      is not a parameter, but is part of the module's state. Buffers, by\n",
      " |      default, are persistent and will be saved alongside parameters. This\n",
      " |      behavior can be changed by setting :attr:`persistent` to ``False``. The\n",
      " |      only difference between a persistent buffer and a non-persistent buffer\n",
      " |      is that the latter will not be a part of this module's\n",
      " |      :attr:`state_dict`.\n",
      " |      \n",
      " |      Buffers can be accessed as attributes using given names.\n",
      " |      \n",
      " |      Args:\n",
      " |          name (str): name of the buffer. The buffer can be accessed\n",
      " |              from this module using the given name\n",
      " |          tensor (Tensor or None): buffer to be registered. If ``None``, then operations\n",
      " |              that run on buffers, such as :attr:`cuda`, are ignored. If ``None``,\n",
      " |              the buffer is **not** included in the module's :attr:`state_dict`.\n",
      " |          persistent (bool): whether the buffer is part of this module's\n",
      " |              :attr:`state_dict`.\n",
      " |      \n",
      " |      Example::\n",
      " |      \n",
      " |          >>> # xdoctest: +SKIP(\"undefined vars\")\n",
      " |          >>> self.register_buffer('running_mean', torch.zeros(num_features))\n",
      " |  \n",
      " |  register_forward_hook(self, hook: Union[Callable[[~T, Tuple[Any, ...], Any], Optional[Any]], Callable[[~T, Tuple[Any, ...], Dict[str, Any], Any], Optional[Any]]], *, prepend: bool = False, with_kwargs: bool = False, always_call: bool = False) -> torch.utils.hooks.RemovableHandle\n",
      " |      Register a forward hook on the module.\n",
      " |      \n",
      " |      The hook will be called every time after :func:`forward` has computed an output.\n",
      " |      \n",
      " |      If ``with_kwargs`` is ``False`` or not specified, the input contains only\n",
      " |      the positional arguments given to the module. Keyword arguments won't be\n",
      " |      passed to the hooks and only to the ``forward``. The hook can modify the\n",
      " |      output. It can modify the input inplace but it will not have effect on\n",
      " |      forward since this is called after :func:`forward` is called. The hook\n",
      " |      should have the following signature::\n",
      " |      \n",
      " |          hook(module, args, output) -> None or modified output\n",
      " |      \n",
      " |      If ``with_kwargs`` is ``True``, the forward hook will be passed the\n",
      " |      ``kwargs`` given to the forward function and be expected to return the\n",
      " |      output possibly modified. The hook should have the following signature::\n",
      " |      \n",
      " |          hook(module, args, kwargs, output) -> None or modified output\n",
      " |      \n",
      " |      Args:\n",
      " |          hook (Callable): The user defined hook to be registered.\n",
      " |          prepend (bool): If ``True``, the provided ``hook`` will be fired\n",
      " |              before all existing ``forward`` hooks on this\n",
      " |              :class:`torch.nn.modules.Module`. Otherwise, the provided\n",
      " |              ``hook`` will be fired after all existing ``forward`` hooks on\n",
      " |              this :class:`torch.nn.modules.Module`. Note that global\n",
      " |              ``forward`` hooks registered with\n",
      " |              :func:`register_module_forward_hook` will fire before all hooks\n",
      " |              registered by this method.\n",
      " |              Default: ``False``\n",
      " |          with_kwargs (bool): If ``True``, the ``hook`` will be passed the\n",
      " |              kwargs given to the forward function.\n",
      " |              Default: ``False``\n",
      " |          always_call (bool): If ``True`` the ``hook`` will be run regardless of\n",
      " |              whether an exception is raised while calling the Module.\n",
      " |              Default: ``False``\n",
      " |      \n",
      " |      Returns:\n",
      " |          :class:`torch.utils.hooks.RemovableHandle`:\n",
      " |              a handle that can be used to remove the added hook by calling\n",
      " |              ``handle.remove()``\n",
      " |  \n",
      " |  register_forward_pre_hook(self, hook: Union[Callable[[~T, Tuple[Any, ...]], Optional[Any]], Callable[[~T, Tuple[Any, ...], Dict[str, Any]], Optional[Tuple[Any, Dict[str, Any]]]]], *, prepend: bool = False, with_kwargs: bool = False) -> torch.utils.hooks.RemovableHandle\n",
      " |      Register a forward pre-hook on the module.\n",
      " |      \n",
      " |      The hook will be called every time before :func:`forward` is invoked.\n",
      " |      \n",
      " |      \n",
      " |      If ``with_kwargs`` is false or not specified, the input contains only\n",
      " |      the positional arguments given to the module. Keyword arguments won't be\n",
      " |      passed to the hooks and only to the ``forward``. The hook can modify the\n",
      " |      input. User can either return a tuple or a single modified value in the\n",
      " |      hook. We will wrap the value into a tuple if a single value is returned\n",
      " |      (unless that value is already a tuple). The hook should have the\n",
      " |      following signature::\n",
      " |      \n",
      " |          hook(module, args) -> None or modified input\n",
      " |      \n",
      " |      If ``with_kwargs`` is true, the forward pre-hook will be passed the\n",
      " |      kwargs given to the forward function. And if the hook modifies the\n",
      " |      input, both the args and kwargs should be returned. The hook should have\n",
      " |      the following signature::\n",
      " |      \n",
      " |          hook(module, args, kwargs) -> None or a tuple of modified input and kwargs\n",
      " |      \n",
      " |      Args:\n",
      " |          hook (Callable): The user defined hook to be registered.\n",
      " |          prepend (bool): If true, the provided ``hook`` will be fired before\n",
      " |              all existing ``forward_pre`` hooks on this\n",
      " |              :class:`torch.nn.modules.Module`. Otherwise, the provided\n",
      " |              ``hook`` will be fired after all existing ``forward_pre`` hooks\n",
      " |              on this :class:`torch.nn.modules.Module`. Note that global\n",
      " |              ``forward_pre`` hooks registered with\n",
      " |              :func:`register_module_forward_pre_hook` will fire before all\n",
      " |              hooks registered by this method.\n",
      " |              Default: ``False``\n",
      " |          with_kwargs (bool): If true, the ``hook`` will be passed the kwargs\n",
      " |              given to the forward function.\n",
      " |              Default: ``False``\n",
      " |      \n",
      " |      Returns:\n",
      " |          :class:`torch.utils.hooks.RemovableHandle`:\n",
      " |              a handle that can be used to remove the added hook by calling\n",
      " |              ``handle.remove()``\n",
      " |  \n",
      " |  register_full_backward_hook(self, hook: Callable[[ForwardRef('Module'), Union[Tuple[torch.Tensor, ...], torch.Tensor], Union[Tuple[torch.Tensor, ...], torch.Tensor]], Union[NoneType, Tuple[torch.Tensor, ...], torch.Tensor]], prepend: bool = False) -> torch.utils.hooks.RemovableHandle\n",
      " |      Register a backward hook on the module.\n",
      " |      \n",
      " |      The hook will be called every time the gradients with respect to a module\n",
      " |      are computed, i.e. the hook will execute if and only if the gradients with\n",
      " |      respect to module outputs are computed. The hook should have the following\n",
      " |      signature::\n",
      " |      \n",
      " |          hook(module, grad_input, grad_output) -> tuple(Tensor) or None\n",
      " |      \n",
      " |      The :attr:`grad_input` and :attr:`grad_output` are tuples that contain the gradients\n",
      " |      with respect to the inputs and outputs respectively. The hook should\n",
      " |      not modify its arguments, but it can optionally return a new gradient with\n",
      " |      respect to the input that will be used in place of :attr:`grad_input` in\n",
      " |      subsequent computations. :attr:`grad_input` will only correspond to the inputs given\n",
      " |      as positional arguments and all kwarg arguments are ignored. Entries\n",
      " |      in :attr:`grad_input` and :attr:`grad_output` will be ``None`` for all non-Tensor\n",
      " |      arguments.\n",
      " |      \n",
      " |      For technical reasons, when this hook is applied to a Module, its forward function will\n",
      " |      receive a view of each Tensor passed to the Module. Similarly the caller will receive a view\n",
      " |      of each Tensor returned by the Module's forward function.\n",
      " |      \n",
      " |      .. warning ::\n",
      " |          Modifying inputs or outputs inplace is not allowed when using backward hooks and\n",
      " |          will raise an error.\n",
      " |      \n",
      " |      Args:\n",
      " |          hook (Callable): The user-defined hook to be registered.\n",
      " |          prepend (bool): If true, the provided ``hook`` will be fired before\n",
      " |              all existing ``backward`` hooks on this\n",
      " |              :class:`torch.nn.modules.Module`. Otherwise, the provided\n",
      " |              ``hook`` will be fired after all existing ``backward`` hooks on\n",
      " |              this :class:`torch.nn.modules.Module`. Note that global\n",
      " |              ``backward`` hooks registered with\n",
      " |              :func:`register_module_full_backward_hook` will fire before\n",
      " |              all hooks registered by this method.\n",
      " |      \n",
      " |      Returns:\n",
      " |          :class:`torch.utils.hooks.RemovableHandle`:\n",
      " |              a handle that can be used to remove the added hook by calling\n",
      " |              ``handle.remove()``\n",
      " |  \n",
      " |  register_full_backward_pre_hook(self, hook: Callable[[ForwardRef('Module'), Union[Tuple[torch.Tensor, ...], torch.Tensor]], Union[NoneType, Tuple[torch.Tensor, ...], torch.Tensor]], prepend: bool = False) -> torch.utils.hooks.RemovableHandle\n",
      " |      Register a backward pre-hook on the module.\n",
      " |      \n",
      " |      The hook will be called every time the gradients for the module are computed.\n",
      " |      The hook should have the following signature::\n",
      " |      \n",
      " |          hook(module, grad_output) -> tuple[Tensor] or None\n",
      " |      \n",
      " |      The :attr:`grad_output` is a tuple. The hook should\n",
      " |      not modify its arguments, but it can optionally return a new gradient with\n",
      " |      respect to the output that will be used in place of :attr:`grad_output` in\n",
      " |      subsequent computations. Entries in :attr:`grad_output` will be ``None`` for\n",
      " |      all non-Tensor arguments.\n",
      " |      \n",
      " |      For technical reasons, when this hook is applied to a Module, its forward function will\n",
      " |      receive a view of each Tensor passed to the Module. Similarly the caller will receive a view\n",
      " |      of each Tensor returned by the Module's forward function.\n",
      " |      \n",
      " |      .. warning ::\n",
      " |          Modifying inputs inplace is not allowed when using backward hooks and\n",
      " |          will raise an error.\n",
      " |      \n",
      " |      Args:\n",
      " |          hook (Callable): The user-defined hook to be registered.\n",
      " |          prepend (bool): If true, the provided ``hook`` will be fired before\n",
      " |              all existing ``backward_pre`` hooks on this\n",
      " |              :class:`torch.nn.modules.Module`. Otherwise, the provided\n",
      " |              ``hook`` will be fired after all existing ``backward_pre`` hooks\n",
      " |              on this :class:`torch.nn.modules.Module`. Note that global\n",
      " |              ``backward_pre`` hooks registered with\n",
      " |              :func:`register_module_full_backward_pre_hook` will fire before\n",
      " |              all hooks registered by this method.\n",
      " |      \n",
      " |      Returns:\n",
      " |          :class:`torch.utils.hooks.RemovableHandle`:\n",
      " |              a handle that can be used to remove the added hook by calling\n",
      " |              ``handle.remove()``\n",
      " |  \n",
      " |  register_load_state_dict_post_hook(self, hook)\n",
      " |      Register a post-hook to be run after module's :meth:`~nn.Module.load_state_dict` is called.\n",
      " |      \n",
      " |      It should have the following signature::\n",
      " |          hook(module, incompatible_keys) -> None\n",
      " |      \n",
      " |      The ``module`` argument is the current module that this hook is registered\n",
      " |      on, and the ``incompatible_keys`` argument is a ``NamedTuple`` consisting\n",
      " |      of attributes ``missing_keys`` and ``unexpected_keys``. ``missing_keys``\n",
      " |      is a ``list`` of ``str`` containing the missing keys and\n",
      " |      ``unexpected_keys`` is a ``list`` of ``str`` containing the unexpected keys.\n",
      " |      \n",
      " |      The given incompatible_keys can be modified inplace if needed.\n",
      " |      \n",
      " |      Note that the checks performed when calling :func:`load_state_dict` with\n",
      " |      ``strict=True`` are affected by modifications the hook makes to\n",
      " |      ``missing_keys`` or ``unexpected_keys``, as expected. Additions to either\n",
      " |      set of keys will result in an error being thrown when ``strict=True``, and\n",
      " |      clearing out both missing and unexpected keys will avoid an error.\n",
      " |      \n",
      " |      Returns:\n",
      " |          :class:`torch.utils.hooks.RemovableHandle`:\n",
      " |              a handle that can be used to remove the added hook by calling\n",
      " |              ``handle.remove()``\n",
      " |  \n",
      " |  register_load_state_dict_pre_hook(self, hook)\n",
      " |      Register a pre-hook to be run before module's :meth:`~nn.Module.load_state_dict` is called.\n",
      " |      \n",
      " |      It should have the following signature::\n",
      " |          hook(module, state_dict, prefix, local_metadata, strict, missing_keys, unexpected_keys, error_msgs) -> None  # noqa: B950\n",
      " |      \n",
      " |      Arguments:\n",
      " |          hook (Callable): Callable hook that will be invoked before\n",
      " |              loading the state dict.\n",
      " |  \n",
      " |  register_module(self, name: str, module: Optional[ForwardRef('Module')]) -> None\n",
      " |      Alias for :func:`add_module`.\n",
      " |  \n",
      " |  register_parameter(self, name: str, param: Optional[torch.nn.parameter.Parameter]) -> None\n",
      " |      Add a parameter to the module.\n",
      " |      \n",
      " |      The parameter can be accessed as an attribute using given name.\n",
      " |      \n",
      " |      Args:\n",
      " |          name (str): name of the parameter. The parameter can be accessed\n",
      " |              from this module using the given name\n",
      " |          param (Parameter or None): parameter to be added to the module. If\n",
      " |              ``None``, then operations that run on parameters, such as :attr:`cuda`,\n",
      " |              are ignored. If ``None``, the parameter is **not** included in the\n",
      " |              module's :attr:`state_dict`.\n",
      " |  \n",
      " |  register_state_dict_post_hook(self, hook)\n",
      " |      Register a post-hook for the :meth:`~torch.nn.Module.state_dict` method.\n",
      " |      \n",
      " |      It should have the following signature::\n",
      " |          hook(module, state_dict, prefix, local_metadata) -> None\n",
      " |      \n",
      " |      The registered hooks can modify the ``state_dict`` inplace.\n",
      " |  \n",
      " |  register_state_dict_pre_hook(self, hook)\n",
      " |      Register a pre-hook for the :meth:`~torch.nn.Module.state_dict` method.\n",
      " |      \n",
      " |      It should have the following signature::\n",
      " |          hook(module, prefix, keep_vars) -> None\n",
      " |      \n",
      " |      The registered hooks can be used to perform pre-processing before the ``state_dict``\n",
      " |      call is made.\n",
      " |  \n",
      " |  requires_grad_(self: ~T, requires_grad: bool = True) -> ~T\n",
      " |      Change if autograd should record operations on parameters in this module.\n",
      " |      \n",
      " |      This method sets the parameters' :attr:`requires_grad` attributes\n",
      " |      in-place.\n",
      " |      \n",
      " |      This method is helpful for freezing part of the module for finetuning\n",
      " |      or training parts of a model individually (e.g., GAN training).\n",
      " |      \n",
      " |      See :ref:`locally-disable-grad-doc` for a comparison between\n",
      " |      `.requires_grad_()` and several similar mechanisms that may be confused with it.\n",
      " |      \n",
      " |      Args:\n",
      " |          requires_grad (bool): whether autograd should record operations on\n",
      " |                                parameters in this module. Default: ``True``.\n",
      " |      \n",
      " |      Returns:\n",
      " |          Module: self\n",
      " |  \n",
      " |  set_extra_state(self, state: Any) -> None\n",
      " |      Set extra state contained in the loaded `state_dict`.\n",
      " |      \n",
      " |      This function is called from :func:`load_state_dict` to handle any extra state\n",
      " |      found within the `state_dict`. Implement this function and a corresponding\n",
      " |      :func:`get_extra_state` for your module if you need to store extra state within its\n",
      " |      `state_dict`.\n",
      " |      \n",
      " |      Args:\n",
      " |          state (dict): Extra state from the `state_dict`\n",
      " |  \n",
      " |  set_submodule(self, target: str, module: 'Module') -> None\n",
      " |      Set the submodule given by ``target`` if it exists, otherwise throw an error.\n",
      " |      \n",
      " |      For example, let's say you have an ``nn.Module`` ``A`` that\n",
      " |      looks like this:\n",
      " |      \n",
      " |      .. code-block:: text\n",
      " |      \n",
      " |          A(\n",
      " |              (net_b): Module(\n",
      " |                  (net_c): Module(\n",
      " |                      (conv): Conv2d(16, 33, kernel_size=(3, 3), stride=(2, 2))\n",
      " |                  )\n",
      " |                  (linear): Linear(in_features=100, out_features=200, bias=True)\n",
      " |              )\n",
      " |          )\n",
      " |      \n",
      " |      (The diagram shows an ``nn.Module`` ``A``. ``A`` has a nested\n",
      " |      submodule ``net_b``, which itself has two submodules ``net_c``\n",
      " |      and ``linear``. ``net_c`` then has a submodule ``conv``.)\n",
      " |      \n",
      " |      To overide the ``Conv2d`` with a new submodule ``Linear``, you\n",
      " |      would call\n",
      " |      ``set_submodule(\"net_b.net_c.conv\", nn.Linear(33, 16))``.\n",
      " |      \n",
      " |      Args:\n",
      " |          target: The fully-qualified string name of the submodule\n",
      " |              to look for. (See above example for how to specify a\n",
      " |              fully-qualified string.)\n",
      " |          module: The module to set the submodule to.\n",
      " |      \n",
      " |      Raises:\n",
      " |          ValueError: If the target string is empty\n",
      " |          AttributeError: If the target string references an invalid\n",
      " |              path or resolves to something that is not an\n",
      " |              ``nn.Module``\n",
      " |  \n",
      " |  share_memory(self: ~T) -> ~T\n",
      " |      See :meth:`torch.Tensor.share_memory_`.\n",
      " |  \n",
      " |  smart_apply(self, fn)\n",
      " |      # This function is equivalent to `torch.nn.Module.apply`, except that it dynamically adjust the function\n",
      " |      # to apply as we go down the graph\n",
      " |  \n",
      " |  state_dict(self, *args, destination=None, prefix='', keep_vars=False)\n",
      " |      Return a dictionary containing references to the whole state of the module.\n",
      " |      \n",
      " |      Both parameters and persistent buffers (e.g. running averages) are\n",
      " |      included. Keys are corresponding parameter and buffer names.\n",
      " |      Parameters and buffers set to ``None`` are not included.\n",
      " |      \n",
      " |      .. note::\n",
      " |          The returned object is a shallow copy. It contains references\n",
      " |          to the module's parameters and buffers.\n",
      " |      \n",
      " |      .. warning::\n",
      " |          Currently ``state_dict()`` also accepts positional arguments for\n",
      " |          ``destination``, ``prefix`` and ``keep_vars`` in order. However,\n",
      " |          this is being deprecated and keyword arguments will be enforced in\n",
      " |          future releases.\n",
      " |      \n",
      " |      .. warning::\n",
      " |          Please avoid the use of argument ``destination`` as it is not\n",
      " |          designed for end-users.\n",
      " |      \n",
      " |      Args:\n",
      " |          destination (dict, optional): If provided, the state of module will\n",
      " |              be updated into the dict and the same object is returned.\n",
      " |              Otherwise, an ``OrderedDict`` will be created and returned.\n",
      " |              Default: ``None``.\n",
      " |          prefix (str, optional): a prefix added to parameter and buffer\n",
      " |              names to compose the keys in state_dict. Default: ``''``.\n",
      " |          keep_vars (bool, optional): by default the :class:`~torch.Tensor` s\n",
      " |              returned in the state dict are detached from autograd. If it's\n",
      " |              set to ``True``, detaching will not be performed.\n",
      " |              Default: ``False``.\n",
      " |      \n",
      " |      Returns:\n",
      " |          dict:\n",
      " |              a dictionary containing a whole state of the module\n",
      " |      \n",
      " |      Example::\n",
      " |      \n",
      " |          >>> # xdoctest: +SKIP(\"undefined vars\")\n",
      " |          >>> module.state_dict().keys()\n",
      " |          ['bias', 'weight']\n",
      " |  \n",
      " |  to_empty(self: ~T, *, device: Union[int, str, torch.device, NoneType], recurse: bool = True) -> ~T\n",
      " |      Move the parameters and buffers to the specified device without copying storage.\n",
      " |      \n",
      " |      Args:\n",
      " |          device (:class:`torch.device`): The desired device of the parameters\n",
      " |              and buffers in this module.\n",
      " |          recurse (bool): Whether parameters and buffers of submodules should\n",
      " |              be recursively moved to the specified device.\n",
      " |      \n",
      " |      Returns:\n",
      " |          Module: self\n",
      " |  \n",
      " |  train(self: ~T, mode: bool = True) -> ~T\n",
      " |      Set the module in training mode.\n",
      " |      \n",
      " |      This has an effect only on certain modules. See the documentation of\n",
      " |      particular modules for details of their behaviors in training/evaluation\n",
      " |      mode, i.e., whether they are affected, e.g. :class:`Dropout`, :class:`BatchNorm`,\n",
      " |      etc.\n",
      " |      \n",
      " |      Args:\n",
      " |          mode (bool): whether to set training mode (``True``) or evaluation\n",
      " |                       mode (``False``). Default: ``True``.\n",
      " |      \n",
      " |      Returns:\n",
      " |          Module: self\n",
      " |  \n",
      " |  type(self: ~T, dst_type: Union[torch.dtype, str]) -> ~T\n",
      " |      Casts all parameters and buffers to :attr:`dst_type`.\n",
      " |      \n",
      " |      .. note::\n",
      " |          This method modifies the module in-place.\n",
      " |      \n",
      " |      Args:\n",
      " |          dst_type (type or string): the desired type\n",
      " |      \n",
      " |      Returns:\n",
      " |          Module: self\n",
      " |  \n",
      " |  xpu(self: ~T, device: Union[int, torch.device, NoneType] = None) -> ~T\n",
      " |      Move all model parameters and buffers to the XPU.\n",
      " |      \n",
      " |      This also makes associated parameters and buffers different objects. So\n",
      " |      it should be called before constructing optimizer if the module will\n",
      " |      live on XPU while being optimized.\n",
      " |      \n",
      " |      .. note::\n",
      " |          This method modifies the module in-place.\n",
      " |      \n",
      " |      Arguments:\n",
      " |          device (int, optional): if specified, all parameters will be\n",
      " |              copied to that device\n",
      " |      \n",
      " |      Returns:\n",
      " |          Module: self\n",
      " |  \n",
      " |  zero_grad(self, set_to_none: bool = True) -> None\n",
      " |      Reset gradients of all model parameters.\n",
      " |      \n",
      " |      See similar function under :class:`torch.optim.Optimizer` for more context.\n",
      " |      \n",
      " |      Args:\n",
      " |          set_to_none (bool): instead of setting to zero, set the grads to None.\n",
      " |              See :meth:`torch.optim.Optimizer.zero_grad` for details.\n",
      " |  \n",
      " |  ----------------------------------------------------------------------\n",
      " |  Data descriptors inherited from torch.nn.modules.module.Module:\n",
      " |  \n",
      " |  __dict__\n",
      " |      dictionary for instance variables (if defined)\n",
      " |  \n",
      " |  __weakref__\n",
      " |      list of weak references to the object (if defined)\n",
      " |  \n",
      " |  ----------------------------------------------------------------------\n",
      " |  Data and other attributes inherited from torch.nn.modules.module.Module:\n",
      " |  \n",
      " |  T_destination = ~T_destination\n",
      " |  \n",
      " |  call_super_init = False\n",
      " |  \n",
      " |  dump_patches = False\n",
      " |  \n",
      " |  ----------------------------------------------------------------------\n",
      " |  Methods inherited from transformers.modeling_utils.ModuleUtilsMixin:\n",
      " |  \n",
      " |  add_memory_hooks(self)\n",
      " |      Add a memory hook before and after each sub-module forward pass to record increase in memory consumption.\n",
      " |      \n",
      " |      Increase in memory consumption is stored in a `mem_rss_diff` attribute for each module and can be reset to zero\n",
      " |      with `model.reset_memory_hooks_state()`.\n",
      " |  \n",
      " |  estimate_tokens(self, input_dict: Dict[str, Union[torch.Tensor, Any]]) -> int\n",
      " |      Helper function to estimate the total number of tokens from the model inputs.\n",
      " |      \n",
      " |      Args:\n",
      " |          inputs (`dict`): The model inputs.\n",
      " |      \n",
      " |      Returns:\n",
      " |          `int`: The total number of tokens.\n",
      " |  \n",
      " |  floating_point_ops(self, input_dict: Dict[str, Union[torch.Tensor, Any]], exclude_embeddings: bool = True) -> int\n",
      " |      Get number of (optionally, non-embeddings) floating-point operations for the forward and backward passes of a\n",
      " |      batch with this transformer model. Default approximation neglects the quadratic dependency on the number of\n",
      " |      tokens (valid if `12 * d_model << sequence_length`) as laid out in [this\n",
      " |      paper](https://arxiv.org/pdf/2001.08361.pdf) section 2.1. Should be overridden for transformers with parameter\n",
      " |      re-use e.g. Albert or Universal Transformers, or if doing long-range modeling with very high sequence lengths.\n",
      " |      \n",
      " |      Args:\n",
      " |          batch_size (`int`):\n",
      " |              The batch size for the forward pass.\n",
      " |      \n",
      " |          sequence_length (`int`):\n",
      " |              The number of tokens in each line of the batch.\n",
      " |      \n",
      " |          exclude_embeddings (`bool`, *optional*, defaults to `True`):\n",
      " |              Whether or not to count embedding and softmax operations.\n",
      " |      \n",
      " |      Returns:\n",
      " |          `int`: The number of floating-point operations.\n",
      " |  \n",
      " |  get_extended_attention_mask(self, attention_mask: torch.Tensor, input_shape: Tuple[int], device: torch.device = None, dtype: torch.float32 = None) -> torch.Tensor\n",
      " |      Makes broadcastable attention and causal masks so that future and masked tokens are ignored.\n",
      " |      \n",
      " |      Arguments:\n",
      " |          attention_mask (`torch.Tensor`):\n",
      " |              Mask with ones indicating tokens to attend to, zeros for tokens to ignore.\n",
      " |          input_shape (`Tuple[int]`):\n",
      " |              The shape of the input to the model.\n",
      " |      \n",
      " |      Returns:\n",
      " |          `torch.Tensor` The extended attention mask, with a the same dtype as `attention_mask.dtype`.\n",
      " |  \n",
      " |  get_head_mask(self, head_mask: Optional[torch.Tensor], num_hidden_layers: int, is_attention_chunked: bool = False) -> torch.Tensor\n",
      " |      Prepare the head mask if needed.\n",
      " |      \n",
      " |      Args:\n",
      " |          head_mask (`torch.Tensor` with shape `[num_heads]` or `[num_hidden_layers x num_heads]`, *optional*):\n",
      " |              The mask indicating if we should keep the heads or not (1.0 for keep, 0.0 for discard).\n",
      " |          num_hidden_layers (`int`):\n",
      " |              The number of hidden layers in the model.\n",
      " |          is_attention_chunked (`bool`, *optional*, defaults to `False`):\n",
      " |              Whether or not the attentions scores are computed by chunks or not.\n",
      " |      \n",
      " |      Returns:\n",
      " |          `torch.Tensor` with shape `[num_hidden_layers x batch x num_heads x seq_length x seq_length]` or list with\n",
      " |          `[None]` for each layer.\n",
      " |  \n",
      " |  invert_attention_mask(self, encoder_attention_mask: torch.Tensor) -> torch.Tensor\n",
      " |      Invert an attention mask (e.g., switches 0. and 1.).\n",
      " |      \n",
      " |      Args:\n",
      " |          encoder_attention_mask (`torch.Tensor`): An attention mask.\n",
      " |      \n",
      " |      Returns:\n",
      " |          `torch.Tensor`: The inverted attention mask.\n",
      " |  \n",
      " |  num_parameters(self, only_trainable: bool = False, exclude_embeddings: bool = False) -> int\n",
      " |      Get number of (optionally, trainable or non-embeddings) parameters in the module.\n",
      " |      \n",
      " |      Args:\n",
      " |          only_trainable (`bool`, *optional*, defaults to `False`):\n",
      " |              Whether or not to return only the number of trainable parameters\n",
      " |      \n",
      " |          exclude_embeddings (`bool`, *optional*, defaults to `False`):\n",
      " |              Whether or not to return only the number of non-embeddings parameters\n",
      " |      \n",
      " |      Returns:\n",
      " |          `int`: The number of parameters.\n",
      " |  \n",
      " |  reset_memory_hooks_state(self)\n",
      " |      Reset the `mem_rss_diff` attribute of each module (see [`~modeling_utils.ModuleUtilsMixin.add_memory_hooks`]).\n",
      " |  \n",
      " |  ----------------------------------------------------------------------\n",
      " |  Static methods inherited from transformers.modeling_utils.ModuleUtilsMixin:\n",
      " |  \n",
      " |  create_extended_attention_mask_for_decoder(input_shape, attention_mask, device=None)\n",
      " |  \n",
      " |  ----------------------------------------------------------------------\n",
      " |  Readonly properties inherited from transformers.modeling_utils.ModuleUtilsMixin:\n",
      " |  \n",
      " |  device\n",
      " |      `torch.device`: The device on which the module is (assuming that all the module parameters are on the same\n",
      " |      device).\n",
      " |  \n",
      " |  dtype\n",
      " |      `torch.dtype`: The dtype of the module (assuming that all the module parameters have the same dtype).\n",
      " |  \n",
      " |  ----------------------------------------------------------------------\n",
      " |  Methods inherited from transformers.integrations.peft.PeftAdapterMixin:\n",
      " |  \n",
      " |  active_adapter(self) -> str\n",
      " |  \n",
      " |  active_adapters(self) -> List[str]\n",
      " |      If you are not familiar with adapters and PEFT methods, we invite you to read more about them on the PEFT\n",
      " |      official documentation: https://huggingface.co/docs/peft\n",
      " |      \n",
      " |      Gets the current active adapters of the model. In case of multi-adapter inference (combining multiple adapters\n",
      " |      for inference) returns the list of all active adapters so that users can deal with them accordingly.\n",
      " |      \n",
      " |      For previous PEFT versions (that does not support multi-adapter inference), `module.active_adapter` will return\n",
      " |      a single string.\n",
      " |  \n",
      " |  add_adapter(self, adapter_config, adapter_name: Optional[str] = None) -> None\n",
      " |      If you are not familiar with adapters and PEFT methods, we invite you to read more about them on the PEFT\n",
      " |      official documentation: https://huggingface.co/docs/peft\n",
      " |      \n",
      " |      Adds a fresh new adapter to the current model for training purpose. If no adapter name is passed, a default\n",
      " |      name is assigned to the adapter to follow the convention of PEFT library (in PEFT we use \"default\" as the\n",
      " |      default adapter name).\n",
      " |      \n",
      " |      Args:\n",
      " |          adapter_config (`~peft.PeftConfig`):\n",
      " |              The configuration of the adapter to add, supported adapters are non-prefix tuning and adaption prompts\n",
      " |              methods\n",
      " |          adapter_name (`str`, *optional*, defaults to `\"default\"`):\n",
      " |              The name of the adapter to add. If no name is passed, a default name is assigned to the adapter.\n",
      " |  \n",
      " |  delete_adapter(self, adapter_names: Union[List[str], str]) -> None\n",
      " |      Delete an adapter's LoRA layers from the underlying model.\n",
      " |      \n",
      " |      Args:\n",
      " |          adapter_names (`Union[List[str], str]`):\n",
      " |              The name(s) of the adapter(s) to delete.\n",
      " |      \n",
      " |      Example:\n",
      " |      \n",
      " |      ```py\n",
      " |      from diffusers import AutoPipelineForText2Image\n",
      " |      import torch\n",
      " |      \n",
      " |      pipeline = AutoPipelineForText2Image.from_pretrained(\n",
      " |          \"stabilityai/stable-diffusion-xl-base-1.0\", torch_dtype=torch.float16\n",
      " |      ).to(\"cuda\")\n",
      " |      pipeline.load_lora_weights(\n",
      " |          \"jbilcke-hf/sdxl-cinematic-1\", weight_name=\"pytorch_lora_weights.safetensors\", adapter_names=\"cinematic\"\n",
      " |      )\n",
      " |      pipeline.delete_adapters(\"cinematic\")\n",
      " |      ```\n",
      " |  \n",
      " |  disable_adapters(self) -> None\n",
      " |      If you are not familiar with adapters and PEFT methods, we invite you to read more about them on the PEFT\n",
      " |      official documentation: https://huggingface.co/docs/peft\n",
      " |      \n",
      " |      Disable all adapters that are attached to the model. This leads to inferring with the base model only.\n",
      " |  \n",
      " |  enable_adapters(self) -> None\n",
      " |      If you are not familiar with adapters and PEFT methods, we invite you to read more about them on the PEFT\n",
      " |      official documentation: https://huggingface.co/docs/peft\n",
      " |      \n",
      " |      Enable adapters that are attached to the model.\n",
      " |  \n",
      " |  get_adapter_state_dict(self, adapter_name: Optional[str] = None, state_dict: Optional[dict] = None) -> dict\n",
      " |      If you are not familiar with adapters and PEFT methods, we invite you to read more about them on the PEFT\n",
      " |      official documentation: https://huggingface.co/docs/peft\n",
      " |      \n",
      " |      Gets the adapter state dict that should only contain the weights tensors of the specified adapter_name adapter.\n",
      " |      If no adapter_name is passed, the active adapter is used.\n",
      " |      \n",
      " |      Args:\n",
      " |          adapter_name (`str`, *optional*):\n",
      " |              The name of the adapter to get the state dict from. If no name is passed, the active adapter is used.\n",
      " |          state_dict (nested dictionary of `torch.Tensor`, *optional*)\n",
      " |              The state dictionary of the model. Will default to `self.state_dict()`, but can be used if special\n",
      " |              precautions need to be taken when recovering the state dictionary of a model (like when using model\n",
      " |              parallelism).\n",
      " |  \n",
      " |  load_adapter(self, peft_model_id: Optional[str] = None, adapter_name: Optional[str] = None, revision: Optional[str] = None, token: Optional[str] = None, device_map: Optional[str] = 'auto', max_memory: Optional[str] = None, offload_folder: Optional[str] = None, offload_index: Optional[int] = None, peft_config: Dict[str, Any] = None, adapter_state_dict: Optional[Dict[str, ForwardRef('torch.Tensor')]] = None, low_cpu_mem_usage: bool = False, is_trainable: bool = False, adapter_kwargs: Optional[Dict[str, Any]] = None) -> None\n",
      " |      Load adapter weights from file or remote Hub folder. If you are not familiar with adapters and PEFT methods, we\n",
      " |      invite you to read more about them on PEFT official documentation: https://huggingface.co/docs/peft\n",
      " |      \n",
      " |      Requires peft as a backend to load the adapter weights.\n",
      " |      \n",
      " |      Args:\n",
      " |          peft_model_id (`str`, *optional*):\n",
      " |              The identifier of the model to look for on the Hub, or a local path to the saved adapter config file\n",
      " |              and adapter weights.\n",
      " |          adapter_name (`str`, *optional*):\n",
      " |              The adapter name to use. If not set, will use the default adapter.\n",
      " |          revision (`str`, *optional*, defaults to `\"main\"`):\n",
      " |              The specific model version to use. It can be a branch name, a tag name, or a commit id, since we use a\n",
      " |              git-based system for storing models and other artifacts on huggingface.co, so `revision` can be any\n",
      " |              identifier allowed by git.\n",
      " |      \n",
      " |              <Tip>\n",
      " |      \n",
      " |              To test a pull request you made on the Hub, you can pass `revision=\"refs/pr/<pr_number>\"`.\n",
      " |      \n",
      " |              </Tip>\n",
      " |      \n",
      " |          token (`str`, `optional`):\n",
      " |              Whether to use authentication token to load the remote folder. Useful to load private repositories\n",
      " |              that are on HuggingFace Hub. You might need to call `huggingface-cli login` and paste your tokens to\n",
      " |              cache it.\n",
      " |          device_map (`str` or `Dict[str, Union[int, str, torch.device]]` or `int` or `torch.device`, *optional*):\n",
      " |              A map that specifies where each submodule should go. It doesn't need to be refined to each\n",
      " |              parameter/buffer name, once a given module name is inside, every submodule of it will be sent to the\n",
      " |              same device. If we only pass the device (*e.g.*, `\"cpu\"`, `\"cuda:1\"`, `\"mps\"`, or a GPU ordinal rank\n",
      " |              like `1`) on which the model will be allocated, the device map will map the entire model to this\n",
      " |              device. Passing `device_map = 0` means put the whole model on GPU 0.\n",
      " |      \n",
      " |              To have Accelerate compute the most optimized `device_map` automatically, set `device_map=\"auto\"`. For\n",
      " |              more information about each option see [designing a device\n",
      " |              map](https://hf.co/docs/accelerate/main/en/usage_guides/big_modeling#designing-a-device-map).\n",
      " |          max_memory (`Dict`, *optional*):\n",
      " |              A dictionary device identifier to maximum memory. Will default to the maximum memory available for each\n",
      " |              GPU and the available CPU RAM if unset.\n",
      " |          offload_folder (`str` or `os.PathLike`, `optional`):\n",
      " |              If the `device_map` contains any value `\"disk\"`, the folder where we will offload weights.\n",
      " |          offload_index (`int`, `optional`):\n",
      " |              `offload_index` argument to be passed to `accelerate.dispatch_model` method.\n",
      " |          peft_config (`Dict[str, Any]`, *optional*):\n",
      " |              The configuration of the adapter to add, supported adapters are non-prefix tuning and adaption prompts\n",
      " |              methods. This argument is used in case users directly pass PEFT state dicts\n",
      " |          adapter_state_dict (`Dict[str, torch.Tensor]`, *optional*):\n",
      " |              The state dict of the adapter to load. This argument is used in case users directly pass PEFT state\n",
      " |              dicts\n",
      " |          low_cpu_mem_usage (`bool`, *optional*, defaults to `False`):\n",
      " |              Reduce memory usage while loading the PEFT adapter. This should also speed up the loading process.\n",
      " |              Requires PEFT version 0.13.0 or higher.\n",
      " |          is_trainable (`bool`, *optional*, defaults to `False`):\n",
      " |              Whether the adapter should be trainable or not. If `False`, the adapter will be frozen and can only be\n",
      " |              used for inference.\n",
      " |          adapter_kwargs (`Dict[str, Any]`, *optional*):\n",
      " |              Additional keyword arguments passed along to the `from_pretrained` method of the adapter config and\n",
      " |              `find_adapter_config_file` method.\n",
      " |  \n",
      " |  set_adapter(self, adapter_name: Union[List[str], str]) -> None\n",
      " |      If you are not familiar with adapters and PEFT methods, we invite you to read more about them on the PEFT\n",
      " |      official documentation: https://huggingface.co/docs/peft\n",
      " |      \n",
      " |      Sets a specific adapter by forcing the model to use a that adapter and disable the other adapters.\n",
      " |      \n",
      " |      Args:\n",
      " |          adapter_name (`Union[List[str], str]`):\n",
      " |              The name of the adapter to set. Can be also a list of strings to set multiple adapters.\n",
      " |  \n",
      " |  ----------------------------------------------------------------------\n",
      " |  Methods inherited from transformers.generation.utils.GenerationMixin:\n",
      " |  \n",
      " |  compute_transition_scores(self, sequences: torch.Tensor, scores: Tuple[torch.Tensor], beam_indices: Optional[torch.Tensor] = None, normalize_logits: bool = False) -> torch.Tensor\n",
      " |      Computes the transition scores of sequences given the generation scores (and beam indices, if beam search was\n",
      " |      used). This is a convenient method to quickly obtain the scores of the selected tokens at generation time.\n",
      " |      \n",
      " |      Parameters:\n",
      " |          sequences (`torch.LongTensor`):\n",
      " |              The generated sequences. The second dimension (sequence_length) is either equal to `max_length` or\n",
      " |              shorter if all batches finished early due to the `eos_token_id`.\n",
      " |          scores (`tuple(torch.FloatTensor)`):\n",
      " |              Transition scores for each vocabulary token at each generation step. Beam transition scores consisting\n",
      " |              of log probabilities of tokens conditioned on log softmax of previously generated tokens in this beam.\n",
      " |              Tuple of `torch.FloatTensor` with up to `max_new_tokens` elements (one element for each generated token),\n",
      " |              with each tensor of shape `(batch_size*num_beams, config.vocab_size)`.\n",
      " |          beam_indices (`torch.LongTensor`, *optional*):\n",
      " |              Beam indices of generated token id at each generation step. `torch.LongTensor` of shape\n",
      " |              `(batch_size*num_return_sequences, sequence_length)`. Only required if a `num_beams>1` at\n",
      " |              generate-time.\n",
      " |          normalize_logits (`bool`, *optional*, defaults to `False`):\n",
      " |              Whether to normalize the logits (which, for legacy reasons, may be unnormalized).\n",
      " |      \n",
      " |      Return:\n",
      " |          `torch.Tensor`: A `torch.Tensor` of shape `(batch_size*num_return_sequences, sequence_length)` containing\n",
      " |              the transition scores (logits)\n",
      " |      \n",
      " |      Examples:\n",
      " |      \n",
      " |      ```python\n",
      " |      >>> from transformers import GPT2Tokenizer, AutoModelForCausalLM\n",
      " |      >>> import numpy as np\n",
      " |      \n",
      " |      >>> tokenizer = GPT2Tokenizer.from_pretrained(\"gpt2\")\n",
      " |      >>> model = AutoModelForCausalLM.from_pretrained(\"openai-community/gpt2\")\n",
      " |      >>> tokenizer.pad_token_id = tokenizer.eos_token_id\n",
      " |      >>> inputs = tokenizer([\"Today is\"], return_tensors=\"pt\")\n",
      " |      \n",
      " |      >>> # Example 1: Print the scores for each token generated with Greedy Search\n",
      " |      >>> outputs = model.generate(**inputs, max_new_tokens=5, return_dict_in_generate=True, output_scores=True)\n",
      " |      >>> transition_scores = model.compute_transition_scores(\n",
      " |      ...     outputs.sequences, outputs.scores, normalize_logits=True\n",
      " |      ... )\n",
      " |      >>> # input_length is the length of the input prompt for decoder-only models, like the GPT family, and 1 for\n",
      " |      >>> # encoder-decoder models, like BART or T5.\n",
      " |      >>> input_length = 1 if model.config.is_encoder_decoder else inputs.input_ids.shape[1]\n",
      " |      >>> generated_tokens = outputs.sequences[:, input_length:]\n",
      " |      >>> for tok, score in zip(generated_tokens[0], transition_scores[0]):\n",
      " |      ...     # | token | token string | log probability | probability\n",
      " |      ...     print(f\"| {tok:5d} | {tokenizer.decode(tok):8s} | {score.numpy():.3f} | {np.exp(score.numpy()):.2%}\")\n",
      " |      |   262 |  the     | -1.414 | 24.33%\n",
      " |      |  1110 |  day     | -2.609 | 7.36%\n",
      " |      |   618 |  when    | -2.010 | 13.40%\n",
      " |      |   356 |  we      | -1.859 | 15.58%\n",
      " |      |   460 |  can     | -2.508 | 8.14%\n",
      " |      \n",
      " |      >>> # Example 2: Reconstruct the sequence scores from Beam Search\n",
      " |      >>> outputs = model.generate(\n",
      " |      ...     **inputs,\n",
      " |      ...     max_new_tokens=5,\n",
      " |      ...     num_beams=4,\n",
      " |      ...     num_return_sequences=4,\n",
      " |      ...     return_dict_in_generate=True,\n",
      " |      ...     output_scores=True,\n",
      " |      ... )\n",
      " |      >>> transition_scores = model.compute_transition_scores(\n",
      " |      ...     outputs.sequences, outputs.scores, outputs.beam_indices, normalize_logits=False\n",
      " |      ... )\n",
      " |      >>> # If you sum the generated tokens' scores and apply the length penalty, you'll get the sequence scores.\n",
      " |      >>> # Tip 1: recomputing the scores is only guaranteed to match with `normalize_logits=False`. Depending on the\n",
      " |      >>> # use case, you might want to recompute it with `normalize_logits=True`.\n",
      " |      >>> # Tip 2: the output length does NOT include the input length\n",
      " |      >>> output_length = np.sum(transition_scores.numpy() < 0, axis=1)\n",
      " |      >>> length_penalty = model.generation_config.length_penalty\n",
      " |      >>> reconstructed_scores = transition_scores.sum(axis=1) / (output_length**length_penalty)\n",
      " |      >>> print(np.allclose(outputs.sequences_scores, reconstructed_scores))\n",
      " |      True\n",
      " |      ```\n",
      " |  \n",
      " |  generate(self, inputs: Optional[torch.Tensor] = None, generation_config: Optional[transformers.generation.configuration_utils.GenerationConfig] = None, logits_processor: Optional[transformers.generation.logits_process.LogitsProcessorList] = None, stopping_criteria: Optional[transformers.generation.stopping_criteria.StoppingCriteriaList] = None, prefix_allowed_tokens_fn: Optional[Callable[[int, torch.Tensor], List[int]]] = None, synced_gpus: Optional[bool] = None, assistant_model: Optional[ForwardRef('PreTrainedModel')] = None, streamer: Optional[ForwardRef('BaseStreamer')] = None, negative_prompt_ids: Optional[torch.Tensor] = None, negative_prompt_attention_mask: Optional[torch.Tensor] = None, use_model_defaults: Optional[bool] = None, **kwargs) -> Union[transformers.generation.utils.GenerateDecoderOnlyOutput, transformers.generation.utils.GenerateEncoderDecoderOutput, transformers.generation.utils.GenerateBeamDecoderOnlyOutput, transformers.generation.utils.GenerateBeamEncoderDecoderOutput, torch.LongTensor]\n",
      " |      Generates sequences of token ids for models with a language modeling head.\n",
      " |      \n",
      " |      <Tip warning={true}>\n",
      " |      \n",
      " |      Most generation-controlling parameters are set in `generation_config` which, if not passed, will be set to the\n",
      " |      model's default generation configuration. You can override any `generation_config` by passing the corresponding\n",
      " |      parameters to generate(), e.g. `.generate(inputs, num_beams=4, do_sample=True)`.\n",
      " |      \n",
      " |      For an overview of generation strategies and code examples, check out the [following\n",
      " |      guide](../generation_strategies).\n",
      " |      \n",
      " |      </Tip>\n",
      " |      \n",
      " |      Parameters:\n",
      " |          inputs (`torch.Tensor` of varying shape depending on the modality, *optional*):\n",
      " |              The sequence used as a prompt for the generation or as model inputs to the encoder. If `None` the\n",
      " |              method initializes it with `bos_token_id` and a batch size of 1. For decoder-only models `inputs`\n",
      " |              should be in the format of `input_ids`. For encoder-decoder models *inputs* can represent any of\n",
      " |              `input_ids`, `input_values`, `input_features`, or `pixel_values`.\n",
      " |          generation_config ([`~generation.GenerationConfig`], *optional*):\n",
      " |              The generation configuration to be used as base parametrization for the generation call. `**kwargs`\n",
      " |              passed to generate matching the attributes of `generation_config` will override them. If\n",
      " |              `generation_config` is not provided, the default will be used, which has the following loading\n",
      " |              priority: 1) from the `generation_config.json` model file, if it exists; 2) from the model\n",
      " |              configuration. Please note that unspecified parameters will inherit [`~generation.GenerationConfig`]'s\n",
      " |              default values, whose documentation should be checked to parameterize generation.\n",
      " |          logits_processor (`LogitsProcessorList`, *optional*):\n",
      " |              Custom logits processors that complement the default logits processors built from arguments and\n",
      " |              generation config. If a logit processor is passed that is already created with the arguments or a\n",
      " |              generation config an error is thrown. This feature is intended for advanced users.\n",
      " |          stopping_criteria (`StoppingCriteriaList`, *optional*):\n",
      " |              Custom stopping criteria that complements the default stopping criteria built from arguments and a\n",
      " |              generation config. If a stopping criteria is passed that is already created with the arguments or a\n",
      " |              generation config an error is thrown. If your stopping criteria depends on the `scores` input, make\n",
      " |              sure you pass `return_dict_in_generate=True, output_scores=True` to `generate`. This feature is\n",
      " |              intended for advanced users.\n",
      " |          prefix_allowed_tokens_fn (`Callable[[int, torch.Tensor], List[int]]`, *optional*):\n",
      " |              If provided, this function constraints the beam search to allowed tokens only at each step. If not\n",
      " |              provided no constraint is applied. This function takes 2 arguments: the batch ID `batch_id` and\n",
      " |              `input_ids`. It has to return a list with the allowed tokens for the next generation step conditioned\n",
      " |              on the batch ID `batch_id` and the previously generated tokens `inputs_ids`. This argument is useful\n",
      " |              for constrained generation conditioned on the prefix, as described in [Autoregressive Entity\n",
      " |              Retrieval](https://arxiv.org/abs/2010.00904).\n",
      " |          synced_gpus (`bool`, *optional*):\n",
      " |              Whether to continue running the while loop until max_length. Unless overridden, this flag will be set\n",
      " |              to `True` if using `FullyShardedDataParallel` or DeepSpeed ZeRO Stage 3 with multiple GPUs to avoid\n",
      " |              deadlocking if one GPU finishes generating before other GPUs. Otherwise, defaults to `False`.\n",
      " |          assistant_model (`PreTrainedModel`, *optional*):\n",
      " |              An assistant model that can be used to accelerate generation. The assistant model must have the exact\n",
      " |              same tokenizer. The acceleration is achieved when forecasting candidate tokens with the assistant model\n",
      " |              is much faster than running generation with the model you're calling generate from. As such, the\n",
      " |              assistant model should be much smaller.\n",
      " |          streamer (`BaseStreamer`, *optional*):\n",
      " |              Streamer object that will be used to stream the generated sequences. Generated tokens are passed\n",
      " |              through `streamer.put(token_ids)` and the streamer is responsible for any further processing.\n",
      " |          negative_prompt_ids (`torch.LongTensor` of shape `(batch_size, sequence_length)`, *optional*):\n",
      " |              The negative prompt needed for some processors such as CFG. The batch size must match the input batch\n",
      " |              size. This is an experimental feature, subject to breaking API changes in future versions.\n",
      " |          negative_prompt_attention_mask (`torch.LongTensor` of shape `(batch_size, sequence_length)`, *optional*):\n",
      " |              Attention_mask for `negative_prompt_ids`.\n",
      " |          use_model_defaults (`bool`, *optional*):\n",
      " |              When it is `True`, unset parameters in `generation_config` will be set to the model-specific default\n",
      " |              generation configuration (`model.generation_config`), as opposed to the global defaults\n",
      " |              (`GenerationConfig()`). If unset, models saved starting from `v4.50` will consider this flag to be\n",
      " |              `True`.\n",
      " |          kwargs (`Dict[str, Any]`, *optional*):\n",
      " |              Ad hoc parametrization of `generation_config` and/or additional model-specific kwargs that will be\n",
      " |              forwarded to the `forward` function of the model. If the model is an encoder-decoder model, encoder\n",
      " |              specific kwargs should not be prefixed and decoder specific kwargs should be prefixed with *decoder_*.\n",
      " |      \n",
      " |      Return:\n",
      " |          [`~utils.ModelOutput`] or `torch.LongTensor`: A [`~utils.ModelOutput`] (if `return_dict_in_generate=True`\n",
      " |          or when `config.return_dict_in_generate=True`) or a `torch.LongTensor`.\n",
      " |      \n",
      " |              If the model is *not* an encoder-decoder model (`model.config.is_encoder_decoder=False`), the possible\n",
      " |              [`~utils.ModelOutput`] types are:\n",
      " |      \n",
      " |                  - [`~generation.GenerateDecoderOnlyOutput`],\n",
      " |                  - [`~generation.GenerateBeamDecoderOnlyOutput`]\n",
      " |      \n",
      " |              If the model is an encoder-decoder model (`model.config.is_encoder_decoder=True`), the possible\n",
      " |              [`~utils.ModelOutput`] types are:\n",
      " |      \n",
      " |                  - [`~generation.GenerateEncoderDecoderOutput`],\n",
      " |                  - [`~generation.GenerateBeamEncoderDecoderOutput`]\n",
      " |  \n",
      " |  heal_tokens(self, input_ids: torch.LongTensor, tokenizer: Optional[ForwardRef('PreTrainedTokenizerBase')] = None) -> torch.LongTensor\n",
      " |      Generates sequences of token ids for models with a language modeling head.\n",
      " |      Parameters:\n",
      " |          input_ids (`torch.LongTensor`): The sequence used as a prompt for the generation.\n",
      " |          tokenizer (`PreTrainedTokenizerBase`, *optional*): The tokenizer used to decode the input ids.\n",
      " |      Return:\n",
      " |          `torch.LongTensor` where each sequence has its tail token replaced with its appropriate extension.\n",
      "\n"
     ]
    }
   ],
   "source": [
    "print(type(model))\n",
    "help(model)\n"
   ]
  },
  {
   "cell_type": "code",
   "execution_count": 60,
   "metadata": {},
   "outputs": [],
   "source": [
    "outputs2 = model.forward(**inputs, labels=labels)"
   ]
  },
  {
   "cell_type": "code",
   "execution_count": null,
   "metadata": {},
   "outputs": [
    {
     "name": "stdout",
     "output_type": "stream",
     "text": [
      "Are outputs.loss and outputs2.loss equal? True True\n"
     ]
    }
   ],
   "source": [
    "# Check if outputs and outputs2 are equal objects\n",
    "#are_equal = outputs == outputs2\n",
    "#print(\"Are outputs and outputs2 equal objects?\", are_equal)\n",
    "# The error occurs because '==' between two tensors with more than one element returns a tensor of bools,\n",
    "# which cannot be directly interpreted as a single boolean value.\n",
    "# To check if two tensors are equal in all elements, use torch.equal().\n",
    "# If outputs and outputs2 are not tensors but model output objects, compare their .loss attributes.\n",
    "\n",
    "import torch\n",
    "\n",
    "if hasattr(outputs, \"loss\") and hasattr(outputs2, \"loss\"):\n",
    "    are_equal = torch.equal(outputs.loss, outputs2.loss)\n",
    "    print(\"Are outputs.loss and outputs2.loss equal?\", are_equal, hasattr(outputs, \"loss\"))\n",
    "else:\n",
    "    # If outputs are tensors\n",
    "    are_equal = torch.equal(outputs, outputs2)\n",
    "    print(\"Are outputs and outputs2 equal objects?\", are_equal)\n"
   ]
  },
  {
   "cell_type": "code",
   "execution_count": null,
   "metadata": {},
   "outputs": [],
   "source": [
    "outputs = model(**inputs, labels=labels) # is equal to model.forward\n",
    "type(outputs.loss )\n",
    "loss = outputs.loss\n",
    "loss.backward()"
   ]
  },
  {
   "cell_type": "code",
   "execution_count": null,
   "metadata": {},
   "outputs": [],
   "source": [
    "in"
   ]
  },
  {
   "cell_type": "code",
   "execution_count": 14,
   "metadata": {},
   "outputs": [
    {
     "data": {
      "text/plain": [
       "tensor(1.9308, device='cuda:0', grad_fn=<NllLossBackward0>)"
      ]
     },
     "execution_count": 14,
     "metadata": {},
     "output_type": "execute_result"
    }
   ],
   "source": [
    "loss"
   ]
  },
  {
   "cell_type": "code",
   "execution_count": null,
   "metadata": {},
   "outputs": [],
   "source": [
    "\n",
    "    global_step = 0\n",
    "    #while global_step < max_steps:\n",
    "        for batch in train_loader:\n",
    "            global_step += 1\n",
    "            inputs, labels = batch\n",
    "            outputs = model(**inputs, labels=labels)\n",
    "            \n",
    "            loss = outputs.loss / num_accumulation_steps\n",
    "            loss.backward()\n",
    "            \n",
    "            if global_step % num_accumulation_steps == 0:\n",
    "                optimizer.step()\n",
    "                optimizer.zero_grad()\n",
    "\n",
    "            progress_bar.update(1)\n",
    "            progress_bar.set_postfix({\"loss\": loss.item() * num_accumulation_steps})\n",
    "\n",
    "            # Perform evaluation and save model every EVAL_STEPS\n",
    "            \n",
    "            if global_step % eval_steps == 0 or global_step == max_steps:\n",
    "\n",
    "                #avg_val_loss = validate(model, val_loader)\n",
    "\n",
    "                model.eval()\n",
    "                total_val_loss = 0\n",
    "                correct = 0\n",
    "                total = 0\n",
    "                #total_chars = 0\n",
    "                total_cer = 0   \n",
    "                with torch.no_grad():\n",
    "                    for batch in tqdm(val_loader, desc = \"Validating\"):\n",
    "                        inputs, labels = batch\n",
    "                        outputs = model(**inputs, labels=labels)\n",
    "                        loss = outputs.loss\n",
    "                        total_val_loss += loss.item()\n",
    "\n",
    "                        # move labels to model's device\n",
    "                        labels = labels.to(device)\n",
    "                        # Get predicted class IDs\n",
    "                        logits = outputs.logits  # [batch_size, seq_len, vocab_size]\n",
    "                        preds = torch.argmax(logits, dim=-1)  # [batch_size, seq_len]\n",
    "\n",
    "                        # Flatten tensors\n",
    "                        preds = preds.view(-1)\n",
    "                        labels = labels.view(-1)\n",
    "\n",
    "                        # Create mask to ignore padding (-100)\n",
    "                        mask = labels != -100\n",
    "\n",
    "                        # Apply mask and update counts\n",
    "                        correct += (preds[mask] == labels[mask]).sum().item()\n",
    "                        total += mask.sum().item()\n",
    "\n",
    "                            # Prepare for decoding (replace -100 with pad_token_id)\n",
    "                        labels_to_decode = labels.clone()\n",
    "                        labels_to_decode[~mask] = processor.tokenizer.pad_token_id\n",
    "\n",
    "                        preds_to_decode = preds.clone()\n",
    "                        preds_to_decode[~mask] = processor.tokenizer.pad_token_id\n",
    "\n",
    "                        # Decode to text\n",
    "                        gt_text = processor.batch_decode(labels_to_decode.view(1, -1).cpu().tolist(),\n",
    "                                                        skip_special_tokens=True)[0]\n",
    "                        pred_text = processor.batch_decode(preds_to_decode.view(1, -1).cpu().tolist(),\n",
    "                                                        skip_special_tokens=True)[0]\n",
    "\n",
    "                        # Compute CER\n",
    "                        total_cer += compute_CER(gt_text, pred_text)\n",
    "\n",
    "                avg_val_loss = total_val_loss / len(val_loader)\n",
    "                val_acc = correct / total if total > 0 else 0.0\n",
    "                val_cer = total_cer / len(val_loader) if len(val_loader) > 0 else 0.0\n",
    "                #\n",
    "                model.train() \n",
    "\n",
    "                # Save the model and processor\n",
    "                save_dir = os.path.join(output_dir, f\"model_step_{global_step}\")\n",
    "                os.makedirs(save_dir, exist_ok=True)\n",
    "                model.save_pretrained(save_dir)\n",
    "                processor.save_pretrained(save_dir)\n",
    "\n",
    "                elapsed_time = time.time() - start_time\n",
    "\n",
    "                # Log metrics to wandb.\n",
    "                #run.log({\"loss\": avg_val_loss, \"elapsed_time\": elapsed_time})\n",
    "                run.log({\n",
    "                    \"loss\": avg_val_loss,\n",
    "                    \"accuracy\": val_acc,\n",
    "                    \"CER\": val_cer,\n",
    "                    \"step\": global_step,\n",
    "                    \"elapsed_time\": elapsed_time\n",
    "                })\n",
    "\n",
    "                # Set the model back to training mode\n",
    "                model.train()  \n",
    "\n",
    "            if global_step >= max_steps:\n",
    "                save_dir = os.path.join(output_dir, f\"final\")\n",
    "                model.save_pretrained(save_dir)\n",
    "                processor.save_pretrained(save_dir)\n",
    "                break\n",
    "\n",
    "    # Finish the run and upload any remaining data.\n",
    "    #run.finish()\n",
    "\n",
    "    progress_bar.close()"
   ]
  },
  {
   "cell_type": "code",
   "execution_count": null,
   "metadata": {},
   "outputs": [],
   "source": []
  },
  {
   "cell_type": "markdown",
   "metadata": {},
   "source": [
    "# Weights and Biases Tryout"
   ]
  },
  {
   "cell_type": "code",
   "execution_count": 3,
   "metadata": {},
   "outputs": [
    {
     "name": "stderr",
     "output_type": "stream",
     "text": [
      "\u001b[34m\u001b[1mwandb\u001b[0m: \u001b[33mWARNING\u001b[0m If you're specifying your api key in code, ensure this code is not shared publicly.\n",
      "\u001b[34m\u001b[1mwandb\u001b[0m: \u001b[33mWARNING\u001b[0m Consider setting the WANDB_API_KEY environment variable, or running `wandb login` from the command line.\n",
      "\u001b[34m\u001b[1mwandb\u001b[0m: Appending key for api.wandb.ai to your netrc file: /home/alex/.netrc\n",
      "\u001b[34m\u001b[1mwandb\u001b[0m: Currently logged in as: \u001b[33malex-zdz\u001b[0m to \u001b[32mhttps://api.wandb.ai\u001b[0m. Use \u001b[1m`wandb login --relogin`\u001b[0m to force relogin\n"
     ]
    },
    {
     "data": {
      "text/plain": [
       "True"
      ]
     },
     "execution_count": 3,
     "metadata": {},
     "output_type": "execute_result"
    }
   ],
   "source": [
    "\n",
    "wandb.login(key = \"3708195e26856c0278c92195c8d374200262cf6f\")"
   ]
  },
  {
   "cell_type": "code",
   "execution_count": 10,
   "metadata": {},
   "outputs": [
    {
     "data": {
      "text/html": [],
      "text/plain": [
       "<IPython.core.display.HTML object>"
      ]
     },
     "metadata": {},
     "output_type": "display_data"
    },
    {
     "data": {
      "text/html": [
       "Tracking run with wandb version 0.21.4"
      ],
      "text/plain": [
       "<IPython.core.display.HTML object>"
      ]
     },
     "metadata": {},
     "output_type": "display_data"
    },
    {
     "data": {
      "text/html": [
       "Run data is saved locally in <code>/home/alex/projects/ocr/src/wandb/run-20250916_163427-euqesy60</code>"
      ],
      "text/plain": [
       "<IPython.core.display.HTML object>"
      ]
     },
     "metadata": {},
     "output_type": "display_data"
    },
    {
     "data": {
      "text/html": [
       "Syncing run <strong><a href='https://wandb.ai/alex-zdz/my-awesome-project/runs/euqesy60' target=\"_blank\">gallant-dawn-2</a></strong> to <a href='https://wandb.ai/alex-zdz/my-awesome-project' target=\"_blank\">Weights & Biases</a> (<a href='https://wandb.me/developer-guide' target=\"_blank\">docs</a>)<br>"
      ],
      "text/plain": [
       "<IPython.core.display.HTML object>"
      ]
     },
     "metadata": {},
     "output_type": "display_data"
    },
    {
     "data": {
      "text/html": [
       " View project at <a href='https://wandb.ai/alex-zdz/my-awesome-project' target=\"_blank\">https://wandb.ai/alex-zdz/my-awesome-project</a>"
      ],
      "text/plain": [
       "<IPython.core.display.HTML object>"
      ]
     },
     "metadata": {},
     "output_type": "display_data"
    },
    {
     "data": {
      "text/html": [
       " View run at <a href='https://wandb.ai/alex-zdz/my-awesome-project/runs/euqesy60' target=\"_blank\">https://wandb.ai/alex-zdz/my-awesome-project/runs/euqesy60</a>"
      ],
      "text/plain": [
       "<IPython.core.display.HTML object>"
      ]
     },
     "metadata": {},
     "output_type": "display_data"
    },
    {
     "name": "stderr",
     "output_type": "stream",
     "text": [
      "\u001b[34m\u001b[1mwandb\u001b[0m: Detected [huggingface_hub.inference] in use.\n",
      "\u001b[34m\u001b[1mwandb\u001b[0m: Use W&B Weave for improved LLM call tracing. Install Weave with `pip install weave` then add `import weave` to the top of your script.\n",
      "\u001b[34m\u001b[1mwandb\u001b[0m: For more information, check out the docs at: https://weave-docs.wandb.ai/\n"
     ]
    }
   ],
   "source": [
    "# Start a new wandb run to track this script.\n",
    "run = wandb.init(\n",
    "    # Set the wandb entity where your project will be logged (generally your team name).\n",
    "    entity=\"alex-zdz\",\n",
    "    # Set the wandb project where this run will be logged.\n",
    "    project=\"my-awesome-project\",\n",
    "    # Track hyperparameters and run metadata.\n",
    "    config={\n",
    "        \"learning_rate\": 0.02,\n",
    "        \"architecture\": \"CNN\",\n",
    "        \"dataset\": \"CIFAR-100\",\n",
    "        \"epochs\": 10,\n",
    "    },\n",
    ")\n"
   ]
  },
  {
   "cell_type": "code",
   "execution_count": 11,
   "metadata": {},
   "outputs": [
    {
     "data": {
      "text/html": [],
      "text/plain": [
       "<IPython.core.display.HTML object>"
      ]
     },
     "metadata": {},
     "output_type": "display_data"
    },
    {
     "data": {
      "text/html": [
       "<br>    <style><br>        .wandb-row {<br>            display: flex;<br>            flex-direction: row;<br>            flex-wrap: wrap;<br>            justify-content: flex-start;<br>            width: 100%;<br>        }<br>        .wandb-col {<br>            display: flex;<br>            flex-direction: column;<br>            flex-basis: 100%;<br>            flex: 1;<br>            padding: 10px;<br>        }<br>    </style><br><div class=\"wandb-row\"><div class=\"wandb-col\"><h3>Run history:</h3><br/><table class=\"wandb\"><tr><td>acc</td><td>▁▅▃▄█▇▇▇</td></tr><tr><td>loss</td><td>█▅▂▄▁▂▁▁</td></tr></table><br/></div><div class=\"wandb-col\"><h3>Run summary:</h3><br/><table class=\"wandb\"><tr><td>acc</td><td>0.71182</td></tr><tr><td>loss</td><td>0.23767</td></tr></table><br/></div></div>"
      ],
      "text/plain": [
       "<IPython.core.display.HTML object>"
      ]
     },
     "metadata": {},
     "output_type": "display_data"
    },
    {
     "data": {
      "text/html": [
       " View run <strong style=\"color:#cdcd00\">gallant-dawn-2</strong> at: <a href='https://wandb.ai/alex-zdz/my-awesome-project/runs/euqesy60' target=\"_blank\">https://wandb.ai/alex-zdz/my-awesome-project/runs/euqesy60</a><br> View project at: <a href='https://wandb.ai/alex-zdz/my-awesome-project' target=\"_blank\">https://wandb.ai/alex-zdz/my-awesome-project</a><br>Synced 5 W&B file(s), 0 media file(s), 0 artifact file(s) and 0 other file(s)"
      ],
      "text/plain": [
       "<IPython.core.display.HTML object>"
      ]
     },
     "metadata": {},
     "output_type": "display_data"
    },
    {
     "data": {
      "text/html": [
       "Find logs at: <code>./wandb/run-20250916_163427-euqesy60/logs</code>"
      ],
      "text/plain": [
       "<IPython.core.display.HTML object>"
      ]
     },
     "metadata": {},
     "output_type": "display_data"
    }
   ],
   "source": [
    "\n",
    "# Simulate training.\n",
    "epochs = 10\n",
    "offset = random.random() / 5\n",
    "for epoch in range(2, epochs):\n",
    "    acc = 1 - 2**-epoch - random.random() / epoch - offset\n",
    "    loss = 2**-epoch + random.random() / epoch + offset\n",
    "\n",
    "    # Log metrics to wandb.\n",
    "    run.log({\"acc\": acc, \"loss\": loss})\n",
    "\n",
    "# Finish the run and upload any remaining data.\n",
    "run.finish()"
   ]
  },
  {
   "cell_type": "markdown",
   "metadata": {},
   "source": [
    "Capture a dictionary of hyperparameters\n",
    "Save a dictionary of hyperparameters such as learning rate or model type. The model settings you capture in config are useful later to organize and query your results.\n",
    "\n",
    "Need to make sure to align the names in the wandb configuration and our finetuning function"
   ]
  },
  {
   "cell_type": "markdown",
   "metadata": {},
   "source": [
    "# wandb with our model"
   ]
  },
  {
   "cell_type": "code",
   "execution_count": 13,
   "metadata": {},
   "outputs": [
    {
     "data": {
      "text/html": [],
      "text/plain": [
       "<IPython.core.display.HTML object>"
      ]
     },
     "metadata": {},
     "output_type": "display_data"
    },
    {
     "data": {
      "text/html": [
       "Tracking run with wandb version 0.21.4"
      ],
      "text/plain": [
       "<IPython.core.display.HTML object>"
      ]
     },
     "metadata": {},
     "output_type": "display_data"
    },
    {
     "data": {
      "text/html": [
       "Run data is saved locally in <code>/home/alex/projects/ocr/src/wandb/run-20250916_163530-nxjuf8vl</code>"
      ],
      "text/plain": [
       "<IPython.core.display.HTML object>"
      ]
     },
     "metadata": {},
     "output_type": "display_data"
    },
    {
     "data": {
      "text/html": [
       "Syncing run <strong><a href='https://wandb.ai/alex-zdz/ocr_01/runs/nxjuf8vl' target=\"_blank\">bumbling-fire-14</a></strong> to <a href='https://wandb.ai/alex-zdz/ocr_01' target=\"_blank\">Weights & Biases</a> (<a href='https://wandb.me/developer-guide' target=\"_blank\">docs</a>)<br>"
      ],
      "text/plain": [
       "<IPython.core.display.HTML object>"
      ]
     },
     "metadata": {},
     "output_type": "display_data"
    },
    {
     "data": {
      "text/html": [
       " View project at <a href='https://wandb.ai/alex-zdz/ocr_01' target=\"_blank\">https://wandb.ai/alex-zdz/ocr_01</a>"
      ],
      "text/plain": [
       "<IPython.core.display.HTML object>"
      ]
     },
     "metadata": {},
     "output_type": "display_data"
    },
    {
     "data": {
      "text/html": [
       " View run at <a href='https://wandb.ai/alex-zdz/ocr_01/runs/nxjuf8vl' target=\"_blank\">https://wandb.ai/alex-zdz/ocr_01/runs/nxjuf8vl</a>"
      ],
      "text/plain": [
       "<IPython.core.display.HTML object>"
      ]
     },
     "metadata": {},
     "output_type": "display_data"
    }
   ],
   "source": [
    "# Start a new wandb run to track this script.\n",
    "run = wandb.init(\n",
    "    # Set the wandb entity where your project will be logged (generally your team name).\n",
    "    entity=\"alex-zdz\",\n",
    "    # Set the wandb project where this run will be logged.\n",
    "    project=\"ocr_01\",\n",
    "    # Track hyperparameters and run metadata.\n",
    "    config={\n",
    "        \"learning_rate\": 0.00001,\n",
    "        \"val_batch_size\": 1,\n",
    "        \"train_batch_size\": 3,\n",
    "        \"dataset\": \"dataset_p40\",\n",
    "        \"eval_steps\": 2,\n",
    "        \"max_steps\": 10,\n",
    "        \"num_accumulation_steps\": 2,\n",
    "    },\n",
    ")\n"
   ]
  },
  {
   "cell_type": "code",
   "execution_count": null,
   "metadata": {},
   "outputs": [
    {
     "name": "stderr",
     "output_type": "stream",
     "text": [
      "Loading checkpoint shards: 100%|██████████| 2/2 [00:00<00:00,  2.91it/s]\n"
     ]
    }
   ],
   "source": [
    "\n",
    "# Configuration\n",
    "\n",
    "learning_rate = run.config.learning_rate\n",
    "val_batch_size = run.config.val_batch_size\n",
    "train_batch_size = run.config.train_batch_size\n",
    "dataset = run.config.dataset\n",
    "eval_steps = run.config.eval_steps\n",
    "max_steps = run.config.max_steps\n",
    "num_accumulation_steps = run.config.num_accumulation_steps\n",
    "\n",
    "# Load the combined dataset from the processed directory\n",
    "output_dir=\"results/p40_test\"\n",
    "path = \"../data/processed_singlecol/dataset_p40\"\n",
    "data = load_from_disk(path)\n",
    "trainval_test_split = data.train_test_split(test_size=0.2)\n",
    "test_dataset = trainval_test_split['test']\n",
    "train_val_split = trainval_test_split[\"train\"].train_test_split(test_size=0.25)\n",
    "train_dataset = train_val_split['train']\n",
    "val_dataset = train_val_split['test']\n",
    "\n",
    "device = \"cuda\"\n",
    "min_pixel=256\n",
    "max_pixel=384from qwen_finetune import train_and_validate\n",
    "image_factor=28\n",
    "\n",
    "model_name = \"Qwen/Qwen2-VL-2B-Instruct\"\n",
    "model = Qwen2VLForConditionalGeneration.from_pretrained(\n",
    "        model_name, torch_dtype=torch.bfloat16,\n",
    "        device_map = device\n",
    "    )\n",
    "\n",
    "processor = AutoProcessor.from_pretrained(model_name, min_pixels=min_pixel*image_factor*image_factor, max_pixels=max_pixel*image_factor*image_factor, padding_side=\"right\")\n",
    "\n",
    "train_dataset = HuggingFaceDataset(train_dataset, image_column=\"image\",\n",
    "                            text_column=\"transcription\",\n",
    "                            user_text=\"Convert this image to text\")\n",
    "                            \n",
    "val_dataset = HuggingFaceDataset(val_dataset, image_column=\"image\",\n",
    "                            text_column=\"transcription\",\n",
    "                            user_text=\"Convert this image to text\")\n",
    "\n",
    "train_loader = DataLoader(\n",
    "    train_dataset,\n",
    "    batch_size=train_batch_size,\n",
    "    collate_fn=partial(collate_fn, processor=processor, device=device),\n",
    "    shuffle=True\n",
    ")\n",
    "\n",
    "val_loader = DataLoader(\n",
    "    val_dataset,\n",
    "    batch_size=val_batch_size,\n",
    "    collate_fn=partial(collate_fn, processor=processor, device=device)\n",
    ")\n"
   ]
  },
  {
   "cell_type": "code",
   "execution_count": 17,
   "metadata": {},
   "outputs": [],
   "source": [
    "def train():\n",
    "\n",
    "    model.train()\n",
    "    optimizer = AdamW(model.parameters(), lr = learning_rate) #1e-5\n",
    "\n",
    "    global_step = 0\n",
    "    progress_bar = tqdm(total=max_steps, desc=\"Training\")\n",
    "    start_time = time.time()\n",
    "    while global_step < max_steps:\n",
    "        for batch in train_loader:\n",
    "            global_step += 1\n",
    "            inputs, labels = batch\n",
    "            outputs = model(**inputs, labels=labels)\n",
    "            \n",
    "            loss = outputs.loss / num_accumulation_steps\n",
    "            loss.backward()\n",
    "            \n",
    "            if global_step % num_accumulation_steps == 0:\n",
    "                optimizer.step()\n",
    "                optimizer.zero_grad()\n",
    "\n",
    "            progress_bar.update(1)\n",
    "            progress_bar.set_postfix({\"loss\": loss.item() * num_accumulation_steps})\n",
    "\n",
    "            # Perform evaluation and save model every EVAL_STEPS\n",
    "            \n",
    "            if global_step % eval_steps == 0 or global_step == max_steps:\n",
    "\n",
    "                #avg_val_loss = validate(model, val_loader)\n",
    "\n",
    "                model.eval()\n",
    "                total_val_loss = 0\n",
    "                correct = 0\n",
    "                total = 0\n",
    "                with torch.no_grad():\n",
    "                    for batch in tqdm(val_loader, desc = \"Validating\"):\n",
    "                        inputs, labels = batch\n",
    "                        outputs = model(**inputs, labels=labels)\n",
    "                        loss = outputs.loss\n",
    "                        total_val_loss += loss.item()\n",
    "\n",
    "                        # move labels to model's device\n",
    "                        labels = labels.to(device)\n",
    "                        # Get predicted class IDs\n",
    "                        logits = outputs.logits  # [batch_size, seq_len, vocab_size]\n",
    "                        preds = torch.argmax(logits, dim=-1)  # [batch_size, seq_len]\n",
    "\n",
    "                        # Flatten tensors\n",
    "                        preds = preds.view(-1)\n",
    "                        labels = labels.view(-1)\n",
    "\n",
    "                        # Create mask to ignore padding (-100)\n",
    "                        mask = labels != -100\n",
    "\n",
    "                        # Apply mask and update counts\n",
    "                        correct += (preds[mask] == labels[mask]).sum().item()\n",
    "                        total += mask.sum().item()\n",
    "\n",
    "\n",
    "                avg_val_loss = total_val_loss / len(val_loader)\n",
    "                accuracy = correct / total if total > 0 else 0.0\n",
    "                #\n",
    "                model.train() \n",
    "\n",
    "                # Save the model and processor\n",
    "                save_dir = os.path.join(output_dir, f\"model_step_{global_step}\")\n",
    "                os.makedirs(save_dir, exist_ok=True)\n",
    "                model.save_pretrained(save_dir)\n",
    "                processor.save_pretrained(save_dir)\n",
    "\n",
    "                elapsed_time = time.time() - start_time\n",
    "\n",
    "                # Log metrics to wandb.\n",
    "                #run.log({\"loss\": avg_val_loss, \"elapsed_time\": elapsed_time})\n",
    "                run.log({\"acc\": accuracy, \"loss\": avg_val_loss, \"step\": global_step,\n",
    "                        \"elapsed_time\": elapsed_time})\n",
    "\n",
    "                # Set the model back to training mode\n",
    "                model.train()  \n",
    "\n",
    "            if global_step >= max_steps:\n",
    "                save_dir = os.path.join(output_dir, f\"final\")\n",
    "                model.save_pretrained(save_dir)\n",
    "                processor.save_pretrained(save_dir)\n",
    "                break\n",
    "\n",
    "    # Finish the run and upload any remaining data.\n",
    "    run.finish()\n",
    "\n",
    "    progress_bar.close()\n"
   ]
  },
  {
   "cell_type": "markdown",
   "metadata": {},
   "source": [
    "## Testing it as a function"
   ]
  },
  {
   "cell_type": "code",
   "execution_count": null,
   "metadata": {},
   "outputs": [],
   "source": [
    "train()"
   ]
  },
  {
   "cell_type": "markdown",
   "metadata": {},
   "source": [
    "## Equivalent to running this cell"
   ]
  },
  {
   "cell_type": "code",
   "execution_count": 83,
   "metadata": {},
   "outputs": [
    {
     "name": "stderr",
     "output_type": "stream",
     "text": [
      "Validating: 100%|██████████| 298/298 [00:18<00:00, 16.19it/s]=4.54]\n",
      "Validating: 100%|██████████| 298/298 [00:18<00:00, 15.94it/s]=2.28] \n",
      "Validating: 100%|██████████| 298/298 [00:18<00:00, 15.94it/s]=1.43]\n",
      "Validating: 100%|██████████| 298/298 [00:18<00:00, 15.98it/s]=1.16] \n",
      "Validating: 100%|██████████| 298/298 [00:18<00:00, 15.85it/s]s=1.75]\n"
     ]
    },
    {
     "data": {
      "text/html": [],
      "text/plain": [
       "<IPython.core.display.HTML object>"
      ]
     },
     "metadata": {},
     "output_type": "display_data"
    },
    {
     "data": {
      "text/html": [
       "<br>    <style><br>        .wandb-row {<br>            display: flex;<br>            flex-direction: row;<br>            flex-wrap: wrap;<br>            justify-content: flex-start;<br>            width: 100%;<br>        }<br>        .wandb-col {<br>            display: flex;<br>            flex-direction: column;<br>            flex-basis: 100%;<br>            flex: 1;<br>            padding: 10px;<br>        }<br>    </style><br><div class=\"wandb-row\"><div class=\"wandb-col\"><h3>Run history:</h3><br/><table class=\"wandb\"><tr><td>acc</td><td>▄▁█▁▄</td></tr><tr><td>elapsed_time</td><td>▁▃▅▆█</td></tr><tr><td>loss</td><td>█▆▄▂▁</td></tr><tr><td>step</td><td>▁▃▅▆█</td></tr></table><br/></div><div class=\"wandb-col\"><h3>Run summary:</h3><br/><table class=\"wandb\"><tr><td>acc</td><td>0.00107</td></tr><tr><td>elapsed_time</td><td>132.26099</td></tr><tr><td>loss</td><td>1.53531</td></tr><tr><td>step</td><td>10</td></tr></table><br/></div></div>"
      ],
      "text/plain": [
       "<IPython.core.display.HTML object>"
      ]
     },
     "metadata": {},
     "output_type": "display_data"
    },
    {
     "data": {
      "text/html": [
       " View run <strong style=\"color:#cdcd00\">fine-thunder-13</strong> at: <a href='https://wandb.ai/alex-zdz/ocr_01/runs/v47ytw1t' target=\"_blank\">https://wandb.ai/alex-zdz/ocr_01/runs/v47ytw1t</a><br> View project at: <a href='https://wandb.ai/alex-zdz/ocr_01' target=\"_blank\">https://wandb.ai/alex-zdz/ocr_01</a><br>Synced 5 W&B file(s), 0 media file(s), 0 artifact file(s) and 0 other file(s)"
      ],
      "text/plain": [
       "<IPython.core.display.HTML object>"
      ]
     },
     "metadata": {},
     "output_type": "display_data"
    },
    {
     "data": {
      "text/html": [
       "Find logs at: <code>/home/alex/projects/ocr/scripts/wandb/run-20250916_110624-v47ytw1t/logs</code>"
      ],
      "text/plain": [
       "<IPython.core.display.HTML object>"
      ]
     },
     "metadata": {},
     "output_type": "display_data"
    },
    {
     "name": "stderr",
     "output_type": "stream",
     "text": [
      "Training: 100%|██████████| 10/10 [02:20<00:00, 14.03s/it, loss=1.75]\n"
     ]
    }
   ],
   "source": [
    "\n",
    "model.train()\n",
    "optimizer = AdamW(model.parameters(), lr = learning_rate) #1e-5\n",
    "\n",
    "global_step = 0\n",
    "progress_bar = tqdm(total=max_steps, desc=\"Training\")\n",
    "start_time = time.time()\n",
    "while global_step < max_steps:\n",
    "    for batch in train_loader:\n",
    "        global_step += 1\n",
    "        inputs, labels = batch\n",
    "        outputs = model(**inputs, labels=labels)\n",
    "        \n",
    "        loss = outputs.loss / num_accumulation_steps\n",
    "        loss.backward()\n",
    "        \n",
    "        if global_step % num_accumulation_steps == 0:\n",
    "            optimizer.step()\n",
    "            optimizer.zero_grad()\n",
    "\n",
    "        progress_bar.update(1)\n",
    "        progress_bar.set_postfix({\"loss\": loss.item() * num_accumulation_steps})\n",
    "\n",
    "        # Perform evaluation and save model every EVAL_STEPS\n",
    "        \n",
    "        if global_step % eval_steps == 0 or global_step == max_steps:\n",
    "\n",
    "            #avg_val_loss = validate(model, val_loader)\n",
    "\n",
    "            model.eval()\n",
    "            total_val_loss = 0\n",
    "            correct = 0\n",
    "            total = 0\n",
    "            with torch.no_grad():\n",
    "                for batch in tqdm(val_loader, desc = \"Validating\"):\n",
    "                    inputs, labels = batch\n",
    "                    outputs = model(**inputs, labels=labels)\n",
    "                    loss = outputs.loss\n",
    "                    total_val_loss += loss.item()\n",
    "\n",
    "                    # move labels to model's device\n",
    "                    labels = labels.to(device)\n",
    "                     # Get predicted class IDs\n",
    "                    logits = outputs.logits  # [batch_size, seq_len, vocab_size]\n",
    "                    preds = torch.argmax(logits, dim=-1)  # [batch_size, seq_len]\n",
    "\n",
    "                    # Flatten tensors\n",
    "                    preds = preds.view(-1)\n",
    "                    labels = labels.view(-1)\n",
    "\n",
    "                    # Create mask to ignore padding (-100)\n",
    "                    mask = labels != -100\n",
    "\n",
    "                    # Apply mask and update counts\n",
    "                    correct += (preds[mask] == labels[mask]).sum().item()\n",
    "                    total += mask.sum().item()\n",
    "\n",
    "\n",
    "            avg_val_loss = total_val_loss / len(val_loader)\n",
    "            accuracy = correct / total if total > 0 else 0.0\n",
    "            #\n",
    "            model.train() \n",
    "\n",
    "            # Save the model and processor\n",
    "            save_dir = os.path.join(output_dir, f\"model_step_{global_step}\")\n",
    "            os.makedirs(save_dir, exist_ok=True)\n",
    "            model.save_pretrained(save_dir)\n",
    "            processor.save_pretrained(save_dir)\n",
    "\n",
    "            elapsed_time = time.time() - start_time\n",
    "\n",
    "            # Log metrics to wandb.\n",
    "            #run.log({\"loss\": avg_val_loss, \"elapsed_time\": elapsed_time})\n",
    "            run.log({\"acc\": accuracy, \"loss\": avg_val_loss, \"step\": global_step,\n",
    "                     \"elapsed_time\": elapsed_time})\n",
    "\n",
    "            # Set the model back to training mode\n",
    "            model.train()  \n",
    "\n",
    "        if global_step >= max_steps:\n",
    "            save_dir = os.path.join(output_dir, f\"final\")\n",
    "            model.save_pretrained(save_dir)\n",
    "            processor.save_pretrained(save_dir)\n",
    "            break\n",
    "\n",
    "# Finish the run and upload any remaining data.\n",
    "run.finish()\n",
    "\n",
    "progress_bar.close()\n"
   ]
  },
  {
   "cell_type": "code",
   "execution_count": 132,
   "metadata": {},
   "outputs": [],
   "source": [
    "run.finish()"
   ]
  },
  {
   "cell_type": "code",
   "execution_count": 81,
   "metadata": {},
   "outputs": [
    {
     "data": {
      "text/plain": [
       "torch.Size([1, 393, 151936])"
      ]
     },
     "execution_count": 81,
     "metadata": {},
     "output_type": "execute_result"
    }
   ],
   "source": [
    "correct, total, accuracy\n",
    "labels.shape,\n",
    "inputs\n",
    "logits.shape"
   ]
  },
  {
   "cell_type": "code",
   "execution_count": null,
   "metadata": {},
   "outputs": [],
   "source": [
    "#run.finish()"
   ]
  },
  {
   "cell_type": "markdown",
   "metadata": {},
   "source": [
    "# Try out Sweeping in wandb"
   ]
  },
  {
   "cell_type": "code",
   "execution_count": 7,
   "metadata": {},
   "outputs": [
    {
     "data": {
      "text/plain": [
       "1489"
      ]
     },
     "execution_count": 7,
     "metadata": {},
     "output_type": "execute_result"
    }
   ],
   "source": [
    "path = \"../data/processed_singlecol/dataset_p40\"\n",
    "data = load_from_disk(path)\n",
    "total_data_length = len(data)\n",
    "total_data_length\n"
   ]
  },
  {
   "cell_type": "markdown",
   "metadata": {},
   "source": [
    "### Start with sweeping previous code"
   ]
  },
  {
   "cell_type": "code",
   "execution_count": 57,
   "metadata": {},
   "outputs": [],
   "source": [
    "sweep_configuration = {\n",
    "    \"method\": \"grid\",\n",
    "    \"metric\": {\"goal\": \"minimize\", \"name\": \"loss\"},\n",
    "    \"parameters\": {\n",
    "        \"learning_rate\":  {\"values\": [0.000001, 0.00001, 0.0001]},\n",
    "        \"train_batch_size\": {\"values\": [2]},\n",
    "        \"train_size\": {\"values\": [200, 400, 800, 1200, \"full\"]},  \n",
    "        \"max_steps\":  {\"values\": [10000]},\n",
    "    },\n",
    "}"
   ]
  },
  {
   "cell_type": "code",
   "execution_count": 58,
   "metadata": {},
   "outputs": [],
   "source": [
    "def get_train_subset(train_full, size):\n",
    "    \"\"\"Return a training subset of the desired size. 'full' returns the entire training set.\"\"\"\n",
    "    if size == \"full\":\n",
    "        return train_full\n",
    "    else:\n",
    "        size = min(int(size), len(train_full))\n",
    "        return train_full.shuffle(seed=42).select(range(size))"
   ]
  },
  {
   "cell_type": "code",
   "execution_count": 29,
   "metadata": {},
   "outputs": [],
   "source": [
    "def train(): #config=None\n",
    "    with wandb.init(project=\"ocr_sweep_test_01\") as run:\n",
    "        config = run.config\n",
    "        #Configuration\n",
    "        learning_rate = config.learning_rate\n",
    "        val_batch_size = 1\n",
    "        train_batch_size = config.train_batch_size\n",
    "        #dataset = \"dataset_p40\"\n",
    "        train_size = config.train_size\n",
    "        max_steps = config.max_steps\n",
    "        eval_steps = max_steps / 10\n",
    "        num_accumulation_steps = 2\n",
    "\n",
    "        # Load the combined dataset from the processed directory\n",
    "        output_dir=\"results/p40_test\"\n",
    "        path = \"../data/processed_singlecol/dataset_p40\"\n",
    "        data = load_from_disk(path)\n",
    "        # Split into train/val/test (fixed across runs!)\n",
    "        trainval_test_split = data.train_test_split(test_size=0.2, seed=42)\n",
    "        #test_dataset = trainval_test_split['test']\n",
    "        train_val_split = trainval_test_split[\"train\"].train_test_split(test_size=0.25, seed=42)\n",
    "        val_dataset = train_val_split['test']\n",
    "        train_full = train_val_split['train']\n",
    "\n",
    "        # Subsample training set according to sweep parameter\n",
    "        train_dataset = get_train_subset(train_full, train_size)\n",
    "\n",
    "        device = \"cuda\"\n",
    "        min_pixel=256\n",
    "        max_pixel=384\n",
    "        image_factor=28\n",
    "\n",
    "        model_name = \"Qwen/Qwen2-VL-2B-Instruct\"\n",
    "        model = Qwen2VLForConditionalGeneration.from_pretrained(\n",
    "                model_name, torch_dtype=torch.bfloat16,\n",
    "                device_map = device\n",
    "            )\n",
    "\n",
    "        processor = AutoProcessor.from_pretrained(model_name, min_pixels=min_pixel*image_factor*image_factor, max_pixels=max_pixel*image_factor*image_factor, padding_side=\"right\")\n",
    "\n",
    "        train_dataset = HuggingFaceDataset(train_dataset, image_column=\"image\",\n",
    "                                    text_column=\"transcription\",\n",
    "                                    user_text=\"Convert this image to text\")\n",
    "                                    \n",
    "        val_dataset = HuggingFaceDataset(val_dataset, image_column=\"image\",\n",
    "                                    text_column=\"transcription\",\n",
    "                                    user_text=\"Convert this image to text\")\n",
    "\n",
    "        train_loader = DataLoader(\n",
    "            train_dataset,\n",
    "            batch_size=train_batch_size,\n",
    "            collate_fn=partial(collate_fn, processor=processor, device=device),\n",
    "            shuffle=True\n",
    "        )\n",
    "\n",
    "        val_loader = DataLoader(\n",
    "            val_dataset,\n",
    "            batch_size=val_batch_size,\n",
    "            collate_fn=partial(collate_fn, processor=processor, device=device)\n",
    "        )\n",
    "\n",
    "\n",
    "        model.train()\n",
    "        optimizer = AdamW(model.parameters(), lr = learning_rate) #1e-5\n",
    "\n",
    "        global_step = 0\n",
    "        progress_bar = tqdm(total=max_steps, desc=\"Training\")\n",
    "        start_time = time.time()\n",
    "        while global_step < max_steps:\n",
    "            for batch in train_loader:\n",
    "                global_step += 1\n",
    "                inputs, labels = batch\n",
    "                outputs = model(**inputs, labels=labels)\n",
    "                \n",
    "                loss = outputs.loss / num_accumulation_steps\n",
    "                loss.backward()\n",
    "                \n",
    "                if global_step % num_accumulation_steps == 0:\n",
    "                    optimizer.step()\n",
    "                    optimizer.zero_grad()\n",
    "\n",
    "                progress_bar.update(1)\n",
    "                progress_bar.set_postfix({\"loss\": loss.item() * num_accumulation_steps})\n",
    "\n",
    "                # Perform evaluation and save model every EVAL_STEPS\n",
    "                \n",
    "                if global_step % eval_steps == 0 or global_step == max_steps:\n",
    "\n",
    "                    #avg_val_loss = validate(model, val_loader)\n",
    "\n",
    "                    model.eval()\n",
    "                    total_val_loss = 0\n",
    "                    correct = 0\n",
    "                    total = 0\n",
    "                    #total_chars = 0\n",
    "                    total_cer = 0   \n",
    "                    with torch.no_grad():\n",
    "                        for batch in tqdm(val_loader, desc = \"Validating\"):\n",
    "                            inputs, labels = batch\n",
    "                            outputs = model(**inputs, labels=labels)\n",
    "                            loss = outputs.loss\n",
    "                            total_val_loss += loss.item()\n",
    "\n",
    "                            # move labels to model's device\n",
    "                            labels = labels.to(device)\n",
    "                            # Get predicted class IDs\n",
    "                            logits = outputs.logits  # [batch_size, seq_len, vocab_size]\n",
    "                            preds = torch.argmax(logits, dim=-1)  # [batch_size, seq_len]\n",
    "\n",
    "                            # Flatten tensors\n",
    "                            preds = preds.view(-1)\n",
    "                            labels = labels.view(-1)\n",
    "\n",
    "                            # Create mask to ignore padding (-100)\n",
    "                            mask = labels != -100\n",
    "\n",
    "                            # Apply mask and update counts\n",
    "                            correct += (preds[mask] == labels[mask]).sum().item()\n",
    "                            total += mask.sum().item()\n",
    "\n",
    "                             # Prepare for decoding (replace -100 with pad_token_id)\n",
    "                            labels_to_decode = labels.clone()\n",
    "                            labels_to_decode[~mask] = processor.tokenizer.pad_token_id\n",
    "\n",
    "                            preds_to_decode = preds.clone()\n",
    "                            preds_to_decode[~mask] = processor.tokenizer.pad_token_id\n",
    "\n",
    "                            # Decode to text\n",
    "                            gt_text = processor.batch_decode(labels_to_decode.view(1, -1).cpu().tolist(),\n",
    "                                                            skip_special_tokens=True)[0]\n",
    "                            pred_text = processor.batch_decode(preds_to_decode.view(1, -1).cpu().tolist(),\n",
    "                                                            skip_special_tokens=True)[0]\n",
    "\n",
    "                            # Compute CER\n",
    "                            total_cer += compute_CER(gt_text, pred_text)\n",
    "    \n",
    "                    avg_val_loss = total_val_loss / len(val_loader)\n",
    "                    val_acc = correct / total if total > 0 else 0.0\n",
    "                    val_cer = total_cer / len(val_loader) if len(val_loader) > 0 else 0.0\n",
    "                    #\n",
    "                    model.train() \n",
    "\n",
    "                    # Save the model and processor\n",
    "                    save_dir = os.path.join(output_dir, f\"model_step_{global_step}\")\n",
    "                    os.makedirs(save_dir, exist_ok=True)\n",
    "                    model.save_pretrained(save_dir)\n",
    "                    processor.save_pretrained(save_dir)\n",
    "\n",
    "                    elapsed_time = time.time() - start_time\n",
    "\n",
    "                    # Log metrics to wandb.\n",
    "                    #run.log({\"loss\": avg_val_loss, \"elapsed_time\": elapsed_time})\n",
    "                    run.log({\n",
    "                        \"loss\": avg_val_loss,\n",
    "                        \"accuracy\": val_acc,\n",
    "                        \"CER\": val_cer,\n",
    "                        \"step\": global_step,\n",
    "                        \"elapsed_time\": elapsed_time\n",
    "                    })\n",
    "\n",
    "                    # Set the model back to training mode\n",
    "                    model.train()  \n",
    "\n",
    "                if global_step >= max_steps:\n",
    "                    save_dir = os.path.join(output_dir, f\"final\")\n",
    "                    model.save_pretrained(save_dir)\n",
    "                    processor.save_pretrained(save_dir)\n",
    "                    break\n",
    "\n",
    "        # Finish the run and upload any remaining data.\n",
    "        #run.finish()\n",
    "\n",
    "        progress_bar.close()"
   ]
  },
  {
   "cell_type": "code",
   "execution_count": 59,
   "metadata": {},
   "outputs": [
    {
     "name": "stdout",
     "output_type": "stream",
     "text": [
      "Create sweep with ID: wgmverv6\n",
      "Sweep URL: https://wandb.ai/alex-zdz/ocr_sweep_test_01/sweeps/wgmverv6\n"
     ]
    }
   ],
   "source": [
    "sweep_id = wandb.sweep(sweep_configuration, project=\"ocr_sweep_test_01\")"
   ]
  },
  {
   "cell_type": "code",
   "execution_count": 60,
   "metadata": {},
   "outputs": [
    {
     "name": "stderr",
     "output_type": "stream",
     "text": [
      "\u001b[34m\u001b[1mwandb\u001b[0m: Agent Starting Run: u1pujah8 with config:\n",
      "\u001b[34m\u001b[1mwandb\u001b[0m: \tlearning_rate: 1e-06\n",
      "\u001b[34m\u001b[1mwandb\u001b[0m: \tmax_steps: 10000\n",
      "\u001b[34m\u001b[1mwandb\u001b[0m: \ttrain_batch_size: 2\n",
      "\u001b[34m\u001b[1mwandb\u001b[0m: \ttrain_size: 200\n"
     ]
    },
    {
     "data": {
      "text/html": [
       "Ignoring project 'ocr_sweep_test_01' when running a sweep."
      ],
      "text/plain": [
       "<IPython.core.display.HTML object>"
      ]
     },
     "metadata": {},
     "output_type": "display_data"
    },
    {
     "data": {
      "text/html": [],
      "text/plain": [
       "<IPython.core.display.HTML object>"
      ]
     },
     "metadata": {},
     "output_type": "display_data"
    },
    {
     "data": {
      "text/html": [
       "Tracking run with wandb version 0.21.4"
      ],
      "text/plain": [
       "<IPython.core.display.HTML object>"
      ]
     },
     "metadata": {},
     "output_type": "display_data"
    },
    {
     "data": {
      "text/html": [
       "Run data is saved locally in <code>/home/alex/projects/ocr/src/wandb/run-20250916_194755-u1pujah8</code>"
      ],
      "text/plain": [
       "<IPython.core.display.HTML object>"
      ]
     },
     "metadata": {},
     "output_type": "display_data"
    },
    {
     "data": {
      "text/html": [
       "Syncing run <strong><a href='https://wandb.ai/alex-zdz/ocr_sweep_test_01/runs/u1pujah8' target=\"_blank\">logical-sweep-1</a></strong> to <a href='https://wandb.ai/alex-zdz/ocr_sweep_test_01' target=\"_blank\">Weights & Biases</a> (<a href='https://wandb.me/developer-guide' target=\"_blank\">docs</a>)<br>Sweep page: <a href='https://wandb.ai/alex-zdz/ocr_sweep_test_01/sweeps/wgmverv6' target=\"_blank\">https://wandb.ai/alex-zdz/ocr_sweep_test_01/sweeps/wgmverv6</a>"
      ],
      "text/plain": [
       "<IPython.core.display.HTML object>"
      ]
     },
     "metadata": {},
     "output_type": "display_data"
    },
    {
     "data": {
      "text/html": [
       " View project at <a href='https://wandb.ai/alex-zdz/ocr_sweep_test_01' target=\"_blank\">https://wandb.ai/alex-zdz/ocr_sweep_test_01</a>"
      ],
      "text/plain": [
       "<IPython.core.display.HTML object>"
      ]
     },
     "metadata": {},
     "output_type": "display_data"
    },
    {
     "data": {
      "text/html": [
       " View sweep at <a href='https://wandb.ai/alex-zdz/ocr_sweep_test_01/sweeps/wgmverv6' target=\"_blank\">https://wandb.ai/alex-zdz/ocr_sweep_test_01/sweeps/wgmverv6</a>"
      ],
      "text/plain": [
       "<IPython.core.display.HTML object>"
      ]
     },
     "metadata": {},
     "output_type": "display_data"
    },
    {
     "data": {
      "text/html": [
       " View run at <a href='https://wandb.ai/alex-zdz/ocr_sweep_test_01/runs/u1pujah8' target=\"_blank\">https://wandb.ai/alex-zdz/ocr_sweep_test_01/runs/u1pujah8</a>"
      ],
      "text/plain": [
       "<IPython.core.display.HTML object>"
      ]
     },
     "metadata": {},
     "output_type": "display_data"
    },
    {
     "name": "stderr",
     "output_type": "stream",
     "text": [
      "Loading checkpoint shards: 100%|██████████| 2/2 [00:00<00:00,  2.89it/s]\n",
      "Validating: 100%|██████████| 298/298 [00:19<00:00, 15.46it/s]/s, loss=1.95]\n",
      "Validating: 100%|██████████| 298/298 [00:19<00:00, 15.54it/s], loss=1.3]     \n",
      "Validating: 100%|██████████| 298/298 [00:19<00:00, 15.66it/s], loss=0.768]  \n",
      "Validating: 100%|██████████| 298/298 [00:19<00:00, 15.67it/s], loss=0.725]   \n",
      "Validating: 100%|██████████| 298/298 [00:19<00:00, 15.66it/s], loss=1.46]    \n",
      "Validating: 100%|██████████| 298/298 [00:19<00:00, 15.65it/s], loss=1.5]    \n",
      "Validating: 100%|██████████| 298/298 [00:19<00:00, 15.63it/s], loss=1.68]   \n",
      "Validating: 100%|██████████| 298/298 [00:19<00:00, 15.66it/s]/s, loss=0.553]\n",
      "Validating: 100%|██████████| 298/298 [00:19<00:00, 15.57it/s]/s, loss=1.63]   \n",
      "Validating: 100%|██████████| 298/298 [00:19<00:00, 15.62it/s]t/s, loss=0.243]\n",
      "Training: 100%|██████████| 10000/10000 [1:15:41<00:00,  2.20it/s, loss=0.243]\n"
     ]
    },
    {
     "data": {
      "text/html": [],
      "text/plain": [
       "<IPython.core.display.HTML object>"
      ]
     },
     "metadata": {},
     "output_type": "display_data"
    },
    {
     "data": {
      "text/html": [
       "<br>    <style><br>        .wandb-row {<br>            display: flex;<br>            flex-direction: row;<br>            flex-wrap: wrap;<br>            justify-content: flex-start;<br>            width: 100%;<br>        }<br>        .wandb-col {<br>            display: flex;<br>            flex-direction: column;<br>            flex-basis: 100%;<br>            flex: 1;<br>            padding: 10px;<br>        }<br>    </style><br><div class=\"wandb-row\"><div class=\"wandb-col\"><h3>Run history:</h3><br/><table class=\"wandb\"><tr><td>CER</td><td>█▃▂▂▁▁▁▁▁▁</td></tr><tr><td>accuracy</td><td>█▃▁▁▁▃▁▁▁▁</td></tr><tr><td>elapsed_time</td><td>▁▂▃▃▄▅▆▆▇█</td></tr><tr><td>loss</td><td>█▄▃▂▂▂▁▁▁▁</td></tr><tr><td>step</td><td>▁▂▃▃▄▅▆▆▇█</td></tr></table><br/></div><div class=\"wandb-col\"><h3>Run summary:</h3><br/><table class=\"wandb\"><tr><td>CER</td><td>0.42427</td></tr><tr><td>accuracy</td><td>0.0004</td></tr><tr><td>elapsed_time</td><td>4532.74506</td></tr><tr><td>loss</td><td>1.4845</td></tr><tr><td>step</td><td>10000</td></tr></table><br/></div></div>"
      ],
      "text/plain": [
       "<IPython.core.display.HTML object>"
      ]
     },
     "metadata": {},
     "output_type": "display_data"
    },
    {
     "data": {
      "text/html": [
       " View run <strong style=\"color:#cdcd00\">logical-sweep-1</strong> at: <a href='https://wandb.ai/alex-zdz/ocr_sweep_test_01/runs/u1pujah8' target=\"_blank\">https://wandb.ai/alex-zdz/ocr_sweep_test_01/runs/u1pujah8</a><br> View project at: <a href='https://wandb.ai/alex-zdz/ocr_sweep_test_01' target=\"_blank\">https://wandb.ai/alex-zdz/ocr_sweep_test_01</a><br>Synced 5 W&B file(s), 0 media file(s), 0 artifact file(s) and 0 other file(s)"
      ],
      "text/plain": [
       "<IPython.core.display.HTML object>"
      ]
     },
     "metadata": {},
     "output_type": "display_data"
    },
    {
     "data": {
      "text/html": [
       "Find logs at: <code>./wandb/run-20250916_194755-u1pujah8/logs</code>"
      ],
      "text/plain": [
       "<IPython.core.display.HTML object>"
      ]
     },
     "metadata": {},
     "output_type": "display_data"
    },
    {
     "name": "stderr",
     "output_type": "stream",
     "text": [
      "\u001b[34m\u001b[1mwandb\u001b[0m: Sweep Agent: Waiting for job.\n",
      "\u001b[34m\u001b[1mwandb\u001b[0m: Job received.\n",
      "\u001b[34m\u001b[1mwandb\u001b[0m: Agent Starting Run: 3k2ojce0 with config:\n",
      "\u001b[34m\u001b[1mwandb\u001b[0m: \tlearning_rate: 1e-06\n",
      "\u001b[34m\u001b[1mwandb\u001b[0m: \tmax_steps: 10000\n",
      "\u001b[34m\u001b[1mwandb\u001b[0m: \ttrain_batch_size: 2\n",
      "\u001b[34m\u001b[1mwandb\u001b[0m: \ttrain_size: 400\n"
     ]
    },
    {
     "data": {
      "text/html": [
       "Ignoring project 'ocr_sweep_test_01' when running a sweep."
      ],
      "text/plain": [
       "<IPython.core.display.HTML object>"
      ]
     },
     "metadata": {},
     "output_type": "display_data"
    },
    {
     "data": {
      "text/html": [],
      "text/plain": [
       "<IPython.core.display.HTML object>"
      ]
     },
     "metadata": {},
     "output_type": "display_data"
    },
    {
     "data": {
      "text/html": [
       "Tracking run with wandb version 0.21.4"
      ],
      "text/plain": [
       "<IPython.core.display.HTML object>"
      ]
     },
     "metadata": {},
     "output_type": "display_data"
    },
    {
     "data": {
      "text/html": [
       "Run data is saved locally in <code>/home/alex/projects/ocr/src/wandb/run-20250916_210354-3k2ojce0</code>"
      ],
      "text/plain": [
       "<IPython.core.display.HTML object>"
      ]
     },
     "metadata": {},
     "output_type": "display_data"
    },
    {
     "data": {
      "text/html": [
       "Syncing run <strong><a href='https://wandb.ai/alex-zdz/ocr_sweep_test_01/runs/3k2ojce0' target=\"_blank\">olive-sweep-2</a></strong> to <a href='https://wandb.ai/alex-zdz/ocr_sweep_test_01' target=\"_blank\">Weights & Biases</a> (<a href='https://wandb.me/developer-guide' target=\"_blank\">docs</a>)<br>Sweep page: <a href='https://wandb.ai/alex-zdz/ocr_sweep_test_01/sweeps/wgmverv6' target=\"_blank\">https://wandb.ai/alex-zdz/ocr_sweep_test_01/sweeps/wgmverv6</a>"
      ],
      "text/plain": [
       "<IPython.core.display.HTML object>"
      ]
     },
     "metadata": {},
     "output_type": "display_data"
    },
    {
     "data": {
      "text/html": [
       " View project at <a href='https://wandb.ai/alex-zdz/ocr_sweep_test_01' target=\"_blank\">https://wandb.ai/alex-zdz/ocr_sweep_test_01</a>"
      ],
      "text/plain": [
       "<IPython.core.display.HTML object>"
      ]
     },
     "metadata": {},
     "output_type": "display_data"
    },
    {
     "data": {
      "text/html": [
       " View sweep at <a href='https://wandb.ai/alex-zdz/ocr_sweep_test_01/sweeps/wgmverv6' target=\"_blank\">https://wandb.ai/alex-zdz/ocr_sweep_test_01/sweeps/wgmverv6</a>"
      ],
      "text/plain": [
       "<IPython.core.display.HTML object>"
      ]
     },
     "metadata": {},
     "output_type": "display_data"
    },
    {
     "data": {
      "text/html": [
       " View run at <a href='https://wandb.ai/alex-zdz/ocr_sweep_test_01/runs/3k2ojce0' target=\"_blank\">https://wandb.ai/alex-zdz/ocr_sweep_test_01/runs/3k2ojce0</a>"
      ],
      "text/plain": [
       "<IPython.core.display.HTML object>"
      ]
     },
     "metadata": {},
     "output_type": "display_data"
    },
    {
     "name": "stderr",
     "output_type": "stream",
     "text": [
      "Loading checkpoint shards: 100%|██████████| 2/2 [00:00<00:00,  3.15it/s]\n",
      "Validating: 100%|██████████| 298/298 [00:19<00:00, 15.56it/s]/s, loss=0.519]\n",
      "Validating: 100%|██████████| 298/298 [00:19<00:00, 15.67it/s], loss=1.37]    \n",
      "Validating: 100%|██████████| 298/298 [00:19<00:00, 15.62it/s], loss=0.567]   \n",
      "Validating: 100%|██████████| 298/298 [00:19<00:00, 15.54it/s], loss=1.32]    \n",
      "Validating: 100%|██████████| 298/298 [00:19<00:00, 15.68it/s], loss=2.06]   \n",
      "Validating: 100%|██████████| 298/298 [00:18<00:00, 15.70it/s], loss=1.95]    \n",
      "Validating: 100%|██████████| 298/298 [00:19<00:00, 15.44it/s], loss=1.62]   \n",
      "Validating: 100%|██████████| 298/298 [00:19<00:00, 15.65it/s]/s, loss=3.56] \n",
      "Validating: 100%|██████████| 298/298 [00:19<00:00, 15.68it/s]/s, loss=0.544] \n",
      "Validating: 100%|██████████| 298/298 [00:19<00:00, 15.42it/s]t/s, loss=0.901] \n",
      "Training: 100%|██████████| 10000/10000 [1:15:52<00:00,  2.20it/s, loss=0.901]\n"
     ]
    },
    {
     "data": {
      "text/html": [],
      "text/plain": [
       "<IPython.core.display.HTML object>"
      ]
     },
     "metadata": {},
     "output_type": "display_data"
    },
    {
     "data": {
      "text/html": [
       "<br>    <style><br>        .wandb-row {<br>            display: flex;<br>            flex-direction: row;<br>            flex-wrap: wrap;<br>            justify-content: flex-start;<br>            width: 100%;<br>        }<br>        .wandb-col {<br>            display: flex;<br>            flex-direction: column;<br>            flex-basis: 100%;<br>            flex: 1;<br>            padding: 10px;<br>        }<br>    </style><br><div class=\"wandb-row\"><div class=\"wandb-col\"><h3>Run history:</h3><br/><table class=\"wandb\"><tr><td>CER</td><td>█▄▃▂▂▂▁▁▁▁</td></tr><tr><td>accuracy</td><td>█▁▁▁▁▁▁▁▁▁</td></tr><tr><td>elapsed_time</td><td>▁▂▃▃▄▅▆▆▇█</td></tr><tr><td>loss</td><td>█▅▃▂▂▂▁▁▁▁</td></tr><tr><td>step</td><td>▁▂▃▃▄▅▆▆▇█</td></tr></table><br/></div><div class=\"wandb-col\"><h3>Run summary:</h3><br/><table class=\"wandb\"><tr><td>CER</td><td>0.41143</td></tr><tr><td>accuracy</td><td>0.0006</td></tr><tr><td>elapsed_time</td><td>4544.8835</td></tr><tr><td>loss</td><td>1.45908</td></tr><tr><td>step</td><td>10000</td></tr></table><br/></div></div>"
      ],
      "text/plain": [
       "<IPython.core.display.HTML object>"
      ]
     },
     "metadata": {},
     "output_type": "display_data"
    },
    {
     "data": {
      "text/html": [
       " View run <strong style=\"color:#cdcd00\">olive-sweep-2</strong> at: <a href='https://wandb.ai/alex-zdz/ocr_sweep_test_01/runs/3k2ojce0' target=\"_blank\">https://wandb.ai/alex-zdz/ocr_sweep_test_01/runs/3k2ojce0</a><br> View project at: <a href='https://wandb.ai/alex-zdz/ocr_sweep_test_01' target=\"_blank\">https://wandb.ai/alex-zdz/ocr_sweep_test_01</a><br>Synced 5 W&B file(s), 0 media file(s), 0 artifact file(s) and 0 other file(s)"
      ],
      "text/plain": [
       "<IPython.core.display.HTML object>"
      ]
     },
     "metadata": {},
     "output_type": "display_data"
    },
    {
     "data": {
      "text/html": [
       "Find logs at: <code>./wandb/run-20250916_210354-3k2ojce0/logs</code>"
      ],
      "text/plain": [
       "<IPython.core.display.HTML object>"
      ]
     },
     "metadata": {},
     "output_type": "display_data"
    },
    {
     "name": "stderr",
     "output_type": "stream",
     "text": [
      "\u001b[34m\u001b[1mwandb\u001b[0m: Agent Starting Run: azbb4kep with config:\n",
      "\u001b[34m\u001b[1mwandb\u001b[0m: \tlearning_rate: 1e-06\n",
      "\u001b[34m\u001b[1mwandb\u001b[0m: \tmax_steps: 10000\n",
      "\u001b[34m\u001b[1mwandb\u001b[0m: \ttrain_batch_size: 2\n",
      "\u001b[34m\u001b[1mwandb\u001b[0m: \ttrain_size: 800\n"
     ]
    },
    {
     "data": {
      "text/html": [
       "Ignoring project 'ocr_sweep_test_01' when running a sweep."
      ],
      "text/plain": [
       "<IPython.core.display.HTML object>"
      ]
     },
     "metadata": {},
     "output_type": "display_data"
    },
    {
     "data": {
      "text/html": [],
      "text/plain": [
       "<IPython.core.display.HTML object>"
      ]
     },
     "metadata": {},
     "output_type": "display_data"
    },
    {
     "data": {
      "text/html": [
       "Tracking run with wandb version 0.21.4"
      ],
      "text/plain": [
       "<IPython.core.display.HTML object>"
      ]
     },
     "metadata": {},
     "output_type": "display_data"
    },
    {
     "data": {
      "text/html": [
       "Run data is saved locally in <code>/home/alex/projects/ocr/src/wandb/run-20250916_221959-azbb4kep</code>"
      ],
      "text/plain": [
       "<IPython.core.display.HTML object>"
      ]
     },
     "metadata": {},
     "output_type": "display_data"
    },
    {
     "data": {
      "text/html": [
       "Syncing run <strong><a href='https://wandb.ai/alex-zdz/ocr_sweep_test_01/runs/azbb4kep' target=\"_blank\">glowing-sweep-3</a></strong> to <a href='https://wandb.ai/alex-zdz/ocr_sweep_test_01' target=\"_blank\">Weights & Biases</a> (<a href='https://wandb.me/developer-guide' target=\"_blank\">docs</a>)<br>Sweep page: <a href='https://wandb.ai/alex-zdz/ocr_sweep_test_01/sweeps/wgmverv6' target=\"_blank\">https://wandb.ai/alex-zdz/ocr_sweep_test_01/sweeps/wgmverv6</a>"
      ],
      "text/plain": [
       "<IPython.core.display.HTML object>"
      ]
     },
     "metadata": {},
     "output_type": "display_data"
    },
    {
     "data": {
      "text/html": [
       " View project at <a href='https://wandb.ai/alex-zdz/ocr_sweep_test_01' target=\"_blank\">https://wandb.ai/alex-zdz/ocr_sweep_test_01</a>"
      ],
      "text/plain": [
       "<IPython.core.display.HTML object>"
      ]
     },
     "metadata": {},
     "output_type": "display_data"
    },
    {
     "data": {
      "text/html": [
       " View sweep at <a href='https://wandb.ai/alex-zdz/ocr_sweep_test_01/sweeps/wgmverv6' target=\"_blank\">https://wandb.ai/alex-zdz/ocr_sweep_test_01/sweeps/wgmverv6</a>"
      ],
      "text/plain": [
       "<IPython.core.display.HTML object>"
      ]
     },
     "metadata": {},
     "output_type": "display_data"
    },
    {
     "data": {
      "text/html": [
       " View run at <a href='https://wandb.ai/alex-zdz/ocr_sweep_test_01/runs/azbb4kep' target=\"_blank\">https://wandb.ai/alex-zdz/ocr_sweep_test_01/runs/azbb4kep</a>"
      ],
      "text/plain": [
       "<IPython.core.display.HTML object>"
      ]
     },
     "metadata": {},
     "output_type": "display_data"
    },
    {
     "name": "stderr",
     "output_type": "stream",
     "text": [
      "Loading checkpoint shards: 100%|██████████| 2/2 [00:00<00:00,  3.19it/s]\n",
      "Validating: 100%|██████████| 298/298 [00:19<00:00, 15.49it/s]/s, loss=2.41] \n",
      "Validating: 100%|██████████| 298/298 [00:19<00:00, 15.63it/s], loss=1.74]   \n",
      "Validating: 100%|██████████| 298/298 [00:18<00:00, 15.70it/s], loss=1.82]    \n",
      "Validating: 100%|██████████| 298/298 [00:19<00:00, 15.67it/s], loss=1.85]    \n",
      "Validating: 100%|██████████| 298/298 [00:19<00:00, 15.66it/s], loss=2.31]   \n",
      "Validating: 100%|██████████| 298/298 [00:19<00:00, 15.48it/s], loss=0.857]  \n",
      "Validating: 100%|██████████| 298/298 [00:19<00:00, 15.55it/s], loss=1.64]   \n",
      "Validating: 100%|██████████| 298/298 [00:19<00:00, 15.67it/s]/s, loss=0.974]\n",
      "Validating: 100%|██████████| 298/298 [00:19<00:00, 15.49it/s]/s, loss=1.52]   \n",
      "Validating: 100%|██████████| 298/298 [00:18<00:00, 15.70it/s]t/s, loss=2.13] \n",
      "Training: 100%|██████████| 10000/10000 [1:15:45<00:00,  2.20it/s, loss=2.13]\n"
     ]
    },
    {
     "data": {
      "text/html": [],
      "text/plain": [
       "<IPython.core.display.HTML object>"
      ]
     },
     "metadata": {},
     "output_type": "display_data"
    },
    {
     "data": {
      "text/html": [
       "<br>    <style><br>        .wandb-row {<br>            display: flex;<br>            flex-direction: row;<br>            flex-wrap: wrap;<br>            justify-content: flex-start;<br>            width: 100%;<br>        }<br>        .wandb-col {<br>            display: flex;<br>            flex-direction: column;<br>            flex-basis: 100%;<br>            flex: 1;<br>            padding: 10px;<br>        }<br>    </style><br><div class=\"wandb-row\"><div class=\"wandb-col\"><h3>Run history:</h3><br/><table class=\"wandb\"><tr><td>CER</td><td>█▄▃▂▂▂▁▁▁▁</td></tr><tr><td>accuracy</td><td>▁▁▁▁▁▁▁▁▁▁</td></tr><tr><td>elapsed_time</td><td>▁▂▃▃▄▅▆▆▇█</td></tr><tr><td>loss</td><td>█▅▃▂▂▂▁▁▁▁</td></tr><tr><td>step</td><td>▁▂▃▃▄▅▆▆▇█</td></tr></table><br/></div><div class=\"wandb-col\"><h3>Run summary:</h3><br/><table class=\"wandb\"><tr><td>CER</td><td>0.41305</td></tr><tr><td>accuracy</td><td>0.0006</td></tr><tr><td>elapsed_time</td><td>4538.73916</td></tr><tr><td>loss</td><td>1.45763</td></tr><tr><td>step</td><td>10000</td></tr></table><br/></div></div>"
      ],
      "text/plain": [
       "<IPython.core.display.HTML object>"
      ]
     },
     "metadata": {},
     "output_type": "display_data"
    },
    {
     "data": {
      "text/html": [
       " View run <strong style=\"color:#cdcd00\">glowing-sweep-3</strong> at: <a href='https://wandb.ai/alex-zdz/ocr_sweep_test_01/runs/azbb4kep' target=\"_blank\">https://wandb.ai/alex-zdz/ocr_sweep_test_01/runs/azbb4kep</a><br> View project at: <a href='https://wandb.ai/alex-zdz/ocr_sweep_test_01' target=\"_blank\">https://wandb.ai/alex-zdz/ocr_sweep_test_01</a><br>Synced 5 W&B file(s), 0 media file(s), 0 artifact file(s) and 0 other file(s)"
      ],
      "text/plain": [
       "<IPython.core.display.HTML object>"
      ]
     },
     "metadata": {},
     "output_type": "display_data"
    },
    {
     "data": {
      "text/html": [
       "Find logs at: <code>./wandb/run-20250916_221959-azbb4kep/logs</code>"
      ],
      "text/plain": [
       "<IPython.core.display.HTML object>"
      ]
     },
     "metadata": {},
     "output_type": "display_data"
    },
    {
     "name": "stderr",
     "output_type": "stream",
     "text": [
      "\u001b[34m\u001b[1mwandb\u001b[0m: Agent Starting Run: h8db71xo with config:\n",
      "\u001b[34m\u001b[1mwandb\u001b[0m: \tlearning_rate: 1e-06\n",
      "\u001b[34m\u001b[1mwandb\u001b[0m: \tmax_steps: 10000\n",
      "\u001b[34m\u001b[1mwandb\u001b[0m: \ttrain_batch_size: 2\n",
      "\u001b[34m\u001b[1mwandb\u001b[0m: \ttrain_size: 1200\n"
     ]
    },
    {
     "data": {
      "text/html": [
       "Ignoring project 'ocr_sweep_test_01' when running a sweep."
      ],
      "text/plain": [
       "<IPython.core.display.HTML object>"
      ]
     },
     "metadata": {},
     "output_type": "display_data"
    },
    {
     "data": {
      "text/html": [],
      "text/plain": [
       "<IPython.core.display.HTML object>"
      ]
     },
     "metadata": {},
     "output_type": "display_data"
    },
    {
     "data": {
      "text/html": [
       "Tracking run with wandb version 0.21.4"
      ],
      "text/plain": [
       "<IPython.core.display.HTML object>"
      ]
     },
     "metadata": {},
     "output_type": "display_data"
    },
    {
     "data": {
      "text/html": [
       "Run data is saved locally in <code>/home/alex/projects/ocr/src/wandb/run-20250916_233557-h8db71xo</code>"
      ],
      "text/plain": [
       "<IPython.core.display.HTML object>"
      ]
     },
     "metadata": {},
     "output_type": "display_data"
    },
    {
     "data": {
      "text/html": [
       "Syncing run <strong><a href='https://wandb.ai/alex-zdz/ocr_sweep_test_01/runs/h8db71xo' target=\"_blank\">lunar-sweep-4</a></strong> to <a href='https://wandb.ai/alex-zdz/ocr_sweep_test_01' target=\"_blank\">Weights & Biases</a> (<a href='https://wandb.me/developer-guide' target=\"_blank\">docs</a>)<br>Sweep page: <a href='https://wandb.ai/alex-zdz/ocr_sweep_test_01/sweeps/wgmverv6' target=\"_blank\">https://wandb.ai/alex-zdz/ocr_sweep_test_01/sweeps/wgmverv6</a>"
      ],
      "text/plain": [
       "<IPython.core.display.HTML object>"
      ]
     },
     "metadata": {},
     "output_type": "display_data"
    },
    {
     "data": {
      "text/html": [
       " View project at <a href='https://wandb.ai/alex-zdz/ocr_sweep_test_01' target=\"_blank\">https://wandb.ai/alex-zdz/ocr_sweep_test_01</a>"
      ],
      "text/plain": [
       "<IPython.core.display.HTML object>"
      ]
     },
     "metadata": {},
     "output_type": "display_data"
    },
    {
     "data": {
      "text/html": [
       " View sweep at <a href='https://wandb.ai/alex-zdz/ocr_sweep_test_01/sweeps/wgmverv6' target=\"_blank\">https://wandb.ai/alex-zdz/ocr_sweep_test_01/sweeps/wgmverv6</a>"
      ],
      "text/plain": [
       "<IPython.core.display.HTML object>"
      ]
     },
     "metadata": {},
     "output_type": "display_data"
    },
    {
     "data": {
      "text/html": [
       " View run at <a href='https://wandb.ai/alex-zdz/ocr_sweep_test_01/runs/h8db71xo' target=\"_blank\">https://wandb.ai/alex-zdz/ocr_sweep_test_01/runs/h8db71xo</a>"
      ],
      "text/plain": [
       "<IPython.core.display.HTML object>"
      ]
     },
     "metadata": {},
     "output_type": "display_data"
    },
    {
     "name": "stderr",
     "output_type": "stream",
     "text": [
      "Loading checkpoint shards: 100%|██████████| 2/2 [00:00<00:00,  3.17it/s]\n",
      "Validating: 100%|██████████| 298/298 [00:19<00:00, 15.58it/s]/s, loss=0.317]\n",
      "Validating: 100%|██████████| 298/298 [00:19<00:00, 15.45it/s], loss=2.22]    \n",
      "Validating: 100%|██████████| 298/298 [00:19<00:00, 15.45it/s], loss=1.7]    \n",
      "Validating: 100%|██████████| 298/298 [00:19<00:00, 15.62it/s], loss=1.6]    \n",
      "Validating: 100%|██████████| 298/298 [00:19<00:00, 15.43it/s], loss=1.12]   \n",
      "Validating: 100%|██████████| 298/298 [00:19<00:00, 15.57it/s], loss=1.11]   \n",
      "Validating: 100%|██████████| 298/298 [00:19<00:00, 15.46it/s], loss=2.12]   \n",
      "Validating: 100%|██████████| 298/298 [00:19<00:00, 15.54it/s]/s, loss=2.02] \n",
      "Validating: 100%|██████████| 298/298 [00:19<00:00, 15.52it/s]/s, loss=1.55]   \n",
      "Validating: 100%|██████████| 298/298 [00:19<00:00, 15.61it/s]t/s, loss=1.11]  \n",
      "Training: 100%|██████████| 10000/10000 [1:15:52<00:00,  2.20it/s, loss=1.11]\n"
     ]
    },
    {
     "data": {
      "text/html": [],
      "text/plain": [
       "<IPython.core.display.HTML object>"
      ]
     },
     "metadata": {},
     "output_type": "display_data"
    },
    {
     "data": {
      "text/html": [
       "<br>    <style><br>        .wandb-row {<br>            display: flex;<br>            flex-direction: row;<br>            flex-wrap: wrap;<br>            justify-content: flex-start;<br>            width: 100%;<br>        }<br>        .wandb-col {<br>            display: flex;<br>            flex-direction: column;<br>            flex-basis: 100%;<br>            flex: 1;<br>            padding: 10px;<br>        }<br>    </style><br><div class=\"wandb-row\"><div class=\"wandb-col\"><h3>Run history:</h3><br/><table class=\"wandb\"><tr><td>CER</td><td>█▄▃▂▂▂▁▁▁▁</td></tr><tr><td>accuracy</td><td>█▁▁▁▁▁▁▁▁▁</td></tr><tr><td>elapsed_time</td><td>▁▂▃▃▄▅▆▆▇█</td></tr><tr><td>loss</td><td>█▅▃▂▂▂▁▁▁▁</td></tr><tr><td>step</td><td>▁▂▃▃▄▅▆▆▇█</td></tr></table><br/></div><div class=\"wandb-col\"><h3>Run summary:</h3><br/><table class=\"wandb\"><tr><td>CER</td><td>0.40878</td></tr><tr><td>accuracy</td><td>0.0006</td></tr><tr><td>elapsed_time</td><td>4545.03581</td></tr><tr><td>loss</td><td>1.44662</td></tr><tr><td>step</td><td>10000</td></tr></table><br/></div></div>"
      ],
      "text/plain": [
       "<IPython.core.display.HTML object>"
      ]
     },
     "metadata": {},
     "output_type": "display_data"
    },
    {
     "data": {
      "text/html": [
       " View run <strong style=\"color:#cdcd00\">lunar-sweep-4</strong> at: <a href='https://wandb.ai/alex-zdz/ocr_sweep_test_01/runs/h8db71xo' target=\"_blank\">https://wandb.ai/alex-zdz/ocr_sweep_test_01/runs/h8db71xo</a><br> View project at: <a href='https://wandb.ai/alex-zdz/ocr_sweep_test_01' target=\"_blank\">https://wandb.ai/alex-zdz/ocr_sweep_test_01</a><br>Synced 5 W&B file(s), 0 media file(s), 0 artifact file(s) and 0 other file(s)"
      ],
      "text/plain": [
       "<IPython.core.display.HTML object>"
      ]
     },
     "metadata": {},
     "output_type": "display_data"
    },
    {
     "data": {
      "text/html": [
       "Find logs at: <code>./wandb/run-20250916_233557-h8db71xo/logs</code>"
      ],
      "text/plain": [
       "<IPython.core.display.HTML object>"
      ]
     },
     "metadata": {},
     "output_type": "display_data"
    },
    {
     "name": "stderr",
     "output_type": "stream",
     "text": [
      "\u001b[34m\u001b[1mwandb\u001b[0m: Agent Starting Run: vcvrus6a with config:\n",
      "\u001b[34m\u001b[1mwandb\u001b[0m: \tlearning_rate: 1e-06\n",
      "\u001b[34m\u001b[1mwandb\u001b[0m: \tmax_steps: 10000\n",
      "\u001b[34m\u001b[1mwandb\u001b[0m: \ttrain_batch_size: 2\n",
      "\u001b[34m\u001b[1mwandb\u001b[0m: \ttrain_size: full\n"
     ]
    },
    {
     "data": {
      "text/html": [
       "Ignoring project 'ocr_sweep_test_01' when running a sweep."
      ],
      "text/plain": [
       "<IPython.core.display.HTML object>"
      ]
     },
     "metadata": {},
     "output_type": "display_data"
    },
    {
     "data": {
      "text/html": [],
      "text/plain": [
       "<IPython.core.display.HTML object>"
      ]
     },
     "metadata": {},
     "output_type": "display_data"
    },
    {
     "data": {
      "text/html": [
       "Tracking run with wandb version 0.21.4"
      ],
      "text/plain": [
       "<IPython.core.display.HTML object>"
      ]
     },
     "metadata": {},
     "output_type": "display_data"
    },
    {
     "data": {
      "text/html": [
       "Run data is saved locally in <code>/home/alex/projects/ocr/src/wandb/run-20250917_005201-vcvrus6a</code>"
      ],
      "text/plain": [
       "<IPython.core.display.HTML object>"
      ]
     },
     "metadata": {},
     "output_type": "display_data"
    },
    {
     "data": {
      "text/html": [
       "Syncing run <strong><a href='https://wandb.ai/alex-zdz/ocr_sweep_test_01/runs/vcvrus6a' target=\"_blank\">electric-sweep-5</a></strong> to <a href='https://wandb.ai/alex-zdz/ocr_sweep_test_01' target=\"_blank\">Weights & Biases</a> (<a href='https://wandb.me/developer-guide' target=\"_blank\">docs</a>)<br>Sweep page: <a href='https://wandb.ai/alex-zdz/ocr_sweep_test_01/sweeps/wgmverv6' target=\"_blank\">https://wandb.ai/alex-zdz/ocr_sweep_test_01/sweeps/wgmverv6</a>"
      ],
      "text/plain": [
       "<IPython.core.display.HTML object>"
      ]
     },
     "metadata": {},
     "output_type": "display_data"
    },
    {
     "data": {
      "text/html": [
       " View project at <a href='https://wandb.ai/alex-zdz/ocr_sweep_test_01' target=\"_blank\">https://wandb.ai/alex-zdz/ocr_sweep_test_01</a>"
      ],
      "text/plain": [
       "<IPython.core.display.HTML object>"
      ]
     },
     "metadata": {},
     "output_type": "display_data"
    },
    {
     "data": {
      "text/html": [
       " View sweep at <a href='https://wandb.ai/alex-zdz/ocr_sweep_test_01/sweeps/wgmverv6' target=\"_blank\">https://wandb.ai/alex-zdz/ocr_sweep_test_01/sweeps/wgmverv6</a>"
      ],
      "text/plain": [
       "<IPython.core.display.HTML object>"
      ]
     },
     "metadata": {},
     "output_type": "display_data"
    },
    {
     "data": {
      "text/html": [
       " View run at <a href='https://wandb.ai/alex-zdz/ocr_sweep_test_01/runs/vcvrus6a' target=\"_blank\">https://wandb.ai/alex-zdz/ocr_sweep_test_01/runs/vcvrus6a</a>"
      ],
      "text/plain": [
       "<IPython.core.display.HTML object>"
      ]
     },
     "metadata": {},
     "output_type": "display_data"
    },
    {
     "name": "stderr",
     "output_type": "stream",
     "text": [
      "Loading checkpoint shards: 100%|██████████| 2/2 [00:00<00:00,  3.18it/s]\n",
      "Validating: 100%|██████████| 298/298 [00:19<00:00, 15.55it/s]/s, loss=2.54] \n",
      "Validating: 100%|██████████| 298/298 [00:19<00:00, 15.68it/s]/s, loss=1.05] \n",
      "Validating: 100%|██████████| 298/298 [00:19<00:00, 15.44it/s], loss=2.26]   \n",
      "Validating: 100%|██████████| 298/298 [00:19<00:00, 15.48it/s], loss=2.15]    \n",
      "Validating: 100%|██████████| 298/298 [00:19<00:00, 15.47it/s], loss=2.92]   \n",
      "Validating: 100%|██████████| 298/298 [00:19<00:00, 15.45it/s], loss=1.3]    \n",
      "Validating: 100%|██████████| 298/298 [00:19<00:00, 15.67it/s], loss=0.442]  \n",
      "Validating: 100%|██████████| 298/298 [00:19<00:00, 15.40it/s]/s, loss=1.65] \n",
      "Validating: 100%|██████████| 298/298 [00:19<00:00, 15.40it/s]/s, loss=2.14]   \n",
      "Validating: 100%|██████████| 298/298 [00:19<00:00, 15.39it/s]t/s, loss=0.424]\n",
      "Training: 100%|██████████| 10000/10000 [1:16:08<00:00,  2.19it/s, loss=0.424]\n"
     ]
    },
    {
     "data": {
      "text/html": [],
      "text/plain": [
       "<IPython.core.display.HTML object>"
      ]
     },
     "metadata": {},
     "output_type": "display_data"
    },
    {
     "data": {
      "text/html": [
       "<br>    <style><br>        .wandb-row {<br>            display: flex;<br>            flex-direction: row;<br>            flex-wrap: wrap;<br>            justify-content: flex-start;<br>            width: 100%;<br>        }<br>        .wandb-col {<br>            display: flex;<br>            flex-direction: column;<br>            flex-basis: 100%;<br>            flex: 1;<br>            padding: 10px;<br>        }<br>    </style><br><div class=\"wandb-row\"><div class=\"wandb-col\"><h3>Run history:</h3><br/><table class=\"wandb\"><tr><td>CER</td><td>█▄▃▂▂▂▁▁▁▁</td></tr><tr><td>accuracy</td><td>▁▁▁▁▁▁▁▁▁▁</td></tr><tr><td>elapsed_time</td><td>▁▂▃▃▄▅▆▆▇█</td></tr><tr><td>loss</td><td>█▅▃▂▂▂▁▁▁▁</td></tr><tr><td>step</td><td>▁▂▃▃▄▅▆▆▇█</td></tr></table><br/></div><div class=\"wandb-col\"><h3>Run summary:</h3><br/><table class=\"wandb\"><tr><td>CER</td><td>0.40991</td></tr><tr><td>accuracy</td><td>0.0006</td></tr><tr><td>elapsed_time</td><td>4560.50008</td></tr><tr><td>loss</td><td>1.45004</td></tr><tr><td>step</td><td>10000</td></tr></table><br/></div></div>"
      ],
      "text/plain": [
       "<IPython.core.display.HTML object>"
      ]
     },
     "metadata": {},
     "output_type": "display_data"
    },
    {
     "data": {
      "text/html": [
       " View run <strong style=\"color:#cdcd00\">electric-sweep-5</strong> at: <a href='https://wandb.ai/alex-zdz/ocr_sweep_test_01/runs/vcvrus6a' target=\"_blank\">https://wandb.ai/alex-zdz/ocr_sweep_test_01/runs/vcvrus6a</a><br> View project at: <a href='https://wandb.ai/alex-zdz/ocr_sweep_test_01' target=\"_blank\">https://wandb.ai/alex-zdz/ocr_sweep_test_01</a><br>Synced 5 W&B file(s), 0 media file(s), 0 artifact file(s) and 0 other file(s)"
      ],
      "text/plain": [
       "<IPython.core.display.HTML object>"
      ]
     },
     "metadata": {},
     "output_type": "display_data"
    },
    {
     "data": {
      "text/html": [
       "Find logs at: <code>./wandb/run-20250917_005201-vcvrus6a/logs</code>"
      ],
      "text/plain": [
       "<IPython.core.display.HTML object>"
      ]
     },
     "metadata": {},
     "output_type": "display_data"
    },
    {
     "name": "stderr",
     "output_type": "stream",
     "text": [
      "\u001b[34m\u001b[1mwandb\u001b[0m: Agent Starting Run: xj7qvwmc with config:\n",
      "\u001b[34m\u001b[1mwandb\u001b[0m: \tlearning_rate: 1e-05\n",
      "\u001b[34m\u001b[1mwandb\u001b[0m: \tmax_steps: 10000\n",
      "\u001b[34m\u001b[1mwandb\u001b[0m: \ttrain_batch_size: 2\n",
      "\u001b[34m\u001b[1mwandb\u001b[0m: \ttrain_size: 200\n"
     ]
    },
    {
     "data": {
      "text/html": [
       "Ignoring project 'ocr_sweep_test_01' when running a sweep."
      ],
      "text/plain": [
       "<IPython.core.display.HTML object>"
      ]
     },
     "metadata": {},
     "output_type": "display_data"
    },
    {
     "data": {
      "text/html": [],
      "text/plain": [
       "<IPython.core.display.HTML object>"
      ]
     },
     "metadata": {},
     "output_type": "display_data"
    },
    {
     "data": {
      "text/html": [
       "Tracking run with wandb version 0.21.4"
      ],
      "text/plain": [
       "<IPython.core.display.HTML object>"
      ]
     },
     "metadata": {},
     "output_type": "display_data"
    },
    {
     "data": {
      "text/html": [
       "Run data is saved locally in <code>/home/alex/projects/ocr/src/wandb/run-20250917_020821-xj7qvwmc</code>"
      ],
      "text/plain": [
       "<IPython.core.display.HTML object>"
      ]
     },
     "metadata": {},
     "output_type": "display_data"
    },
    {
     "data": {
      "text/html": [
       "Syncing run <strong><a href='https://wandb.ai/alex-zdz/ocr_sweep_test_01/runs/xj7qvwmc' target=\"_blank\">amber-sweep-6</a></strong> to <a href='https://wandb.ai/alex-zdz/ocr_sweep_test_01' target=\"_blank\">Weights & Biases</a> (<a href='https://wandb.me/developer-guide' target=\"_blank\">docs</a>)<br>Sweep page: <a href='https://wandb.ai/alex-zdz/ocr_sweep_test_01/sweeps/wgmverv6' target=\"_blank\">https://wandb.ai/alex-zdz/ocr_sweep_test_01/sweeps/wgmverv6</a>"
      ],
      "text/plain": [
       "<IPython.core.display.HTML object>"
      ]
     },
     "metadata": {},
     "output_type": "display_data"
    },
    {
     "data": {
      "text/html": [
       " View project at <a href='https://wandb.ai/alex-zdz/ocr_sweep_test_01' target=\"_blank\">https://wandb.ai/alex-zdz/ocr_sweep_test_01</a>"
      ],
      "text/plain": [
       "<IPython.core.display.HTML object>"
      ]
     },
     "metadata": {},
     "output_type": "display_data"
    },
    {
     "data": {
      "text/html": [
       " View sweep at <a href='https://wandb.ai/alex-zdz/ocr_sweep_test_01/sweeps/wgmverv6' target=\"_blank\">https://wandb.ai/alex-zdz/ocr_sweep_test_01/sweeps/wgmverv6</a>"
      ],
      "text/plain": [
       "<IPython.core.display.HTML object>"
      ]
     },
     "metadata": {},
     "output_type": "display_data"
    },
    {
     "data": {
      "text/html": [
       " View run at <a href='https://wandb.ai/alex-zdz/ocr_sweep_test_01/runs/xj7qvwmc' target=\"_blank\">https://wandb.ai/alex-zdz/ocr_sweep_test_01/runs/xj7qvwmc</a>"
      ],
      "text/plain": [
       "<IPython.core.display.HTML object>"
      ]
     },
     "metadata": {},
     "output_type": "display_data"
    },
    {
     "name": "stderr",
     "output_type": "stream",
     "text": [
      "Loading checkpoint shards: 100%|██████████| 2/2 [00:00<00:00,  3.11it/s]\n",
      "Validating: 100%|██████████| 298/298 [00:19<00:00, 15.17it/s]/s, loss=0.0192] \n",
      "Validating: 100%|██████████| 298/298 [00:19<00:00, 15.40it/s], loss=0.0207]    \n",
      "Validating: 100%|██████████| 298/298 [00:19<00:00, 15.37it/s], loss=0.00663]   \n",
      "Validating: 100%|██████████| 298/298 [00:19<00:00, 15.40it/s], loss=0.00868]   \n",
      "Validating: 100%|██████████| 298/298 [00:19<00:00, 15.34it/s], loss=0.00851]   \n",
      "Validating: 100%|██████████| 298/298 [00:19<00:00, 15.41it/s], loss=0.00555]   \n",
      "Validating: 100%|██████████| 298/298 [00:19<00:00, 15.22it/s], loss=0.00227]  \n",
      "Validating: 100%|██████████| 298/298 [00:19<00:00, 15.39it/s]/s, loss=0.0069]  \n",
      "Validating: 100%|██████████| 298/298 [00:19<00:00, 15.42it/s]/s, loss=0.00484]   \n",
      "Validating: 100%|██████████| 298/298 [00:19<00:00, 15.41it/s]t/s, loss=0.00587]  \n",
      "Training: 100%|██████████| 10000/10000 [1:17:09<00:00,  2.16it/s, loss=0.00587]\n"
     ]
    },
    {
     "data": {
      "text/html": [],
      "text/plain": [
       "<IPython.core.display.HTML object>"
      ]
     },
     "metadata": {},
     "output_type": "display_data"
    },
    {
     "data": {
      "text/html": [
       "<br>    <style><br>        .wandb-row {<br>            display: flex;<br>            flex-direction: row;<br>            flex-wrap: wrap;<br>            justify-content: flex-start;<br>            width: 100%;<br>        }<br>        .wandb-col {<br>            display: flex;<br>            flex-direction: column;<br>            flex-basis: 100%;<br>            flex: 1;<br>            padding: 10px;<br>        }<br>    </style><br><div class=\"wandb-row\"><div class=\"wandb-col\"><h3>Run history:</h3><br/><table class=\"wandb\"><tr><td>CER</td><td>▂▁▃▄▃█▅▇▄█</td></tr><tr><td>accuracy</td><td>▄▁█████▄██</td></tr><tr><td>elapsed_time</td><td>▁▂▃▃▄▅▆▆▇█</td></tr><tr><td>loss</td><td>▁▄▆▆▇▇▇███</td></tr><tr><td>step</td><td>▁▂▃▃▄▅▆▆▇█</td></tr></table><br/></div><div class=\"wandb-col\"><h3>Run summary:</h3><br/><table class=\"wandb\"><tr><td>CER</td><td>0.28034</td></tr><tr><td>accuracy</td><td>0.00081</td></tr><tr><td>elapsed_time</td><td>4621.29136</td></tr><tr><td>loss</td><td>1.14818</td></tr><tr><td>step</td><td>10000</td></tr></table><br/></div></div>"
      ],
      "text/plain": [
       "<IPython.core.display.HTML object>"
      ]
     },
     "metadata": {},
     "output_type": "display_data"
    },
    {
     "data": {
      "text/html": [
       " View run <strong style=\"color:#cdcd00\">amber-sweep-6</strong> at: <a href='https://wandb.ai/alex-zdz/ocr_sweep_test_01/runs/xj7qvwmc' target=\"_blank\">https://wandb.ai/alex-zdz/ocr_sweep_test_01/runs/xj7qvwmc</a><br> View project at: <a href='https://wandb.ai/alex-zdz/ocr_sweep_test_01' target=\"_blank\">https://wandb.ai/alex-zdz/ocr_sweep_test_01</a><br>Synced 5 W&B file(s), 0 media file(s), 0 artifact file(s) and 0 other file(s)"
      ],
      "text/plain": [
       "<IPython.core.display.HTML object>"
      ]
     },
     "metadata": {},
     "output_type": "display_data"
    },
    {
     "data": {
      "text/html": [
       "Find logs at: <code>./wandb/run-20250917_020821-xj7qvwmc/logs</code>"
      ],
      "text/plain": [
       "<IPython.core.display.HTML object>"
      ]
     },
     "metadata": {},
     "output_type": "display_data"
    },
    {
     "name": "stderr",
     "output_type": "stream",
     "text": [
      "\u001b[34m\u001b[1mwandb\u001b[0m: Agent Starting Run: 3ep5lth7 with config:\n",
      "\u001b[34m\u001b[1mwandb\u001b[0m: \tlearning_rate: 1e-05\n",
      "\u001b[34m\u001b[1mwandb\u001b[0m: \tmax_steps: 10000\n",
      "\u001b[34m\u001b[1mwandb\u001b[0m: \ttrain_batch_size: 2\n",
      "\u001b[34m\u001b[1mwandb\u001b[0m: \ttrain_size: 400\n"
     ]
    },
    {
     "data": {
      "text/html": [
       "Ignoring project 'ocr_sweep_test_01' when running a sweep."
      ],
      "text/plain": [
       "<IPython.core.display.HTML object>"
      ]
     },
     "metadata": {},
     "output_type": "display_data"
    },
    {
     "data": {
      "text/html": [],
      "text/plain": [
       "<IPython.core.display.HTML object>"
      ]
     },
     "metadata": {},
     "output_type": "display_data"
    },
    {
     "data": {
      "text/html": [
       "Tracking run with wandb version 0.21.4"
      ],
      "text/plain": [
       "<IPython.core.display.HTML object>"
      ]
     },
     "metadata": {},
     "output_type": "display_data"
    },
    {
     "data": {
      "text/html": [
       "Run data is saved locally in <code>/home/alex/projects/ocr/src/wandb/run-20250917_032541-3ep5lth7</code>"
      ],
      "text/plain": [
       "<IPython.core.display.HTML object>"
      ]
     },
     "metadata": {},
     "output_type": "display_data"
    },
    {
     "data": {
      "text/html": [
       "Syncing run <strong><a href='https://wandb.ai/alex-zdz/ocr_sweep_test_01/runs/3ep5lth7' target=\"_blank\">floral-sweep-7</a></strong> to <a href='https://wandb.ai/alex-zdz/ocr_sweep_test_01' target=\"_blank\">Weights & Biases</a> (<a href='https://wandb.me/developer-guide' target=\"_blank\">docs</a>)<br>Sweep page: <a href='https://wandb.ai/alex-zdz/ocr_sweep_test_01/sweeps/wgmverv6' target=\"_blank\">https://wandb.ai/alex-zdz/ocr_sweep_test_01/sweeps/wgmverv6</a>"
      ],
      "text/plain": [
       "<IPython.core.display.HTML object>"
      ]
     },
     "metadata": {},
     "output_type": "display_data"
    },
    {
     "data": {
      "text/html": [
       " View project at <a href='https://wandb.ai/alex-zdz/ocr_sweep_test_01' target=\"_blank\">https://wandb.ai/alex-zdz/ocr_sweep_test_01</a>"
      ],
      "text/plain": [
       "<IPython.core.display.HTML object>"
      ]
     },
     "metadata": {},
     "output_type": "display_data"
    },
    {
     "data": {
      "text/html": [
       " View sweep at <a href='https://wandb.ai/alex-zdz/ocr_sweep_test_01/sweeps/wgmverv6' target=\"_blank\">https://wandb.ai/alex-zdz/ocr_sweep_test_01/sweeps/wgmverv6</a>"
      ],
      "text/plain": [
       "<IPython.core.display.HTML object>"
      ]
     },
     "metadata": {},
     "output_type": "display_data"
    },
    {
     "data": {
      "text/html": [
       " View run at <a href='https://wandb.ai/alex-zdz/ocr_sweep_test_01/runs/3ep5lth7' target=\"_blank\">https://wandb.ai/alex-zdz/ocr_sweep_test_01/runs/3ep5lth7</a>"
      ],
      "text/plain": [
       "<IPython.core.display.HTML object>"
      ]
     },
     "metadata": {},
     "output_type": "display_data"
    },
    {
     "name": "stderr",
     "output_type": "stream",
     "text": [
      "Loading checkpoint shards: 100%|██████████| 2/2 [00:00<00:00,  3.05it/s]\n",
      "Validating: 100%|██████████| 298/298 [00:19<00:00, 15.35it/s]/s, loss=0.233] \n",
      "Validating: 100%|██████████| 298/298 [00:19<00:00, 15.38it/s], loss=0.0325]    \n",
      "Validating: 100%|██████████| 298/298 [00:19<00:00, 15.23it/s], loss=0.0174]   \n",
      "Validating: 100%|██████████| 298/298 [00:19<00:00, 15.37it/s], loss=0.0142]    \n",
      "Validating: 100%|██████████| 298/298 [00:19<00:00, 15.43it/s], loss=0.00425]   \n",
      "Validating: 100%|██████████| 298/298 [00:19<00:00, 15.37it/s], loss=0.0138]    \n",
      "Validating: 100%|██████████| 298/298 [00:19<00:00, 15.21it/s], loss=0.0147]    \n",
      "Validating: 100%|██████████| 298/298 [00:19<00:00, 15.30it/s]/s, loss=0.0138]  \n",
      "Validating: 100%|██████████| 298/298 [00:19<00:00, 15.41it/s]/s, loss=0.0155]   \n",
      "Validating: 100%|██████████| 298/298 [00:19<00:00, 15.36it/s]t/s, loss=0.00307]  \n",
      "Training: 100%|██████████| 10000/10000 [1:16:55<00:00,  2.17it/s, loss=0.00307]\n"
     ]
    },
    {
     "data": {
      "text/html": [],
      "text/plain": [
       "<IPython.core.display.HTML object>"
      ]
     },
     "metadata": {},
     "output_type": "display_data"
    },
    {
     "data": {
      "text/html": [
       "<br>    <style><br>        .wandb-row {<br>            display: flex;<br>            flex-direction: row;<br>            flex-wrap: wrap;<br>            justify-content: flex-start;<br>            width: 100%;<br>        }<br>        .wandb-col {<br>            display: flex;<br>            flex-direction: column;<br>            flex-basis: 100%;<br>            flex: 1;<br>            padding: 10px;<br>        }<br>    </style><br><div class=\"wandb-row\"><div class=\"wandb-col\"><h3>Run history:</h3><br/><table class=\"wandb\"><tr><td>CER</td><td>▆▇█▁▄▇▆▅▅▇</td></tr><tr><td>accuracy</td><td>▁▁██▁▁▁▁▁█</td></tr><tr><td>elapsed_time</td><td>▁▂▃▃▄▅▆▆▇█</td></tr><tr><td>loss</td><td>▁▄▆▇▇▇████</td></tr><tr><td>step</td><td>▁▂▃▃▄▅▆▆▇█</td></tr></table><br/></div><div class=\"wandb-col\"><h3>Run summary:</h3><br/><table class=\"wandb\"><tr><td>CER</td><td>0.26705</td></tr><tr><td>accuracy</td><td>0.0004</td></tr><tr><td>elapsed_time</td><td>4608.14042</td></tr><tr><td>loss</td><td>0.93987</td></tr><tr><td>step</td><td>10000</td></tr></table><br/></div></div>"
      ],
      "text/plain": [
       "<IPython.core.display.HTML object>"
      ]
     },
     "metadata": {},
     "output_type": "display_data"
    },
    {
     "data": {
      "text/html": [
       " View run <strong style=\"color:#cdcd00\">floral-sweep-7</strong> at: <a href='https://wandb.ai/alex-zdz/ocr_sweep_test_01/runs/3ep5lth7' target=\"_blank\">https://wandb.ai/alex-zdz/ocr_sweep_test_01/runs/3ep5lth7</a><br> View project at: <a href='https://wandb.ai/alex-zdz/ocr_sweep_test_01' target=\"_blank\">https://wandb.ai/alex-zdz/ocr_sweep_test_01</a><br>Synced 5 W&B file(s), 0 media file(s), 0 artifact file(s) and 0 other file(s)"
      ],
      "text/plain": [
       "<IPython.core.display.HTML object>"
      ]
     },
     "metadata": {},
     "output_type": "display_data"
    },
    {
     "data": {
      "text/html": [
       "Find logs at: <code>./wandb/run-20250917_032541-3ep5lth7/logs</code>"
      ],
      "text/plain": [
       "<IPython.core.display.HTML object>"
      ]
     },
     "metadata": {},
     "output_type": "display_data"
    },
    {
     "name": "stderr",
     "output_type": "stream",
     "text": [
      "\u001b[34m\u001b[1mwandb\u001b[0m: Agent Starting Run: rtpmrsyt with config:\n",
      "\u001b[34m\u001b[1mwandb\u001b[0m: \tlearning_rate: 1e-05\n",
      "\u001b[34m\u001b[1mwandb\u001b[0m: \tmax_steps: 10000\n",
      "\u001b[34m\u001b[1mwandb\u001b[0m: \ttrain_batch_size: 2\n",
      "\u001b[34m\u001b[1mwandb\u001b[0m: \ttrain_size: 800\n"
     ]
    },
    {
     "data": {
      "text/html": [
       "Ignoring project 'ocr_sweep_test_01' when running a sweep."
      ],
      "text/plain": [
       "<IPython.core.display.HTML object>"
      ]
     },
     "metadata": {},
     "output_type": "display_data"
    },
    {
     "data": {
      "text/html": [],
      "text/plain": [
       "<IPython.core.display.HTML object>"
      ]
     },
     "metadata": {},
     "output_type": "display_data"
    },
    {
     "data": {
      "text/html": [
       "Tracking run with wandb version 0.21.4"
      ],
      "text/plain": [
       "<IPython.core.display.HTML object>"
      ]
     },
     "metadata": {},
     "output_type": "display_data"
    },
    {
     "data": {
      "text/html": [
       "Run data is saved locally in <code>/home/alex/projects/ocr/src/wandb/run-20250917_044248-rtpmrsyt</code>"
      ],
      "text/plain": [
       "<IPython.core.display.HTML object>"
      ]
     },
     "metadata": {},
     "output_type": "display_data"
    },
    {
     "data": {
      "text/html": [
       "Syncing run <strong><a href='https://wandb.ai/alex-zdz/ocr_sweep_test_01/runs/rtpmrsyt' target=\"_blank\">neat-sweep-8</a></strong> to <a href='https://wandb.ai/alex-zdz/ocr_sweep_test_01' target=\"_blank\">Weights & Biases</a> (<a href='https://wandb.me/developer-guide' target=\"_blank\">docs</a>)<br>Sweep page: <a href='https://wandb.ai/alex-zdz/ocr_sweep_test_01/sweeps/wgmverv6' target=\"_blank\">https://wandb.ai/alex-zdz/ocr_sweep_test_01/sweeps/wgmverv6</a>"
      ],
      "text/plain": [
       "<IPython.core.display.HTML object>"
      ]
     },
     "metadata": {},
     "output_type": "display_data"
    },
    {
     "data": {
      "text/html": [
       " View project at <a href='https://wandb.ai/alex-zdz/ocr_sweep_test_01' target=\"_blank\">https://wandb.ai/alex-zdz/ocr_sweep_test_01</a>"
      ],
      "text/plain": [
       "<IPython.core.display.HTML object>"
      ]
     },
     "metadata": {},
     "output_type": "display_data"
    },
    {
     "data": {
      "text/html": [
       " View sweep at <a href='https://wandb.ai/alex-zdz/ocr_sweep_test_01/sweeps/wgmverv6' target=\"_blank\">https://wandb.ai/alex-zdz/ocr_sweep_test_01/sweeps/wgmverv6</a>"
      ],
      "text/plain": [
       "<IPython.core.display.HTML object>"
      ]
     },
     "metadata": {},
     "output_type": "display_data"
    },
    {
     "data": {
      "text/html": [
       " View run at <a href='https://wandb.ai/alex-zdz/ocr_sweep_test_01/runs/rtpmrsyt' target=\"_blank\">https://wandb.ai/alex-zdz/ocr_sweep_test_01/runs/rtpmrsyt</a>"
      ],
      "text/plain": [
       "<IPython.core.display.HTML object>"
      ]
     },
     "metadata": {},
     "output_type": "display_data"
    },
    {
     "name": "stderr",
     "output_type": "stream",
     "text": [
      "Loading checkpoint shards: 100%|██████████| 2/2 [00:00<00:00,  3.11it/s]\n",
      "Validating: 100%|██████████| 298/298 [00:19<00:00, 15.29it/s]/s, loss=0.519] \n",
      "Validating: 100%|██████████| 298/298 [00:19<00:00, 15.26it/s], loss=0.161]    \n",
      "Validating: 100%|██████████| 298/298 [00:19<00:00, 15.43it/s], loss=0.021]    \n",
      "Validating: 100%|██████████| 298/298 [00:19<00:00, 15.22it/s], loss=0.068]    \n",
      "Validating: 100%|██████████| 298/298 [00:19<00:00, 15.43it/s], loss=0.039]    \n",
      "Validating: 100%|██████████| 298/298 [00:19<00:00, 15.19it/s], loss=0.00196]  \n",
      "Validating: 100%|██████████| 298/298 [00:19<00:00, 15.45it/s], loss=0.00922]  \n",
      "Validating: 100%|██████████| 298/298 [00:19<00:00, 15.45it/s]/s, loss=0.00952] \n",
      "Validating: 100%|██████████| 298/298 [00:19<00:00, 15.25it/s]/s, loss=0.0113]   \n",
      "Validating: 100%|██████████| 298/298 [00:19<00:00, 15.24it/s]t/s, loss=0.00865] \n",
      "Training: 100%|██████████| 10000/10000 [1:16:54<00:00,  2.17it/s, loss=0.00865]\n"
     ]
    },
    {
     "data": {
      "text/html": [],
      "text/plain": [
       "<IPython.core.display.HTML object>"
      ]
     },
     "metadata": {},
     "output_type": "display_data"
    },
    {
     "data": {
      "text/html": [
       "<br>    <style><br>        .wandb-row {<br>            display: flex;<br>            flex-direction: row;<br>            flex-wrap: wrap;<br>            justify-content: flex-start;<br>            width: 100%;<br>        }<br>        .wandb-col {<br>            display: flex;<br>            flex-direction: column;<br>            flex-basis: 100%;<br>            flex: 1;<br>            padding: 10px;<br>        }<br>    </style><br><div class=\"wandb-row\"><div class=\"wandb-col\"><h3>Run history:</h3><br/><table class=\"wandb\"><tr><td>CER</td><td>█▄▁▁▄▅▃▅▄▅</td></tr><tr><td>accuracy</td><td>▁▁▁▁▁▁▁▁▁▁</td></tr><tr><td>elapsed_time</td><td>▁▂▃▃▄▅▆▆▇█</td></tr><tr><td>loss</td><td>▃▁▄▅▆▇▇███</td></tr><tr><td>step</td><td>▁▂▃▃▄▅▆▆▇█</td></tr></table><br/></div><div class=\"wandb-col\"><h3>Run summary:</h3><br/><table class=\"wandb\"><tr><td>CER</td><td>0.2193</td></tr><tr><td>accuracy</td><td>0.0002</td></tr><tr><td>elapsed_time</td><td>4606.33412</td></tr><tr><td>loss</td><td>0.75862</td></tr><tr><td>step</td><td>10000</td></tr></table><br/></div></div>"
      ],
      "text/plain": [
       "<IPython.core.display.HTML object>"
      ]
     },
     "metadata": {},
     "output_type": "display_data"
    },
    {
     "data": {
      "text/html": [
       " View run <strong style=\"color:#cdcd00\">neat-sweep-8</strong> at: <a href='https://wandb.ai/alex-zdz/ocr_sweep_test_01/runs/rtpmrsyt' target=\"_blank\">https://wandb.ai/alex-zdz/ocr_sweep_test_01/runs/rtpmrsyt</a><br> View project at: <a href='https://wandb.ai/alex-zdz/ocr_sweep_test_01' target=\"_blank\">https://wandb.ai/alex-zdz/ocr_sweep_test_01</a><br>Synced 5 W&B file(s), 0 media file(s), 0 artifact file(s) and 0 other file(s)"
      ],
      "text/plain": [
       "<IPython.core.display.HTML object>"
      ]
     },
     "metadata": {},
     "output_type": "display_data"
    },
    {
     "data": {
      "text/html": [
       "Find logs at: <code>./wandb/run-20250917_044248-rtpmrsyt/logs</code>"
      ],
      "text/plain": [
       "<IPython.core.display.HTML object>"
      ]
     },
     "metadata": {},
     "output_type": "display_data"
    },
    {
     "name": "stderr",
     "output_type": "stream",
     "text": [
      "\u001b[34m\u001b[1mwandb\u001b[0m: Agent Starting Run: 39l5s748 with config:\n",
      "\u001b[34m\u001b[1mwandb\u001b[0m: \tlearning_rate: 1e-05\n",
      "\u001b[34m\u001b[1mwandb\u001b[0m: \tmax_steps: 10000\n",
      "\u001b[34m\u001b[1mwandb\u001b[0m: \ttrain_batch_size: 2\n",
      "\u001b[34m\u001b[1mwandb\u001b[0m: \ttrain_size: 1200\n"
     ]
    },
    {
     "data": {
      "text/html": [
       "Ignoring project 'ocr_sweep_test_01' when running a sweep."
      ],
      "text/plain": [
       "<IPython.core.display.HTML object>"
      ]
     },
     "metadata": {},
     "output_type": "display_data"
    },
    {
     "data": {
      "text/html": [],
      "text/plain": [
       "<IPython.core.display.HTML object>"
      ]
     },
     "metadata": {},
     "output_type": "display_data"
    },
    {
     "data": {
      "text/html": [
       "Tracking run with wandb version 0.21.4"
      ],
      "text/plain": [
       "<IPython.core.display.HTML object>"
      ]
     },
     "metadata": {},
     "output_type": "display_data"
    },
    {
     "data": {
      "text/html": [
       "Run data is saved locally in <code>/home/alex/projects/ocr/src/wandb/run-20250917_055954-39l5s748</code>"
      ],
      "text/plain": [
       "<IPython.core.display.HTML object>"
      ]
     },
     "metadata": {},
     "output_type": "display_data"
    },
    {
     "data": {
      "text/html": [
       "Syncing run <strong><a href='https://wandb.ai/alex-zdz/ocr_sweep_test_01/runs/39l5s748' target=\"_blank\">balmy-sweep-9</a></strong> to <a href='https://wandb.ai/alex-zdz/ocr_sweep_test_01' target=\"_blank\">Weights & Biases</a> (<a href='https://wandb.me/developer-guide' target=\"_blank\">docs</a>)<br>Sweep page: <a href='https://wandb.ai/alex-zdz/ocr_sweep_test_01/sweeps/wgmverv6' target=\"_blank\">https://wandb.ai/alex-zdz/ocr_sweep_test_01/sweeps/wgmverv6</a>"
      ],
      "text/plain": [
       "<IPython.core.display.HTML object>"
      ]
     },
     "metadata": {},
     "output_type": "display_data"
    },
    {
     "data": {
      "text/html": [
       " View project at <a href='https://wandb.ai/alex-zdz/ocr_sweep_test_01' target=\"_blank\">https://wandb.ai/alex-zdz/ocr_sweep_test_01</a>"
      ],
      "text/plain": [
       "<IPython.core.display.HTML object>"
      ]
     },
     "metadata": {},
     "output_type": "display_data"
    },
    {
     "data": {
      "text/html": [
       " View sweep at <a href='https://wandb.ai/alex-zdz/ocr_sweep_test_01/sweeps/wgmverv6' target=\"_blank\">https://wandb.ai/alex-zdz/ocr_sweep_test_01/sweeps/wgmverv6</a>"
      ],
      "text/plain": [
       "<IPython.core.display.HTML object>"
      ]
     },
     "metadata": {},
     "output_type": "display_data"
    },
    {
     "data": {
      "text/html": [
       " View run at <a href='https://wandb.ai/alex-zdz/ocr_sweep_test_01/runs/39l5s748' target=\"_blank\">https://wandb.ai/alex-zdz/ocr_sweep_test_01/runs/39l5s748</a>"
      ],
      "text/plain": [
       "<IPython.core.display.HTML object>"
      ]
     },
     "metadata": {},
     "output_type": "display_data"
    },
    {
     "name": "stderr",
     "output_type": "stream",
     "text": [
      "Loading checkpoint shards: 100%|██████████| 2/2 [00:00<00:00,  3.14it/s]\n",
      "Validating: 100%|██████████| 298/298 [00:19<00:00, 15.17it/s]/s, loss=0.518] \n",
      "Validating: 100%|██████████| 298/298 [00:19<00:00, 15.26it/s], loss=0.0344]   \n",
      "Validating: 100%|██████████| 298/298 [00:19<00:00, 15.43it/s], loss=0.241]    \n",
      "Validating: 100%|██████████| 298/298 [00:19<00:00, 15.28it/s], loss=0.00928]  \n",
      "Validating: 100%|██████████| 298/298 [00:19<00:00, 15.35it/s], loss=0.00838]   \n",
      "Validating: 100%|██████████| 298/298 [00:19<00:00, 15.33it/s], loss=0.0179]    \n",
      "Validating: 100%|██████████| 298/298 [00:19<00:00, 15.34it/s], loss=0.00408] \n",
      "Validating: 100%|██████████| 298/298 [00:19<00:00, 15.11it/s]/s, loss=0.0123]  \n",
      "Validating: 100%|██████████| 298/298 [00:19<00:00, 15.32it/s]/s, loss=0.0146]   \n",
      "Validating: 100%|██████████| 298/298 [00:19<00:00, 15.36it/s]t/s, loss=0.0015]  \n",
      "Training: 100%|██████████| 10000/10000 [1:17:10<00:00,  2.16it/s, loss=0.0015]\n"
     ]
    },
    {
     "data": {
      "text/html": [],
      "text/plain": [
       "<IPython.core.display.HTML object>"
      ]
     },
     "metadata": {},
     "output_type": "display_data"
    },
    {
     "data": {
      "text/html": [
       "<br>    <style><br>        .wandb-row {<br>            display: flex;<br>            flex-direction: row;<br>            flex-wrap: wrap;<br>            justify-content: flex-start;<br>            width: 100%;<br>        }<br>        .wandb-col {<br>            display: flex;<br>            flex-direction: column;<br>            flex-basis: 100%;<br>            flex: 1;<br>            padding: 10px;<br>        }<br>    </style><br><div class=\"wandb-row\"><div class=\"wandb-col\"><h3>Run history:</h3><br/><table class=\"wandb\"><tr><td>CER</td><td>█▆▁▅▇▇▇▇▇▇</td></tr><tr><td>accuracy</td><td>▁▁▁▁▁▁▁▁▁▁</td></tr><tr><td>elapsed_time</td><td>▁▂▃▃▄▅▆▆▇█</td></tr><tr><td>loss</td><td>▂▁▂▅▆▇▇███</td></tr><tr><td>step</td><td>▁▂▃▃▄▅▆▆▇█</td></tr></table><br/></div><div class=\"wandb-col\"><h3>Run summary:</h3><br/><table class=\"wandb\"><tr><td>CER</td><td>0.21176</td></tr><tr><td>accuracy</td><td>0.0002</td></tr><tr><td>elapsed_time</td><td>4623.03838</td></tr><tr><td>loss</td><td>0.74985</td></tr><tr><td>step</td><td>10000</td></tr></table><br/></div></div>"
      ],
      "text/plain": [
       "<IPython.core.display.HTML object>"
      ]
     },
     "metadata": {},
     "output_type": "display_data"
    },
    {
     "data": {
      "text/html": [
       " View run <strong style=\"color:#cdcd00\">balmy-sweep-9</strong> at: <a href='https://wandb.ai/alex-zdz/ocr_sweep_test_01/runs/39l5s748' target=\"_blank\">https://wandb.ai/alex-zdz/ocr_sweep_test_01/runs/39l5s748</a><br> View project at: <a href='https://wandb.ai/alex-zdz/ocr_sweep_test_01' target=\"_blank\">https://wandb.ai/alex-zdz/ocr_sweep_test_01</a><br>Synced 5 W&B file(s), 0 media file(s), 0 artifact file(s) and 0 other file(s)"
      ],
      "text/plain": [
       "<IPython.core.display.HTML object>"
      ]
     },
     "metadata": {},
     "output_type": "display_data"
    },
    {
     "data": {
      "text/html": [
       "Find logs at: <code>./wandb/run-20250917_055954-39l5s748/logs</code>"
      ],
      "text/plain": [
       "<IPython.core.display.HTML object>"
      ]
     },
     "metadata": {},
     "output_type": "display_data"
    },
    {
     "name": "stderr",
     "output_type": "stream",
     "text": [
      "\u001b[34m\u001b[1mwandb\u001b[0m: Agent Starting Run: zaqtkl6r with config:\n",
      "\u001b[34m\u001b[1mwandb\u001b[0m: \tlearning_rate: 1e-05\n",
      "\u001b[34m\u001b[1mwandb\u001b[0m: \tmax_steps: 10000\n",
      "\u001b[34m\u001b[1mwandb\u001b[0m: \ttrain_batch_size: 2\n",
      "\u001b[34m\u001b[1mwandb\u001b[0m: \ttrain_size: full\n"
     ]
    },
    {
     "data": {
      "text/html": [
       "Ignoring project 'ocr_sweep_test_01' when running a sweep."
      ],
      "text/plain": [
       "<IPython.core.display.HTML object>"
      ]
     },
     "metadata": {},
     "output_type": "display_data"
    },
    {
     "data": {
      "text/html": [],
      "text/plain": [
       "<IPython.core.display.HTML object>"
      ]
     },
     "metadata": {},
     "output_type": "display_data"
    },
    {
     "data": {
      "text/html": [
       "Tracking run with wandb version 0.21.4"
      ],
      "text/plain": [
       "<IPython.core.display.HTML object>"
      ]
     },
     "metadata": {},
     "output_type": "display_data"
    },
    {
     "data": {
      "text/html": [
       "Run data is saved locally in <code>/home/alex/projects/ocr/src/wandb/run-20250917_071715-zaqtkl6r</code>"
      ],
      "text/plain": [
       "<IPython.core.display.HTML object>"
      ]
     },
     "metadata": {},
     "output_type": "display_data"
    },
    {
     "data": {
      "text/html": [
       "Syncing run <strong><a href='https://wandb.ai/alex-zdz/ocr_sweep_test_01/runs/zaqtkl6r' target=\"_blank\">driven-sweep-10</a></strong> to <a href='https://wandb.ai/alex-zdz/ocr_sweep_test_01' target=\"_blank\">Weights & Biases</a> (<a href='https://wandb.me/developer-guide' target=\"_blank\">docs</a>)<br>Sweep page: <a href='https://wandb.ai/alex-zdz/ocr_sweep_test_01/sweeps/wgmverv6' target=\"_blank\">https://wandb.ai/alex-zdz/ocr_sweep_test_01/sweeps/wgmverv6</a>"
      ],
      "text/plain": [
       "<IPython.core.display.HTML object>"
      ]
     },
     "metadata": {},
     "output_type": "display_data"
    },
    {
     "data": {
      "text/html": [
       " View project at <a href='https://wandb.ai/alex-zdz/ocr_sweep_test_01' target=\"_blank\">https://wandb.ai/alex-zdz/ocr_sweep_test_01</a>"
      ],
      "text/plain": [
       "<IPython.core.display.HTML object>"
      ]
     },
     "metadata": {},
     "output_type": "display_data"
    },
    {
     "data": {
      "text/html": [
       " View sweep at <a href='https://wandb.ai/alex-zdz/ocr_sweep_test_01/sweeps/wgmverv6' target=\"_blank\">https://wandb.ai/alex-zdz/ocr_sweep_test_01/sweeps/wgmverv6</a>"
      ],
      "text/plain": [
       "<IPython.core.display.HTML object>"
      ]
     },
     "metadata": {},
     "output_type": "display_data"
    },
    {
     "data": {
      "text/html": [
       " View run at <a href='https://wandb.ai/alex-zdz/ocr_sweep_test_01/runs/zaqtkl6r' target=\"_blank\">https://wandb.ai/alex-zdz/ocr_sweep_test_01/runs/zaqtkl6r</a>"
      ],
      "text/plain": [
       "<IPython.core.display.HTML object>"
      ]
     },
     "metadata": {},
     "output_type": "display_data"
    },
    {
     "name": "stderr",
     "output_type": "stream",
     "text": [
      "Loading checkpoint shards: 100%|██████████| 2/2 [00:00<00:00,  3.14it/s]\n",
      "Validating: 100%|██████████| 298/298 [00:19<00:00, 15.21it/s]/s, loss=0.0277]\n",
      "Validating: 100%|██████████| 298/298 [00:19<00:00, 15.21it/s]/s, loss=0.0898]  \n",
      "Validating: 100%|██████████| 298/298 [00:19<00:00, 15.40it/s], loss=0.0113]   \n",
      "Validating: 100%|██████████| 298/298 [00:19<00:00, 15.41it/s], loss=0.0981]   \n",
      "Validating: 100%|██████████| 298/298 [00:19<00:00, 15.23it/s], loss=0.0037]   \n",
      "Validating: 100%|██████████| 298/298 [00:19<00:00, 15.43it/s], loss=0.00132]  \n",
      "Validating: 100%|██████████| 298/298 [00:19<00:00, 15.27it/s], loss=0.0131]   \n",
      "Validating: 100%|██████████| 298/298 [00:19<00:00, 15.42it/s]/s, loss=0.0167]  \n",
      "Validating: 100%|██████████| 298/298 [00:19<00:00, 15.32it/s]/s, loss=0.000801] \n",
      "Validating: 100%|██████████| 298/298 [00:19<00:00, 15.41it/s]t/s, loss=0.0138]   \n",
      "Training: 100%|██████████| 10000/10000 [1:16:49<00:00,  2.17it/s, loss=0.0138]\n"
     ]
    },
    {
     "data": {
      "text/html": [],
      "text/plain": [
       "<IPython.core.display.HTML object>"
      ]
     },
     "metadata": {},
     "output_type": "display_data"
    },
    {
     "data": {
      "text/html": [
       "<br>    <style><br>        .wandb-row {<br>            display: flex;<br>            flex-direction: row;<br>            flex-wrap: wrap;<br>            justify-content: flex-start;<br>            width: 100%;<br>        }<br>        .wandb-col {<br>            display: flex;<br>            flex-direction: column;<br>            flex-basis: 100%;<br>            flex: 1;<br>            padding: 10px;<br>        }<br>    </style><br><div class=\"wandb-row\"><div class=\"wandb-col\"><h3>Run history:</h3><br/><table class=\"wandb\"><tr><td>CER</td><td>█▄▅▂▄▁▃▂▃▇</td></tr><tr><td>accuracy</td><td>▁▁▁▁█▁▁▁▁▁</td></tr><tr><td>elapsed_time</td><td>▁▂▃▃▄▅▆▆▇█</td></tr><tr><td>loss</td><td>▂▁▃▄▆▇▇▇██</td></tr><tr><td>step</td><td>▁▂▃▃▄▅▆▆▇█</td></tr></table><br/></div><div class=\"wandb-col\"><h3>Run summary:</h3><br/><table class=\"wandb\"><tr><td>CER</td><td>0.21772</td></tr><tr><td>accuracy</td><td>0.0002</td></tr><tr><td>elapsed_time</td><td>4601.92787</td></tr><tr><td>loss</td><td>0.74433</td></tr><tr><td>step</td><td>10000</td></tr></table><br/></div></div>"
      ],
      "text/plain": [
       "<IPython.core.display.HTML object>"
      ]
     },
     "metadata": {},
     "output_type": "display_data"
    },
    {
     "data": {
      "text/html": [
       " View run <strong style=\"color:#cdcd00\">driven-sweep-10</strong> at: <a href='https://wandb.ai/alex-zdz/ocr_sweep_test_01/runs/zaqtkl6r' target=\"_blank\">https://wandb.ai/alex-zdz/ocr_sweep_test_01/runs/zaqtkl6r</a><br> View project at: <a href='https://wandb.ai/alex-zdz/ocr_sweep_test_01' target=\"_blank\">https://wandb.ai/alex-zdz/ocr_sweep_test_01</a><br>Synced 5 W&B file(s), 0 media file(s), 0 artifact file(s) and 0 other file(s)"
      ],
      "text/plain": [
       "<IPython.core.display.HTML object>"
      ]
     },
     "metadata": {},
     "output_type": "display_data"
    },
    {
     "data": {
      "text/html": [
       "Find logs at: <code>./wandb/run-20250917_071715-zaqtkl6r/logs</code>"
      ],
      "text/plain": [
       "<IPython.core.display.HTML object>"
      ]
     },
     "metadata": {},
     "output_type": "display_data"
    },
    {
     "name": "stderr",
     "output_type": "stream",
     "text": [
      "\u001b[34m\u001b[1mwandb\u001b[0m: Agent Starting Run: b9atlfmb with config:\n",
      "\u001b[34m\u001b[1mwandb\u001b[0m: \tlearning_rate: 0.0001\n",
      "\u001b[34m\u001b[1mwandb\u001b[0m: \tmax_steps: 10000\n",
      "\u001b[34m\u001b[1mwandb\u001b[0m: \ttrain_batch_size: 2\n",
      "\u001b[34m\u001b[1mwandb\u001b[0m: \ttrain_size: 200\n"
     ]
    },
    {
     "data": {
      "text/html": [
       "Ignoring project 'ocr_sweep_test_01' when running a sweep."
      ],
      "text/plain": [
       "<IPython.core.display.HTML object>"
      ]
     },
     "metadata": {},
     "output_type": "display_data"
    },
    {
     "data": {
      "text/html": [],
      "text/plain": [
       "<IPython.core.display.HTML object>"
      ]
     },
     "metadata": {},
     "output_type": "display_data"
    },
    {
     "data": {
      "text/html": [
       "Tracking run with wandb version 0.21.4"
      ],
      "text/plain": [
       "<IPython.core.display.HTML object>"
      ]
     },
     "metadata": {},
     "output_type": "display_data"
    },
    {
     "data": {
      "text/html": [
       "Run data is saved locally in <code>/home/alex/projects/ocr/src/wandb/run-20250917_083417-b9atlfmb</code>"
      ],
      "text/plain": [
       "<IPython.core.display.HTML object>"
      ]
     },
     "metadata": {},
     "output_type": "display_data"
    },
    {
     "data": {
      "text/html": [
       "Syncing run <strong><a href='https://wandb.ai/alex-zdz/ocr_sweep_test_01/runs/b9atlfmb' target=\"_blank\">deft-sweep-11</a></strong> to <a href='https://wandb.ai/alex-zdz/ocr_sweep_test_01' target=\"_blank\">Weights & Biases</a> (<a href='https://wandb.me/developer-guide' target=\"_blank\">docs</a>)<br>Sweep page: <a href='https://wandb.ai/alex-zdz/ocr_sweep_test_01/sweeps/wgmverv6' target=\"_blank\">https://wandb.ai/alex-zdz/ocr_sweep_test_01/sweeps/wgmverv6</a>"
      ],
      "text/plain": [
       "<IPython.core.display.HTML object>"
      ]
     },
     "metadata": {},
     "output_type": "display_data"
    },
    {
     "data": {
      "text/html": [
       " View project at <a href='https://wandb.ai/alex-zdz/ocr_sweep_test_01' target=\"_blank\">https://wandb.ai/alex-zdz/ocr_sweep_test_01</a>"
      ],
      "text/plain": [
       "<IPython.core.display.HTML object>"
      ]
     },
     "metadata": {},
     "output_type": "display_data"
    },
    {
     "data": {
      "text/html": [
       " View sweep at <a href='https://wandb.ai/alex-zdz/ocr_sweep_test_01/sweeps/wgmverv6' target=\"_blank\">https://wandb.ai/alex-zdz/ocr_sweep_test_01/sweeps/wgmverv6</a>"
      ],
      "text/plain": [
       "<IPython.core.display.HTML object>"
      ]
     },
     "metadata": {},
     "output_type": "display_data"
    },
    {
     "data": {
      "text/html": [
       " View run at <a href='https://wandb.ai/alex-zdz/ocr_sweep_test_01/runs/b9atlfmb' target=\"_blank\">https://wandb.ai/alex-zdz/ocr_sweep_test_01/runs/b9atlfmb</a>"
      ],
      "text/plain": [
       "<IPython.core.display.HTML object>"
      ]
     },
     "metadata": {},
     "output_type": "display_data"
    },
    {
     "name": "stderr",
     "output_type": "stream",
     "text": [
      "Loading checkpoint shards: 100%|██████████| 2/2 [00:00<00:00,  3.01it/s]\n",
      "Validating: 100%|██████████| 298/298 [00:19<00:00, 15.36it/s]/s, loss=0.889]\n",
      "Validating: 100%|██████████| 298/298 [00:20<00:00, 14.84it/s], loss=0.899]   \n",
      "Validating: 100%|██████████| 298/298 [00:19<00:00, 15.33it/s], loss=0.251]   \n",
      "Validating: 100%|██████████| 298/298 [00:19<00:00, 15.39it/s], loss=0.122]   \n",
      "Validating: 100%|██████████| 298/298 [00:19<00:00, 15.51it/s], loss=0.18]     \n",
      "Validating: 100%|██████████| 298/298 [00:19<00:00, 15.37it/s], loss=0.137]    \n",
      "Validating: 100%|██████████| 298/298 [00:19<00:00, 15.14it/s], loss=0.331]   \n",
      "Validating: 100%|██████████| 298/298 [00:19<00:00, 15.40it/s]/s, loss=0.213]  \n",
      "Validating: 100%|██████████| 298/298 [00:19<00:00, 15.42it/s]/s, loss=0.133]   \n",
      "Validating: 100%|██████████| 298/298 [00:19<00:00, 15.28it/s]t/s, loss=0.0582] \n",
      "Training: 100%|██████████| 10000/10000 [1:17:25<00:00,  2.15it/s, loss=0.0582]\n"
     ]
    },
    {
     "data": {
      "text/html": [],
      "text/plain": [
       "<IPython.core.display.HTML object>"
      ]
     },
     "metadata": {},
     "output_type": "display_data"
    },
    {
     "data": {
      "text/html": [
       "<br>    <style><br>        .wandb-row {<br>            display: flex;<br>            flex-direction: row;<br>            flex-wrap: wrap;<br>            justify-content: flex-start;<br>            width: 100%;<br>        }<br>        .wandb-col {<br>            display: flex;<br>            flex-direction: column;<br>            flex-basis: 100%;<br>            flex: 1;<br>            padding: 10px;<br>        }<br>    </style><br><div class=\"wandb-row\"><div class=\"wandb-col\"><h3>Run history:</h3><br/><table class=\"wandb\"><tr><td>CER</td><td>▅▁█▅▅▅▅█▆▆</td></tr><tr><td>accuracy</td><td>▅█▁▁▁▁▁▁▁▁</td></tr><tr><td>elapsed_time</td><td>▁▂▃▃▄▅▆▆▇█</td></tr><tr><td>loss</td><td>▁▃▃▃▆▆▇▇██</td></tr><tr><td>step</td><td>▁▂▃▃▄▅▆▆▇█</td></tr></table><br/></div><div class=\"wandb-col\"><h3>Run summary:</h3><br/><table class=\"wandb\"><tr><td>CER</td><td>1.03817</td></tr><tr><td>accuracy</td><td>0.00081</td></tr><tr><td>elapsed_time</td><td>4637.85184</td></tr><tr><td>loss</td><td>7.2335</td></tr><tr><td>step</td><td>10000</td></tr></table><br/></div></div>"
      ],
      "text/plain": [
       "<IPython.core.display.HTML object>"
      ]
     },
     "metadata": {},
     "output_type": "display_data"
    },
    {
     "data": {
      "text/html": [
       " View run <strong style=\"color:#cdcd00\">deft-sweep-11</strong> at: <a href='https://wandb.ai/alex-zdz/ocr_sweep_test_01/runs/b9atlfmb' target=\"_blank\">https://wandb.ai/alex-zdz/ocr_sweep_test_01/runs/b9atlfmb</a><br> View project at: <a href='https://wandb.ai/alex-zdz/ocr_sweep_test_01' target=\"_blank\">https://wandb.ai/alex-zdz/ocr_sweep_test_01</a><br>Synced 5 W&B file(s), 0 media file(s), 0 artifact file(s) and 0 other file(s)"
      ],
      "text/plain": [
       "<IPython.core.display.HTML object>"
      ]
     },
     "metadata": {},
     "output_type": "display_data"
    },
    {
     "data": {
      "text/html": [
       "Find logs at: <code>./wandb/run-20250917_083417-b9atlfmb/logs</code>"
      ],
      "text/plain": [
       "<IPython.core.display.HTML object>"
      ]
     },
     "metadata": {},
     "output_type": "display_data"
    },
    {
     "name": "stderr",
     "output_type": "stream",
     "text": [
      "\u001b[34m\u001b[1mwandb\u001b[0m: Agent Starting Run: 765c5hbg with config:\n",
      "\u001b[34m\u001b[1mwandb\u001b[0m: \tlearning_rate: 0.0001\n",
      "\u001b[34m\u001b[1mwandb\u001b[0m: \tmax_steps: 10000\n",
      "\u001b[34m\u001b[1mwandb\u001b[0m: \ttrain_batch_size: 2\n",
      "\u001b[34m\u001b[1mwandb\u001b[0m: \ttrain_size: 400\n"
     ]
    },
    {
     "data": {
      "text/html": [
       "Ignoring project 'ocr_sweep_test_01' when running a sweep."
      ],
      "text/plain": [
       "<IPython.core.display.HTML object>"
      ]
     },
     "metadata": {},
     "output_type": "display_data"
    },
    {
     "data": {
      "text/html": [],
      "text/plain": [
       "<IPython.core.display.HTML object>"
      ]
     },
     "metadata": {},
     "output_type": "display_data"
    },
    {
     "data": {
      "text/html": [
       "Tracking run with wandb version 0.21.4"
      ],
      "text/plain": [
       "<IPython.core.display.HTML object>"
      ]
     },
     "metadata": {},
     "output_type": "display_data"
    },
    {
     "data": {
      "text/html": [
       "Run data is saved locally in <code>/home/alex/projects/ocr/src/wandb/run-20250917_095154-765c5hbg</code>"
      ],
      "text/plain": [
       "<IPython.core.display.HTML object>"
      ]
     },
     "metadata": {},
     "output_type": "display_data"
    },
    {
     "data": {
      "text/html": [
       "Syncing run <strong><a href='https://wandb.ai/alex-zdz/ocr_sweep_test_01/runs/765c5hbg' target=\"_blank\">cerulean-sweep-12</a></strong> to <a href='https://wandb.ai/alex-zdz/ocr_sweep_test_01' target=\"_blank\">Weights & Biases</a> (<a href='https://wandb.me/developer-guide' target=\"_blank\">docs</a>)<br>Sweep page: <a href='https://wandb.ai/alex-zdz/ocr_sweep_test_01/sweeps/wgmverv6' target=\"_blank\">https://wandb.ai/alex-zdz/ocr_sweep_test_01/sweeps/wgmverv6</a>"
      ],
      "text/plain": [
       "<IPython.core.display.HTML object>"
      ]
     },
     "metadata": {},
     "output_type": "display_data"
    },
    {
     "data": {
      "text/html": [
       " View project at <a href='https://wandb.ai/alex-zdz/ocr_sweep_test_01' target=\"_blank\">https://wandb.ai/alex-zdz/ocr_sweep_test_01</a>"
      ],
      "text/plain": [
       "<IPython.core.display.HTML object>"
      ]
     },
     "metadata": {},
     "output_type": "display_data"
    },
    {
     "data": {
      "text/html": [
       " View sweep at <a href='https://wandb.ai/alex-zdz/ocr_sweep_test_01/sweeps/wgmverv6' target=\"_blank\">https://wandb.ai/alex-zdz/ocr_sweep_test_01/sweeps/wgmverv6</a>"
      ],
      "text/plain": [
       "<IPython.core.display.HTML object>"
      ]
     },
     "metadata": {},
     "output_type": "display_data"
    },
    {
     "data": {
      "text/html": [
       " View run at <a href='https://wandb.ai/alex-zdz/ocr_sweep_test_01/runs/765c5hbg' target=\"_blank\">https://wandb.ai/alex-zdz/ocr_sweep_test_01/runs/765c5hbg</a>"
      ],
      "text/plain": [
       "<IPython.core.display.HTML object>"
      ]
     },
     "metadata": {},
     "output_type": "display_data"
    },
    {
     "name": "stderr",
     "output_type": "stream",
     "text": [
      "Loading checkpoint shards: 100%|██████████| 2/2 [00:00<00:00,  3.16it/s]\n",
      "Validating: 100%|██████████| 298/298 [00:19<00:00, 15.46it/s]/s, loss=0.551]\n",
      "Validating: 100%|██████████| 298/298 [00:18<00:00, 15.69it/s], loss=0.361]   \n",
      "Validating: 100%|██████████| 298/298 [00:18<00:00, 15.71it/s], loss=0.18]    \n",
      "Validating: 100%|██████████| 298/298 [00:18<00:00, 15.76it/s], loss=0.176]   \n",
      "Validating: 100%|██████████| 298/298 [00:18<00:00, 15.69it/s], loss=0.362]   \n",
      "Validating: 100%|██████████| 298/298 [00:18<00:00, 15.80it/s], loss=0.219]   \n",
      "Validating: 100%|██████████| 298/298 [00:18<00:00, 15.94it/s], loss=0.109]   \n",
      "Validating: 100%|██████████| 298/298 [00:18<00:00, 15.77it/s]/s, loss=0.135] \n",
      "Validating: 100%|██████████| 298/298 [00:18<00:00, 15.92it/s]/s, loss=0.213]   \n",
      "Validating: 100%|██████████| 298/298 [00:18<00:00, 15.86it/s]t/s, loss=0.181]  \n",
      "Training: 100%|██████████| 10000/10000 [1:16:12<00:00,  2.19it/s, loss=0.181]\n"
     ]
    },
    {
     "data": {
      "text/html": [],
      "text/plain": [
       "<IPython.core.display.HTML object>"
      ]
     },
     "metadata": {},
     "output_type": "display_data"
    },
    {
     "data": {
      "text/html": [
       "<br>    <style><br>        .wandb-row {<br>            display: flex;<br>            flex-direction: row;<br>            flex-wrap: wrap;<br>            justify-content: flex-start;<br>            width: 100%;<br>        }<br>        .wandb-col {<br>            display: flex;<br>            flex-direction: column;<br>            flex-basis: 100%;<br>            flex: 1;<br>            padding: 10px;<br>        }<br>    </style><br><div class=\"wandb-row\"><div class=\"wandb-col\"><h3>Run history:</h3><br/><table class=\"wandb\"><tr><td>CER</td><td>▂▄▁▅▃▇▃▆▆█</td></tr><tr><td>accuracy</td><td>██▆▃▄▄▄▄▁▂</td></tr><tr><td>elapsed_time</td><td>▁▂▃▃▄▅▆▆▇█</td></tr><tr><td>loss</td><td>▁▃▅▆▇▇▇▇██</td></tr><tr><td>step</td><td>▁▂▃▃▄▅▆▆▇█</td></tr></table><br/></div><div class=\"wandb-col\"><h3>Run summary:</h3><br/><table class=\"wandb\"><tr><td>CER</td><td>0.98454</td></tr><tr><td>accuracy</td><td>0.01671</td></tr><tr><td>elapsed_time</td><td>4564.94169</td></tr><tr><td>loss</td><td>6.69883</td></tr><tr><td>step</td><td>10000</td></tr></table><br/></div></div>"
      ],
      "text/plain": [
       "<IPython.core.display.HTML object>"
      ]
     },
     "metadata": {},
     "output_type": "display_data"
    },
    {
     "data": {
      "text/html": [
       " View run <strong style=\"color:#cdcd00\">cerulean-sweep-12</strong> at: <a href='https://wandb.ai/alex-zdz/ocr_sweep_test_01/runs/765c5hbg' target=\"_blank\">https://wandb.ai/alex-zdz/ocr_sweep_test_01/runs/765c5hbg</a><br> View project at: <a href='https://wandb.ai/alex-zdz/ocr_sweep_test_01' target=\"_blank\">https://wandb.ai/alex-zdz/ocr_sweep_test_01</a><br>Synced 5 W&B file(s), 0 media file(s), 0 artifact file(s) and 0 other file(s)"
      ],
      "text/plain": [
       "<IPython.core.display.HTML object>"
      ]
     },
     "metadata": {},
     "output_type": "display_data"
    },
    {
     "data": {
      "text/html": [
       "Find logs at: <code>./wandb/run-20250917_095154-765c5hbg/logs</code>"
      ],
      "text/plain": [
       "<IPython.core.display.HTML object>"
      ]
     },
     "metadata": {},
     "output_type": "display_data"
    },
    {
     "name": "stderr",
     "output_type": "stream",
     "text": [
      "\u001b[34m\u001b[1mwandb\u001b[0m: Agent Starting Run: r2zj7kr8 with config:\n",
      "\u001b[34m\u001b[1mwandb\u001b[0m: \tlearning_rate: 0.0001\n",
      "\u001b[34m\u001b[1mwandb\u001b[0m: \tmax_steps: 10000\n",
      "\u001b[34m\u001b[1mwandb\u001b[0m: \ttrain_batch_size: 2\n",
      "\u001b[34m\u001b[1mwandb\u001b[0m: \ttrain_size: 800\n"
     ]
    },
    {
     "data": {
      "text/html": [
       "Ignoring project 'ocr_sweep_test_01' when running a sweep."
      ],
      "text/plain": [
       "<IPython.core.display.HTML object>"
      ]
     },
     "metadata": {},
     "output_type": "display_data"
    },
    {
     "data": {
      "text/html": [],
      "text/plain": [
       "<IPython.core.display.HTML object>"
      ]
     },
     "metadata": {},
     "output_type": "display_data"
    },
    {
     "data": {
      "text/html": [
       "Tracking run with wandb version 0.21.4"
      ],
      "text/plain": [
       "<IPython.core.display.HTML object>"
      ]
     },
     "metadata": {},
     "output_type": "display_data"
    },
    {
     "data": {
      "text/html": [
       "Run data is saved locally in <code>/home/alex/projects/ocr/src/wandb/run-20250917_110818-r2zj7kr8</code>"
      ],
      "text/plain": [
       "<IPython.core.display.HTML object>"
      ]
     },
     "metadata": {},
     "output_type": "display_data"
    },
    {
     "data": {
      "text/html": [
       "Syncing run <strong><a href='https://wandb.ai/alex-zdz/ocr_sweep_test_01/runs/r2zj7kr8' target=\"_blank\">rose-sweep-13</a></strong> to <a href='https://wandb.ai/alex-zdz/ocr_sweep_test_01' target=\"_blank\">Weights & Biases</a> (<a href='https://wandb.me/developer-guide' target=\"_blank\">docs</a>)<br>Sweep page: <a href='https://wandb.ai/alex-zdz/ocr_sweep_test_01/sweeps/wgmverv6' target=\"_blank\">https://wandb.ai/alex-zdz/ocr_sweep_test_01/sweeps/wgmverv6</a>"
      ],
      "text/plain": [
       "<IPython.core.display.HTML object>"
      ]
     },
     "metadata": {},
     "output_type": "display_data"
    },
    {
     "data": {
      "text/html": [
       " View project at <a href='https://wandb.ai/alex-zdz/ocr_sweep_test_01' target=\"_blank\">https://wandb.ai/alex-zdz/ocr_sweep_test_01</a>"
      ],
      "text/plain": [
       "<IPython.core.display.HTML object>"
      ]
     },
     "metadata": {},
     "output_type": "display_data"
    },
    {
     "data": {
      "text/html": [
       " View sweep at <a href='https://wandb.ai/alex-zdz/ocr_sweep_test_01/sweeps/wgmverv6' target=\"_blank\">https://wandb.ai/alex-zdz/ocr_sweep_test_01/sweeps/wgmverv6</a>"
      ],
      "text/plain": [
       "<IPython.core.display.HTML object>"
      ]
     },
     "metadata": {},
     "output_type": "display_data"
    },
    {
     "data": {
      "text/html": [
       " View run at <a href='https://wandb.ai/alex-zdz/ocr_sweep_test_01/runs/r2zj7kr8' target=\"_blank\">https://wandb.ai/alex-zdz/ocr_sweep_test_01/runs/r2zj7kr8</a>"
      ],
      "text/plain": [
       "<IPython.core.display.HTML object>"
      ]
     },
     "metadata": {},
     "output_type": "display_data"
    },
    {
     "name": "stderr",
     "output_type": "stream",
     "text": [
      "Loading checkpoint shards: 100%|██████████| 2/2 [00:00<00:00,  2.96it/s]\n",
      "Validating: 100%|██████████| 298/298 [00:19<00:00, 15.13it/s]/s, loss=2.03]\n",
      "Validating: 100%|██████████| 298/298 [00:19<00:00, 15.45it/s], loss=0.914]  \n",
      "Validating: 100%|██████████| 298/298 [00:19<00:00, 15.53it/s], loss=0.619]   \n",
      "Validating: 100%|██████████| 298/298 [00:19<00:00, 15.04it/s], loss=0.284]   \n",
      "Validating: 100%|██████████| 298/298 [00:19<00:00, 15.20it/s], loss=0.718]   \n",
      "Validating: 100%|██████████| 298/298 [00:19<00:00, 15.31it/s], loss=0.823]   \n",
      "Validating: 100%|██████████| 298/298 [00:19<00:00, 15.20it/s], loss=0.311]  \n",
      "Validating: 100%|██████████| 298/298 [00:19<00:00, 15.20it/s]/s, loss=0.309]\n",
      "Validating: 100%|██████████| 298/298 [00:19<00:00, 14.98it/s]/s, loss=0.151]  \n",
      "Validating: 100%|██████████| 298/298 [00:19<00:00, 15.10it/s]t/s, loss=0.172] \n",
      "Training: 100%|██████████| 10000/10000 [1:17:55<00:00,  2.14it/s, loss=0.172]\n"
     ]
    },
    {
     "data": {
      "text/html": [],
      "text/plain": [
       "<IPython.core.display.HTML object>"
      ]
     },
     "metadata": {},
     "output_type": "display_data"
    },
    {
     "data": {
      "text/html": [
       "<br>    <style><br>        .wandb-row {<br>            display: flex;<br>            flex-direction: row;<br>            flex-wrap: wrap;<br>            justify-content: flex-start;<br>            width: 100%;<br>        }<br>        .wandb-col {<br>            display: flex;<br>            flex-direction: column;<br>            flex-basis: 100%;<br>            flex: 1;<br>            padding: 10px;<br>        }<br>    </style><br><div class=\"wandb-row\"><div class=\"wandb-col\"><h3>Run history:</h3><br/><table class=\"wandb\"><tr><td>CER</td><td>█▁▃▁▃▂▂▁▁▂</td></tr><tr><td>accuracy</td><td>▁▆▂█▄▄▁▇▄▂</td></tr><tr><td>elapsed_time</td><td>▁▂▃▃▄▅▆▆▇█</td></tr><tr><td>loss</td><td>▁▂▄▄▅▆▇▇██</td></tr><tr><td>step</td><td>▁▂▃▃▄▅▆▆▇█</td></tr></table><br/></div><div class=\"wandb-col\"><h3>Run summary:</h3><br/><table class=\"wandb\"><tr><td>CER</td><td>0.93781</td></tr><tr><td>accuracy</td><td>0.0314</td></tr><tr><td>elapsed_time</td><td>4667.13183</td></tr><tr><td>loss</td><td>6.06618</td></tr><tr><td>step</td><td>10000</td></tr></table><br/></div></div>"
      ],
      "text/plain": [
       "<IPython.core.display.HTML object>"
      ]
     },
     "metadata": {},
     "output_type": "display_data"
    },
    {
     "data": {
      "text/html": [
       " View run <strong style=\"color:#cdcd00\">rose-sweep-13</strong> at: <a href='https://wandb.ai/alex-zdz/ocr_sweep_test_01/runs/r2zj7kr8' target=\"_blank\">https://wandb.ai/alex-zdz/ocr_sweep_test_01/runs/r2zj7kr8</a><br> View project at: <a href='https://wandb.ai/alex-zdz/ocr_sweep_test_01' target=\"_blank\">https://wandb.ai/alex-zdz/ocr_sweep_test_01</a><br>Synced 5 W&B file(s), 0 media file(s), 0 artifact file(s) and 0 other file(s)"
      ],
      "text/plain": [
       "<IPython.core.display.HTML object>"
      ]
     },
     "metadata": {},
     "output_type": "display_data"
    },
    {
     "data": {
      "text/html": [
       "Find logs at: <code>./wandb/run-20250917_110818-r2zj7kr8/logs</code>"
      ],
      "text/plain": [
       "<IPython.core.display.HTML object>"
      ]
     },
     "metadata": {},
     "output_type": "display_data"
    },
    {
     "name": "stderr",
     "output_type": "stream",
     "text": [
      "\u001b[34m\u001b[1mwandb\u001b[0m: Agent Starting Run: kn3c7e9s with config:\n",
      "\u001b[34m\u001b[1mwandb\u001b[0m: \tlearning_rate: 0.0001\n",
      "\u001b[34m\u001b[1mwandb\u001b[0m: \tmax_steps: 10000\n",
      "\u001b[34m\u001b[1mwandb\u001b[0m: \ttrain_batch_size: 2\n",
      "\u001b[34m\u001b[1mwandb\u001b[0m: \ttrain_size: 1200\n"
     ]
    },
    {
     "data": {
      "text/html": [
       "Ignoring project 'ocr_sweep_test_01' when running a sweep."
      ],
      "text/plain": [
       "<IPython.core.display.HTML object>"
      ]
     },
     "metadata": {},
     "output_type": "display_data"
    },
    {
     "data": {
      "text/html": [],
      "text/plain": [
       "<IPython.core.display.HTML object>"
      ]
     },
     "metadata": {},
     "output_type": "display_data"
    },
    {
     "data": {
      "text/html": [
       "Tracking run with wandb version 0.21.4"
      ],
      "text/plain": [
       "<IPython.core.display.HTML object>"
      ]
     },
     "metadata": {},
     "output_type": "display_data"
    },
    {
     "data": {
      "text/html": [
       "Run data is saved locally in <code>/home/alex/projects/ocr/src/wandb/run-20250917_122625-kn3c7e9s</code>"
      ],
      "text/plain": [
       "<IPython.core.display.HTML object>"
      ]
     },
     "metadata": {},
     "output_type": "display_data"
    },
    {
     "data": {
      "text/html": [
       "Syncing run <strong><a href='https://wandb.ai/alex-zdz/ocr_sweep_test_01/runs/kn3c7e9s' target=\"_blank\">rich-sweep-14</a></strong> to <a href='https://wandb.ai/alex-zdz/ocr_sweep_test_01' target=\"_blank\">Weights & Biases</a> (<a href='https://wandb.me/developer-guide' target=\"_blank\">docs</a>)<br>Sweep page: <a href='https://wandb.ai/alex-zdz/ocr_sweep_test_01/sweeps/wgmverv6' target=\"_blank\">https://wandb.ai/alex-zdz/ocr_sweep_test_01/sweeps/wgmverv6</a>"
      ],
      "text/plain": [
       "<IPython.core.display.HTML object>"
      ]
     },
     "metadata": {},
     "output_type": "display_data"
    },
    {
     "data": {
      "text/html": [
       " View project at <a href='https://wandb.ai/alex-zdz/ocr_sweep_test_01' target=\"_blank\">https://wandb.ai/alex-zdz/ocr_sweep_test_01</a>"
      ],
      "text/plain": [
       "<IPython.core.display.HTML object>"
      ]
     },
     "metadata": {},
     "output_type": "display_data"
    },
    {
     "data": {
      "text/html": [
       " View sweep at <a href='https://wandb.ai/alex-zdz/ocr_sweep_test_01/sweeps/wgmverv6' target=\"_blank\">https://wandb.ai/alex-zdz/ocr_sweep_test_01/sweeps/wgmverv6</a>"
      ],
      "text/plain": [
       "<IPython.core.display.HTML object>"
      ]
     },
     "metadata": {},
     "output_type": "display_data"
    },
    {
     "data": {
      "text/html": [
       " View run at <a href='https://wandb.ai/alex-zdz/ocr_sweep_test_01/runs/kn3c7e9s' target=\"_blank\">https://wandb.ai/alex-zdz/ocr_sweep_test_01/runs/kn3c7e9s</a>"
      ],
      "text/plain": [
       "<IPython.core.display.HTML object>"
      ]
     },
     "metadata": {},
     "output_type": "display_data"
    },
    {
     "name": "stderr",
     "output_type": "stream",
     "text": [
      "Loading checkpoint shards: 100%|██████████| 2/2 [00:00<00:00,  3.00it/s]\n",
      "Validating: 100%|██████████| 298/298 [00:19<00:00, 15.04it/s]/s, loss=1.27]\n",
      "Validating: 100%|██████████| 298/298 [00:19<00:00, 15.16it/s]/s, loss=0.697]\n",
      "Validating: 100%|██████████| 298/298 [00:19<00:00, 15.06it/s], loss=0.53]    \n",
      "Validating: 100%|██████████| 298/298 [00:19<00:00, 15.26it/s], loss=0.573]   \n",
      "Validating: 100%|██████████| 298/298 [00:19<00:00, 15.11it/s], loss=0.31]    \n",
      "Validating: 100%|██████████| 298/298 [00:19<00:00, 15.18it/s], loss=0.268]   \n",
      "Validating: 100%|██████████| 298/298 [00:19<00:00, 15.27it/s], loss=0.828]  \n",
      "Validating: 100%|██████████| 298/298 [00:19<00:00, 15.17it/s]/s, loss=0.276]\n",
      "Validating: 100%|██████████| 298/298 [00:19<00:00, 15.34it/s]/s, loss=0.362]  \n",
      "Validating: 100%|██████████| 298/298 [00:19<00:00, 15.19it/s]t/s, loss=0.144] \n",
      "Training: 100%|██████████| 10000/10000 [1:18:21<00:00,  2.13it/s, loss=0.144]\n"
     ]
    },
    {
     "data": {
      "text/html": [],
      "text/plain": [
       "<IPython.core.display.HTML object>"
      ]
     },
     "metadata": {},
     "output_type": "display_data"
    },
    {
     "data": {
      "text/html": [
       "<br>    <style><br>        .wandb-row {<br>            display: flex;<br>            flex-direction: row;<br>            flex-wrap: wrap;<br>            justify-content: flex-start;<br>            width: 100%;<br>        }<br>        .wandb-col {<br>            display: flex;<br>            flex-direction: column;<br>            flex-basis: 100%;<br>            flex: 1;<br>            padding: 10px;<br>        }<br>    </style><br><div class=\"wandb-row\"><div class=\"wandb-col\"><h3>Run history:</h3><br/><table class=\"wandb\"><tr><td>CER</td><td>█▃▂▃▅▄█▃▂▁</td></tr><tr><td>accuracy</td><td>██▇▆▃▄▁▄▄▄</td></tr><tr><td>elapsed_time</td><td>▁▂▃▃▄▅▆▆▇█</td></tr><tr><td>loss</td><td>▁▂▃▄▅▆▆▆▇█</td></tr><tr><td>step</td><td>▁▂▃▃▄▅▆▆▇█</td></tr></table><br/></div><div class=\"wandb-col\"><h3>Run summary:</h3><br/><table class=\"wandb\"><tr><td>CER</td><td>0.82618</td></tr><tr><td>accuracy</td><td>0.0475</td></tr><tr><td>elapsed_time</td><td>4694.12197</td></tr><tr><td>loss</td><td>5.79826</td></tr><tr><td>step</td><td>10000</td></tr></table><br/></div></div>"
      ],
      "text/plain": [
       "<IPython.core.display.HTML object>"
      ]
     },
     "metadata": {},
     "output_type": "display_data"
    },
    {
     "data": {
      "text/html": [
       " View run <strong style=\"color:#cdcd00\">rich-sweep-14</strong> at: <a href='https://wandb.ai/alex-zdz/ocr_sweep_test_01/runs/kn3c7e9s' target=\"_blank\">https://wandb.ai/alex-zdz/ocr_sweep_test_01/runs/kn3c7e9s</a><br> View project at: <a href='https://wandb.ai/alex-zdz/ocr_sweep_test_01' target=\"_blank\">https://wandb.ai/alex-zdz/ocr_sweep_test_01</a><br>Synced 5 W&B file(s), 0 media file(s), 0 artifact file(s) and 0 other file(s)"
      ],
      "text/plain": [
       "<IPython.core.display.HTML object>"
      ]
     },
     "metadata": {},
     "output_type": "display_data"
    },
    {
     "data": {
      "text/html": [
       "Find logs at: <code>./wandb/run-20250917_122625-kn3c7e9s/logs</code>"
      ],
      "text/plain": [
       "<IPython.core.display.HTML object>"
      ]
     },
     "metadata": {},
     "output_type": "display_data"
    },
    {
     "name": "stderr",
     "output_type": "stream",
     "text": [
      "\u001b[34m\u001b[1mwandb\u001b[0m: Agent Starting Run: 048r484w with config:\n",
      "\u001b[34m\u001b[1mwandb\u001b[0m: \tlearning_rate: 0.0001\n",
      "\u001b[34m\u001b[1mwandb\u001b[0m: \tmax_steps: 10000\n",
      "\u001b[34m\u001b[1mwandb\u001b[0m: \ttrain_batch_size: 2\n",
      "\u001b[34m\u001b[1mwandb\u001b[0m: \ttrain_size: full\n"
     ]
    },
    {
     "data": {
      "text/html": [
       "Ignoring project 'ocr_sweep_test_01' when running a sweep."
      ],
      "text/plain": [
       "<IPython.core.display.HTML object>"
      ]
     },
     "metadata": {},
     "output_type": "display_data"
    },
    {
     "data": {
      "text/html": [],
      "text/plain": [
       "<IPython.core.display.HTML object>"
      ]
     },
     "metadata": {},
     "output_type": "display_data"
    },
    {
     "data": {
      "text/html": [
       "Tracking run with wandb version 0.21.4"
      ],
      "text/plain": [
       "<IPython.core.display.HTML object>"
      ]
     },
     "metadata": {},
     "output_type": "display_data"
    },
    {
     "data": {
      "text/html": [
       "Run data is saved locally in <code>/home/alex/projects/ocr/src/wandb/run-20250917_134457-048r484w</code>"
      ],
      "text/plain": [
       "<IPython.core.display.HTML object>"
      ]
     },
     "metadata": {},
     "output_type": "display_data"
    },
    {
     "data": {
      "text/html": [
       "Syncing run <strong><a href='https://wandb.ai/alex-zdz/ocr_sweep_test_01/runs/048r484w' target=\"_blank\">scarlet-sweep-15</a></strong> to <a href='https://wandb.ai/alex-zdz/ocr_sweep_test_01' target=\"_blank\">Weights & Biases</a> (<a href='https://wandb.me/developer-guide' target=\"_blank\">docs</a>)<br>Sweep page: <a href='https://wandb.ai/alex-zdz/ocr_sweep_test_01/sweeps/wgmverv6' target=\"_blank\">https://wandb.ai/alex-zdz/ocr_sweep_test_01/sweeps/wgmverv6</a>"
      ],
      "text/plain": [
       "<IPython.core.display.HTML object>"
      ]
     },
     "metadata": {},
     "output_type": "display_data"
    },
    {
     "data": {
      "text/html": [
       " View project at <a href='https://wandb.ai/alex-zdz/ocr_sweep_test_01' target=\"_blank\">https://wandb.ai/alex-zdz/ocr_sweep_test_01</a>"
      ],
      "text/plain": [
       "<IPython.core.display.HTML object>"
      ]
     },
     "metadata": {},
     "output_type": "display_data"
    },
    {
     "data": {
      "text/html": [
       " View sweep at <a href='https://wandb.ai/alex-zdz/ocr_sweep_test_01/sweeps/wgmverv6' target=\"_blank\">https://wandb.ai/alex-zdz/ocr_sweep_test_01/sweeps/wgmverv6</a>"
      ],
      "text/plain": [
       "<IPython.core.display.HTML object>"
      ]
     },
     "metadata": {},
     "output_type": "display_data"
    },
    {
     "data": {
      "text/html": [
       " View run at <a href='https://wandb.ai/alex-zdz/ocr_sweep_test_01/runs/048r484w' target=\"_blank\">https://wandb.ai/alex-zdz/ocr_sweep_test_01/runs/048r484w</a>"
      ],
      "text/plain": [
       "<IPython.core.display.HTML object>"
      ]
     },
     "metadata": {},
     "output_type": "display_data"
    },
    {
     "name": "stderr",
     "output_type": "stream",
     "text": [
      "Loading checkpoint shards: 100%|██████████| 2/2 [00:00<00:00,  3.14it/s]\n",
      "Validating: 100%|██████████| 298/298 [00:19<00:00, 14.94it/s]/s, loss=1.07] \n",
      "Validating: 100%|██████████| 298/298 [00:19<00:00, 15.20it/s], loss=1.32]   \n",
      "Validating: 100%|██████████| 298/298 [00:19<00:00, 15.13it/s], loss=0.374]   \n",
      "Validating: 100%|██████████| 298/298 [00:19<00:00, 15.38it/s], loss=0.447]   \n",
      "Validating: 100%|██████████| 298/298 [00:19<00:00, 15.11it/s], loss=0.204]   \n",
      "Validating: 100%|██████████| 298/298 [00:19<00:00, 14.97it/s], loss=0.247]   \n",
      "Validating: 100%|██████████| 298/298 [00:19<00:00, 15.13it/s], loss=0.18]    \n",
      "Validating: 100%|██████████| 298/298 [00:19<00:00, 14.95it/s]/s, loss=0.167]\n",
      "Validating: 100%|██████████| 298/298 [00:19<00:00, 15.10it/s]/s, loss=0.218]  \n",
      "Validating: 100%|██████████| 298/298 [00:19<00:00, 15.14it/s]t/s, loss=0.234] \n",
      "Training: 100%|██████████| 10000/10000 [1:17:51<00:00,  2.14it/s, loss=0.234]\n"
     ]
    },
    {
     "data": {
      "text/html": [],
      "text/plain": [
       "<IPython.core.display.HTML object>"
      ]
     },
     "metadata": {},
     "output_type": "display_data"
    },
    {
     "data": {
      "text/html": [
       "<br>    <style><br>        .wandb-row {<br>            display: flex;<br>            flex-direction: row;<br>            flex-wrap: wrap;<br>            justify-content: flex-start;<br>            width: 100%;<br>        }<br>        .wandb-col {<br>            display: flex;<br>            flex-direction: column;<br>            flex-basis: 100%;<br>            flex: 1;<br>            padding: 10px;<br>        }<br>    </style><br><div class=\"wandb-row\"><div class=\"wandb-col\"><h3>Run history:</h3><br/><table class=\"wandb\"><tr><td>CER</td><td>▅▂▁▂▅▆▅▇██</td></tr><tr><td>accuracy</td><td>█▅▅▅▂▃▁▁▁▁</td></tr><tr><td>elapsed_time</td><td>▁▂▃▃▄▅▆▆▇█</td></tr><tr><td>loss</td><td>▁▂▃▄▅▆▆▇██</td></tr><tr><td>step</td><td>▁▂▃▃▄▅▆▆▇█</td></tr></table><br/></div><div class=\"wandb-col\"><h3>Run summary:</h3><br/><table class=\"wandb\"><tr><td>CER</td><td>0.89055</td></tr><tr><td>accuracy</td><td>0.04046</td></tr><tr><td>elapsed_time</td><td>4664.46485</td></tr><tr><td>loss</td><td>6.07245</td></tr><tr><td>step</td><td>10000</td></tr></table><br/></div></div>"
      ],
      "text/plain": [
       "<IPython.core.display.HTML object>"
      ]
     },
     "metadata": {},
     "output_type": "display_data"
    },
    {
     "data": {
      "text/html": [
       " View run <strong style=\"color:#cdcd00\">scarlet-sweep-15</strong> at: <a href='https://wandb.ai/alex-zdz/ocr_sweep_test_01/runs/048r484w' target=\"_blank\">https://wandb.ai/alex-zdz/ocr_sweep_test_01/runs/048r484w</a><br> View project at: <a href='https://wandb.ai/alex-zdz/ocr_sweep_test_01' target=\"_blank\">https://wandb.ai/alex-zdz/ocr_sweep_test_01</a><br>Synced 5 W&B file(s), 0 media file(s), 0 artifact file(s) and 0 other file(s)"
      ],
      "text/plain": [
       "<IPython.core.display.HTML object>"
      ]
     },
     "metadata": {},
     "output_type": "display_data"
    },
    {
     "data": {
      "text/html": [
       "Find logs at: <code>./wandb/run-20250917_134457-048r484w/logs</code>"
      ],
      "text/plain": [
       "<IPython.core.display.HTML object>"
      ]
     },
     "metadata": {},
     "output_type": "display_data"
    }
   ],
   "source": [
    "wandb.agent(sweep_id, train, count=15)"
   ]
  },
  {
   "cell_type": "markdown",
   "metadata": {},
   "source": []
  },
  {
   "cell_type": "code",
   "execution_count": 126,
   "metadata": {},
   "outputs": [],
   "source": [
    "sweep_configuration = {\n",
    "    \"method\": \"random\",\n",
    "    \"metric\": {\"goal\": \"minimize\", \"name\": \"loss\"},\n",
    "    \"parameters\": {\n",
    "        \"learning_rate\":  {\"values\": [0.00001]},\n",
    "        \"train_batch_size\": {\"values\": [3]},\n",
    "        \"train_size\": {\"values\": [400, 800]},  #, 1200, \"full\"\n",
    "        \"max_steps\":  {\"values\": [8]},\n",
    "    },\n",
    "}"
   ]
  },
  {
   "cell_type": "code",
   "execution_count": 138,
   "metadata": {},
   "outputs": [
    {
     "name": "stdout",
     "output_type": "stream",
     "text": [
      "Create sweep with ID: lr2x7mfa\n",
      "Sweep URL: https://wandb.ai/alex-zdz/ocr_sweeps_02/sweeps/lr2x7mfa\n"
     ]
    }
   ],
   "source": [
    "sweep_id = wandb.sweep(sweep_configuration, project=\"ocr_sweeps_02\")"
   ]
  },
  {
   "cell_type": "code",
   "execution_count": null,
   "metadata": {},
   "outputs": [],
   "source": []
  },
  {
   "cell_type": "code",
   "execution_count": 128,
   "metadata": {},
   "outputs": [],
   "source": [
    "def train(config=None):\n",
    "    with wandb.init(config=config):\n",
    "    # If called by wandb.agent, as below,\n",
    "    # this config will be set by Sweep Controller\n",
    "        config = wandb.config\n",
    "\n",
    "        # Configuration\n",
    "        learning_rate = config.learning_rate\n",
    "        val_batch_size = 1\n",
    "        train_batch_size = config.train_batch_size\n",
    "        dataset = \"dataset_p40\"\n",
    "        train_size = config.train_size\n",
    "        max_steps = config.max_steps\n",
    "        eval_steps = max_steps / 10\n",
    "        num_accumulation_steps = 2\n",
    "\n",
    "        # Load the combined dataset from the processed directory\n",
    "        output_dir=\"results/p40_test\"\n",
    "        path = \"../data/processed_singlecol/dataset_p40\"\n",
    "        data = load_from_disk(path)\n",
    "\n",
    "        # Split into train/val/test (fixed across runs!)\n",
    "        trainval_test_split = data.train_test_split(test_size=0.2, seed=42)\n",
    "        test_dataset = trainval_test_split['test']\n",
    "        train_val_split = trainval_test_split[\"train\"].train_test_split(test_size=0.25, seed=42)\n",
    "        val_dataset = train_val_split['test']\n",
    "        train_full = train_val_split['train']\n",
    "\n",
    "        # Subsample training set according to sweep parameter\n",
    "        train_dataset = get_train_subset(train_full, train_size)\n",
    "\n",
    "        device = \"cuda\"\n",
    "        min_pixel=256\n",
    "        max_pixel=384\n",
    "        image_factor=28\n",
    "\n",
    "        model_name = \"Qwen/Qwen2-VL-2B-Instruct\"\n",
    "        model = Qwen2VLForConditionalGeneration.from_pretrained(\n",
    "                model_name, torch_dtype=torch.bfloat16,\n",
    "                device_map = device\n",
    "            )\n",
    "\n",
    "        processor = AutoProcessor.from_pretrained(model_name, min_pixels=min_pixel*image_factor*image_factor, max_pixels=max_pixel*image_factor*image_factor, padding_side=\"right\")\n",
    "\n",
    "        train_dataset = HuggingFaceDataset(train_dataset, image_column=\"image\",\n",
    "                                    text_column=\"transcription\",\n",
    "                                    user_text=\"Convert this image to text\")\n",
    "                                    \n",
    "        val_dataset = HuggingFaceDataset(val_dataset, image_column=\"image\",\n",
    "                                    text_column=\"transcription\",\n",
    "                                    user_text=\"Convert this image to text\")\n",
    "\n",
    "        train_loader = DataLoader(\n",
    "            train_dataset,\n",
    "            batch_size=train_batch_size,\n",
    "            collate_fn=partial(collate_fn, processor=processor, device=device),\n",
    "            shuffle=True\n",
    "        )\n",
    "\n",
    "        val_loader = DataLoader(\n",
    "            val_dataset,\n",
    "            batch_size=val_batch_size,\n",
    "            collate_fn=partial(collate_fn, processor=processor, device=device)\n",
    "        )\n",
    "        \n",
    "        model.train()\n",
    "        optimizer = AdamW(model.parameters(), lr = learning_rate) #1e-5\n",
    "\n",
    "        global_step = 0\n",
    "        progress_bar = tqdm(total=max_steps, desc=\"Training\")\n",
    "        start_time = time.time()\n",
    "        while global_step < max_steps:\n",
    "            for batch in train_loader:\n",
    "                global_step += 1\n",
    "                inputs, labels = batch\n",
    "                outputs = model(**inputs, labels=labels)\n",
    "                \n",
    "                loss = outputs.loss / num_accumulation_steps\n",
    "                loss.backward()\n",
    "                \n",
    "                if global_step % num_accumulation_steps == 0:\n",
    "                    optimizer.step()\n",
    "                    optimizer.zero_grad()\n",
    "\n",
    "                progress_bar.update(1)\n",
    "                progress_bar.set_postfix({\"loss\": loss.item() * num_accumulation_steps})\n",
    "\n",
    "                # Perform evaluation and save model every EVAL_STEPS\n",
    "                \n",
    "                if global_step % eval_steps == 0 or global_step == max_steps:\n",
    "\n",
    "                    #avg_val_loss = validate(model, val_loader)\n",
    "\n",
    "                    model.eval()\n",
    "                    total_val_loss = 0\n",
    "                    correct = 0\n",
    "                    total = 0\n",
    "                    with torch.no_grad():\n",
    "                        for batch in tqdm(val_loader, desc = \"Validating\"):\n",
    "                            inputs, labels = batch\n",
    "                            outputs = model(**inputs, labels=labels)\n",
    "                            loss = outputs.loss\n",
    "                            total_val_loss += loss.item()\n",
    "\n",
    "                            # move labels to model's device\n",
    "                            labels = labels.to(device)\n",
    "                            # Get predicted class IDs\n",
    "                            logits = outputs.logits  # [batch_size, seq_len, vocab_size]\n",
    "                            preds = torch.argmax(logits, dim=-1)  # [batch_size, seq_len]\n",
    "\n",
    "                            # Flatten tensors\n",
    "                            preds = preds.view(-1)\n",
    "                            labels = labels.view(-1)\n",
    "\n",
    "                            # Create mask to ignore padding (-100)\n",
    "                            mask = labels != -100\n",
    "\n",
    "                            # Apply mask and update counts\n",
    "                            correct += (preds[mask] == labels[mask]).sum().item()\n",
    "                            total += mask.sum().item()\n",
    "\n",
    "\n",
    "                    avg_val_loss = total_val_loss / len(val_loader)\n",
    "                    accuracy = correct / total if total > 0 else 0.0\n",
    "                    #\n",
    "                    model.train() \n",
    "\n",
    "                    # Save the model and processor\n",
    "                    save_dir = os.path.join(output_dir, f\"model_step_{global_step}\")\n",
    "                    os.makedirs(save_dir, exist_ok=True)\n",
    "                    model.save_pretrained(save_dir)\n",
    "                    processor.save_pretrained(save_dir)\n",
    "\n",
    "                    elapsed_time = time.time() - start_time\n",
    "\n",
    "                    # Log metrics to wandb.\n",
    "                    #run.log({\"loss\": avg_val_loss, \"elapsed_time\": elapsed_time})\n",
    "                    run.log({\"acc\": accuracy, \"loss\": avg_val_loss, \"step\": global_step,\n",
    "                            \"elapsed_time\": elapsed_time, \"train_size\": len(train_dataset)})\n",
    "\n",
    "                    # Set the model back to training mode\n",
    "                    model.train()  \n",
    "\n",
    "                if global_step >= max_steps:\n",
    "                    save_dir = os.path.join(output_dir, f\"final\")\n",
    "                    model.save_pretrained(save_dir)\n",
    "                    processor.save_pretrained(save_dir)\n",
    "                    break\n",
    "\n",
    "        # Finish the run and upload any remaining data.\n",
    "        run.finish()\n",
    "\n",
    "        progress_bar.close()\n"
   ]
  },
  {
   "cell_type": "code",
   "execution_count": 129,
   "metadata": {},
   "outputs": [
    {
     "name": "stderr",
     "output_type": "stream",
     "text": [
      "\u001b[34m\u001b[1mwandb\u001b[0m: \u001b[33mWARNING\u001b[0m Calling wandb.login() after wandb.init() has no effect.\n",
      "socket.send() raised exception.\n",
      "socket.send() raised exception.\n",
      "\u001b[34m\u001b[1mwandb\u001b[0m: Agent Starting Run: xthvmy1p with config:\n",
      "\u001b[34m\u001b[1mwandb\u001b[0m: \tlearning_rate: 1e-05\n",
      "\u001b[34m\u001b[1mwandb\u001b[0m: \tmax_steps: 8\n",
      "\u001b[34m\u001b[1mwandb\u001b[0m: \ttrain_batch_size: 3\n",
      "\u001b[34m\u001b[1mwandb\u001b[0m: \ttrain_size: 400\n"
     ]
    },
    {
     "data": {
      "text/html": [],
      "text/plain": [
       "<IPython.core.display.HTML object>"
      ]
     },
     "metadata": {},
     "output_type": "display_data"
    },
    {
     "data": {
      "text/html": [
       "Tracking run with wandb version 0.21.4"
      ],
      "text/plain": [
       "<IPython.core.display.HTML object>"
      ]
     },
     "metadata": {},
     "output_type": "display_data"
    },
    {
     "data": {
      "text/html": [
       "Run data is saved locally in <code>/home/alex/projects/ocr/src/wandb/run-20250916_123258-xthvmy1p</code>"
      ],
      "text/plain": [
       "<IPython.core.display.HTML object>"
      ]
     },
     "metadata": {},
     "output_type": "display_data"
    },
    {
     "data": {
      "text/html": [
       "Syncing run <strong><a href='https://wandb.ai/alex-zdz/ocr_sweeps_02/runs/xthvmy1p' target=\"_blank\">swept-sweep-1</a></strong> to <a href='https://wandb.ai/alex-zdz/ocr_sweeps_02' target=\"_blank\">Weights & Biases</a> (<a href='https://wandb.me/developer-guide' target=\"_blank\">docs</a>)<br>Sweep page: <a href='https://wandb.ai/alex-zdz/ocr_sweeps_02/sweeps/e3gx3ohb' target=\"_blank\">https://wandb.ai/alex-zdz/ocr_sweeps_02/sweeps/e3gx3ohb</a>"
      ],
      "text/plain": [
       "<IPython.core.display.HTML object>"
      ]
     },
     "metadata": {},
     "output_type": "display_data"
    },
    {
     "data": {
      "text/html": [
       " View project at <a href='https://wandb.ai/alex-zdz/ocr_sweeps_02' target=\"_blank\">https://wandb.ai/alex-zdz/ocr_sweeps_02</a>"
      ],
      "text/plain": [
       "<IPython.core.display.HTML object>"
      ]
     },
     "metadata": {},
     "output_type": "display_data"
    },
    {
     "data": {
      "text/html": [
       " View sweep at <a href='https://wandb.ai/alex-zdz/ocr_sweeps_02/sweeps/e3gx3ohb' target=\"_blank\">https://wandb.ai/alex-zdz/ocr_sweeps_02/sweeps/e3gx3ohb</a>"
      ],
      "text/plain": [
       "<IPython.core.display.HTML object>"
      ]
     },
     "metadata": {},
     "output_type": "display_data"
    },
    {
     "data": {
      "text/html": [
       " View run at <a href='https://wandb.ai/alex-zdz/ocr_sweeps_02/runs/xthvmy1p' target=\"_blank\">https://wandb.ai/alex-zdz/ocr_sweeps_02/runs/xthvmy1p</a>"
      ],
      "text/plain": [
       "<IPython.core.display.HTML object>"
      ]
     },
     "metadata": {},
     "output_type": "display_data"
    },
    {
     "name": "stderr",
     "output_type": "stream",
     "text": [
      "\u001b[34m\u001b[1mwandb\u001b[0m: Ctrl + C detected. Stopping sweep.\n"
     ]
    }
   ],
   "source": [
    "wandb.agent(sweep_id, train, count=3)"
   ]
  },
  {
   "cell_type": "markdown",
   "metadata": {},
   "source": [
    "# Testing the model"
   ]
  },
  {
   "cell_type": "code",
   "execution_count": 1,
   "metadata": {},
   "outputs": [
    {
     "name": "stderr",
     "output_type": "stream",
     "text": [
      "/usr/local/lib/python3.10/dist-packages/tqdm/auto.py:21: TqdmWarning: IProgress not found. Please update jupyter and ipywidgets. See https://ipywidgets.readthedocs.io/en/stable/user_install.html\n",
      "  from .autonotebook import tqdm as notebook_tqdm\n"
     ]
    },
    {
     "name": "stdout",
     "output_type": "stream",
     "text": [
      "/home/alex/projects/ocr/scripts\n",
      "/home/alex/projects/ocr\n"
     ]
    }
   ],
   "source": [
    "import torch\n",
    "import os\n",
    "os.environ['PYTORCH_CUDA_ALLOC_CONF'] = 'expandable_segments:True'\n",
    "from transformers import Qwen2VLForConditionalGeneration, Qwen2_5_VLForConditionalGeneration, AutoProcessor\n",
    "import torch\n",
    "from qwen_vl_utils import process_vision_info\n",
    "from PIL import Image\n",
    "from datasets import load_dataset, load_from_disk\n",
    "import pandas as pd\n",
    "print(os.getcwd())\n",
    "os.chdir(\"..\") # change in the future\n",
    "print(os.getcwd())\n",
    "\n",
    "importlib.reload(src)\n",
    "\n",
    "from src.train_test import *\n",
    "from src.train_test import run_inference_and_calculate_cer\n",
    "from copy import deepcopy"
   ]
  },
  {
   "cell_type": "markdown",
   "metadata": {},
   "source": [
    "# Load the fine-tuned model from Hugging Face Hub or from a local path"
   ]
  },
  {
   "cell_type": "code",
   "execution_count": 2,
   "metadata": {},
   "outputs": [
    {
     "name": "stderr",
     "output_type": "stream",
     "text": [
      "/usr/local/lib/python3.10/dist-packages/torch/cuda/memory.py:391: FutureWarning: torch.cuda.reset_max_memory_allocated now calls torch.cuda.reset_peak_memory_stats, which resets /all/ peak memory stats.\n",
      "  warnings.warn(\n"
     ]
    }
   ],
   "source": [
    "torch.cuda.empty_cache()\n",
    "torch.cuda.reset_max_memory_allocated()"
   ]
  },
  {
   "cell_type": "code",
   "execution_count": null,
   "metadata": {},
   "outputs": [],
   "source": [
    "# From HugggingFace\n",
    "#with open(\"data/tokens/token.txt\") as f:\n",
    "#    write_token = f.read()\n",
    "#read_token = write_token\n",
    "#model_name_p40 = 'culturalheritagenus/Gongguan-OCR-p40'\n",
    "# Load the model and processor\n",
    "#model_01_11 = Qwen2VLForConditionalGeneration.from_pretrained(\n",
    "#    model_name_01_11,\n",
    "#    token=read_token,\n",
    "#    torch_dtype=torch.bfloat16,  # Use the appropriate torch dtype if needed\n",
    "#    device_map='auto'            # Optional: automatically allocate model layers across devices\n",
    "#)"
   ]
  },
  {
   "cell_type": "code",
   "execution_count": 7,
   "metadata": {},
   "outputs": [
    {
     "data": {
      "text/plain": [
       "'/home/alex/projects/ocr'"
      ]
     },
     "execution_count": 7,
     "metadata": {},
     "output_type": "execute_result"
    }
   ],
   "source": [
    "os.getcwd()"
   ]
  },
  {
   "cell_type": "code",
   "execution_count": 4,
   "metadata": {},
   "outputs": [
    {
     "name": "stderr",
     "output_type": "stream",
     "text": [
      "Using a slow image processor as `use_fast` is unset and a slow processor was saved with this model. `use_fast=True` will be the default behavior in v4.52, even if the model was saved with a slow processor. This will result in minor differences in outputs. You'll still be able to use a slow processor with `use_fast=False`.\n"
     ]
    }
   ],
   "source": [
    "\n",
    "# # Locally\n",
    "# model_p40 = Qwen2VLForConditionalGeneration.from_pretrained(\n",
    "#     \"results/p40_newindex/final\",\n",
    "#     device_map='auto'\n",
    "# )\n",
    "# # convert the model to half-precision floating point (FP16)\n",
    "# model_p40.half()\n",
    "# # Load the processor\n",
    "# processor = AutoProcessor.from_pretrained(\"results/p40_newindex/final\")"
   ]
  },
  {
   "cell_type": "markdown",
   "metadata": {},
   "source": [
    "Load the validation dataset (load_dataset is a huggingface function) and predict using the process image function"
   ]
  },
  {
   "cell_type": "code",
   "execution_count": 6,
   "metadata": {},
   "outputs": [],
   "source": [
    "# from HF\n",
    "#model_name_p40 = 'culturalheritagenus/Gongguan-OCR-p40'\n",
    "#dataset_p40 = load_dataset(f\"{model_name_p40}\", split='validation')\n",
    "# Locally\n",
    "# Save the dataset from HF to disk\n",
    "#dataset_p40.save_to_disk(\"../data/processed/dataset_p40\")\n",
    "dataset_p40 = load_from_disk(\"data/processed/dataset_p40\")"
   ]
  },
  {
   "cell_type": "code",
   "execution_count": 6,
   "metadata": {},
   "outputs": [
    {
     "data": {
      "text/plain": [
       "{'text': '美色甘 呌',\n",
       " 'identifier': '12_21_p001_r_31',\n",
       " 'num_lines': 2,\n",
       " 'image': <PIL.PngImagePlugin.PngImageFile image mode=RGB size=122x448>}"
      ]
     },
     "execution_count": 6,
     "metadata": {},
     "output_type": "execute_result"
    }
   ],
   "source": [
    "dataset_p40[0]"
   ]
  },
  {
   "cell_type": "markdown",
   "metadata": {},
   "source": [
    "WER not appropriate in our case, since it considers words to be separated by whitespace, which is not true for Chinese text. For now continue with CER."
   ]
  },
  {
   "cell_type": "markdown",
   "metadata": {},
   "source": [
    "# Compute predictions and CER"
   ]
  },
  {
   "cell_type": "markdown",
   "metadata": {},
   "source": [
    "Define message template with instructions by the user for the LLM\n",
    "This is now an input in the new \"run_inference_and_calculate_cer\" function"
   ]
  },
  {
   "cell_type": "code",
   "execution_count": 4,
   "metadata": {},
   "outputs": [],
   "source": [
    "messages_template = [\n",
    "    {\n",
    "        \"role\": \"user\",\n",
    "        \"content\": [\n",
    "            {\n",
    "                \"type\": \"image\",\n",
    "                \"image\": None,  # Placeholder for image, to be updated\n",
    "            },\n",
    "            {\"type\": \"text\", \"text\": \"Convert this image to text\"},\n",
    "            #{\"type\": \"text\", \"text\": \"Convert this image to Chinese text and carefully consider when the image has multiple columns of text\"},\n",
    "        ],\n",
    "    }\n",
    "]"
   ]
  },
  {
   "cell_type": "markdown",
   "metadata": {},
   "source": [
    "the following functions are part of \"run_inference_and_calculate_cer\" and are loaded through the src file \"train_test.py\""
   ]
  },
  {
   "cell_type": "code",
   "execution_count": 27,
   "metadata": {},
   "outputs": [],
   "source": [
    "# def process_image(image, model, messages_template):\n",
    "#     messages = deepcopy(messages_template)\n",
    "#     messages[0][\"content\"][0][\"image\"] = image\n",
    "#     text = processor.apply_chat_template(\n",
    "#         messages, tokenize=False, add_generation_prompt=True\n",
    "#     )\n",
    "#     image_inputs, video_inputs = process_vision_info(messages)\n",
    "#     inputs = processor(\n",
    "#         text=[text],\n",
    "#         images=image_inputs,\n",
    "#         videos=video_inputs,\n",
    "#         padding=True,\n",
    "#         return_tensors=\"pt\",\n",
    "#     )\n",
    "#     inputs = inputs.to(\"cuda\")\n",
    "#     generated_ids = model.generate(**inputs, max_new_tokens=128)\n",
    "#     generated_ids_trimmed = [\n",
    "#         out_ids[len(in_ids):] for in_ids, out_ids in zip(inputs.input_ids, generated_ids)\n",
    "#     ]\n",
    "#     output_text = processor.batch_decode(\n",
    "#         generated_ids_trimmed, skip_special_tokens=True, clean_up_tokenization_spaces=False\n",
    "#     )\n",
    "#     return output_text[0]"
   ]
  },
  {
   "cell_type": "code",
   "execution_count": 28,
   "metadata": {},
   "outputs": [],
   "source": [
    "# def compute_CER(gt_text, pred_text, normalize=True):\n",
    "#         if normalize:\n",
    "#             gt_text = str(gt_text)\n",
    "#             gt_text = unicodedata.normalize('NFKC', gt_text)\n",
    "#             gt_text = re.sub(r'\\s+', ' ', gt_text).strip()\n",
    "#             pred_text = str(pred_text)\n",
    "#             pred_text = unicodedata.normalize('NFKC', pred_text)\n",
    "#             pred_text = re.sub(r'\\s+', ' ', pred_text).strip()\n",
    "#         gt_chars = list(gt_text)\n",
    "#         pred_chars = list(pred_text)\n",
    "#         distance = levenshtein_distance(gt_chars, pred_chars)\n",
    "#         cer = distance / len(gt_chars) if len(gt_chars) > 0 else 0\n",
    "#         return cer"
   ]
  },
  {
   "cell_type": "code",
   "execution_count": 29,
   "metadata": {},
   "outputs": [],
   "source": [
    "# def run_inference_and_calculate_cer(model_path, message_template, dataset):\n",
    "#     # Load the model and processor\n",
    "#     model = Qwen2VLForConditionalGeneration.from_pretrained(model_path, device_map=\"auto\").half()\n",
    "#     processor = AutoProcessor.from_pretrained(model_path)\n",
    "\n",
    "#     results = []\n",
    "#     # Run inference on the dataset\n",
    "#     for item in dataset:\n",
    "#         prediction = process_image(item[\"image\"], model, message_template)\n",
    "#         cer = compute_CER(item[\"text\"], prediction, normalize=True)\n",
    "#         results.append({\n",
    "#             \"ground_truth\": item[\"text\"],\n",
    "#             \"num_lines\": item[\"num_lines\"],\n",
    "#             \"prediction\": prediction,\n",
    "#             \"identifier\": item[\"identifier\"],\n",
    "#             \"CER\": cer\n",
    "#         })\n",
    "\n",
    "#     # Create DataFrame from results\n",
    "#     df = pd.DataFrame(results)\n",
    "\n",
    "#     return df\n"
   ]
  },
  {
   "cell_type": "code",
   "execution_count": 13,
   "metadata": {},
   "outputs": [
    {
     "data": {
      "text/plain": [
       "(661, 4)"
      ]
     },
     "execution_count": 13,
     "metadata": {},
     "output_type": "execute_result"
    }
   ],
   "source": [
    "dataset_p40.shape"
   ]
  },
  {
   "cell_type": "code",
   "execution_count": 42,
   "metadata": {},
   "outputs": [],
   "source": [
    "#res = run_inference_and_calculate_cer(\"results/p40_newindex/final\", messages_template, dataset_p40.select(range(300)))"
   ]
  },
  {
   "cell_type": "code",
   "execution_count": 7,
   "metadata": {},
   "outputs": [
    {
     "name": "stderr",
     "output_type": "stream",
     "text": [
      "Using a slow image processor as `use_fast` is unset and a slow processor was saved with this model. `use_fast=True` will be the default behavior in v4.52, even if the model was saved with a slow processor. This will result in minor differences in outputs. You'll still be able to use a slow processor with `use_fast=False`.\n"
     ]
    }
   ],
   "source": [
    "res = run_inference_and_calculate_cer(\"results/p40_newindex/final\", messages_template, dataset_p40)"
   ]
  },
  {
   "cell_type": "code",
   "execution_count": 8,
   "metadata": {},
   "outputs": [
    {
     "data": {
      "text/plain": [
       "(661, 5)"
      ]
     },
     "execution_count": 8,
     "metadata": {},
     "output_type": "execute_result"
    }
   ],
   "source": [
    "res.shape"
   ]
  },
  {
   "cell_type": "code",
   "execution_count": 10,
   "metadata": {},
   "outputs": [],
   "source": [
    "# Save predictions to CSV\n",
    "res.to_csv('results/predictions/p40.csv', index=False)"
   ]
  },
  {
   "cell_type": "code",
   "execution_count": 13,
   "metadata": {},
   "outputs": [
    {
     "data": {
      "text/plain": [
       "(ground_truth              22\n",
       " num_lines                  1\n",
       " prediction                22\n",
       " identifier      12_21_p001_r\n",
       " CER                      0.0\n",
       " Name: 10, dtype: object,\n",
       " {'text': '22',\n",
       "  'identifier': '12_21_p001_r',\n",
       "  'num_lines': 1,\n",
       "  'image': <PIL.PngImagePlugin.PngImageFile image mode=RGB size=106x89>})"
      ]
     },
     "execution_count": 13,
     "metadata": {},
     "output_type": "execute_result"
    }
   ],
   "source": [
    "\n",
    "#res = pd.read_csv('results/predictions/p40.csv')\n",
    "res.iloc[10], dataset_p40[10]\n"
   ]
  },
  {
   "cell_type": "markdown",
   "metadata": {},
   "source": [
    "Check whether order matters in multicolumn text regions"
   ]
  },
  {
   "cell_type": "code",
   "execution_count": 14,
   "metadata": {},
   "outputs": [
    {
     "name": "stdout",
     "output_type": "stream",
     "text": [
      "0.41532918507545585\n",
      "0.3333333333333333\n"
     ]
    }
   ],
   "source": [
    "print(res[\"CER\"].mean())\n",
    "print(res[\"CER\"].median())"
   ]
  },
  {
   "cell_type": "markdown",
   "metadata": {},
   "source": [
    "# Show the CER as histogram"
   ]
  },
  {
   "cell_type": "code",
   "execution_count": null,
   "metadata": {},
   "outputs": [
    {
     "data": {
      "image/png": "[encoded data removed]",
      "text/plain": [
       "<Figure size 1000x600 with 1 Axes>"
      ]
     },
     "metadata": {},
     "output_type": "display_data"
    }
   ],
   "source": [
    "\n",
    "\n",
    "import matplotlib.pyplot as plt\n",
    "import numpy as np\n",
    "\n",
    "# Extract CER values from the results\n",
    "cer_values = res['CER'].values\n",
    "\n",
    "# Create histogram\n",
    "plt.figure(figsize=(10, 6))\n",
    "plt.hist(cer_values, bins=30, edgecolor='black', alpha=0.7)\n",
    "plt.xlabel('Character Error Rate (CER)')\n",
    "plt.ylabel('Frequency')\n",
    "plt.title('Distribution of Character Error Rate (CER)')\n",
    "plt.grid(True, alpha=0.3)\n"
   ]
  },
  {
   "cell_type": "code",
   "execution_count": 25,
   "metadata": {},
   "outputs": [
    {
     "data": {
      "image/png": "[encoded data removed]",
      "text/plain": [
       "<Figure size 1000x600 with 1 Axes>"
      ]
     },
     "metadata": {},
     "output_type": "display_data"
    },
    {
     "name": "stdout",
     "output_type": "stream",
     "text": [
      "Total samples: 661\n",
      "Mean CER: 0.4153\n",
      "Median CER: 0.3333\n",
      "Std CER: 0.8107\n",
      "Min CER: 0.0000\n",
      "Max CER: 16.7500\n"
     ]
    }
   ],
   "source": [
    "# Create histogram\n",
    "plt.figure(figsize=(10, 6))\n",
    "plt.hist(cer_values, bins=100, edgecolor='black', alpha=0.7)\n",
    "plt.xlabel('Character Error Rate (CER)')\n",
    "plt.ylabel('Frequency')\n",
    "plt.xlim(0, 3)\n",
    "plt.title('Distribution of Character Error Rate (CER)')\n",
    "plt.grid(True, alpha=0.3)\n",
    "# Add some statistics\n",
    "mean_cer = np.mean(cer_values)\n",
    "median_cer = np.median(cer_values)\n",
    "plt.axvline(mean_cer, color='red', linestyle='--', label=f'Mean: {mean_cer:.3f}')\n",
    "plt.axvline(median_cer, color='green', linestyle='--', label=f'Median: {median_cer:.3f}')\n",
    "plt.legend()\n",
    "\n",
    "plt.tight_layout()\n",
    "plt.show()\n",
    "\n",
    "# Print summary statistics\n",
    "print(f\"Total samples: {len(cer_values)}\")\n",
    "print(f\"Mean CER: {mean_cer:.4f}\")\n",
    "print(f\"Median CER: {median_cer:.4f}\")\n",
    "print(f\"Std CER: {np.std(cer_values):.4f}\")\n",
    "print(f\"Min CER: {np.min(cer_values):.4f}\")\n",
    "print(f\"Max CER: {np.max(cer_values):.4f}\")"
   ]
  },
  {
   "cell_type": "markdown",
   "metadata": {},
   "source": [
    "Count how many rows have a CER above 1"
   ]
  },
  {
   "cell_type": "code",
   "execution_count": 26,
   "metadata": {},
   "outputs": [
    {
     "data": {
      "text/plain": [
       "(12, 5)"
      ]
     },
     "execution_count": 26,
     "metadata": {},
     "output_type": "execute_result"
    }
   ],
   "source": [
    "res[res['CER']>1].shape"
   ]
  },
  {
   "cell_type": "markdown",
   "metadata": {},
   "source": [
    "Only 12! If we exclude those, what is our new mean CER?"
   ]
  },
  {
   "cell_type": "code",
   "execution_count": 36,
   "metadata": {},
   "outputs": [
    {
     "name": "stdout",
     "output_type": "stream",
     "text": [
      "Mean CER : 0.415\n",
      "Mean CER if excluding values above 1: 0.346\n"
     ]
    }
   ],
   "source": [
    "res_small = res[res['CER']<1]\n",
    "round(res_small['CER'].mean(), 3), round(res[\"CER\"].mean(), 3)\n",
    "print(f\"Mean CER : {round(res['CER'].mean(), 3)}\")\n",
    "print(f\"Mean CER if excluding values above 1: {round(res_small['CER'].mean(), 3)}\")\n"
   ]
  },
  {
   "cell_type": "markdown",
   "metadata": {},
   "source": [
    "Let's summarize the number of columns for these results"
   ]
  },
  {
   "cell_type": "code",
   "execution_count": 49,
   "metadata": {},
   "outputs": [
    {
     "data": {
      "text/plain": [
       "num_lines\n",
       "1    3\n",
       "0    3\n",
       "2    3\n",
       "7    1\n",
       "3    1\n",
       "4    1\n",
       "Name: count, dtype: int64"
      ]
     },
     "execution_count": 49,
     "metadata": {},
     "output_type": "execute_result"
    }
   ],
   "source": [
    "res[res[\"CER\"] > 1][\"num_lines\"].value_counts()"
   ]
  },
  {
   "cell_type": "markdown",
   "metadata": {},
   "source": [
    "Actually the number of columns is not particularly high for these!"
   ]
  },
  {
   "cell_type": "markdown",
   "metadata": {},
   "source": [
    "What about the ones that have a higher CER among the ones below 1, maybe above 50%?"
   ]
  },
  {
   "cell_type": "code",
   "execution_count": 56,
   "metadata": {},
   "outputs": [
    {
     "data": {
      "text/html": [
       "<div>\n",
       "<style scoped>\n",
       "    .dataframe tbody tr th:only-of-type {\n",
       "        vertical-align: middle;\n",
       "    }\n",
       "\n",
       "    .dataframe tbody tr th {\n",
       "        vertical-align: top;\n",
       "    }\n",
       "\n",
       "    .dataframe thead th {\n",
       "        text-align: right;\n",
       "    }\n",
       "</style>\n",
       "<table border=\"1\" class=\"dataframe\">\n",
       "  <thead>\n",
       "    <tr style=\"text-align: right;\">\n",
       "      <th></th>\n",
       "      <th>ground_truth</th>\n",
       "      <th>num_lines</th>\n",
       "      <th>prediction</th>\n",
       "      <th>identifier</th>\n",
       "      <th>CER</th>\n",
       "    </tr>\n",
       "  </thead>\n",
       "  <tbody>\n",
       "    <tr>\n",
       "      <th>24</th>\n",
       "      <td>謝寶覌 呌</td>\n",
       "      <td>2</td>\n",
       "      <td>謝寶覌 呌</td>\n",
       "      <td>32_41_p008_r_20</td>\n",
       "      <td>0.000000</td>\n",
       "    </tr>\n",
       "    <tr>\n",
       "      <th>25</th>\n",
       "      <td>張賞覌</td>\n",
       "      <td>1</td>\n",
       "      <td>張賞覌</td>\n",
       "      <td>32_41_p008_r_13</td>\n",
       "      <td>0.000000</td>\n",
       "    </tr>\n",
       "    <tr>\n",
       "      <th>0</th>\n",
       "      <td>美色甘 呌</td>\n",
       "      <td>2</td>\n",
       "      <td>美色甘 呌</td>\n",
       "      <td>12_21_p001_r_31</td>\n",
       "      <td>0.000000</td>\n",
       "    </tr>\n",
       "    <tr>\n",
       "      <th>650</th>\n",
       "      <td>蔡玉振</td>\n",
       "      <td>1</td>\n",
       "      <td>蔡玉振</td>\n",
       "      <td>22_31_p003_r_33</td>\n",
       "      <td>0.000000</td>\n",
       "    </tr>\n",
       "    <tr>\n",
       "      <th>32</th>\n",
       "      <td>29</td>\n",
       "      <td>1</td>\n",
       "      <td>29</td>\n",
       "      <td>12_21_p004_r_21</td>\n",
       "      <td>0.000000</td>\n",
       "    </tr>\n",
       "    <tr>\n",
       "      <th>...</th>\n",
       "      <td>...</td>\n",
       "      <td>...</td>\n",
       "      <td>...</td>\n",
       "      <td>...</td>\n",
       "      <td>...</td>\n",
       "    </tr>\n",
       "    <tr>\n",
       "      <th>458</th>\n",
       "      <td>None</td>\n",
       "      <td>0</td>\n",
       "      <td>李寧義不到</td>\n",
       "      <td>12_21_p010_r_8</td>\n",
       "      <td>1.250000</td>\n",
       "    </tr>\n",
       "    <tr>\n",
       "      <th>388</th>\n",
       "      <td>64</td>\n",
       "      <td>1</td>\n",
       "      <td>Eugène</td>\n",
       "      <td>32_41_p002_r</td>\n",
       "      <td>3.000000</td>\n",
       "    </tr>\n",
       "    <tr>\n",
       "      <th>534</th>\n",
       "      <td>戊二月十九日和 年三月廿六日拜三</td>\n",
       "      <td>1</td>\n",
       "      <td>戊三月十九日和〡〧〨〧〧〧〧〧〧〧〧〧〧〧〧〧〧〧〧〧〧〧〧〧〧〧〧〧〧〧〧〧〧〧〧〧〧〧〧...</td>\n",
       "      <td>22_31_p002_r_110</td>\n",
       "      <td>3.875000</td>\n",
       "    </tr>\n",
       "    <tr>\n",
       "      <th>88</th>\n",
       "      <td>甲必丹大府中嘧喳嘮</td>\n",
       "      <td>1</td>\n",
       "      <td>甲必丹大府中 嚣 嚣 嚣 嚣 嚣 嚣 嚣 嚣 嚣 嚣 嚣 嚣 嚣 嚣 嚣 嚣 嚣 嚣 嚣 嚣...</td>\n",
       "      <td>01_11_p010_r_30</td>\n",
       "      <td>9.111111</td>\n",
       "    </tr>\n",
       "    <tr>\n",
       "      <th>165</th>\n",
       "      <td>None</td>\n",
       "      <td>0</td>\n",
       "      <td>傅德斯特哈德 德兰蒂克 由 omv. Batavia den 30ste September...</td>\n",
       "      <td>12_21_p006_r_12</td>\n",
       "      <td>16.750000</td>\n",
       "    </tr>\n",
       "  </tbody>\n",
       "</table>\n",
       "<p>661 rows × 5 columns</p>\n",
       "</div>"
      ],
      "text/plain": [
       "         ground_truth  num_lines  \\\n",
       "24              謝寶覌 呌          2   \n",
       "25                張賞覌          1   \n",
       "0               美色甘 呌          2   \n",
       "650               蔡玉振          1   \n",
       "32                 29          1   \n",
       "..                ...        ...   \n",
       "458              None          0   \n",
       "388                64          1   \n",
       "534  戊二月十九日和 年三月廿六日拜三          1   \n",
       "88          甲必丹大府中嘧喳嘮          1   \n",
       "165              None          0   \n",
       "\n",
       "                                            prediction        identifier  \\\n",
       "24                                               謝寶覌 呌   32_41_p008_r_20   \n",
       "25                                                 張賞覌   32_41_p008_r_13   \n",
       "0                                                美色甘 呌   12_21_p001_r_31   \n",
       "650                                                蔡玉振   22_31_p003_r_33   \n",
       "32                                                  29   12_21_p004_r_21   \n",
       "..                                                 ...               ...   \n",
       "458                                              李寧義不到    12_21_p010_r_8   \n",
       "388                                             Eugène      32_41_p002_r   \n",
       "534  戊三月十九日和〡〧〨〧〧〧〧〧〧〧〧〧〧〧〧〧〧〧〧〧〧〧〧〧〧〧〧〧〧〧〧〧〧〧〧〧〧〧〧...  22_31_p002_r_110   \n",
       "88   甲必丹大府中 嚣 嚣 嚣 嚣 嚣 嚣 嚣 嚣 嚣 嚣 嚣 嚣 嚣 嚣 嚣 嚣 嚣 嚣 嚣 嚣...   01_11_p010_r_30   \n",
       "165  傅德斯特哈德 德兰蒂克 由 omv. Batavia den 30ste September...   12_21_p006_r_12   \n",
       "\n",
       "           CER  \n",
       "24    0.000000  \n",
       "25    0.000000  \n",
       "0     0.000000  \n",
       "650   0.000000  \n",
       "32    0.000000  \n",
       "..         ...  \n",
       "458   1.250000  \n",
       "388   3.000000  \n",
       "534   3.875000  \n",
       "88    9.111111  \n",
       "165  16.750000  \n",
       "\n",
       "[661 rows x 5 columns]"
      ]
     },
     "execution_count": 56,
     "metadata": {},
     "output_type": "execute_result"
    }
   ],
   "source": [
    "# Sort the DataFrame by CER\n",
    "res_sorted = res.sort_values(by='CER')\n",
    "res_sorted\n"
   ]
  },
  {
   "cell_type": "markdown",
   "metadata": {},
   "source": [
    "remove high quantiles from res sorted"
   ]
  },
  {
   "cell_type": "code",
   "execution_count": 95,
   "metadata": {},
   "outputs": [],
   "source": [
    "res_clean = res_sorted[res_sorted[\"CER\"] <=\n",
    "res_sorted[\"CER\"].quantile(0.99)\n",
    "]"
   ]
  },
  {
   "cell_type": "code",
   "execution_count": 111,
   "metadata": {},
   "outputs": [
    {
     "data": {
      "text/plain": [
       "24      True\n",
       "25      True\n",
       "0       True\n",
       "650     True\n",
       "32      True\n",
       "       ...  \n",
       "558    False\n",
       "282    False\n",
       "218    False\n",
       "358    False\n",
       "193    False\n",
       "Name: CER, Length: 654, dtype: bool"
      ]
     },
     "execution_count": 111,
     "metadata": {},
     "output_type": "execute_result"
    }
   ],
   "source": [
    "res_clean['CER'] <= res_clean['CER'].quantile(quant)"
   ]
  },
  {
   "cell_type": "code",
   "execution_count": 114,
   "metadata": {},
   "outputs": [
    {
     "data": {
      "text/plain": [
       "24     False\n",
       "25     False\n",
       "0      False\n",
       "650    False\n",
       "32     False\n",
       "       ...  \n",
       "558    False\n",
       "282    False\n",
       "218    False\n",
       "358    False\n",
       "193    False\n",
       "Name: CER, Length: 654, dtype: bool"
      ]
     },
     "execution_count": 114,
     "metadata": {},
     "output_type": "execute_result"
    }
   ],
   "source": [
    "(res_clean['CER'] <= res_clean['CER'].quantile(quant)) & (res_clean['CER'] > res_clean['CER'].quantile(all_quants[i - 1]))"
   ]
  },
  {
   "cell_type": "code",
   "execution_count": 118,
   "metadata": {},
   "outputs": [
    {
     "data": {
      "text/plain": [
       "Text(0, 0.5, 'Frequency')"
      ]
     },
     "execution_count": 118,
     "metadata": {},
     "output_type": "execute_result"
    },
    {
     "data": {
      "image/png": "[encoded data removed]",
      "text/plain": [
       "<Figure size 1000x600 with 1 Axes>"
      ]
     },
     "metadata": {},
     "output_type": "display_data"
    }
   ],
   "source": [
    "\n",
    "colors = plt.cm.tab10.colors\n",
    "colors = ['blue', 'green', 'red'] \n",
    "plt.figure(figsize=(10, 6))\n",
    "\n",
    "bar_width = 0.2  # Width of each bar\n",
    "offsets = np.arange(len([0.1, 0.3, 0.5])) * bar_width  # Calculate offsets for each quantile\n",
    "\n",
    "for i, quant in enumerate([0.25, 0.5, 0.75]):\n",
    "    all_quants = [0.25, 0.5, 0.75]\n",
    "    # Calculate quantiles\n",
    "    if i == 0:\n",
    "        cutoff_index = res_clean['CER'] <= res_clean['CER'].quantile(quant)\n",
    "    else:\n",
    "        cutoff_index = (res_clean['CER'] <= res_clean['CER'].quantile(quant)) & (res_clean['CER'] > res_clean['CER'].quantile(all_quants[i - 1]))\n",
    "    tmp = res_clean[cutoff_index][\"num_lines\"].value_counts()\n",
    "    #print(f\"# of column lines for the top {quant}% quantile {tmp}\")\n",
    "    plt.bar(tmp.index + offsets[i], tmp.values, width=bar_width, color=colors[i], alpha=0.7, label=f'Top {quant*100}%')\n",
    "\n",
    "plt.legend()\n",
    "plt.xticks(np.arange(0, 11))\n",
    "plt.xlabel('Number of Lines')\n",
    "plt.ylabel('Frequency')"
   ]
  },
  {
   "cell_type": "markdown",
   "metadata": {},
   "source": [
    "repeat other way round: show the CER for the res with 1 "
   ]
  },
  {
   "cell_type": "code",
   "execution_count": 201,
   "metadata": {},
   "outputs": [
    {
     "name": "stderr",
     "output_type": "stream",
     "text": [
      "/tmp/ipykernel_256373/1935528423.py:3: MatplotlibDeprecationWarning: The get_cmap function was deprecated in Matplotlib 3.7 and will be removed in 3.11. Use ``matplotlib.colormaps[name]`` or ``matplotlib.colormaps.get_cmap()`` or ``pyplot.get_cmap()`` instead.\n",
      "  cmap = plt.cm.get_cmap('RdYlGn_r', max_num_line)\n"
     ]
    },
    {
     "data": {
      "text/plain": [
       "Text(0.5, 1.0, 'Distribution of Character Error Rate (CER) by Number of Text Lines')"
      ]
     },
     "execution_count": 201,
     "metadata": {},
     "output_type": "execute_result"
    },
    {
     "data": {
      "image/png": "[encoded data removed]",
      "text/plain": [
       "<Figure size 1000x600 with 1 Axes>"
      ]
     },
     "metadata": {},
     "output_type": "display_data"
    },
    {
     "ename": "",
     "evalue": "",
     "output_type": "error",
     "traceback": [
      "\u001b[1;31mThe Kernel crashed while executing code in the current cell or a previous cell. \n",
      "\u001b[1;31mPlease review the code in the cell(s) to identify a possible cause of the failure. \n",
      "\u001b[1;31mClick <a href='https://aka.ms/vscodeJupyterKernelCrash'>here</a> for more info. \n",
      "\u001b[1;31mView Jupyter <a href='command:jupyter.viewOutput'>log</a> for further details."
     ]
    }
   ],
   "source": [
    "plt.figure(figsize=(10, 6))\n",
    "max_num_line = 6\n",
    "cmap = plt.cm.get_cmap('RdYlGn_r', max_num_line) \n",
    "#seismic #coolwarm #RdBu\n",
    "colors = [cmap(i) for i in range(cmap.N)]\n",
    "\n",
    "#for i, num_line in enumerate(range(1, 3)):\n",
    "for num_line in range(1, max_num_line):\n",
    "    tmp = res_clean[res_clean['num_lines'] == num_line][\"CER\"]\n",
    "    \n",
    "    plt.hist(tmp, bins = 7,color=colors[num_line], alpha = 0.8, label=f'CER for {num_line} column lines')\n",
    "    \n",
    "plt.legend()\n",
    "plt.xlabel(\"Character Error Rate (CER)\")\n",
    "plt.ylabel(\"Frequency\")\n",
    "plt.title(\"Distribution of Character Error Rate (CER) by Number of Text Lines\")\n",
    "\n"
   ]
  },
  {
   "cell_type": "code",
   "execution_count": 62,
   "metadata": {},
   "outputs": [
    {
     "data": {
      "image/png": "[encoded data removed]",
      "text/plain": [
       "<Figure size 1000x600 with 1 Axes>"
      ]
     },
     "metadata": {},
     "output_type": "display_data"
    },
    {
     "name": "stdout",
     "output_type": "stream",
     "text": [
      "Total samples: 661\n",
      "Mean lines: 2.72\n",
      "Median lines: 2.0\n",
      "Std lines: 2.93\n",
      "Min lines: 0\n",
      "Max lines: 28\n"
     ]
    }
   ],
   "source": [
    "# Plot histogram of text lines\n",
    "import matplotlib.pyplot as plt\n",
    "import numpy as np\n",
    "\n",
    "# Extract num_lines values from the results\n",
    "num_lines_values = res['num_lines'].values\n",
    "\n",
    "# Create histogram\n",
    "plt.figure(figsize=(10, 6))\n",
    "plt.hist(num_lines_values, bins=range(min(num_lines_values), max(num_lines_values) + 2, 1), \n",
    "         edgecolor='black', alpha=0.7, align='left')\n",
    "plt.xlabel('Number of Text Lines')\n",
    "plt.ylabel('Frequency')\n",
    "plt.title('Distribution of Number of Text Lines per Image')\n",
    "plt.grid(True, alpha=0.3)\n",
    "\n",
    "# Add some statistics\n",
    "mean_lines = np.mean(num_lines_values)\n",
    "median_lines = np.median(num_lines_values)\n",
    "plt.axvline(mean_lines, color='red', linestyle='--', label=f'Mean: {mean_lines:.1f}')\n",
    "plt.axvline(median_lines, color='green', linestyle='--', label=f'Median: {median_lines:.1f}')\n",
    "plt.legend()\n",
    "\n",
    "plt.tight_layout()\n",
    "plt.show()\n"
   ]
  },
  {
   "cell_type": "code",
   "execution_count": 73,
   "metadata": {},
   "outputs": [
    {
     "data": {
      "text/html": [
       "<div>\n",
       "<style scoped>\n",
       "    .dataframe tbody tr th:only-of-type {\n",
       "        vertical-align: middle;\n",
       "    }\n",
       "\n",
       "    .dataframe tbody tr th {\n",
       "        vertical-align: top;\n",
       "    }\n",
       "\n",
       "    .dataframe thead th {\n",
       "        text-align: right;\n",
       "    }\n",
       "</style>\n",
       "<table border=\"1\" class=\"dataframe\">\n",
       "  <thead>\n",
       "    <tr style=\"text-align: right;\">\n",
       "      <th></th>\n",
       "      <th>ground_truth</th>\n",
       "      <th>num_lines</th>\n",
       "      <th>prediction</th>\n",
       "      <th>identifier</th>\n",
       "      <th>CER</th>\n",
       "    </tr>\n",
       "  </thead>\n",
       "  <tbody>\n",
       "    <tr>\n",
       "      <th>1</th>\n",
       "      <td>王甲 唐甲 當事</td>\n",
       "      <td>3</td>\n",
       "      <td>唐甲 王甲 補事</td>\n",
       "      <td>12_21_p001_r_40</td>\n",
       "      <td>0.375</td>\n",
       "    </tr>\n",
       "  </tbody>\n",
       "</table>\n",
       "</div>"
      ],
      "text/plain": [
       "  ground_truth  num_lines prediction       identifier    CER\n",
       "1     王甲 唐甲 當事          3   唐甲 王甲 補事  12_21_p001_r_40  0.375"
      ]
     },
     "execution_count": 73,
     "metadata": {},
     "output_type": "execute_result"
    }
   ],
   "source": [
    "res[res[\"num_lines\"]==3][0:1]\n"
   ]
  },
  {
   "cell_type": "code",
   "execution_count": 86,
   "metadata": {},
   "outputs": [
    {
     "data": {
      "text/plain": [
       "2"
      ]
     },
     "execution_count": 86,
     "metadata": {},
     "output_type": "execute_result"
    }
   ],
   "source": [
    "text = res[res[\"identifier\"] == \"12_21_p001_r_40\"][\"ground_truth\"].iloc[0]\n",
    "text.count(' ')"
   ]
  },
  {
   "cell_type": "code",
   "execution_count": 87,
   "metadata": {},
   "outputs": [
    {
     "data": {
      "text/plain": [
       "2"
      ]
     },
     "execution_count": 87,
     "metadata": {},
     "output_type": "execute_result"
    }
   ],
   "source": [
    "text = res[res[\"identifier\"] == \"12_21_p001_r_40\"][\"prediction\"].iloc[0]\n",
    "text.count(' ')"
   ]
  },
  {
   "cell_type": "code",
   "execution_count": 58,
   "metadata": {},
   "outputs": [
    {
     "data": {
      "text/html": [
       "\n",
       "        <div style=\"font-size: 16px; font-family: Arial, sans-serif;\">\n",
       "            <p><b>ID:</b> 12_21_p001_r_31</p>\n",
       "            <p><b>Ground Truth:</b> <span>美</span><span>色</span><span>甘</span><span style=\"background-color:skyblue\"> </span><span>呌</span></p>\n",
       "            <p><b>Prediction:</b> <span>美</span><span>色</span><span>甘</span><span>呌</span></p>\n",
       "            <hr>\n",
       "        </div>\n",
       "        "
      ],
      "text/plain": [
       "<IPython.core.display.HTML object>"
      ]
     },
     "metadata": {},
     "output_type": "display_data"
    },
    {
     "data": {
      "text/html": [
       "\n",
       "        <div style=\"font-size: 16px; font-family: Arial, sans-serif;\">\n",
       "            <p><b>ID:</b> 12_21_p001_r_40</p>\n",
       "            <p><b>Ground Truth:</b> <span>王</span><span>甲</span><span> </span><span style=\"background-color:skyblue\">唐</span><span style=\"background-color:skyblue\">甲</span><span style=\"background-color:skyblue\"> </span><span style=\"background-color:skyblue\">當</span><span>事</span></p>\n",
       "            <p><b>Prediction:</b> <span style=\"background-color:skyblue\">唐</span><span style=\"background-color:skyblue\">甲</span><span style=\"background-color:skyblue\"> </span><span>王</span><span>甲</span><span> </span><span style=\"background-color:skyblue\">補</span><span>事</span></p>\n",
       "            <hr>\n",
       "        </div>\n",
       "        "
      ],
      "text/plain": [
       "<IPython.core.display.HTML object>"
      ]
     },
     "metadata": {},
     "output_type": "display_data"
    }
   ],
   "source": [
    "display_results(res, num_examples= 2)"
   ]
  },
  {
   "cell_type": "markdown",
   "metadata": {},
   "source": [
    "Fix whitespaces?"
   ]
  },
  {
   "cell_type": "code",
   "execution_count": 52,
   "metadata": {},
   "outputs": [
    {
     "data": {
      "text/html": [
       "<div>\n",
       "<style scoped>\n",
       "    .dataframe tbody tr th:only-of-type {\n",
       "        vertical-align: middle;\n",
       "    }\n",
       "\n",
       "    .dataframe tbody tr th {\n",
       "        vertical-align: top;\n",
       "    }\n",
       "\n",
       "    .dataframe thead th {\n",
       "        text-align: right;\n",
       "    }\n",
       "</style>\n",
       "<table border=\"1\" class=\"dataframe\">\n",
       "  <thead>\n",
       "    <tr style=\"text-align: right;\">\n",
       "      <th></th>\n",
       "      <th>ground_truth</th>\n",
       "      <th>num_lines</th>\n",
       "      <th>prediction</th>\n",
       "      <th>identifier</th>\n",
       "      <th>CER</th>\n",
       "    </tr>\n",
       "  </thead>\n",
       "  <tbody>\n",
       "    <tr>\n",
       "      <th>0</th>\n",
       "      <td>美色甘 呌</td>\n",
       "      <td>2</td>\n",
       "      <td>美色甘呌</td>\n",
       "      <td>12_21_p001_r_31</td>\n",
       "      <td>0.200</td>\n",
       "    </tr>\n",
       "    <tr>\n",
       "      <th>1</th>\n",
       "      <td>王甲 唐甲 當事</td>\n",
       "      <td>3</td>\n",
       "      <td>唐甲 王甲 補事</td>\n",
       "      <td>12_21_p001_r_40</td>\n",
       "      <td>0.375</td>\n",
       "    </tr>\n",
       "  </tbody>\n",
       "</table>\n",
       "</div>"
      ],
      "text/plain": [
       "  ground_truth  num_lines prediction       identifier    CER\n",
       "0        美色甘 呌          2       美色甘呌  12_21_p001_r_31  0.200\n",
       "1     王甲 唐甲 當事          3   唐甲 王甲 補事  12_21_p001_r_40  0.375"
      ]
     },
     "execution_count": 52,
     "metadata": {},
     "output_type": "execute_result"
    }
   ],
   "source": [
    "res[0:2]"
   ]
  },
  {
   "cell_type": "code",
   "execution_count": 1,
   "metadata": {},
   "outputs": [
    {
     "ename": "NameError",
     "evalue": "name 'res' is not defined",
     "output_type": "error",
     "traceback": [
      "\u001b[0;31m---------------------------------------------------------------------------\u001b[0m",
      "\u001b[0;31mNameError\u001b[0m                                 Traceback (most recent call last)",
      "Cell \u001b[0;32mIn[1], line 1\u001b[0m\n\u001b[0;32m----> 1\u001b[0m \u001b[43mres\u001b[49m\n",
      "\u001b[0;31mNameError\u001b[0m: name 'res' is not defined"
     ]
    }
   ],
   "source": [
    "res"
   ]
  },
  {
   "cell_type": "code",
   "execution_count": 46,
   "metadata": {},
   "outputs": [
    {
     "data": {
      "text/plain": [
       "(300, 5)"
      ]
     },
     "execution_count": 46,
     "metadata": {},
     "output_type": "execute_result"
    }
   ],
   "source": [
    "type(res)\n",
    "res.shape"
   ]
  },
  {
   "cell_type": "code",
   "execution_count": 61,
   "metadata": {},
   "outputs": [
    {
     "data": {
      "image/png": "[encoded data removed]",
      "text/plain": [
       "<Figure size 1200x600 with 1 Axes>"
      ]
     },
     "metadata": {},
     "output_type": "display_data"
    }
   ],
   "source": [
    "# Box plot with grouped bins\n",
    "# plt.figure(figsize=(12, 6))\n",
    "\n",
    "# # Create bins for num_lines: 0 stays separate, others grouped by 3\n",
    "# res_binned = res.copy()\n",
    "# res_binned['num_lines_binned'] = res_binned['num_lines'].apply(\n",
    "#     lambda x: 0 if x == 0 else f\"{(x-1)//2*2+1}-{((x-1)//2+1)*2}\"\n",
    "# )\n",
    "\n",
    "# # Create box plot with binned data\n",
    "# sns.boxplot(x='num_lines_binned', y='CER', data=res_binned)\n",
    "# plt.title('Box Plot of CER by Number of Text Lines (Grouped)')\n",
    "# plt.xlabel('Number of Text Lines (Grouped)')\n",
    "# plt.ylabel('Character Error Rate (CER)')\n",
    "# plt.xticks(rotation=45)\n",
    "# Filter out rows where num_lines is 0\n",
    "res_filtered = res[res['num_lines'] != 0]\n",
    "\n",
    "# Box plot with grouped bins (excluding 0)\n",
    "plt.figure(figsize=(12, 6))\n",
    "\n",
    "# Create bins for num_lines: group by 3\n",
    "res_binned = res_filtered.copy()\n",
    "res_binned['num_lines_binned'] = res_binned['num_lines'].apply(\n",
    "    lambda x: f\"{(x-1)//2*2+1}-{((x-1)//2+1)*2}\"\n",
    ")\n",
    "\n",
    "# Create box plot with binned data\n",
    "sns.boxplot(x='num_lines_binned', y='CER', data=res_binned)\n",
    "plt.title('Box Plot of CER by Number of Text Lines (Grouped, Excluding 0)')\n",
    "plt.xlabel('Number of Text Lines (Grouped)')\n",
    "plt.ylabel('Character Error Rate (CER)')\n",
    "plt.xticks(rotation=45)\n",
    "plt.show()"
   ]
  },
  {
   "cell_type": "code",
   "execution_count": 88,
   "metadata": {},
   "outputs": [
    {
     "data": {
      "image/png": "[encoded data removed]",
      "text/plain": [
       "<Figure size 1000x600 with 1 Axes>"
      ]
     },
     "metadata": {},
     "output_type": "display_data"
    }
   ],
   "source": [
    "import matplotlib.pyplot as plt\n",
    "import seaborn as sns\n",
    "import pandas as pd\n",
    "\n",
    "# Sample data\n",
    "df = res\n",
    "# Scatter plot with trend line\n",
    "plt.figure(figsize=(10, 6))\n",
    "sns.scatterplot(x='num_lines', y='CER', data=df, color='blue', label='Data Points')\n",
    "sns.regplot(x='num_lines', y='CER', data=df, scatter=False, color='red', label='Trend Line')\n",
    "plt.title('Scatter Plot of CER vs. Number of Text Lines')\n",
    "plt.xlabel('Number of Text Lines')\n",
    "plt.ylabel('Character Error Rate (CER)')\n",
    "plt.legend()\n",
    "plt.show()"
   ]
  },
  {
   "cell_type": "code",
   "execution_count": 89,
   "metadata": {},
   "outputs": [
    {
     "name": "stdout",
     "output_type": "stream",
     "text": [
      "Top 10 CER Analysis:\n",
      "Most common symbols: [(' ', 223), ('覌', 120), ('呌', 114), ('陳', 62), ('甲', 55), ('不', 46), ('日', 43), ('到', 41), ('月', 35), ('二', 32)]\n",
      "Prediction lengths: count    330.000000\n",
      "mean       8.675758\n",
      "std       16.082075\n",
      "min        1.000000\n",
      "25%        3.000000\n",
      "50%        5.000000\n",
      "75%        8.000000\n",
      "max      126.000000\n",
      "Name: prediction, dtype: float64\n",
      "\n",
      "Bottom 10 CER Analysis:\n",
      "Most common symbols: [(' ', 951), ('錢', 282), ('文', 264), ('不', 218), ('拾', 207), ('有', 190), ('陳', 164), ('供', 163), ('壹', 151), ('一', 148)]\n",
      "Prediction lengths: count    324.00000\n",
      "mean      38.87963\n",
      "std       42.58193\n",
      "min        1.00000\n",
      "25%        5.00000\n",
      "50%       17.00000\n",
      "75%       68.00000\n",
      "max      139.00000\n",
      "Name: prediction, dtype: float64\n"
     ]
    }
   ],
   "source": [
    "import pandas as pd\n",
    "from collections import Counter\n",
    "\n",
    "half_sample_size = round(res.shape[0] / 2)\n",
    "\n",
    "# Function to analyze the DataFrame for highest and lowest CER values\n",
    "#def analyze_cer(res):\n",
    "    # Sort by CER\n",
    "sorted_df = res.sort_values(by='CER', ascending=False)\n",
    "# Get top 10 and bottom 10 entries\n",
    "top_10 = sorted_df.tail(half_sample_size).dropna()\n",
    "bottom_10 = sorted_df.head(half_sample_size).dropna()\n",
    "\n",
    "# Analyze Chinese symbols in top and bottom 10\n",
    "top_symbols = Counter(''.join(top_10['ground_truth']))\n",
    "bottom_symbols = Counter(''.join(bottom_10['ground_truth']))\n",
    "# Get most common symbols\n",
    "top_common_symbols = top_symbols.most_common(10)\n",
    "bottom_common_symbols = bottom_symbols.most_common(10)\n",
    "\n",
    "\n",
    "# Analyze prediction lengths\n",
    "top_lengths = top_10['prediction'].apply(len)\n",
    "bottom_lengths = bottom_10['prediction'].apply(len)\n",
    "\n",
    "# Print analysis\n",
    "print(\"Top 10 CER Analysis:\")\n",
    "print(\"Most common symbols:\", top_common_symbols)\n",
    "print(\"Prediction lengths:\", top_lengths.describe())\n",
    "\n",
    "print(\"\\nBottom 10 CER Analysis:\")\n",
    "print(\"Most common symbols:\", bottom_common_symbols)\n",
    "print(\"Prediction lengths:\", bottom_lengths.describe())\n",
    "\n",
    "# Additional analysis suggestions\n",
    "# - Compare CER with prediction length\n",
    "# - Visualize CER distribution\n",
    "# - Analyze correlation between CER and specific symbols\n"
   ]
  },
  {
   "cell_type": "code",
   "execution_count": 97,
   "metadata": {},
   "outputs": [],
   "source": [
    "# Filter for single column text regions\n",
    "single_column_res = res[res['num_lines'] == 1].copy()\n",
    "# Remove any rows with NaN values\n",
    "single_column_res = single_column_res.dropna()\n",
    "# Remove rows with None values in any column\n",
    "single_column_res = single_column_res.dropna()\n",
    "\n",
    "# Also remove rows where ground_truth or prediction is None specifically\n",
    "single_column_res = single_column_res[\n",
    "    (single_column_res['ground_truth'].notna()) & \n",
    "    (single_column_res['prediction'].notna())\n",
    "]\n",
    "\n",
    "# Convert to string type to ensure no None values remain\n",
    "single_column_res['ground_truth'] = single_column_res['ground_truth'].astype(str)\n",
    "single_column_res['prediction'] = single_column_res['prediction'].astype(str)\n",
    "\n",
    "\n",
    "# Analyze which Chinese characters are most commonly predicted incorrectly\n",
    "def analyze_character_errors(ground_truth, prediction):\n",
    "    \"\"\"Analyze character-level errors between ground truth and prediction\"\"\"\n",
    "    errors = []\n",
    "    gt_chars = list(ground_truth)\n",
    "    pred_chars = list(prediction)\n",
    "    \n",
    "    # Use difflib to find differences\n",
    "    d = difflib.Differ()\n",
    "    diff = list(d.compare(gt_chars, pred_chars))\n",
    "    \n",
    "    for i, s in enumerate(diff):\n",
    "        if s.startswith('- '):  # Character in ground truth but not in prediction\n",
    "            errors.append(('deleted', s[2:]))\n",
    "        elif s.startswith('+ '):  # Character in prediction but not in ground truth\n",
    "            errors.append(('inserted', s[2:]))\n",
    "    \n",
    "    return errors\n"
   ]
  },
  {
   "cell_type": "code",
   "execution_count": 98,
   "metadata": {},
   "outputs": [
    {
     "data": {
      "text/html": [
       "<div>\n",
       "<style scoped>\n",
       "    .dataframe tbody tr th:only-of-type {\n",
       "        vertical-align: middle;\n",
       "    }\n",
       "\n",
       "    .dataframe tbody tr th {\n",
       "        vertical-align: top;\n",
       "    }\n",
       "\n",
       "    .dataframe thead th {\n",
       "        text-align: right;\n",
       "    }\n",
       "</style>\n",
       "<table border=\"1\" class=\"dataframe\">\n",
       "  <thead>\n",
       "    <tr style=\"text-align: right;\">\n",
       "      <th></th>\n",
       "      <th>ground_truth</th>\n",
       "      <th>num_lines</th>\n",
       "      <th>prediction</th>\n",
       "      <th>identifier</th>\n",
       "      <th>CER</th>\n",
       "    </tr>\n",
       "  </thead>\n",
       "  <tbody>\n",
       "    <tr>\n",
       "      <th>2</th>\n",
       "      <td>23</td>\n",
       "      <td>1</td>\n",
       "      <td>志</td>\n",
       "      <td>12_21_p001_r_2</td>\n",
       "      <td>1.000000</td>\n",
       "    </tr>\n",
       "    <tr>\n",
       "      <th>4</th>\n",
       "      <td>髙桃覌</td>\n",
       "      <td>1</td>\n",
       "      <td>高桃覌</td>\n",
       "      <td>12_21_p001_r_16</td>\n",
       "      <td>0.333333</td>\n",
       "    </tr>\n",
       "    <tr>\n",
       "      <th>8</th>\n",
       "      <td>王祖覌</td>\n",
       "      <td>1</td>\n",
       "      <td>王祖覌</td>\n",
       "      <td>12_21_p001_r_1416</td>\n",
       "      <td>0.000000</td>\n",
       "    </tr>\n",
       "    <tr>\n",
       "      <th>10</th>\n",
       "      <td>22</td>\n",
       "      <td>1</td>\n",
       "      <td>22</td>\n",
       "      <td>12_21_p001_r</td>\n",
       "      <td>0.000000</td>\n",
       "    </tr>\n",
       "    <tr>\n",
       "      <th>12</th>\n",
       "      <td>76</td>\n",
       "      <td>1</td>\n",
       "      <td>76</td>\n",
       "      <td>32_41_p008_r</td>\n",
       "      <td>0.000000</td>\n",
       "    </tr>\n",
       "    <tr>\n",
       "      <th>...</th>\n",
       "      <td>...</td>\n",
       "      <td>...</td>\n",
       "      <td>...</td>\n",
       "      <td>...</td>\n",
       "      <td>...</td>\n",
       "    </tr>\n",
       "    <tr>\n",
       "      <th>647</th>\n",
       "      <td>陳鵠覌呌</td>\n",
       "      <td>1</td>\n",
       "      <td>陳鵲覌呌</td>\n",
       "      <td>22_31_p003_r_32</td>\n",
       "      <td>0.250000</td>\n",
       "    </tr>\n",
       "    <tr>\n",
       "      <th>648</th>\n",
       "      <td>黃會覌呌</td>\n",
       "      <td>1</td>\n",
       "      <td>黄會覌呌</td>\n",
       "      <td>22_31_p003_r_30</td>\n",
       "      <td>0.250000</td>\n",
       "    </tr>\n",
       "    <tr>\n",
       "      <th>650</th>\n",
       "      <td>蔡玉振</td>\n",
       "      <td>1</td>\n",
       "      <td>蔡玉振</td>\n",
       "      <td>22_31_p003_r_33</td>\n",
       "      <td>0.000000</td>\n",
       "    </tr>\n",
       "    <tr>\n",
       "      <th>655</th>\n",
       "      <td>戊二月廿六日和〡〧〨〨年四月初二日拜三</td>\n",
       "      <td>1</td>\n",
       "      <td>戊二年六月廿六日和〡〧〨〧年四月初二日拜三</td>\n",
       "      <td>22_31_p003_r_29</td>\n",
       "      <td>0.157895</td>\n",
       "    </tr>\n",
       "    <tr>\n",
       "      <th>658</th>\n",
       "      <td>蔡玉振</td>\n",
       "      <td>1</td>\n",
       "      <td>蔡王振</td>\n",
       "      <td>22_31_p003_r_8</td>\n",
       "      <td>0.333333</td>\n",
       "    </tr>\n",
       "  </tbody>\n",
       "</table>\n",
       "<p>264 rows × 5 columns</p>\n",
       "</div>"
      ],
      "text/plain": [
       "            ground_truth  num_lines             prediction         identifier  \\\n",
       "2                     23          1                      志     12_21_p001_r_2   \n",
       "4                    髙桃覌          1                    高桃覌    12_21_p001_r_16   \n",
       "8                    王祖覌          1                    王祖覌  12_21_p001_r_1416   \n",
       "10                    22          1                     22       12_21_p001_r   \n",
       "12                    76          1                     76       32_41_p008_r   \n",
       "..                   ...        ...                    ...                ...   \n",
       "647                 陳鵠覌呌          1                   陳鵲覌呌    22_31_p003_r_32   \n",
       "648                 黃會覌呌          1                   黄會覌呌    22_31_p003_r_30   \n",
       "650                  蔡玉振          1                    蔡玉振    22_31_p003_r_33   \n",
       "655  戊二月廿六日和〡〧〨〨年四月初二日拜三          1  戊二年六月廿六日和〡〧〨〧年四月初二日拜三    22_31_p003_r_29   \n",
       "658                  蔡玉振          1                    蔡王振     22_31_p003_r_8   \n",
       "\n",
       "          CER  \n",
       "2    1.000000  \n",
       "4    0.333333  \n",
       "8    0.000000  \n",
       "10   0.000000  \n",
       "12   0.000000  \n",
       "..        ...  \n",
       "647  0.250000  \n",
       "648  0.250000  \n",
       "650  0.000000  \n",
       "655  0.157895  \n",
       "658  0.333333  \n",
       "\n",
       "[264 rows x 5 columns]"
      ]
     },
     "execution_count": 98,
     "metadata": {},
     "output_type": "execute_result"
    }
   ],
   "source": [
    "single_column_res"
   ]
  },
  {
   "cell_type": "code",
   "execution_count": null,
   "metadata": {},
   "outputs": [],
   "source": [
    "\n",
    "# Analyze all errors in the dataset\n",
    "all_errors = []\n",
    "for _, row in single_column_res.iterrows():\n",
    "    errors = analyze_character_errors(row['ground_truth'], row['prediction'])\n",
    "    all_errors.extend(errors)\n"
   ]
  },
  {
   "cell_type": "code",
   "execution_count": 102,
   "metadata": {},
   "outputs": [
    {
     "name": "stdout",
     "output_type": "stream",
     "text": [
      "Most commonly deleted characters:\n",
      "'〨': 13 times\n",
      "'〧': 8 times\n",
      "'拜': 7 times\n",
      "'黃': 6 times\n",
      "'初': 6 times\n",
      "'〡': 6 times\n",
      "'3': 5 times\n",
      "'年': 5 times\n",
      "'囬': 5 times\n",
      "' ': 5 times\n",
      "\n",
      "Most commonly inserted characters:\n",
      "' ': 45 times\n",
      "'〧': 7 times\n",
      "'寕': 6 times\n",
      "'黄': 6 times\n",
      "'覌': 5 times\n",
      "'的': 4 times\n",
      "'5': 4 times\n",
      "'2': 4 times\n",
      "'金': 3 times\n",
      "'回': 3 times\n",
      "\n",
      "Total character errors: 546\n",
      "Total deletions: 254\n",
      "Total insertions: 292\n",
      "\n",
      "Top 20 most common character errors:\n",
      "    error_type character  count\n",
      "139   inserted               45\n",
      "15     deleted         〨     13\n",
      "14     deleted         〧      8\n",
      "159   inserted         〧      7\n",
      "78     deleted         拜      7\n",
      "136    deleted         黃      6\n",
      "211   inserted         寕      6\n",
      "34     deleted         初      6\n",
      "315   inserted         黄      6\n",
      "12     deleted         〡      6\n",
      "281   inserted         覌      5\n",
      "5      deleted         3      5\n",
      "69     deleted         年      5\n",
      "54     deleted         囬      5\n",
      "0      deleted                5\n",
      "76     deleted         愿      4\n",
      "82     deleted         日      4\n",
      "65     deleted         寧      4\n",
      "264   inserted         的      4\n",
      "143   inserted         5      4\n"
     ]
    }
   ],
   "source": [
    "\n",
    "# Count error types\n",
    "error_counts = Counter([error[1] for error in all_errors])\n",
    "deletion_counts = Counter([error[1] for error in all_errors if error[0] == 'deleted'])\n",
    "insertion_counts = Counter([error[1] for error in all_errors if error[0] == 'inserted'])\n",
    "\n",
    "print(\"Most commonly deleted characters:\")\n",
    "for char, count in deletion_counts.most_common(10):\n",
    "    print(f\"'{char}': {count} times\")\n",
    "\n",
    "print(\"\\nMost commonly inserted characters:\")\n",
    "for char, count in insertion_counts.most_common(10):\n",
    "    print(f\"'{char}': {count} times\")\n",
    "\n",
    "print(f\"\\nTotal character errors: {len(all_errors)}\")\n",
    "print(f\"Total deletions: {len([e for e in all_errors if e[0] == 'deleted'])}\")\n",
    "print(f\"Total insertions: {len([e for e in all_errors if e[0] == 'inserted'])}\")\n",
    "\n",
    "# Create a DataFrame for better analysis\n",
    "error_df = pd.DataFrame(all_errors, columns=['error_type', 'character'])\n",
    "error_summary = error_df.groupby(['error_type', 'character']).size().reset_index(name='count')\n",
    "error_summary = error_summary.sort_values('count', ascending=False)\n",
    "\n",
    "print(\"\\nTop 20 most common character errors:\")\n",
    "print(error_summary.head(20))\n"
   ]
  },
  {
   "cell_type": "markdown",
   "metadata": {},
   "source": [
    "\n",
    "\n",
    "\n",
    "\n",
    "\n",
    "\n",
    "\n",
    "\n",
    "\n",
    "\n",
    "\n",
    "\n",
    "\n",
    "\n",
    "\n",
    "\n",
    "\n",
    "\n",
    "\n",
    "\n",
    "\n",
    "\n",
    "\n",
    "\n",
    "\n",
    "\n",
    "\n",
    "\n",
    "\n",
    "\n",
    "\n",
    "\n",
    "\n",
    "\n"
   ]
  },
  {
   "cell_type": "code",
   "execution_count": 26,
   "metadata": {},
   "outputs": [
    {
     "data": {
      "text/plain": [
       "ground_truth    陳德蘭供谓李寕二前去山枋壁磚灰鉄对除外尚 長去銭叁拾四文弍犮五方屡讨不还李寕二供谓欠 德蘭之...\n",
       "prediction      德蘭 之子 有之 呌若 之 多 列 呌谕 二 比在外 会 算 长古自叁拾四文 武文 五方 属...\n",
       "identifier                                    32_41_0001_p001_r_6\n",
       "CER                                                      1.063492\n",
       "Name: 5, dtype: object"
      ]
     },
     "execution_count": 26,
     "metadata": {},
     "output_type": "execute_result"
    }
   ],
   "source": [
    "cases_with_spaces = bottom_10[bottom_10['ground_truth'].str.contains(' ')]\n",
    "                               #|bottom_10['prediction'].str.contains(' ')]\n",
    "    \n",
    "# Extract two cases\n",
    "cases_with_spaces.iloc[1, ]\n"
   ]
  },
  {
   "cell_type": "code",
   "execution_count": 39,
   "metadata": {},
   "outputs": [
    {
     "data": {
      "text/html": [
       "<div>\n",
       "<style scoped>\n",
       "    .dataframe tbody tr th:only-of-type {\n",
       "        vertical-align: middle;\n",
       "    }\n",
       "\n",
       "    .dataframe tbody tr th {\n",
       "        vertical-align: top;\n",
       "    }\n",
       "\n",
       "    .dataframe thead th {\n",
       "        text-align: right;\n",
       "    }\n",
       "</style>\n",
       "<table border=\"1\" class=\"dataframe\">\n",
       "  <thead>\n",
       "    <tr style=\"text-align: right;\">\n",
       "      <th></th>\n",
       "      <th>ground_truth</th>\n",
       "      <th>prediction</th>\n",
       "      <th>identifier</th>\n",
       "      <th>CER</th>\n",
       "    </tr>\n",
       "  </thead>\n",
       "  <tbody>\n",
       "    <tr>\n",
       "      <th>46</th>\n",
       "      <td>削視 人 鄭顧覌 張玉郎</td>\n",
       "      <td>削人鄭顧覌 視張玉郎</td>\n",
       "      <td>12_21_0009_p009_r_12</td>\n",
       "      <td>0.333333</td>\n",
       "    </tr>\n",
       "    <tr>\n",
       "      <th>36</th>\n",
       "      <td>吳度覌</td>\n",
       "      <td>吳慶覌</td>\n",
       "      <td>01_11_0008_p008_r_25</td>\n",
       "      <td>0.333333</td>\n",
       "    </tr>\n",
       "    <tr>\n",
       "      <th>97</th>\n",
       "      <td>削視 人 黄百合 張宙覌</td>\n",
       "      <td>削人黄百合 視張宙覌</td>\n",
       "      <td>32_41_0009_p009_r_8</td>\n",
       "      <td>0.333333</td>\n",
       "    </tr>\n",
       "    <tr>\n",
       "      <th>124</th>\n",
       "      <td>鄭春覌 二期 不到</td>\n",
       "      <td>鄭春覌 不到</td>\n",
       "      <td>12_21_0005_p005_r_15</td>\n",
       "      <td>0.333333</td>\n",
       "    </tr>\n",
       "    <tr>\n",
       "      <th>114</th>\n",
       "      <td>李寧二</td>\n",
       "      <td>李寕二</td>\n",
       "      <td>22_31_0008_p008_r_3</td>\n",
       "      <td>0.333333</td>\n",
       "    </tr>\n",
       "    <tr>\n",
       "      <th>...</th>\n",
       "      <td>...</td>\n",
       "      <td>...</td>\n",
       "      <td>...</td>\n",
       "      <td>...</td>\n",
       "    </tr>\n",
       "    <tr>\n",
       "      <th>105</th>\n",
       "      <td>邹富覌 呌</td>\n",
       "      <td>邹富覌 呌</td>\n",
       "      <td>12_21_0004_p004_r_9</td>\n",
       "      <td>0.000000</td>\n",
       "    </tr>\n",
       "    <tr>\n",
       "      <th>123</th>\n",
       "      <td>陳端舍呌</td>\n",
       "      <td>陳端舍呌</td>\n",
       "      <td>22_31_0007_p007_r_15</td>\n",
       "      <td>0.000000</td>\n",
       "    </tr>\n",
       "    <tr>\n",
       "      <th>119</th>\n",
       "      <td>22</td>\n",
       "      <td>22</td>\n",
       "      <td>12_21_0001_p001_r</td>\n",
       "      <td>0.000000</td>\n",
       "    </tr>\n",
       "    <tr>\n",
       "      <th>130</th>\n",
       "      <td>李寕義</td>\n",
       "      <td>李寕義</td>\n",
       "      <td>12_21_0002_p002_r_524</td>\n",
       "      <td>0.000000</td>\n",
       "    </tr>\n",
       "    <tr>\n",
       "      <th>131</th>\n",
       "      <td>陳馬援</td>\n",
       "      <td>陳馬援</td>\n",
       "      <td>22_31_0001_p001_r_36</td>\n",
       "      <td>0.000000</td>\n",
       "    </tr>\n",
       "  </tbody>\n",
       "</table>\n",
       "<p>66 rows × 4 columns</p>\n",
       "</div>"
      ],
      "text/plain": [
       "     ground_truth  prediction             identifier       CER\n",
       "46   削視 人 鄭顧覌 張玉郎  削人鄭顧覌 視張玉郎   12_21_0009_p009_r_12  0.333333\n",
       "36            吳度覌         吳慶覌   01_11_0008_p008_r_25  0.333333\n",
       "97   削視 人 黄百合 張宙覌  削人黄百合 視張宙覌    32_41_0009_p009_r_8  0.333333\n",
       "124     鄭春覌 二期 不到      鄭春覌 不到   12_21_0005_p005_r_15  0.333333\n",
       "114           李寧二         李寕二    22_31_0008_p008_r_3  0.333333\n",
       "..            ...         ...                    ...       ...\n",
       "105         邹富覌 呌       邹富覌 呌    12_21_0004_p004_r_9  0.000000\n",
       "123          陳端舍呌        陳端舍呌   22_31_0007_p007_r_15  0.000000\n",
       "119            22          22      12_21_0001_p001_r  0.000000\n",
       "130           李寕義         李寕義  12_21_0002_p002_r_524  0.000000\n",
       "131           陳馬援         陳馬援   22_31_0001_p001_r_36  0.000000\n",
       "\n",
       "[66 rows x 4 columns]"
      ]
     },
     "execution_count": 39,
     "metadata": {},
     "output_type": "execute_result"
    }
   ],
   "source": [
    "top_10"
   ]
  },
  {
   "cell_type": "code",
   "execution_count": 40,
   "metadata": {},
   "outputs": [
    {
     "data": {
      "text/html": [
       "<div>\n",
       "<style scoped>\n",
       "    .dataframe tbody tr th:only-of-type {\n",
       "        vertical-align: middle;\n",
       "    }\n",
       "\n",
       "    .dataframe tbody tr th {\n",
       "        vertical-align: top;\n",
       "    }\n",
       "\n",
       "    .dataframe thead th {\n",
       "        text-align: right;\n",
       "    }\n",
       "</style>\n",
       "<table border=\"1\" class=\"dataframe\">\n",
       "  <thead>\n",
       "    <tr style=\"text-align: right;\">\n",
       "      <th></th>\n",
       "      <th>ground_truth</th>\n",
       "      <th>prediction</th>\n",
       "      <th>identifier</th>\n",
       "      <th>CER</th>\n",
       "    </tr>\n",
       "  </thead>\n",
       "  <tbody>\n",
       "    <tr>\n",
       "      <th>45</th>\n",
       "      <td>46</td>\n",
       "      <td>47 58</td>\n",
       "      <td>22_31_0003_p003_r_322</td>\n",
       "      <td>2.000000</td>\n",
       "    </tr>\n",
       "    <tr>\n",
       "      <th>107</th>\n",
       "      <td>無再𨂻前轍列𦤼赦宥不究 寅突入卧房毆打是以有與他互毆懇𦤼開恩赦宥斷</td>\n",
       "      <td>寅interop序殴打是已有其他互殴案 臺间恩叔審影 身再蹈前輓列表救寘不究</td>\n",
       "      <td>12_21_0007_p007_r</td>\n",
       "      <td>1.151515</td>\n",
       "    </tr>\n",
       "    <tr>\n",
       "      <th>62</th>\n",
       "      <td>又囬家之信係林次老所寄祈为審实 林盛为前年陳𤆬有欠去貨銭供详前期四月十六日</td>\n",
       "      <td>林盛为前年陈焦有欠李货钱供详前期四月十六日 文回家之后信橡林次老听寄说为审实</td>\n",
       "      <td>32_41_0003_p003_r_3</td>\n",
       "      <td>1.027027</td>\n",
       "    </tr>\n",
       "    <tr>\n",
       "      <th>56</th>\n",
       "      <td>伊家傭工即将鞋籠物器交寄寜義代収工竣之日工錢既已 向寕義取讨所寄鞋籠々内有鞋刀三枝釘槌壹枝鞋...</td>\n",
       "      <td>百餘條釁鑼土枝紳笏頭裈半條-ln切刀三枝鑽仔八枝剪刀一枝 伊家僱工即將鞋籠物罌交寄寧義代收工...</td>\n",
       "      <td>12_21_0002_p002_r_16</td>\n",
       "      <td>0.951220</td>\n",
       "    </tr>\n",
       "    <tr>\n",
       "      <th>120</th>\n",
       "      <td>至今不還本日對舍侄還來錢叁拾文貳鈸除外尚欠去錢叁拾文貳 湯新供謂去歲六月十一日葉亞六去錢陸拾...</td>\n",
       "      <td>至今不還奉日对金赃还赃日叁拾又口径除往外尚欠去日叁拾又口径 萬壹六乞限壹年六月清楚 溝新供渭...</td>\n",
       "      <td>01_11_0005_p005_r_8</td>\n",
       "      <td>0.906667</td>\n",
       "    </tr>\n",
       "    <tr>\n",
       "      <th>...</th>\n",
       "      <td>...</td>\n",
       "      <td>...</td>\n",
       "      <td>...</td>\n",
       "      <td>...</td>\n",
       "    </tr>\n",
       "    <tr>\n",
       "      <th>25</th>\n",
       "      <td>三阄 黄甲 林甲</td>\n",
       "      <td>三圍 黃甲 林</td>\n",
       "      <td>12_21_0003_p003_r_590</td>\n",
       "      <td>0.375000</td>\n",
       "    </tr>\n",
       "    <tr>\n",
       "      <th>16</th>\n",
       "      <td>王興廣供謂鄭旺伯前期在公堂坐欠去錢陸拾柒文貳鈸後他</td>\n",
       "      <td>王興廣供謂鄭旺均前期在庲堂坐欠李子誥拾得文武成後地</td>\n",
       "      <td>01_11_0005_p005_r_7</td>\n",
       "      <td>0.360000</td>\n",
       "    </tr>\n",
       "    <tr>\n",
       "      <th>121</th>\n",
       "      <td>圡庫内案奪为李璉一事存案</td>\n",
       "      <td>去庫内案奪為李連一案存案</td>\n",
       "      <td>32_41_0005_p005_r_7</td>\n",
       "      <td>0.333333</td>\n",
       "    </tr>\n",
       "    <tr>\n",
       "      <th>92</th>\n",
       "      <td>陳寬覌</td>\n",
       "      <td>陳寕覌</td>\n",
       "      <td>22_31_0007_p007_r_16</td>\n",
       "      <td>0.333333</td>\n",
       "    </tr>\n",
       "    <tr>\n",
       "      <th>106</th>\n",
       "      <td>郭石泉 不到</td>\n",
       "      <td>郭石泉到</td>\n",
       "      <td>12_21_0004_p004_r_11</td>\n",
       "      <td>0.333333</td>\n",
       "    </tr>\n",
       "  </tbody>\n",
       "</table>\n",
       "<p>65 rows × 4 columns</p>\n",
       "</div>"
      ],
      "text/plain": [
       "                                          ground_truth  \\\n",
       "45                                                  46   \n",
       "107                  無再𨂻前轍列𦤼赦宥不究 寅突入卧房毆打是以有與他互毆懇𦤼開恩赦宥斷   \n",
       "62               又囬家之信係林次老所寄祈为審实 林盛为前年陳𤆬有欠去貨銭供详前期四月十六日   \n",
       "56   伊家傭工即将鞋籠物器交寄寜義代収工竣之日工錢既已 向寕義取讨所寄鞋籠々内有鞋刀三枝釘槌壹枝鞋...   \n",
       "120  至今不還本日對舍侄還來錢叁拾文貳鈸除外尚欠去錢叁拾文貳 湯新供謂去歲六月十一日葉亞六去錢陸拾...   \n",
       "..                                                 ...   \n",
       "25                                            三阄 黄甲 林甲   \n",
       "16                           王興廣供謂鄭旺伯前期在公堂坐欠去錢陸拾柒文貳鈸後他   \n",
       "121                                       圡庫内案奪为李璉一事存案   \n",
       "92                                                 陳寬覌   \n",
       "106                                             郭石泉 不到   \n",
       "\n",
       "                                            prediction             identifier  \\\n",
       "45                                               47 58  22_31_0003_p003_r_322   \n",
       "107             寅interop序殴打是已有其他互殴案 臺间恩叔審影 身再蹈前輓列表救寘不究      12_21_0007_p007_r   \n",
       "62              林盛为前年陈焦有欠李货钱供详前期四月十六日 文回家之后信橡林次老听寄说为审实    32_41_0003_p003_r_3   \n",
       "56   百餘條釁鑼土枝紳笏頭裈半條-ln切刀三枝鑽仔八枝剪刀一枝 伊家僱工即將鞋籠物罌交寄寧義代收工...   12_21_0002_p002_r_16   \n",
       "120  至今不還奉日对金赃还赃日叁拾又口径除往外尚欠去日叁拾又口径 萬壹六乞限壹年六月清楚 溝新供渭...    01_11_0005_p005_r_8   \n",
       "..                                                 ...                    ...   \n",
       "25                                             三圍 黃甲 林  12_21_0003_p003_r_590   \n",
       "16                           王興廣供謂鄭旺均前期在庲堂坐欠李子誥拾得文武成後地    01_11_0005_p005_r_7   \n",
       "121                                       去庫内案奪為李連一案存案    32_41_0005_p005_r_7   \n",
       "92                                                 陳寕覌   22_31_0007_p007_r_16   \n",
       "106                                               郭石泉到   12_21_0004_p004_r_11   \n",
       "\n",
       "          CER  \n",
       "45   2.000000  \n",
       "107  1.151515  \n",
       "62   1.027027  \n",
       "56   0.951220  \n",
       "120  0.906667  \n",
       "..        ...  \n",
       "25   0.375000  \n",
       "16   0.360000  \n",
       "121  0.333333  \n",
       "92   0.333333  \n",
       "106  0.333333  \n",
       "\n",
       "[65 rows x 4 columns]"
      ]
     },
     "execution_count": 40,
     "metadata": {},
     "output_type": "execute_result"
    }
   ],
   "source": [
    "bottom_10   "
   ]
  },
  {
   "cell_type": "code",
   "execution_count": 74,
   "metadata": {},
   "outputs": [
    {
     "name": "stdout",
     "output_type": "stream",
     "text": [
      "82     1\n",
      "83     3\n",
      "74     3\n",
      "79     8\n",
      "113    3\n",
      "105    5\n",
      "123    4\n",
      "119    2\n",
      "130    3\n",
      "131    3\n",
      "Name: prediction, dtype: int64\n"
     ]
    },
    {
     "data": {
      "text/html": [
       "<div>\n",
       "<style scoped>\n",
       "    .dataframe tbody tr th:only-of-type {\n",
       "        vertical-align: middle;\n",
       "    }\n",
       "\n",
       "    .dataframe tbody tr th {\n",
       "        vertical-align: top;\n",
       "    }\n",
       "\n",
       "    .dataframe thead th {\n",
       "        text-align: right;\n",
       "    }\n",
       "</style>\n",
       "<table border=\"1\" class=\"dataframe\">\n",
       "  <thead>\n",
       "    <tr style=\"text-align: right;\">\n",
       "      <th></th>\n",
       "      <th>ground_truth</th>\n",
       "      <th>prediction</th>\n",
       "      <th>identifier</th>\n",
       "      <th>CER</th>\n",
       "    </tr>\n",
       "  </thead>\n",
       "  <tbody>\n",
       "    <tr>\n",
       "      <th>82</th>\n",
       "      <td>5</td>\n",
       "      <td>5</td>\n",
       "      <td>01_11_0003_p003_r_2</td>\n",
       "      <td>0.0</td>\n",
       "    </tr>\n",
       "    <tr>\n",
       "      <th>83</th>\n",
       "      <td>陳約覌</td>\n",
       "      <td>陳約覌</td>\n",
       "      <td>22_31_0005_p005_r_5</td>\n",
       "      <td>0.0</td>\n",
       "    </tr>\n",
       "    <tr>\n",
       "      <th>74</th>\n",
       "      <td>鄭旺伯</td>\n",
       "      <td>鄭旺伯</td>\n",
       "      <td>01_11_0002_p002_r_81</td>\n",
       "      <td>0.0</td>\n",
       "    </tr>\n",
       "    <tr>\n",
       "      <th>79</th>\n",
       "      <td>陳甲 楊甲 當事</td>\n",
       "      <td>陳甲 楊甲 當事</td>\n",
       "      <td>22_31_0009_p009_r_13</td>\n",
       "      <td>0.0</td>\n",
       "    </tr>\n",
       "    <tr>\n",
       "      <th>113</th>\n",
       "      <td>朱金覌</td>\n",
       "      <td>朱金覌</td>\n",
       "      <td>32_41_0008_p008_r_8</td>\n",
       "      <td>0.0</td>\n",
       "    </tr>\n",
       "    <tr>\n",
       "      <th>105</th>\n",
       "      <td>邹富覌 呌</td>\n",
       "      <td>邹富覌 呌</td>\n",
       "      <td>12_21_0004_p004_r_9</td>\n",
       "      <td>0.0</td>\n",
       "    </tr>\n",
       "    <tr>\n",
       "      <th>123</th>\n",
       "      <td>陳端舍呌</td>\n",
       "      <td>陳端舍呌</td>\n",
       "      <td>22_31_0007_p007_r_15</td>\n",
       "      <td>0.0</td>\n",
       "    </tr>\n",
       "    <tr>\n",
       "      <th>119</th>\n",
       "      <td>22</td>\n",
       "      <td>22</td>\n",
       "      <td>12_21_0001_p001_r</td>\n",
       "      <td>0.0</td>\n",
       "    </tr>\n",
       "    <tr>\n",
       "      <th>130</th>\n",
       "      <td>李寕義</td>\n",
       "      <td>李寕義</td>\n",
       "      <td>12_21_0002_p002_r_524</td>\n",
       "      <td>0.0</td>\n",
       "    </tr>\n",
       "    <tr>\n",
       "      <th>131</th>\n",
       "      <td>陳馬援</td>\n",
       "      <td>陳馬援</td>\n",
       "      <td>22_31_0001_p001_r_36</td>\n",
       "      <td>0.0</td>\n",
       "    </tr>\n",
       "  </tbody>\n",
       "</table>\n",
       "</div>"
      ],
      "text/plain": [
       "    ground_truth prediction             identifier  CER\n",
       "82             5          5    01_11_0003_p003_r_2  0.0\n",
       "83           陳約覌        陳約覌    22_31_0005_p005_r_5  0.0\n",
       "74           鄭旺伯        鄭旺伯   01_11_0002_p002_r_81  0.0\n",
       "79      陳甲 楊甲 當事   陳甲 楊甲 當事   22_31_0009_p009_r_13  0.0\n",
       "113          朱金覌        朱金覌    32_41_0008_p008_r_8  0.0\n",
       "105        邹富覌 呌      邹富覌 呌    12_21_0004_p004_r_9  0.0\n",
       "123         陳端舍呌       陳端舍呌   22_31_0007_p007_r_15  0.0\n",
       "119           22         22      12_21_0001_p001_r  0.0\n",
       "130          李寕義        李寕義  12_21_0002_p002_r_524  0.0\n",
       "131          陳馬援        陳馬援   22_31_0001_p001_r_36  0.0"
      ]
     },
     "execution_count": 74,
     "metadata": {},
     "output_type": "execute_result"
    }
   ],
   "source": [
    "print(top_lengths)\n",
    "top_10"
   ]
  },
  {
   "cell_type": "code",
   "execution_count": 41,
   "metadata": {},
   "outputs": [],
   "source": [
    "def plot_prediction_lengths_histogram(df, num_predictions=10):\n",
    "    # Sort by CER\n",
    "    sorted_df = df.sort_values(by='CER', ascending=True)\n",
    "    \n",
    "    # Get top and bottom entries\n",
    "    top_entries = sorted_df.head(num_predictions)\n",
    "    bottom_entries = sorted_df.tail(num_predictions)\n",
    "    \n",
    "    # Analyze prediction lengths\n",
    "    top_lengths = top_entries['prediction'].apply(len)\n",
    "    bottom_lengths = bottom_entries['prediction'].apply(len)\n",
    "    \n",
    "    # Determine the range for the bins\n",
    "    min_length = min(top_lengths.min(), bottom_lengths.min())\n",
    "    max_length = max(top_lengths.max(), bottom_lengths.max())\n",
    "    bins = range(min_length, max_length + 1)\n",
    "\n",
    "    # Plot histogram\n",
    "    plt.figure(figsize=(10, 6))\n",
    "    plt.hist(top_lengths, bins=bins, alpha=0.5, label='Top CER Predictions', color='red')\n",
    "    plt.hist(bottom_lengths, bins=bins, alpha=0.5, label='Bottom CER Predictions', color='blue')\n",
    "    plt.xlabel('Prediction Length')\n",
    "    plt.ylabel('Frequency')\n",
    "    plt.title('Histogram of Prediction Lengths')\n",
    "    plt.legend(loc='upper right')\n",
    "    plt.show()"
   ]
  },
  {
   "cell_type": "code",
   "execution_count": 42,
   "metadata": {},
   "outputs": [
    {
     "data": {
      "image/png": "[encoded data removed]",
      "text/plain": [
       "<Figure size 1000x600 with 1 Axes>"
      ]
     },
     "metadata": {},
     "output_type": "display_data"
    }
   ],
   "source": [
    "plot_prediction_lengths_histogram(res, num_predictions=round(res.shape[0]/2)) "
   ]
  }
 ],
 "metadata": {
  "kernelspec": {
   "display_name": "Python 3",
   "language": "python",
   "name": "python3"
  },
  "language_info": {
   "codemirror_mode": {
    "name": "ipython",
    "version": 3
   },
   "file_extension": ".py",
   "mimetype": "text/x-python",
   "name": "python",
   "nbconvert_exporter": "python",
   "pygments_lexer": "ipython3",
   "version": "3.10.12"
  }
 },
 "nbformat": 4,
 "nbformat_minor": 2
}
